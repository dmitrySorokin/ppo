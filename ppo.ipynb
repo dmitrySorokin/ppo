{
 "cells": [
  {
   "cell_type": "code",
   "execution_count": 1,
   "metadata": {},
   "outputs": [],
   "source": [
    "import copy\n",
    "import glob\n",
    "import os\n",
    "import time\n",
    "from collections import deque\n",
    "\n",
    "import gym\n",
    "import numpy as np\n",
    "import torch\n",
    "import torch.nn as nn\n",
    "import torch.nn.functional as F\n",
    "import torch.optim as optim\n",
    "\n",
    "from a2c_ppo_acktr import algo, utils\n",
    "from a2c_ppo_acktr.algo import gail\n",
    "from a2c_ppo_acktr.arguments import get_args\n",
    "from a2c_ppo_acktr.envs import make_vec_envs\n",
    "from a2c_ppo_acktr.model import Policy, CNNBase\n",
    "from a2c_ppo_acktr.storage import RolloutStorage\n",
    "from evaluation import evaluate\n",
    "\n",
    "                                                                                                                                                                                                                                                                                                                                                                                                                                                                                                                                                                                                                                                                                                                                                                                                                                                                                                        "
   ]
  },
  {
   "cell_type": "code",
   "execution_count": 2,
   "metadata": {},
   "outputs": [
    {
     "name": "stdout",
     "output_type": "stream",
     "text": [
      "Discrete(8)\n",
      "torch.Size([8, 16, 64, 64])\n",
      "<built-in method type of Tensor object at 0x7f8609adea20>\n",
      "cuda\n",
      "uint8 (16, 64, 64) 8\n"
     ]
    },
    {
     "name": "stderr",
     "output_type": "stream",
     "text": [
      "/home/dmitry/dev/gym_interf/gym_interf/envs/interf_env.py:260: RuntimeWarning: divide by zero encountered in double_scalars\n",
      "  band_width_y = InterfEnv.lamb / abs(wave_vector2[1])\n",
      "/home/dmitry/dev/gym_interf/gym_interf/envs/interf_env.py:260: RuntimeWarning: divide by zero encountered in double_scalars\n",
      "  band_width_y = InterfEnv.lamb / abs(wave_vector2[1])\n",
      "/home/dmitry/dev/gym_interf/gym_interf/envs/interf_env.py:260: RuntimeWarning: divide by zero encountered in double_scalars\n",
      "  band_width_y = InterfEnv.lamb / abs(wave_vector2[1])\n",
      "/home/dmitry/dev/gym_interf/gym_interf/envs/interf_env.py:260: RuntimeWarning: divide by zero encountered in double_scalars\n",
      "  band_width_y = InterfEnv.lamb / abs(wave_vector2[1])\n",
      "/home/dmitry/dev/gym_interf/gym_interf/envs/interf_env.py:260: RuntimeWarning: divide by zero encountered in double_scalars\n",
      "  band_width_y = InterfEnv.lamb / abs(wave_vector2[1])\n",
      "/home/dmitry/dev/gym_interf/gym_interf/envs/interf_env.py:260: RuntimeWarning: divide by zero encountered in double_scalars\n",
      "  band_width_y = InterfEnv.lamb / abs(wave_vector2[1])\n",
      "/home/dmitry/dev/gym_interf/gym_interf/envs/interf_env.py:260: RuntimeWarning: divide by zero encountered in double_scalars\n",
      "  band_width_y = InterfEnv.lamb / abs(wave_vector2[1])\n",
      "/home/dmitry/dev/gym_interf/gym_interf/envs/interf_env.py:260: RuntimeWarning: divide by zero encountered in double_scalars\n",
      "  band_width_y = InterfEnv.lamb / abs(wave_vector2[1])\n"
     ]
    }
   ],
   "source": [
    "import gym\n",
    "import gym_interf\n",
    "import numpy as np\n",
    "import torch\n",
    "\n",
    "from baselines.common.vec_env.shmem_vec_env import ShmemVecEnv\n",
    "from baselines.common.vec_env.subproc_vec_env import SubprocVecEnv\n",
    "from baselines.common.vec_env.dummy_vec_env import DummyVecEnv\n",
    "from a2c_ppo_acktr.envs import VecPyTorch\n",
    "\n",
    "DEVICE = torch.device('cuda' if torch.cuda.is_available() else 'cpu')\n",
    "N_ENVS = 8\n",
    "N_STEPS = 128\n",
    "\n",
    "class TimeLimitWrapper(gym.Wrapper):\n",
    "    def step(self, action):\n",
    "        obs, rew, done, info = self.env.step(action)\n",
    "        if done and 200 == self.env.n_steps:\n",
    "            info['bad_transition'] = True\n",
    "\n",
    "        return obs, rew, done, info\n",
    "\n",
    "    def reset(self, **kwargs):\n",
    "        return self.env.reset(**kwargs)\n",
    "\n",
    "\n",
    "\n",
    "def make_interf_env(seed):\n",
    "    env = gym.make('interf-v1')\n",
    "    env.set_calc_reward('delta_visib')\n",
    "    #env.set_calc_image('gpu')\n",
    "    env.seed(seed)\n",
    "    return env\n",
    "\n",
    "\n",
    "temp_env = make_interf_env(0)\n",
    "obs = temp_env.reset()\n",
    "ACTION_SPACE = temp_env.action_space\n",
    "print(ACTION_SPACE)\n",
    "N_ACTIONS = ACTION_SPACE.n\n",
    "OBS_SHAPE = obs.shape\n",
    "\n",
    "\n",
    "env_lambda = [\n",
    "    lambda env_seed=env_seed: make_interf_env(seed=env_seed)\n",
    "    for env_seed in range(N_ENVS)]\n",
    "\n",
    "envs = SubprocVecEnv(env_lambda, context='fork')\n",
    "#envs = ShmemVecEnv(env_lambda, context='fork')\n",
    "envs = VecPyTorch(envs, DEVICE)\n",
    "\n",
    "print(envs.reset().shape)\n",
    "print(envs.reset().type)\n",
    "\n",
    "\n",
    "\n",
    "\n",
    "print(DEVICE)\n",
    "print(obs.dtype, obs.shape, N_ACTIONS)\n",
    "assert obs.shape == (16, 64, 64), obs.shape\n",
    "#assert obs.dtype == torch.uint8\n",
    "\n"
   ]
  },
  {
   "cell_type": "code",
   "execution_count": 3,
   "metadata": {},
   "outputs": [
    {
     "name": "stdout",
     "output_type": "stream",
     "text": [
      "(16, 64, 64)\n",
      "Discrete(8)\n",
      "1\n"
     ]
    }
   ],
   "source": [
    "print(OBS_SHAPE)\n",
    "print(ACTION_SPACE)\n",
    "\n",
    "actor_critic = Policy(\n",
    "    OBS_SHAPE,\n",
    "    ACTION_SPACE).to(DEVICE)\n",
    "\n",
    "agent = algo.PPO(\n",
    "    actor_critic,\n",
    "    clip_param=0.1,\n",
    "    ppo_epoch=4,\n",
    "    num_mini_batch=4,\n",
    "    value_loss_coef=0.5,\n",
    "    entropy_coef=0.01,\n",
    "    lr=2.5e-4,\n",
    "    eps=1e-5,\n",
    "    max_grad_norm=0.5)\n",
    "\n",
    "print(actor_critic.recurrent_hidden_state_size)\n",
    "\n",
    "\n",
    "rollouts = RolloutStorage(\n",
    "    N_STEPS, N_ENVS,\n",
    "    envs.observation_space.shape, envs.action_space,\n",
    "    actor_critic.recurrent_hidden_state_size\n",
    ")\n"
   ]
  },
  {
   "cell_type": "code",
   "execution_count": 4,
   "metadata": {},
   "outputs": [],
   "source": [
    "from tqdm import trange\n",
    "\n",
    "def evaluate_(actor_critic, env, n_games=10):\n",
    "    n_solved = 0\n",
    "    n_steps = 0\n",
    "    dist = 0\n",
    "    angle = 0\n",
    "    rewards = 0\n",
    "    \n",
    "    eval_recurrent_hidden_states = torch.zeros(\n",
    "        1, actor_critic.recurrent_hidden_state_size, device=DEVICE)\n",
    "    eval_masks = torch.zeros(1, 1, device=DEVICE)\n",
    "    \n",
    "    for i in range(n_games):\n",
    "        s = env.reset()\n",
    "        istep = 0\n",
    "        while(True):\n",
    "            s = torch.FloatTensor(s.reshape(1, 16, 64, 64)).to(DEVICE)\n",
    "            with torch.no_grad():\n",
    "                _, action, _, eval_recurrent_hidden_states = actor_critic.act(\n",
    "                    s,\n",
    "                    eval_recurrent_hidden_states,\n",
    "                    eval_masks,\n",
    "                    deterministic=True)\n",
    "            \n",
    "            s, reward, done, info = env.step(action)\n",
    "            istep += 1\n",
    "            rewards += reward\n",
    "            if done:\n",
    "                n_solved += istep < 200\n",
    "                n_steps += istep\n",
    "                dist += info['dist']\n",
    "                angle += info['angle_between_beams']\n",
    "\n",
    "                break\n",
    "    return n_solved / n_games, n_steps / n_games, dist / n_games, angle / n_games, rewards / n_games"
   ]
  },
  {
   "cell_type": "code",
   "execution_count": 5,
   "metadata": {},
   "outputs": [
    {
     "data": {
      "text/plain": [
       "(0.1, 180.2, 0.41105227542112405, 0.003988663848542675, -0.20612292293909457)"
      ]
     },
     "execution_count": 5,
     "metadata": {},
     "output_type": "execute_result"
    }
   ],
   "source": [
    "evaluate_(actor_critic, make_interf_env(123))"
   ]
  },
  {
   "cell_type": "code",
   "execution_count": null,
   "metadata": {},
   "outputs": [
    {
     "name": "stderr",
     "output_type": "stream",
     "text": [
      "  0%|          | 0/9766 [00:00<?, ?it/s]/home/dmitry/.local/lib/python3.6/site-packages/ipykernel_launcher.py:46: UserWarning: To copy construct from a tensor, it is recommended to use sourceTensor.clone().detach() or sourceTensor.clone().detach().requires_grad_(True), rather than torch.tensor(sourceTensor).\n",
      "  0%|          | 21/9766 [00:35<9:48:54,  3.63s/it]"
     ]
    },
    {
     "name": "stdout",
     "output_type": "stream",
     "text": [
      "0.1 180.4 0.12381757753980054 4.4224657174857564e-05 0.2888411076127483\n"
     ]
    },
    {
     "name": "stderr",
     "output_type": "stream",
     "text": [
      "  0%|          | 39/9766 [01:09<10:40:39,  3.95s/it]"
     ]
    },
    {
     "name": "stdout",
     "output_type": "stream",
     "text": [
      "0.0 200.0 0.11611317428221254 3.2164296943903235e-05 0.3599107567422558\n"
     ]
    },
    {
     "name": "stderr",
     "output_type": "stream",
     "text": [
      "  1%|          | 57/9766 [01:43<10:07:18,  3.75s/it]"
     ]
    },
    {
     "name": "stdout",
     "output_type": "stream",
     "text": [
      "0.1 181.0 0.17659613295942933 2.9682051105073076e-05 0.5413270480715238\n"
     ]
    },
    {
     "name": "stderr",
     "output_type": "stream",
     "text": [
      "  1%|          | 73/9766 [02:12<8:54:33,  3.31s/it] "
     ]
    },
    {
     "name": "stdout",
     "output_type": "stream",
     "text": [
      "0.3 142.4 0.0964357460946016 0.0 0.365331204224307\n"
     ]
    },
    {
     "name": "stderr",
     "output_type": "stream",
     "text": [
      "  1%|          | 88/9766 [02:41<9:58:08,  3.71s/it]"
     ]
    },
    {
     "name": "stdout",
     "output_type": "stream",
     "text": [
      "0.1 181.0 0.1081710990005598 2.9802322387695314e-09 0.2629899426363612\n"
     ]
    },
    {
     "name": "stderr",
     "output_type": "stream",
     "text": [
      "  1%|          | 102/9766 [03:07<8:18:37,  3.10s/it]"
     ]
    },
    {
     "name": "stdout",
     "output_type": "stream",
     "text": [
      "0.4 124.8 0.04927247919853547 0.0 0.3499697669490471\n"
     ]
    },
    {
     "name": "stderr",
     "output_type": "stream",
     "text": [
      "  1%|          | 113/9766 [03:30<9:32:19,  3.56s/it]"
     ]
    },
    {
     "name": "stdout",
     "output_type": "stream",
     "text": [
      "0.2 162.6 0.05538168639076084 4.2151569930451395e-05 0.5350940368624577\n"
     ]
    },
    {
     "name": "stderr",
     "output_type": "stream",
     "text": [
      "  1%|▏         | 124/9766 [03:52<7:56:14,  2.96s/it]"
     ]
    },
    {
     "name": "stdout",
     "output_type": "stream",
     "text": [
      "0.5 108.4 0.026620425002595406 1.4901161193847657e-09 0.5013934967566019\n"
     ]
    },
    {
     "name": "stderr",
     "output_type": "stream",
     "text": [
      "  1%|▏         | 135/9766 [04:13<7:17:17,  2.72s/it]"
     ]
    },
    {
     "name": "stdout",
     "output_type": "stream",
     "text": [
      "0.6 89.6 0.04758301457739605 7.0299576263408e-06 0.3457492288408188\n"
     ]
    },
    {
     "name": "stderr",
     "output_type": "stream",
     "text": [
      "  1%|▏         | 145/9766 [04:35<9:55:43,  3.72s/it]"
     ]
    },
    {
     "name": "stdout",
     "output_type": "stream",
     "text": [
      "0.2 161.2 0.08592689187908265 1.4056798516346545e-05 0.5748369756967213\n"
     ]
    },
    {
     "name": "stderr",
     "output_type": "stream",
     "text": [
      "  2%|▏         | 154/9766 [04:54<8:11:01,  3.07s/it]"
     ]
    },
    {
     "name": "stdout",
     "output_type": "stream",
     "text": [
      "0.5 105.2 0.03604591538375575 9.381820039357953e-09 0.44686174671262585\n"
     ]
    },
    {
     "name": "stderr",
     "output_type": "stream",
     "text": [
      "  2%|▏         | 161/9766 [05:10<8:01:21,  3.01s/it]"
     ]
    },
    {
     "name": "stdout",
     "output_type": "stream",
     "text": [
      "0.6 88.4 0.029300499844885815 8.685033209243699e-09 0.6019739543925338\n"
     ]
    },
    {
     "name": "stderr",
     "output_type": "stream",
     "text": [
      "  2%|▏         | 169/9766 [05:30<10:04:48,  3.78s/it]"
     ]
    },
    {
     "name": "stdout",
     "output_type": "stream",
     "text": [
      "0.4 126.6 0.02827696771307441 9.030051340814956e-09 0.5395320182250527\n"
     ]
    },
    {
     "name": "stderr",
     "output_type": "stream",
     "text": [
      "  2%|▏         | 177/9766 [05:47<7:52:19,  2.96s/it] "
     ]
    },
    {
     "name": "stdout",
     "output_type": "stream",
     "text": [
      "0.7 73.2 0.009428867266800586 1.3011769663645146e-08 0.6395296996488966\n"
     ]
    },
    {
     "name": "stderr",
     "output_type": "stream",
     "text": [
      "  2%|▏         | 182/9766 [06:00<8:38:12,  3.24s/it]"
     ]
    },
    {
     "name": "stdout",
     "output_type": "stream",
     "text": [
      "0.6 87.8 0.018853957308859092 5.704800970474169e-09 0.4081959831650693\n"
     ]
    },
    {
     "name": "stderr",
     "output_type": "stream",
     "text": [
      "  2%|▏         | 186/9766 [06:11<8:27:06,  3.18s/it]"
     ]
    },
    {
     "name": "stdout",
     "output_type": "stream",
     "text": [
      "0.7 68.6 0.009433869001356206 5.704800970474169e-09 0.2654457807881755\n"
     ]
    },
    {
     "name": "stderr",
     "output_type": "stream",
     "text": [
      "  2%|▏         | 190/9766 [06:25<10:46:23,  4.05s/it]"
     ]
    },
    {
     "name": "stdout",
     "output_type": "stream",
     "text": [
      "0.4 126.0 0.03861151896112876 1.4053669134831781e-05 0.5672907263650833\n"
     ]
    },
    {
     "name": "stderr",
     "output_type": "stream",
     "text": [
      "  2%|▏         | 195/9766 [06:35<6:34:19,  2.47s/it] "
     ]
    },
    {
     "name": "stdout",
     "output_type": "stream",
     "text": [
      "1.0 13.2 3.4098856504371025e-06 0.0 0.4654456922875676\n"
     ]
    },
    {
     "name": "stderr",
     "output_type": "stream",
     "text": [
      "  2%|▏         | 201/9766 [06:53<10:30:33,  3.96s/it]"
     ]
    },
    {
     "name": "stdout",
     "output_type": "stream",
     "text": [
      "0.2 162.2 0.05340966260991166 6.289046877650556e-06 0.497232894981678\n"
     ]
    },
    {
     "name": "stderr",
     "output_type": "stream",
     "text": [
      "  2%|▏         | 210/9766 [07:15<10:15:37,  3.87s/it]"
     ]
    },
    {
     "name": "stdout",
     "output_type": "stream",
     "text": [
      "0.3 143.0 0.02827415879658469 7.81214339601887e-09 0.48187887254520234\n"
     ]
    },
    {
     "name": "stderr",
     "output_type": "stream",
     "text": [
      "  2%|▏         | 219/9766 [07:38<11:08:28,  4.20s/it]"
     ]
    },
    {
     "name": "stdout",
     "output_type": "stream",
     "text": [
      "0.1 180.6 0.12547363376495052 5.20098830623611e-05 0.35904219228232837\n"
     ]
    },
    {
     "name": "stderr",
     "output_type": "stream",
     "text": [
      "  2%|▏         | 228/9766 [08:01<11:47:49,  4.45s/it]"
     ]
    },
    {
     "name": "stdout",
     "output_type": "stream",
     "text": [
      "0.0 200.0 0.08527932181516543 2.8103563412886673e-05 0.41271675056717666\n"
     ]
    },
    {
     "name": "stderr",
     "output_type": "stream",
     "text": [
      "  2%|▏         | 236/9766 [08:25<12:06:10,  4.57s/it]"
     ]
    },
    {
     "name": "stdout",
     "output_type": "stream",
     "text": [
      "0.1 180.4 0.12254221082041516 4.215091869937161e-05 0.38556257345928974\n"
     ]
    },
    {
     "name": "stderr",
     "output_type": "stream",
     "text": [
      "  2%|▏         | 243/9766 [08:47<13:10:56,  4.98s/it]"
     ]
    },
    {
     "name": "stdout",
     "output_type": "stream",
     "text": [
      "0.0 200.0 0.08534559796952859 1.405393371416894e-05 0.4810475557821655\n"
     ]
    },
    {
     "name": "stderr",
     "output_type": "stream",
     "text": [
      "  3%|▎         | 248/9766 [09:00<9:14:51,  3.50s/it] "
     ]
    },
    {
     "name": "stdout",
     "output_type": "stream",
     "text": [
      "0.7 77.4 0.015718218839764406 1.0393100223970657e-08 0.6237923565643051\n"
     ]
    },
    {
     "name": "stderr",
     "output_type": "stream",
     "text": [
      "  3%|▎         | 253/9766 [09:15<10:24:43,  3.94s/it]"
     ]
    },
    {
     "name": "stdout",
     "output_type": "stream",
     "text": [
      "0.4 125.6 0.06090036966306332 7.269256081448272e-09 0.5187790004156106\n"
     ]
    },
    {
     "name": "stderr",
     "output_type": "stream",
     "text": [
      "  3%|▎         | 261/9766 [09:37<11:14:08,  4.26s/it]"
     ]
    },
    {
     "name": "stdout",
     "output_type": "stream",
     "text": [
      "0.1 182.0 0.0767700055667501 2.9802322387695314e-09 0.5063871479796294\n"
     ]
    },
    {
     "name": "stderr",
     "output_type": "stream",
     "text": [
      "  3%|▎         | 267/9766 [09:52<9:22:29,  3.55s/it] "
     ]
    },
    {
     "name": "stdout",
     "output_type": "stream",
     "text": [
      "0.4 125.0 0.07928887826872773 3.141734249275719e-05 0.44644374536761894\n"
     ]
    },
    {
     "name": "stderr",
     "output_type": "stream",
     "text": [
      "  3%|▎         | 274/9766 [10:13<11:21:31,  4.31s/it]"
     ]
    },
    {
     "name": "stdout",
     "output_type": "stream",
     "text": [
      "0.1 181.4 0.0818540853479028 7.0302534824615685e-06 0.3774236945281335\n"
     ]
    },
    {
     "name": "stderr",
     "output_type": "stream",
     "text": [
      "  3%|▎         | 279/9766 [10:26<8:48:54,  3.35s/it] "
     ]
    },
    {
     "name": "stdout",
     "output_type": "stream",
     "text": [
      "0.6 86.6 0.04107180161572172 1.1327372886467001e-05 0.42430433954360813\n"
     ]
    },
    {
     "name": "stderr",
     "output_type": "stream",
     "text": [
      "  3%|▎         | 286/9766 [10:43<8:42:53,  3.31s/it]"
     ]
    },
    {
     "name": "stdout",
     "output_type": "stream",
     "text": [
      "0.5 107.0 0.025135412295128185 2.9802322387695314e-09 0.3942115938494498\n"
     ]
    },
    {
     "name": "stderr",
     "output_type": "stream",
     "text": [
      "  3%|▎         | 292/9766 [11:01<11:01:47,  4.19s/it]"
     ]
    },
    {
     "name": "stdout",
     "output_type": "stream",
     "text": [
      "0.1 181.4 0.11050350111206678 2.8104566659388155e-05 0.4713771786146358\n"
     ]
    },
    {
     "name": "stderr",
     "output_type": "stream",
     "text": [
      "  3%|▎         | 300/9766 [11:24<11:57:23,  4.55s/it]"
     ]
    },
    {
     "name": "stdout",
     "output_type": "stream",
     "text": [
      "0.0 200.0 0.06585568981782185 7.415603424959391e-05 0.46132137810886825\n"
     ]
    },
    {
     "name": "stderr",
     "output_type": "stream",
     "text": [
      "  3%|▎         | 308/9766 [11:46<11:41:18,  4.45s/it]"
     ]
    },
    {
     "name": "stdout",
     "output_type": "stream",
     "text": [
      "0.0 200.0 0.09682255227910366 5.802813936263111e-05 0.21320125667745513\n"
     ]
    },
    {
     "name": "stderr",
     "output_type": "stream",
     "text": [
      "  3%|▎         | 316/9766 [12:06<9:26:55,  3.60s/it] "
     ]
    },
    {
     "name": "stdout",
     "output_type": "stream",
     "text": [
      "0.4 123.6 0.05022018637934811 1.95940862723714e-05 0.5970692703133759\n"
     ]
    },
    {
     "name": "stderr",
     "output_type": "stream",
     "text": [
      "  3%|▎         | 324/9766 [12:25<9:19:37,  3.56s/it]"
     ]
    },
    {
     "name": "stdout",
     "output_type": "stream",
     "text": [
      "0.4 123.0 0.06466071398736975 7.02612765015218e-06 0.3268881305831707\n"
     ]
    },
    {
     "name": "stderr",
     "output_type": "stream",
     "text": [
      "  3%|▎         | 330/9766 [12:45<11:47:06,  4.50s/it]"
     ]
    },
    {
     "name": "stdout",
     "output_type": "stream",
     "text": [
      "0.1 182.0 0.09363940150173837 6.577690783698998e-09 0.5765934973837901\n"
     ]
    },
    {
     "name": "stderr",
     "output_type": "stream",
     "text": [
      "  3%|▎         | 335/9766 [12:58<9:30:11,  3.63s/it] "
     ]
    },
    {
     "name": "stdout",
     "output_type": "stream",
     "text": [
      "0.6 88.4 0.05442756928571089 7.031699193092147e-06 0.624605476778406\n"
     ]
    },
    {
     "name": "stderr",
     "output_type": "stream",
     "text": [
      "  3%|▎         | 340/9766 [13:15<11:30:12,  4.39s/it]"
     ]
    },
    {
     "name": "stdout",
     "output_type": "stream",
     "text": [
      "0.2 161.2 0.10259208824550606 3.6500241499888573e-09 0.48662493394615225\n"
     ]
    },
    {
     "name": "stderr",
     "output_type": "stream",
     "text": [
      "  4%|▎         | 345/9766 [13:27<7:41:54,  2.94s/it] "
     ]
    },
    {
     "name": "stdout",
     "output_type": "stream",
     "text": [
      "0.8 47.6 0.025894738041305855 6.283086589873278e-06 0.39456657979202375\n"
     ]
    },
    {
     "name": "stderr",
     "output_type": "stream",
     "text": [
      "  4%|▎         | 350/9766 [13:41<9:05:16,  3.47s/it]"
     ]
    },
    {
     "name": "stdout",
     "output_type": "stream",
     "text": [
      "0.6 87.2 0.03935244018043281 1.4901161193847657e-09 0.5290936851089338\n"
     ]
    },
    {
     "name": "stderr",
     "output_type": "stream",
     "text": [
      "  4%|▎         | 354/9766 [13:57<12:23:26,  4.74s/it]"
     ]
    },
    {
     "name": "stdout",
     "output_type": "stream",
     "text": [
      "0.1 181.6 0.06572133602840487 5.0685726344633914e-05 0.5387782594167715\n"
     ]
    },
    {
     "name": "stderr",
     "output_type": "stream",
     "text": [
      "  4%|▎         | 358/9766 [14:07<8:37:12,  3.30s/it] "
     ]
    },
    {
     "name": "stdout",
     "output_type": "stream",
     "text": [
      "0.8 50.2 0.025523665052143506 0.0 0.4685210564176602\n"
     ]
    },
    {
     "name": "stderr",
     "output_type": "stream",
     "text": [
      "  4%|▎         | 363/9766 [14:19<7:52:33,  3.02s/it]"
     ]
    },
    {
     "name": "stdout",
     "output_type": "stream",
     "text": [
      "0.7 69.4 0.05331751215687902 0.0 0.5598867082512384\n"
     ]
    },
    {
     "name": "stderr",
     "output_type": "stream",
     "text": [
      "  4%|▍         | 368/9766 [14:29<5:59:16,  2.29s/it]"
     ]
    },
    {
     "name": "stdout",
     "output_type": "stream",
     "text": [
      "1.0 13.2 3.545308198324402e-06 0.0 0.4021843937447286\n"
     ]
    },
    {
     "name": "stderr",
     "output_type": "stream",
     "text": [
      "  4%|▍         | 372/9766 [14:41<8:10:00,  3.13s/it]"
     ]
    },
    {
     "name": "stdout",
     "output_type": "stream",
     "text": [
      "0.7 71.8 0.009431300036763596 8.067806903083764e-09 0.5441662633773345\n"
     ]
    },
    {
     "name": "stderr",
     "output_type": "stream",
     "text": [
      "  4%|▍         | 376/9766 [14:52<8:34:41,  3.29s/it]"
     ]
    },
    {
     "name": "stdout",
     "output_type": "stream",
     "text": [
      "0.7 69.0 0.009429756029996619 1.4901161193847657e-09 0.5690090226160983\n"
     ]
    },
    {
     "name": "stderr",
     "output_type": "stream",
     "text": [
      "  4%|▍         | 380/9766 [15:03<8:05:54,  3.11s/it]"
     ]
    },
    {
     "name": "stdout",
     "output_type": "stream",
     "text": [
      "0.8 49.2 0.012567877626125426 1.4901161193847657e-09 0.3582578454232956\n"
     ]
    },
    {
     "name": "stderr",
     "output_type": "stream",
     "text": [
      "  4%|▍         | 385/9766 [15:14<6:36:16,  2.53s/it]"
     ]
    },
    {
     "name": "stdout",
     "output_type": "stream",
     "text": [
      "0.9 31.0 0.0031453913635226685 2.1073424255447016e-09 0.40349011105131166\n"
     ]
    },
    {
     "name": "stderr",
     "output_type": "stream",
     "text": [
      "  4%|▍         | 389/9766 [15:30<12:28:43,  4.79s/it]"
     ]
    },
    {
     "name": "stdout",
     "output_type": "stream",
     "text": [
      "0.1 181.4 0.034557525019912605 5.087574664314233e-09 0.5533866638307396\n"
     ]
    },
    {
     "name": "stderr",
     "output_type": "stream",
     "text": [
      "  4%|▍         | 393/9766 [15:42<9:50:46,  3.78s/it] "
     ]
    },
    {
     "name": "stdout",
     "output_type": "stream",
     "text": [
      "0.7 68.8 0.029297026825143735 3.597458544929467e-09 0.6128616465307648\n"
     ]
    },
    {
     "name": "stderr",
     "output_type": "stream",
     "text": [
      "  4%|▍         | 397/9766 [15:53<8:25:44,  3.24s/it]"
     ]
    },
    {
     "name": "stdout",
     "output_type": "stream",
     "text": [
      "0.8 53.8 0.012575274108940918 8.685033209243699e-09 0.4800645816831599\n"
     ]
    },
    {
     "name": "stderr",
     "output_type": "stream",
     "text": [
      "  4%|▍         | 401/9766 [16:10<13:10:34,  5.07s/it]"
     ]
    },
    {
     "name": "stdout",
     "output_type": "stream",
     "text": [
      "0.0 200.0 0.07585673197485798 1.4053404362037033e-05 0.5350170213679057\n"
     ]
    },
    {
     "name": "stderr",
     "output_type": "stream",
     "text": [
      "  4%|▍         | 406/9766 [16:26<11:19:55,  4.36s/it]"
     ]
    },
    {
     "name": "stdout",
     "output_type": "stream",
     "text": [
      "0.3 147.4 0.072257366027303 8.90298410458589e-09 0.762152598079432\n"
     ]
    },
    {
     "name": "stderr",
     "output_type": "stream",
     "text": [
      "  4%|▍         | 412/9766 [16:43<9:59:45,  3.85s/it] "
     ]
    },
    {
     "name": "stdout",
     "output_type": "stream",
     "text": [
      "0.4 125.4 0.042288920895049535 7.0285003229342585e-06 0.2693079264823913\n"
     ]
    },
    {
     "name": "stderr",
     "output_type": "stream",
     "text": [
      "  4%|▍         | 416/9766 [16:57<10:34:56,  4.07s/it]"
     ]
    },
    {
     "name": "stdout",
     "output_type": "stream",
     "text": [
      "0.4 126.0 0.03919143963389857 9.557923022468529e-09 0.4041199515193646\n"
     ]
    },
    {
     "name": "stderr",
     "output_type": "stream",
     "text": [
      "  4%|▍         | 422/9766 [17:11<8:11:59,  3.16s/it] "
     ]
    },
    {
     "name": "stdout",
     "output_type": "stream",
     "text": [
      "0.6 89.4 0.03456611984259596 6.630256388758389e-09 0.4467824386507317\n"
     ]
    },
    {
     "name": "stderr",
     "output_type": "stream",
     "text": [
      "  4%|▍         | 429/9766 [17:31<11:20:57,  4.38s/it]"
     ]
    },
    {
     "name": "stdout",
     "output_type": "stream",
     "text": [
      "0.2 164.2 0.04745940553165218 7.023270426752047e-06 0.4866885099593308\n"
     ]
    },
    {
     "name": "stderr",
     "output_type": "stream",
     "text": [
      "  4%|▍         | 434/9766 [17:44<8:12:08,  3.16s/it] "
     ]
    },
    {
     "name": "stdout",
     "output_type": "stream",
     "text": [
      "0.8 51.8 0.0063436163745118745 3.0345295632722067e-05 0.4479409027105179\n"
     ]
    },
    {
     "name": "stderr",
     "output_type": "stream",
     "text": [
      "  4%|▍         | 439/9766 [17:59<10:07:53,  3.91s/it]"
     ]
    },
    {
     "name": "stdout",
     "output_type": "stream",
     "text": [
      "0.3 146.0 0.05773341992062705 2.6136484504421746e-05 0.481799713823181\n"
     ]
    },
    {
     "name": "stderr",
     "output_type": "stream",
     "text": [
      "  5%|▍         | 445/9766 [18:14<8:48:39,  3.40s/it] "
     ]
    },
    {
     "name": "stdout",
     "output_type": "stream",
     "text": [
      "0.5 110.4 0.04392882162349103 7.030964983929095e-06 0.7116193361811997\n"
     ]
    },
    {
     "name": "stderr",
     "output_type": "stream",
     "text": [
      "  5%|▍         | 450/9766 [18:31<10:57:25,  4.23s/it]"
     ]
    },
    {
     "name": "stdout",
     "output_type": "stream",
     "text": [
      "0.2 162.6 0.04695310590916083 7.864709001078261e-09 0.5707985445670465\n"
     ]
    },
    {
     "name": "stderr",
     "output_type": "stream",
     "text": [
      "  5%|▍         | 456/9766 [18:50<11:17:53,  4.37s/it]"
     ]
    },
    {
     "name": "stdout",
     "output_type": "stream",
     "text": [
      "0.2 163.6 0.08299708878313503 2.8099964994963125e-05 0.43202818898905637\n"
     ]
    },
    {
     "name": "stderr",
     "output_type": "stream",
     "text": [
      "  5%|▍         | 461/9766 [19:07<11:55:57,  4.62s/it]"
     ]
    },
    {
     "name": "stdout",
     "output_type": "stream",
     "text": [
      "0.2 163.0 0.11561301223013716 1.33155480721041e-05 0.4803705205428037\n"
     ]
    },
    {
     "name": "stderr",
     "output_type": "stream",
     "text": [
      "  5%|▍         | 466/9766 [19:20<8:59:22,  3.48s/it] "
     ]
    },
    {
     "name": "stdout",
     "output_type": "stream",
     "text": [
      "0.6 90.2 0.06302635326198258 2.7361545075322885e-05 0.5998029726950964\n"
     ]
    },
    {
     "name": "stderr",
     "output_type": "stream",
     "text": [
      "  5%|▍         | 470/9766 [19:35<10:51:59,  4.21s/it]"
     ]
    },
    {
     "name": "stdout",
     "output_type": "stream",
     "text": [
      "0.4 128.0 0.03808712365811189 0.0 0.516412473003707\n"
     ]
    },
    {
     "name": "stderr",
     "output_type": "stream",
     "text": [
      "  5%|▍         | 475/9766 [19:48<8:38:21,  3.35s/it] "
     ]
    },
    {
     "name": "stdout",
     "output_type": "stream",
     "text": [
      "0.6 90.2 0.03533549190421535 2.9802322387695314e-09 0.5771536105171466\n"
     ]
    },
    {
     "name": "stderr",
     "output_type": "stream",
     "text": [
      "  5%|▍         | 481/9766 [20:02<8:12:01,  3.18s/it]"
     ]
    },
    {
     "name": "stdout",
     "output_type": "stream",
     "text": [
      "0.7 70.6 0.019239190519756595 7.450580596923828e-09 0.5275469084401275\n"
     ]
    },
    {
     "name": "stderr",
     "output_type": "stream",
     "text": [
      "  5%|▍         | 487/9766 [20:19<9:46:42,  3.79s/it]"
     ]
    },
    {
     "name": "stdout",
     "output_type": "stream",
     "text": [
      "0.3 143.2 0.028273933104679832 5.561189066721316e-09 0.4428785775068542\n"
     ]
    },
    {
     "name": "stderr",
     "output_type": "stream",
     "text": [
      "  5%|▌         | 492/9766 [20:36<11:40:58,  4.54s/it]"
     ]
    },
    {
     "name": "stdout",
     "output_type": "stream",
     "text": [
      "0.3 147.8 0.04398546048511392 1.2409396350821895e-08 0.4817095925394835\n"
     ]
    },
    {
     "name": "stderr",
     "output_type": "stream",
     "text": [
      "  5%|▌         | 497/9766 [20:55<12:43:29,  4.94s/it]"
     ]
    },
    {
     "name": "stdout",
     "output_type": "stream",
     "text": [
      "0.1 182.0 0.028275742005627096 4.470348358154297e-09 0.40536323260245044\n"
     ]
    },
    {
     "name": "stderr",
     "output_type": "stream",
     "text": [
      "  5%|▌         | 502/9766 [21:07<8:16:18,  3.21s/it] "
     ]
    },
    {
     "name": "stdout",
     "output_type": "stream",
     "text": [
      "0.8 51.2 0.009430122115402628 6.3220272766341055e-09 0.6575711642724417\n"
     ]
    },
    {
     "name": "stderr",
     "output_type": "stream",
     "text": [
      "  5%|▌         | 507/9766 [21:24<10:44:23,  4.18s/it]"
     ]
    },
    {
     "name": "stdout",
     "output_type": "stream",
     "text": [
      "0.2 162.0 0.08451958447884513 2.5135638072425665e-05 0.3470438461452713\n"
     ]
    },
    {
     "name": "stderr",
     "output_type": "stream",
     "text": [
      "  5%|▌         | 512/9766 [21:39<10:05:33,  3.93s/it]"
     ]
    },
    {
     "name": "stdout",
     "output_type": "stream",
     "text": [
      "0.4 124.4 0.04950035410233439 3.033935636374954e-05 0.43844830313979\n"
     ]
    },
    {
     "name": "stderr",
     "output_type": "stream",
     "text": [
      "  5%|▌         | 517/9766 [21:51<8:12:31,  3.20s/it] "
     ]
    },
    {
     "name": "stdout",
     "output_type": "stream",
     "text": [
      "0.7 73.0 0.054047508717076656 1.8850463377277518e-05 0.5938442421968408\n"
     ]
    },
    {
     "name": "stderr",
     "output_type": "stream",
     "text": [
      "  5%|▌         | 521/9766 [22:06<10:45:35,  4.19s/it]"
     ]
    },
    {
     "name": "stdout",
     "output_type": "stream",
     "text": [
      "0.4 125.8 0.06451058399153879 3.0178849006376935e-05 0.44742594093724397\n"
     ]
    },
    {
     "name": "stderr",
     "output_type": "stream",
     "text": [
      "  5%|▌         | 526/9766 [22:20<9:58:07,  3.88s/it] "
     ]
    },
    {
     "name": "stdout",
     "output_type": "stream",
     "text": [
      "0.4 127.4 0.04446657224349846 1.8853128028295963e-05 0.6645846001550395\n"
     ]
    },
    {
     "name": "stderr",
     "output_type": "stream",
     "text": [
      "  5%|▌         | 530/9766 [22:35<11:01:40,  4.30s/it]"
     ]
    },
    {
     "name": "stdout",
     "output_type": "stream",
     "text": [
      "0.3 144.0 0.04626872208827939 3.290037091644492e-05 0.4633036163226418\n"
     ]
    },
    {
     "name": "stderr",
     "output_type": "stream",
     "text": [
      "  5%|▌         | 534/9766 [22:47<9:55:27,  3.87s/it] "
     ]
    },
    {
     "name": "stdout",
     "output_type": "stream",
     "text": [
      "0.5 109.8 0.034556452849172824 6.0498191020454256e-09 0.5438062288674285\n"
     ]
    },
    {
     "name": "stderr",
     "output_type": "stream",
     "text": [
      "  6%|▌         | 541/9766 [23:05<9:45:05,  3.81s/it]"
     ]
    },
    {
     "name": "stdout",
     "output_type": "stream",
     "text": [
      "0.3 146.2 0.07866425367674632 1.4052134541983567e-05 0.4778053480832048\n"
     ]
    },
    {
     "name": "stderr",
     "output_type": "stream",
     "text": [
      "  6%|▌         | 548/9766 [23:23<8:36:56,  3.36s/it]"
     ]
    },
    {
     "name": "stdout",
     "output_type": "stream",
     "text": [
      "0.4 126.4 0.0757824445646277 1.4052653832469235e-05 0.4935624770942904\n"
     ]
    },
    {
     "name": "stderr",
     "output_type": "stream",
     "text": [
      "  6%|▌         | 554/9766 [23:37<7:35:36,  2.97s/it]"
     ]
    },
    {
     "name": "stdout",
     "output_type": "stream",
     "text": [
      "0.7 75.8 0.05372009316062508 7.026690094223019e-06 0.44116219166897314\n"
     ]
    },
    {
     "name": "stderr",
     "output_type": "stream",
     "text": [
      "  6%|▌         | 558/9766 [23:49<9:15:26,  3.62s/it]"
     ]
    },
    {
     "name": "stdout",
     "output_type": "stream",
     "text": [
      "0.5 105.6 0.059693255898379226 0.0 0.4282719418522146\n"
     ]
    },
    {
     "name": "stderr",
     "output_type": "stream",
     "text": [
      "  6%|▌         | 561/9766 [24:01<10:56:37,  4.28s/it]"
     ]
    },
    {
     "name": "stdout",
     "output_type": "stream",
     "text": [
      "0.4 124.8 0.03770070118178029 2.9802322387695314e-09 0.32435566664976684\n"
     ]
    },
    {
     "name": "stderr",
     "output_type": "stream",
     "text": [
      "  6%|▌         | 565/9766 [24:17<12:13:40,  4.78s/it]"
     ]
    },
    {
     "name": "stdout",
     "output_type": "stream",
     "text": [
      "0.1 181.2 0.12762436666769192 1.7602055618415508e-05 0.3538166857580444\n"
     ]
    },
    {
     "name": "stderr",
     "output_type": "stream",
     "text": [
      "  6%|▌         | 568/9766 [24:28<11:36:42,  4.54s/it]"
     ]
    },
    {
     "name": "stdout",
     "output_type": "stream",
     "text": [
      "0.5 122.4 0.01572087994337573 2.580956827951785e-09 0.4130855974891629\n"
     ]
    },
    {
     "name": "stderr",
     "output_type": "stream",
     "text": [
      "  6%|▌         | 571/9766 [24:40<11:38:33,  4.56s/it]"
     ]
    },
    {
     "name": "stdout",
     "output_type": "stream",
     "text": [
      "0.4 124.4 0.06889652486498497 2.2874116076292056e-05 0.38558714383650317\n"
     ]
    },
    {
     "name": "stderr",
     "output_type": "stream",
     "text": [
      "  6%|▌         | 574/9766 [24:48<8:51:06,  3.47s/it] "
     ]
    },
    {
     "name": "stdout",
     "output_type": "stream",
     "text": [
      "0.9 36.0 0.056394306189679166 1.6923552850373358e-05 0.45988223525530036\n"
     ]
    },
    {
     "name": "stderr",
     "output_type": "stream",
     "text": [
      "  6%|▌         | 578/9766 [25:01<10:02:13,  3.93s/it]"
     ]
    },
    {
     "name": "stdout",
     "output_type": "stream",
     "text": [
      "0.4 124.6 0.037732224848924065 7.02864533655656e-06 0.47567768347238226\n"
     ]
    },
    {
     "name": "stderr",
     "output_type": "stream",
     "text": [
      "  6%|▌         | 582/9766 [25:12<8:46:35,  3.44s/it] "
     ]
    },
    {
     "name": "stdout",
     "output_type": "stream",
     "text": [
      "0.6 85.2 0.012566860124641985 0.0 0.4396273378775287\n"
     ]
    },
    {
     "name": "stderr",
     "output_type": "stream",
     "text": [
      "  6%|▌         | 586/9766 [25:25<9:46:23,  3.83s/it]"
     ]
    },
    {
     "name": "stdout",
     "output_type": "stream",
     "text": [
      "0.4 124.6 0.018847052779098226 3.597458544929467e-09 0.37229492447016355\n"
     ]
    },
    {
     "name": "stderr",
     "output_type": "stream",
     "text": [
      "  6%|▌         | 590/9766 [25:37<9:33:11,  3.75s/it]"
     ]
    },
    {
     "name": "stdout",
     "output_type": "stream",
     "text": [
      "0.5 107.0 0.01571116089536822 5.7048009704741684e-09 0.534708920299783\n"
     ]
    },
    {
     "name": "stderr",
     "output_type": "stream",
     "text": [
      "  6%|▌         | 596/9766 [25:51<7:46:41,  3.05s/it]"
     ]
    },
    {
     "name": "stdout",
     "output_type": "stream",
     "text": [
      "0.7 70.0 0.031418250636573344 7.81214339601887e-09 0.5421878655676474\n"
     ]
    },
    {
     "name": "stderr",
     "output_type": "stream",
     "text": [
      "  6%|▌         | 608/9766 [26:18<10:14:45,  4.03s/it]"
     ]
    },
    {
     "name": "stdout",
     "output_type": "stream",
     "text": [
      "0.2 163.2 0.10312401506836517 1.4052783993456769e-05 0.5227175702632\n"
     ]
    },
    {
     "name": "stderr",
     "output_type": "stream",
     "text": [
      "  6%|▋         | 615/9766 [26:38<10:33:50,  4.16s/it]"
     ]
    },
    {
     "name": "stdout",
     "output_type": "stream",
     "text": [
      "0.3 142.6 0.034558901028545766 6.652029775288337e-09 0.4315388589493569\n"
     ]
    },
    {
     "name": "stderr",
     "output_type": "stream",
     "text": [
      "  6%|▋         | 620/9766 [26:53<9:48:18,  3.86s/it] "
     ]
    },
    {
     "name": "stdout",
     "output_type": "stream",
     "text": [
      "0.5 106.8 0.015707473547439434 4.6882992534964865e-09 0.504121475917646\n"
     ]
    },
    {
     "name": "stderr",
     "output_type": "stream",
     "text": [
      "  6%|▋         | 624/9766 [27:04<8:34:05,  3.37s/it]"
     ]
    },
    {
     "name": "stdout",
     "output_type": "stream",
     "text": [
      "0.8 50.4 0.006288360993110432 0.0 0.3756222144041216\n"
     ]
    },
    {
     "name": "stderr",
     "output_type": "stream",
     "text": [
      "  6%|▋         | 628/9766 [27:14<7:40:27,  3.02s/it]"
     ]
    },
    {
     "name": "stdout",
     "output_type": "stream",
     "text": [
      "0.8 55.6 0.006288291074418096 5.087574664314233e-09 0.623140495675209\n"
     ]
    },
    {
     "name": "stderr",
     "output_type": "stream",
     "text": [
      "  6%|▋         | 632/9766 [27:25<7:28:40,  2.95s/it]"
     ]
    },
    {
     "name": "stdout",
     "output_type": "stream",
     "text": [
      "0.8 49.6 0.006289781913753329 5.087574664314233e-09 0.48207137939555655\n"
     ]
    },
    {
     "name": "stderr",
     "output_type": "stream",
     "text": [
      "  7%|▋         | 635/9766 [27:39<11:45:56,  4.64s/it]"
     ]
    },
    {
     "name": "stdout",
     "output_type": "stream",
     "text": [
      "0.3 144.8 0.05872629764093379 1.4054362383129272e-05 0.4302947932149218\n"
     ]
    },
    {
     "name": "stderr",
     "output_type": "stream",
     "text": [
      "  7%|▋         | 638/9766 [27:49<10:14:18,  4.04s/it]"
     ]
    },
    {
     "name": "stdout",
     "output_type": "stream",
     "text": [
      "0.6 85.6 0.012565269736197565 6.202277034772008e-09 0.47903353327733295\n"
     ]
    },
    {
     "name": "stderr",
     "output_type": "stream",
     "text": [
      "  7%|▋         | 641/9766 [27:59<10:23:37,  4.10s/it]"
     ]
    },
    {
     "name": "stdout",
     "output_type": "stream",
     "text": [
      "0.6 86.8 0.01256991171525898 2.580956827951785e-09 0.5099848316870857\n"
     ]
    },
    {
     "name": "stderr",
     "output_type": "stream",
     "text": [
      "  7%|▋         | 644/9766 [28:13<12:40:25,  5.00s/it]"
     ]
    },
    {
     "name": "stdout",
     "output_type": "stream",
     "text": [
      "0.1 181.0 0.03379628638617403 2.59089722272359e-05 0.27499200348618713\n"
     ]
    },
    {
     "name": "stderr",
     "output_type": "stream",
     "text": [
      "  7%|▋         | 647/9766 [28:24<11:34:34,  4.57s/it]"
     ]
    },
    {
     "name": "stdout",
     "output_type": "stream",
     "text": [
      "0.6 86.4 0.04769196432135184 1.1332271914183716e-05 0.4286343519344519\n"
     ]
    },
    {
     "name": "stderr",
     "output_type": "stream",
     "text": [
      "  7%|▋         | 650/9766 [28:34<9:43:52,  3.84s/it] "
     ]
    },
    {
     "name": "stdout",
     "output_type": "stream",
     "text": [
      "0.8 50.8 0.006288607590194962 9.013229009396252e-09 0.46535811236607716\n"
     ]
    },
    {
     "name": "stderr",
     "output_type": "stream",
     "text": [
      "  7%|▋         | 654/9766 [28:49<11:23:52,  4.50s/it]"
     ]
    },
    {
     "name": "stdout",
     "output_type": "stream",
     "text": [
      "0.4 127.0 0.034129517274209535 3.1678442370495965e-05 0.3209723192580779\n"
     ]
    },
    {
     "name": "stderr",
     "output_type": "stream",
     "text": [
      "  7%|▋         | 657/9766 [28:59<9:51:46,  3.90s/it] "
     ]
    },
    {
     "name": "stdout",
     "output_type": "stream",
     "text": [
      "0.8 48.0 0.02022198765433131 1.2567860674706042e-05 0.4651191999486109\n"
     ]
    },
    {
     "name": "stderr",
     "output_type": "stream",
     "text": [
      "  7%|▋         | 660/9766 [29:13<13:06:10,  5.18s/it]"
     ]
    },
    {
     "name": "stdout",
     "output_type": "stream",
     "text": [
      "0.2 163.0 0.028277876569735287 1.4901161193847657e-09 0.5458945716427908\n"
     ]
    },
    {
     "name": "stderr",
     "output_type": "stream",
     "text": [
      "  7%|▋         | 663/9766 [29:27<13:20:07,  5.27s/it]"
     ]
    },
    {
     "name": "stdout",
     "output_type": "stream",
     "text": [
      "0.1 180.6 0.03141773245001199 6.577690783698998e-09 0.49869611980295225\n"
     ]
    },
    {
     "name": "stderr",
     "output_type": "stream",
     "text": [
      "  7%|▋         | 667/9766 [29:42<12:16:25,  4.86s/it]"
     ]
    },
    {
     "name": "stdout",
     "output_type": "stream",
     "text": [
      "0.3 143.2 0.04084059556221388 4.6882992534964865e-09 0.5259027055421714\n"
     ]
    },
    {
     "name": "stderr",
     "output_type": "stream",
     "text": [
      "  7%|▋         | 671/9766 [29:53<9:15:05,  3.66s/it] "
     ]
    },
    {
     "name": "stdout",
     "output_type": "stream",
     "text": [
      "0.7 68.8 0.05761731251648096 7.027155536417957e-06 0.4595970211477409\n"
     ]
    },
    {
     "name": "stderr",
     "output_type": "stream",
     "text": [
      "  7%|▋         | 675/9766 [30:11<13:30:31,  5.35s/it]"
     ]
    },
    {
     "name": "stdout",
     "output_type": "stream",
     "text": [
      "0.0 200.0 0.03455233567113967 1.4901161193847657e-09 0.4982413145068841\n"
     ]
    },
    {
     "name": "stderr",
     "output_type": "stream",
     "text": [
      "  7%|▋         | 678/9766 [30:20<10:05:58,  4.00s/it]"
     ]
    },
    {
     "name": "stdout",
     "output_type": "stream",
     "text": [
      "0.8 50.2 0.00942746547329645 0.0 0.37737116402194065\n"
     ]
    },
    {
     "name": "stderr",
     "output_type": "stream",
     "text": [
      "  7%|▋         | 681/9766 [30:30<9:14:25,  3.66s/it] "
     ]
    },
    {
     "name": "stdout",
     "output_type": "stream",
     "text": [
      "0.8 50.6 0.006288548207331328 5.960464477539063e-09 0.4673550345656027\n"
     ]
    },
    {
     "name": "stderr",
     "output_type": "stream",
     "text": [
      "  7%|▋         | 684/9766 [30:40<9:38:48,  3.82s/it]"
     ]
    },
    {
     "name": "stdout",
     "output_type": "stream",
     "text": [
      "0.7 67.2 0.01911678128558523 1.2567861116449743e-05 0.4053366914898331\n"
     ]
    },
    {
     "name": "stderr",
     "output_type": "stream",
     "text": [
      "  7%|▋         | 687/9766 [30:51<10:14:04,  4.06s/it]"
     ]
    },
    {
     "name": "stdout",
     "output_type": "stream",
     "text": [
      "0.5 106.0 0.015714649823883348 2.1073424255447016e-09 0.481538425151825\n"
     ]
    },
    {
     "name": "stderr",
     "output_type": "stream",
     "text": [
      "  7%|▋         | 690/9766 [30:59<8:13:54,  3.27s/it] "
     ]
    },
    {
     "name": "stdout",
     "output_type": "stream",
     "text": [
      "0.9 29.6 0.038386068311022134 7.02875460737821e-06 0.4748447752300164\n"
     ]
    },
    {
     "name": "stderr",
     "output_type": "stream",
     "text": [
      "  7%|▋         | 693/9766 [31:09<9:19:20,  3.70s/it]"
     ]
    },
    {
     "name": "stdout",
     "output_type": "stream",
     "text": [
      "0.6 90.2 0.028247773950998846 7.028323946908187e-06 0.49215526496212725\n"
     ]
    },
    {
     "name": "stderr",
     "output_type": "stream",
     "text": [
      "  7%|▋         | 696/9766 [31:22<11:34:24,  4.59s/it]"
     ]
    },
    {
     "name": "stdout",
     "output_type": "stream",
     "text": [
      "0.2 162.8 0.06221157362931042 2.3892985963265196e-05 0.39394262391759033\n"
     ]
    },
    {
     "name": "stderr",
     "output_type": "stream",
     "text": [
      "  7%|▋         | 700/9766 [31:36<11:09:32,  4.43s/it]"
     ]
    },
    {
     "name": "stdout",
     "output_type": "stream",
     "text": [
      "0.4 124.4 0.021933113075151785 6.288756753973518e-06 0.488448065277002\n"
     ]
    },
    {
     "name": "stderr",
     "output_type": "stream",
     "text": [
      "  7%|▋         | 704/9766 [31:51<11:10:35,  4.44s/it]"
     ]
    },
    {
     "name": "stdout",
     "output_type": "stream",
     "text": [
      "0.4 125.2 0.01859942554575757 2.5134230825158897e-05 0.5565755446624581\n"
     ]
    },
    {
     "name": "stderr",
     "output_type": "stream",
     "text": [
      "  7%|▋         | 708/9766 [32:01<7:56:55,  3.16s/it] "
     ]
    },
    {
     "name": "stdout",
     "output_type": "stream",
     "text": [
      "0.9 28.8 0.05037001974537046 5.087574664314233e-09 0.30706333292809573\n"
     ]
    },
    {
     "name": "stderr",
     "output_type": "stream",
     "text": [
      "  7%|▋         | 711/9766 [32:11<8:59:00,  3.57s/it]"
     ]
    },
    {
     "name": "stdout",
     "output_type": "stream",
     "text": [
      "0.7 70.8 0.012572631300206454 1.4901161193847657e-09 0.38938496199830097\n"
     ]
    },
    {
     "name": "stderr",
     "output_type": "stream",
     "text": [
      "  7%|▋         | 715/9766 [32:23<8:46:04,  3.49s/it]"
     ]
    },
    {
     "name": "stdout",
     "output_type": "stream",
     "text": [
      "0.7 68.4 0.00943113422310264 6.1784153728812526e-09 0.7261724273256329\n"
     ]
    },
    {
     "name": "stderr",
     "output_type": "stream",
     "text": [
      "  7%|▋         | 718/9766 [32:33<9:05:20,  3.62s/it]"
     ]
    },
    {
     "name": "stdout",
     "output_type": "stream",
     "text": [
      "0.7 67.6 0.009425950358570159 3.597458544929467e-09 0.4691007567236126\n"
     ]
    },
    {
     "name": "stderr",
     "output_type": "stream",
     "text": [
      "  7%|▋         | 721/9766 [32:41<7:55:02,  3.15s/it]"
     ]
    },
    {
     "name": "stdout",
     "output_type": "stream",
     "text": [
      "0.9 34.4 0.008758358287989716 1.4054363864615253e-05 0.4678784676660374\n"
     ]
    },
    {
     "name": "stderr",
     "output_type": "stream",
     "text": [
      "  7%|▋         | 724/9766 [32:48<6:49:34,  2.72s/it]"
     ]
    },
    {
     "name": "stdout",
     "output_type": "stream",
     "text": [
      "1.0 12.0 6.075597586341478e-06 0.0 0.4796494917889699\n"
     ]
    },
    {
     "name": "stderr",
     "output_type": "stream",
     "text": [
      "  7%|▋         | 727/9766 [32:56<6:54:19,  2.75s/it]"
     ]
    },
    {
     "name": "stdout",
     "output_type": "stream",
     "text": [
      "0.9 30.4 0.04454921000967153 1.4051381714825257e-05 0.3682063699748116\n"
     ]
    },
    {
     "name": "stderr",
     "output_type": "stream",
     "text": [
      "  7%|▋         | 730/9766 [33:09<11:09:24,  4.44s/it]"
     ]
    },
    {
     "name": "stdout",
     "output_type": "stream",
     "text": [
      "0.3 143.8 0.021993029769246736 2.580956827951785e-09 0.33001737755446947\n"
     ]
    },
    {
     "name": "stderr",
     "output_type": "stream",
     "text": [
      "  8%|▊         | 733/9766 [33:19<9:56:21,  3.96s/it] "
     ]
    },
    {
     "name": "stdout",
     "output_type": "stream",
     "text": [
      "0.7 68.8 0.037991393981427465 1.4049276131903932e-05 0.51479028879152\n"
     ]
    },
    {
     "name": "stderr",
     "output_type": "stream",
     "text": [
      "  8%|▊         | 736/9766 [33:33<12:20:05,  4.92s/it]"
     ]
    },
    {
     "name": "stdout",
     "output_type": "stream",
     "text": [
      "0.3 143.6 0.0219955901809234 5.087574664314233e-09 0.40669637641302997\n"
     ]
    },
    {
     "name": "stderr",
     "output_type": "stream",
     "text": [
      "  8%|▊         | 739/9766 [33:48<13:53:37,  5.54s/it]"
     ]
    },
    {
     "name": "stdout",
     "output_type": "stream",
     "text": [
      "0.1 181.2 0.07265548319288083 3.974357881343677e-05 0.48235762154004724\n"
     ]
    },
    {
     "name": "stderr",
     "output_type": "stream",
     "text": [
      "  8%|▊         | 742/9766 [33:59<11:59:17,  4.78s/it]"
     ]
    },
    {
     "name": "stdout",
     "output_type": "stream",
     "text": [
      "0.5 106.2 0.07329943016799145 3.554296182134465e-05 0.48066825790661294\n"
     ]
    },
    {
     "name": "stderr",
     "output_type": "stream",
     "text": [
      "  8%|▊         | 745/9766 [34:10<10:58:25,  4.38s/it]"
     ]
    },
    {
     "name": "stdout",
     "output_type": "stream",
     "text": [
      "0.6 88.8 0.027176009563678143 7.030640583090995e-06 0.4428267530320662\n"
     ]
    },
    {
     "name": "stderr",
     "output_type": "stream",
     "text": [
      "  8%|▊         | 748/9766 [34:23<12:08:25,  4.85s/it]"
     ]
    },
    {
     "name": "stdout",
     "output_type": "stream",
     "text": [
      "0.2 162.4 0.0663515834810957 4.066390239544182e-05 0.4323403166868106\n"
     ]
    },
    {
     "name": "stderr",
     "output_type": "stream",
     "text": [
      "  8%|▊         | 751/9766 [34:31<8:56:53,  3.57s/it] "
     ]
    },
    {
     "name": "stdout",
     "output_type": "stream",
     "text": [
      "0.9 31.4 0.033044270089341764 2.5134231282902742e-05 0.42186791472594687\n"
     ]
    },
    {
     "name": "stderr",
     "output_type": "stream",
     "text": [
      "  8%|▊         | 754/9766 [34:39<7:30:10,  3.00s/it]"
     ]
    },
    {
     "name": "stdout",
     "output_type": "stream",
     "text": [
      "1.0 11.8 5.959090368499926e-06 0.0 0.41040275749664235\n"
     ]
    },
    {
     "name": "stderr",
     "output_type": "stream",
     "text": [
      "  8%|▊         | 757/9766 [34:49<8:37:32,  3.45s/it]"
     ]
    },
    {
     "name": "stdout",
     "output_type": "stream",
     "text": [
      "0.7 68.8 0.06622257946442076 4.639869347077625e-05 0.37427570046186487\n"
     ]
    },
    {
     "name": "stderr",
     "output_type": "stream",
     "text": [
      "  8%|▊         | 760/9766 [35:00<10:27:51,  4.18s/it]"
     ]
    },
    {
     "name": "stdout",
     "output_type": "stream",
     "text": [
      "0.5 108.8 0.01571154109090009 2.9802322387695314e-09 0.5424433000748643\n"
     ]
    },
    {
     "name": "stderr",
     "output_type": "stream",
     "text": [
      "  8%|▊         | 763/9766 [35:08<7:56:53,  3.18s/it] "
     ]
    },
    {
     "name": "stdout",
     "output_type": "stream",
     "text": [
      "1.0 10.6 3.4583985110958274e-06 0.0 0.2435586593932853\n"
     ]
    },
    {
     "name": "stderr",
     "output_type": "stream",
     "text": [
      "  8%|▊         | 766/9766 [35:16<7:20:15,  2.94s/it]"
     ]
    },
    {
     "name": "stdout",
     "output_type": "stream",
     "text": [
      "1.0 15.2 4.8727353594781255e-06 1.4901161193847657e-09 0.4290541449906674\n"
     ]
    },
    {
     "name": "stderr",
     "output_type": "stream",
     "text": [
      "  8%|▊         | 769/9766 [35:24<7:19:26,  2.93s/it]"
     ]
    },
    {
     "name": "stdout",
     "output_type": "stream",
     "text": [
      "0.9 33.6 0.01894995213362197 1.1331756184952343e-05 0.5672980931830516\n"
     ]
    },
    {
     "name": "stderr",
     "output_type": "stream",
     "text": [
      "  8%|▊         | 772/9766 [35:36<10:20:39,  4.14s/it]"
     ]
    },
    {
     "name": "stdout",
     "output_type": "stream",
     "text": [
      "0.4 126.2 0.01884957920195247 3.597458544929467e-09 0.44419057127693024\n"
     ]
    },
    {
     "name": "stderr",
     "output_type": "stream",
     "text": [
      "  8%|▊         | 775/9766 [35:49<11:54:02,  4.77s/it]"
     ]
    },
    {
     "name": "stdout",
     "output_type": "stream",
     "text": [
      "0.4 127.0 0.018850586068005503 4.071072947336551e-09 0.3884446548016548\n"
     ]
    },
    {
     "name": "stderr",
     "output_type": "stream",
     "text": [
      "  8%|▊         | 778/9766 [36:04<13:20:29,  5.34s/it]"
     ]
    },
    {
     "name": "stdout",
     "output_type": "stream",
     "text": [
      "0.2 163.2 0.025131037093418063 6.652029775288337e-09 0.5607416702173345\n"
     ]
    },
    {
     "name": "stderr",
     "output_type": "stream",
     "text": [
      "  8%|▊         | 781/9766 [36:16<12:47:43,  5.13s/it]"
     ]
    },
    {
     "name": "stdout",
     "output_type": "stream",
     "text": [
      "0.4 126.6 0.01885263907665182 2.9802322387695314e-09 0.4866822555267841\n"
     ]
    },
    {
     "name": "stderr",
     "output_type": "stream",
     "text": [
      "  8%|▊         | 784/9766 [36:26<10:39:34,  4.27s/it]"
     ]
    },
    {
     "name": "stdout",
     "output_type": "stream",
     "text": [
      "0.7 70.0 0.009428288325010819 2.1073424255447016e-09 0.4690965799917105\n"
     ]
    },
    {
     "name": "stderr",
     "output_type": "stream",
     "text": [
      "  8%|▊         | 787/9766 [36:37<10:02:24,  4.03s/it]"
     ]
    },
    {
     "name": "stdout",
     "output_type": "stream",
     "text": [
      "0.6 88.2 0.0283730548733823 1.1331537547065082e-05 0.4327257669153597\n"
     ]
    },
    {
     "name": "stderr",
     "output_type": "stream",
     "text": [
      "  8%|▊         | 791/9766 [36:51<10:39:42,  4.28s/it]"
     ]
    },
    {
     "name": "stdout",
     "output_type": "stream",
     "text": [
      "0.5 106.0 0.01570930237358978 1.4901161193847657e-09 0.38034550764664454\n"
     ]
    },
    {
     "name": "stderr",
     "output_type": "stream",
     "text": [
      "  8%|▊         | 795/9766 [37:06<11:29:23,  4.61s/it]"
     ]
    },
    {
     "name": "stdout",
     "output_type": "stream",
     "text": [
      "0.2 161.2 0.025127338063375037 4.942156062059701e-09 0.5421457324934781\n"
     ]
    },
    {
     "name": "stderr",
     "output_type": "stream",
     "text": [
      "  8%|▊         | 799/9766 [37:16<8:20:27,  3.35s/it] "
     ]
    },
    {
     "name": "stdout",
     "output_type": "stream",
     "text": [
      "0.8 50.6 0.006287240571759234 7.81214339601887e-09 0.4450623363522793\n"
     ]
    },
    {
     "name": "stderr",
     "output_type": "stream",
     "text": [
      "  8%|▊         | 803/9766 [37:27<8:06:14,  3.25s/it]"
     ]
    },
    {
     "name": "stdout",
     "output_type": "stream",
     "text": [
      "0.7 69.4 0.009426539634918931 3.597458544929467e-09 0.48620216752819506\n"
     ]
    },
    {
     "name": "stderr",
     "output_type": "stream",
     "text": [
      "  8%|▊         | 807/9766 [37:36<6:11:43,  2.49s/it]"
     ]
    },
    {
     "name": "stdout",
     "output_type": "stream",
     "text": [
      "1.0 12.4 5.843867299208237e-06 2.1073424255447016e-09 0.39575396333991064\n"
     ]
    },
    {
     "name": "stderr",
     "output_type": "stream",
     "text": [
      "  8%|▊         | 810/9766 [37:46<8:36:34,  3.46s/it]"
     ]
    },
    {
     "name": "stdout",
     "output_type": "stream",
     "text": [
      "0.6 87.0 0.021933149867511596 7.026735624888386e-06 0.4581842827247167\n"
     ]
    },
    {
     "name": "stderr",
     "output_type": "stream",
     "text": [
      "  8%|▊         | 813/9766 [37:56<8:55:59,  3.59s/it]"
     ]
    },
    {
     "name": "stdout",
     "output_type": "stream",
     "text": [
      "0.7 73.8 0.019364401263296725 1.2569968017131586e-05 0.6744417231517996\n"
     ]
    },
    {
     "name": "stderr",
     "output_type": "stream",
     "text": [
      "  8%|▊         | 817/9766 [38:09<9:27:40,  3.81s/it]"
     ]
    },
    {
     "name": "stdout",
     "output_type": "stream",
     "text": [
      "0.6 88.2 0.034630026468378275 1.2566370646935396e-05 0.5803076872255246\n"
     ]
    },
    {
     "name": "stderr",
     "output_type": "stream",
     "text": [
      "  8%|▊         | 821/9766 [38:21<8:28:49,  3.41s/it]"
     ]
    },
    {
     "name": "stdout",
     "output_type": "stream",
     "text": [
      "0.8 54.0 0.0062879138843763656 0.0 0.48413067508558827\n"
     ]
    },
    {
     "name": "stderr",
     "output_type": "stream",
     "text": [
      "  8%|▊         | 824/9766 [38:28<7:09:27,  2.88s/it]"
     ]
    },
    {
     "name": "stdout",
     "output_type": "stream",
     "text": [
      "1.0 12.6 2.8078890293814847e-06 0.0 0.5599688273475405\n"
     ]
    },
    {
     "name": "stderr",
     "output_type": "stream",
     "text": [
      "  8%|▊         | 827/9766 [38:38<8:42:43,  3.51s/it]"
     ]
    },
    {
     "name": "stdout",
     "output_type": "stream",
     "text": [
      "0.7 68.0 0.009428773065330232 0.0 0.4860443456961884\n"
     ]
    },
    {
     "name": "stderr",
     "output_type": "stream",
     "text": [
      "  8%|▊         | 830/9766 [38:50<10:23:07,  4.18s/it]"
     ]
    },
    {
     "name": "stdout",
     "output_type": "stream",
     "text": [
      "0.4 126.0 0.018850552750097286 4.470348358154297e-09 0.5840443349910951\n"
     ]
    },
    {
     "name": "stderr",
     "output_type": "stream",
     "text": [
      "  9%|▊         | 833/9766 [39:01<10:24:57,  4.20s/it]"
     ]
    },
    {
     "name": "stdout",
     "output_type": "stream",
     "text": [
      "0.5 106.0 0.01571323146536 2.580956827951785e-09 0.40428069759115715\n"
     ]
    },
    {
     "name": "stderr",
     "output_type": "stream",
     "text": [
      "  9%|▊         | 836/9766 [39:09<8:13:09,  3.31s/it] "
     ]
    },
    {
     "name": "stdout",
     "output_type": "stream",
     "text": [
      "0.9 31.0 0.003144272276014072 6.9227089152702554e-09 0.34257004524900597\n"
     ]
    },
    {
     "name": "stderr",
     "output_type": "stream",
     "text": [
      "  9%|▊         | 839/9766 [39:22<11:08:00,  4.49s/it]"
     ]
    },
    {
     "name": "stdout",
     "output_type": "stream",
     "text": [
      "0.2 162.4 0.06596033337660555 1.2567860763054781e-05 0.36759062693847516\n"
     ]
    },
    {
     "name": "stderr",
     "output_type": "stream",
     "text": [
      "  9%|▊         | 842/9766 [39:34<11:33:37,  4.66s/it]"
     ]
    },
    {
     "name": "stdout",
     "output_type": "stream",
     "text": [
      "0.5 109.4 0.028275091691224018 6.577690783698998e-09 0.5660407729665141\n"
     ]
    },
    {
     "name": "stderr",
     "output_type": "stream",
     "text": [
      "  9%|▊         | 846/9766 [39:47<10:23:04,  4.19s/it]"
     ]
    },
    {
     "name": "stdout",
     "output_type": "stream",
     "text": [
      "0.5 106.4 0.04718769977018415 1.405019251360716e-05 0.46786795395867137\n"
     ]
    },
    {
     "name": "stderr",
     "output_type": "stream",
     "text": [
      "  9%|▊         | 850/9766 [40:00<9:33:13,  3.86s/it] "
     ]
    },
    {
     "name": "stdout",
     "output_type": "stream",
     "text": [
      "0.5 107.0 0.03147934856182068 1.4049927937977895e-05 0.3683833614361123\n"
     ]
    },
    {
     "name": "stderr",
     "output_type": "stream",
     "text": [
      "  9%|▊         | 854/9766 [40:10<8:13:42,  3.32s/it]"
     ]
    },
    {
     "name": "stdout",
     "output_type": "stream",
     "text": [
      "0.7 68.2 0.009428670305762403 2.9802322387695314e-09 0.444271958831146\n"
     ]
    },
    {
     "name": "stderr",
     "output_type": "stream",
     "text": [
      "  9%|▉         | 858/9766 [40:21<7:54:02,  3.19s/it]"
     ]
    },
    {
     "name": "stdout",
     "output_type": "stream",
     "text": [
      "0.7 68.0 0.009425661299302852 4.071072947336551e-09 0.6218789864961691\n"
     ]
    },
    {
     "name": "stderr",
     "output_type": "stream",
     "text": [
      "  9%|▉         | 861/9766 [40:31<8:57:04,  3.62s/it]"
     ]
    },
    {
     "name": "stdout",
     "output_type": "stream",
     "text": [
      "0.6 86.4 0.012569854662975031 0.0 0.5759068836416869\n"
     ]
    },
    {
     "name": "stderr",
     "output_type": "stream",
     "text": [
      "  9%|▉         | 865/9766 [40:40<6:39:48,  2.70s/it]"
     ]
    },
    {
     "name": "stdout",
     "output_type": "stream",
     "text": [
      "1.0 16.2 6.979667029024458e-06 9.632262014057867e-09 0.5978993714329339\n"
     ]
    },
    {
     "name": "stderr",
     "output_type": "stream",
     "text": [
      "  9%|▉         | 869/9766 [40:51<7:42:08,  3.12s/it]"
     ]
    },
    {
     "name": "stdout",
     "output_type": "stream",
     "text": [
      "0.6 89.6 0.03776379953109591 7.0282796941637115e-06 0.5881128399793892\n"
     ]
    },
    {
     "name": "stderr",
     "output_type": "stream",
     "text": [
      "  9%|▉         | 874/9766 [41:04<8:01:21,  3.25s/it]"
     ]
    },
    {
     "name": "stdout",
     "output_type": "stream",
     "text": [
      "0.6 89.0 0.07805193750768016 3.9188088323680236e-05 0.4902985494491241\n"
     ]
    },
    {
     "name": "stderr",
     "output_type": "stream",
     "text": [
      "  9%|▉         | 878/9766 [41:16<8:34:26,  3.47s/it]"
     ]
    },
    {
     "name": "stdout",
     "output_type": "stream",
     "text": [
      "0.6 86.2 0.07625338912762504 1.4053888246548041e-05 0.4186400682298479\n"
     ]
    },
    {
     "name": "stderr",
     "output_type": "stream",
     "text": [
      "  9%|▉         | 882/9766 [41:28<8:08:04,  3.30s/it]"
     ]
    },
    {
     "name": "stdout",
     "output_type": "stream",
     "text": [
      "0.8 48.8 0.016045535716314556 7.026746193375896e-06 0.31801460878433885\n"
     ]
    },
    {
     "name": "stderr",
     "output_type": "stream",
     "text": [
      "  9%|▉         | 885/9766 [41:38<8:47:29,  3.56s/it]"
     ]
    },
    {
     "name": "stdout",
     "output_type": "stream",
     "text": [
      "0.7 72.8 0.050453397281556324 7.031510647484121e-06 0.47139261217396655\n"
     ]
    },
    {
     "name": "stderr",
     "output_type": "stream",
     "text": [
      "  9%|▉         | 888/9766 [41:47<8:35:57,  3.49s/it]"
     ]
    },
    {
     "name": "stdout",
     "output_type": "stream",
     "text": [
      "0.7 68.4 0.009426866285697454 0.0 0.4250162672339946\n"
     ]
    },
    {
     "name": "stderr",
     "output_type": "stream",
     "text": [
      "  9%|▉         | 891/9766 [41:56<8:27:55,  3.43s/it]"
     ]
    },
    {
     "name": "stdout",
     "output_type": "stream",
     "text": [
      "0.7 68.6 0.00942752870236074 1.4901161193847657e-09 0.3247131492268646\n"
     ]
    },
    {
     "name": "stderr",
     "output_type": "stream",
     "text": [
      "  9%|▉         | 894/9766 [42:06<9:04:33,  3.68s/it]"
     ]
    },
    {
     "name": "stdout",
     "output_type": "stream",
     "text": [
      "0.6 89.8 0.012572226248094547 2.9802322387695314e-09 0.4643933477448529\n"
     ]
    },
    {
     "name": "stderr",
     "output_type": "stream",
     "text": [
      "  9%|▉         | 897/9766 [42:16<9:18:21,  3.78s/it]"
     ]
    },
    {
     "name": "stdout",
     "output_type": "stream",
     "text": [
      "0.6 88.2 0.012570274051278857 6.630256388758389e-09 0.44145858361282675\n"
     ]
    },
    {
     "name": "stderr",
     "output_type": "stream",
     "text": [
      "  9%|▉         | 900/9766 [42:23<7:19:18,  2.97s/it]"
     ]
    },
    {
     "name": "stdout",
     "output_type": "stream",
     "text": [
      "1.0 16.6 6.129836104038635e-06 8.142145894673102e-09 0.7331127045016965\n"
     ]
    },
    {
     "name": "stderr",
     "output_type": "stream",
     "text": [
      "  9%|▉         | 903/9766 [42:31<6:56:28,  2.82s/it]"
     ]
    },
    {
     "name": "stdout",
     "output_type": "stream",
     "text": [
      "1.0 16.4 8.323209235673572e-06 6.795641679041188e-09 0.5549644944795902\n"
     ]
    },
    {
     "name": "stderr",
     "output_type": "stream",
     "text": [
      "  9%|▉         | 906/9766 [42:44<10:52:07,  4.42s/it]"
     ]
    },
    {
     "name": "stdout",
     "output_type": "stream",
     "text": [
      "0.2 162.6 0.025130148077874587 5.960464477539063e-09 0.44293661483362234\n"
     ]
    },
    {
     "name": "stderr",
     "output_type": "stream",
     "text": [
      "  9%|▉         | 909/9766 [42:55<10:06:57,  4.11s/it]"
     ]
    },
    {
     "name": "stdout",
     "output_type": "stream",
     "text": [
      "0.6 86.2 0.029555577696218128 7.030817108290127e-06 0.4340054759397395\n"
     ]
    },
    {
     "name": "stderr",
     "output_type": "stream",
     "text": [
      "  9%|▉         | 912/9766 [43:04<9:20:34,  3.80s/it] "
     ]
    },
    {
     "name": "stdout",
     "output_type": "stream",
     "text": [
      "0.7 68.2 0.03756874024244191 1.910857216571752e-05 0.5132722382041478\n"
     ]
    },
    {
     "name": "stderr",
     "output_type": "stream",
     "text": [
      "  9%|▉         | 915/9766 [43:16<10:40:31,  4.34s/it]"
     ]
    },
    {
     "name": "stdout",
     "output_type": "stream",
     "text": [
      "0.5 106.6 0.01570843988084137 4.071072947336551e-09 0.470918681758005\n"
     ]
    },
    {
     "name": "stderr",
     "output_type": "stream",
     "text": [
      "  9%|▉         | 919/9766 [43:30<10:05:21,  4.11s/it]"
     ]
    },
    {
     "name": "stdout",
     "output_type": "stream",
     "text": [
      "0.5 106.0 0.06692983538960244 4.1011155710273604e-05 0.41834443472577076\n"
     ]
    },
    {
     "name": "stderr",
     "output_type": "stream",
     "text": [
      "  9%|▉         | 923/9766 [43:46<12:17:20,  5.00s/it]"
     ]
    },
    {
     "name": "stdout",
     "output_type": "stream",
     "text": [
      "0.1 180.8 0.06067359315223623 1.4901161193847657e-09 0.459524987400171\n"
     ]
    },
    {
     "name": "stderr",
     "output_type": "stream",
     "text": [
      "  9%|▉         | 927/9766 [44:01<11:26:21,  4.66s/it]"
     ]
    },
    {
     "name": "stdout",
     "output_type": "stream",
     "text": [
      "0.3 143.8 0.03663970543934354 7.031082124813134e-06 0.45801668894499004\n"
     ]
    },
    {
     "name": "stderr",
     "output_type": "stream",
     "text": [
      " 10%|▉         | 931/9766 [44:13<9:38:41,  3.93s/it] "
     ]
    },
    {
     "name": "stdout",
     "output_type": "stream",
     "text": [
      "0.5 104.4 0.028306849454291398 7.0307730169147075e-06 0.44397413173805633\n"
     ]
    },
    {
     "name": "stderr",
     "output_type": "stream",
     "text": [
      " 10%|▉         | 936/9766 [44:28<9:16:21,  3.78s/it]"
     ]
    },
    {
     "name": "stdout",
     "output_type": "stream",
     "text": [
      "0.4 126.2 0.018849099990599333 2.1073424255447016e-09 0.6749873564329778\n"
     ]
    },
    {
     "name": "stderr",
     "output_type": "stream",
     "text": [
      " 10%|▉         | 940/9766 [44:41<10:06:50,  4.13s/it]"
     ]
    },
    {
     "name": "stdout",
     "output_type": "stream",
     "text": [
      "0.5 104.8 0.05162751264351675 1.4050457229011374e-05 0.40937957487692545\n"
     ]
    },
    {
     "name": "stderr",
     "output_type": "stream",
     "text": [
      " 10%|▉         | 944/9766 [44:55<9:59:23,  4.08s/it] "
     ]
    },
    {
     "name": "stdout",
     "output_type": "stream",
     "text": [
      "0.5 107.0 0.0415682364817791 7.027758687368315e-06 0.5920388042435525\n"
     ]
    },
    {
     "name": "stderr",
     "output_type": "stream",
     "text": [
      " 10%|▉         | 948/9766 [45:09<10:44:30,  4.39s/it]"
     ]
    },
    {
     "name": "stdout",
     "output_type": "stream",
     "text": [
      "0.4 125.2 0.029827154276250017 7.025918994851408e-06 0.4708064805424124\n"
     ]
    },
    {
     "name": "stderr",
     "output_type": "stream",
     "text": [
      " 10%|▉         | 951/9766 [45:21<11:45:46,  4.80s/it]"
     ]
    },
    {
     "name": "stdout",
     "output_type": "stream",
     "text": [
      "0.3 143.4 0.044070319416801715 1.7776060439339565e-05 0.5480980766231708\n"
     ]
    },
    {
     "name": "stderr",
     "output_type": "stream",
     "text": [
      " 10%|▉         | 954/9766 [45:37<14:11:50,  5.80s/it]"
     ]
    },
    {
     "name": "stdout",
     "output_type": "stream",
     "text": [
      "0.0 200.0 0.06654834490934411 5.7285041832142925e-05 0.30765909264049757\n"
     ]
    },
    {
     "name": "stderr",
     "output_type": "stream",
     "text": [
      " 10%|▉         | 958/9766 [45:52<11:45:58,  4.81s/it]"
     ]
    },
    {
     "name": "stdout",
     "output_type": "stream",
     "text": [
      "0.3 142.4 0.033058456113466035 5.0524806874619724e-05 0.5078638193820648\n"
     ]
    },
    {
     "name": "stderr",
     "output_type": "stream",
     "text": [
      " 10%|▉         | 962/9766 [46:06<10:55:15,  4.47s/it]"
     ]
    },
    {
     "name": "stdout",
     "output_type": "stream",
     "text": [
      "0.4 124.0 0.025319985136627775 1.8849654248260794e-05 0.4269941044326041\n"
     ]
    },
    {
     "name": "stderr",
     "output_type": "stream",
     "text": [
      " 10%|▉         | 966/9766 [46:23<12:41:18,  5.19s/it]"
     ]
    },
    {
     "name": "stdout",
     "output_type": "stream",
     "text": [
      "0.2 163.2 0.02544433120351569 3.141651817177086e-05 0.39420575060452173\n"
     ]
    },
    {
     "name": "stderr",
     "output_type": "stream",
     "text": [
      " 10%|▉         | 970/9766 [46:37<11:35:12,  4.74s/it]"
     ]
    },
    {
     "name": "stdout",
     "output_type": "stream",
     "text": [
      "0.4 128.4 0.06860732719854964 3.082785355327886e-05 0.4002351283495546\n"
     ]
    },
    {
     "name": "stderr",
     "output_type": "stream",
     "text": [
      " 10%|▉         | 974/9766 [46:52<11:10:49,  4.58s/it]"
     ]
    },
    {
     "name": "stdout",
     "output_type": "stream",
     "text": [
      "0.3 143.4 0.070436756411594 2.5379429529938695e-05 0.5337981177524976\n"
     ]
    },
    {
     "name": "stderr",
     "output_type": "stream",
     "text": [
      " 10%|█         | 979/9766 [47:07<9:33:01,  3.91s/it] "
     ]
    },
    {
     "name": "stdout",
     "output_type": "stream",
     "text": [
      "0.5 105.2 0.05052609483324162 1.2570585243437747e-05 0.43828415488908706\n"
     ]
    },
    {
     "name": "stderr",
     "output_type": "stream",
     "text": [
      " 10%|█         | 983/9766 [47:19<8:50:47,  3.63s/it]"
     ]
    },
    {
     "name": "stdout",
     "output_type": "stream",
     "text": [
      "0.7 68.8 0.012568400007930261 6.282099641413864e-06 0.47370269967556766\n"
     ]
    },
    {
     "name": "stderr",
     "output_type": "stream",
     "text": [
      " 10%|█         | 989/9766 [47:34<7:49:49,  3.21s/it]"
     ]
    },
    {
     "name": "stdout",
     "output_type": "stream",
     "text": [
      "0.7 69.8 0.023968803704516973 1.2568478077709686e-05 0.5589146115070133\n"
     ]
    },
    {
     "name": "stderr",
     "output_type": "stream",
     "text": [
      " 10%|█         | 994/9766 [47:48<8:22:38,  3.44s/it]"
     ]
    },
    {
     "name": "stdout",
     "output_type": "stream",
     "text": [
      "0.6 87.0 0.022152124133204394 6.287399872695049e-06 0.43894398440731786\n"
     ]
    },
    {
     "name": "stderr",
     "output_type": "stream",
     "text": [
      " 10%|█         | 997/9766 [47:57<8:23:36,  3.45s/it]"
     ]
    },
    {
     "name": "stdout",
     "output_type": "stream",
     "text": [
      "0.8 53.8 0.014054395403873505 1.2568353988504856e-05 0.6026856651030649\n"
     ]
    },
    {
     "name": "stderr",
     "output_type": "stream",
     "text": [
      " 10%|█         | 1000/9766 [48:07<8:47:04,  3.61s/it]"
     ]
    },
    {
     "name": "stdout",
     "output_type": "stream",
     "text": [
      "0.7 69.8 0.032952988326250675 2.5133342960298796e-05 0.4151562271309121\n"
     ]
    },
    {
     "name": "stderr",
     "output_type": "stream",
     "text": [
      " 10%|█         | 1003/9766 [48:16<8:10:40,  3.36s/it]"
     ]
    },
    {
     "name": "stdout",
     "output_type": "stream",
     "text": [
      "0.8 50.6 0.031880987422236204 1.9595260290389758e-05 0.5195773490779447\n"
     ]
    },
    {
     "name": "stderr",
     "output_type": "stream",
     "text": [
      " 10%|█         | 1006/9766 [48:25<7:42:17,  3.17s/it]"
     ]
    },
    {
     "name": "stdout",
     "output_type": "stream",
     "text": [
      "0.9 33.0 0.013012247458793817 7.028753308566119e-06 0.4209881442658718\n"
     ]
    },
    {
     "name": "stderr",
     "output_type": "stream",
     "text": [
      " 10%|█         | 1010/9766 [48:39<9:41:24,  3.98s/it]"
     ]
    },
    {
     "name": "stdout",
     "output_type": "stream",
     "text": [
      "0.4 126.0 0.018847554104573623 3.597458544929467e-09 0.6712864801464697\n"
     ]
    },
    {
     "name": "stderr",
     "output_type": "stream",
     "text": [
      " 10%|█         | 1013/9766 [48:46<7:13:53,  2.97s/it]"
     ]
    },
    {
     "name": "stdout",
     "output_type": "stream",
     "text": [
      "1.0 13.6 7.560267231671845e-06 3.3320009373125284e-09 0.4359659903669808\n"
     ]
    },
    {
     "name": "stderr",
     "output_type": "stream",
     "text": [
      " 10%|█         | 1017/9766 [48:59<9:23:02,  3.86s/it]"
     ]
    },
    {
     "name": "stdout",
     "output_type": "stream",
     "text": [
      "0.4 124.6 0.01885072440922067 0.0 0.3173541577109738\n"
     ]
    },
    {
     "name": "stderr",
     "output_type": "stream",
     "text": [
      " 10%|█         | 1022/9766 [49:14<9:45:33,  4.02s/it]"
     ]
    },
    {
     "name": "stdout",
     "output_type": "stream",
     "text": [
      "0.3 142.8 0.02199170750879918 1.2842417247506308e-08 0.5907131302533193\n"
     ]
    },
    {
     "name": "stderr",
     "output_type": "stream",
     "text": [
      " 11%|█         | 1027/9766 [49:26<7:17:09,  3.00s/it]"
     ]
    },
    {
     "name": "stdout",
     "output_type": "stream",
     "text": [
      "0.8 50.0 0.015173097163099747 0.0 0.49737187895373103\n"
     ]
    },
    {
     "name": "stderr",
     "output_type": "stream",
     "text": [
      " 11%|█         | 1030/9766 [49:38<9:40:32,  3.99s/it]"
     ]
    },
    {
     "name": "stdout",
     "output_type": "stream",
     "text": [
      "0.4 124.0 0.018846287978997227 2.580956827951785e-09 0.4525568043456241\n"
     ]
    },
    {
     "name": "stderr",
     "output_type": "stream",
     "text": [
      " 11%|█         | 1033/9766 [49:45<7:13:12,  2.98s/it]"
     ]
    },
    {
     "name": "stdout",
     "output_type": "stream",
     "text": [
      "1.0 10.2 6.142094650576006e-06 2.580956827951785e-09 0.5597282687078896\n"
     ]
    },
    {
     "name": "stderr",
     "output_type": "stream",
     "text": [
      " 11%|█         | 1037/9766 [50:00<10:22:16,  4.28s/it]"
     ]
    },
    {
     "name": "stdout",
     "output_type": "stream",
     "text": [
      "0.3 143.6 0.02198863988851948 6.664001874625057e-09 0.3731942568916528\n"
     ]
    },
    {
     "name": "stderr",
     "output_type": "stream",
     "text": [
      " 11%|█         | 1041/9766 [50:14<10:31:26,  4.34s/it]"
     ]
    },
    {
     "name": "stdout",
     "output_type": "stream",
     "text": [
      "0.3 142.2 0.06991943240158835 7.0242409572880884e-06 0.3177687466565952\n"
     ]
    },
    {
     "name": "stderr",
     "output_type": "stream",
     "text": [
      " 11%|█         | 1045/9766 [50:24<8:00:42,  3.31s/it] "
     ]
    },
    {
     "name": "stdout",
     "output_type": "stream",
     "text": [
      "0.8 51.0 0.012033319959427708 2.9802322387695314e-09 0.46812888998109\n"
     ]
    },
    {
     "name": "stderr",
     "output_type": "stream",
     "text": [
      " 11%|█         | 1049/9766 [50:40<11:21:05,  4.69s/it]"
     ]
    },
    {
     "name": "stdout",
     "output_type": "stream",
     "text": [
      "0.1 180.2 0.0376985452794238 2.1073424255447016e-09 0.3171976471764333\n"
     ]
    },
    {
     "name": "stderr",
     "output_type": "stream",
     "text": [
      " 11%|█         | 1053/9766 [50:54<10:29:44,  4.34s/it]"
     ]
    },
    {
     "name": "stdout",
     "output_type": "stream",
     "text": [
      "0.4 125.2 0.01885125545710741 0.0 0.43653323320778475\n"
     ]
    },
    {
     "name": "stderr",
     "output_type": "stream",
     "text": [
      " 11%|█         | 1056/9766 [51:03<8:44:48,  3.62s/it] "
     ]
    },
    {
     "name": "stdout",
     "output_type": "stream",
     "text": [
      "0.8 48.0 0.02225545871149619 2.1073424255447016e-09 0.32538498479868183\n"
     ]
    },
    {
     "name": "stderr",
     "output_type": "stream",
     "text": [
      " 11%|█         | 1059/9766 [51:17<11:46:48,  4.87s/it]"
     ]
    },
    {
     "name": "stdout",
     "output_type": "stream",
     "text": [
      "0.2 162.2 0.025128816973767436 7.668531492266019e-09 0.7030745391648547\n"
     ]
    },
    {
     "name": "stderr",
     "output_type": "stream",
     "text": [
      " 11%|█         | 1063/9766 [51:33<12:30:58,  5.18s/it]"
     ]
    },
    {
     "name": "stdout",
     "output_type": "stream",
     "text": [
      "0.1 181.4 0.02827383377608934 8.541421305490849e-09 0.6684294835934022\n"
     ]
    },
    {
     "name": "stderr",
     "output_type": "stream",
     "text": [
      " 11%|█         | 1067/9766 [51:45<9:14:56,  3.83s/it] "
     ]
    },
    {
     "name": "stdout",
     "output_type": "stream",
     "text": [
      "0.7 66.8 0.009429368255553842 2.1073424255447016e-09 0.39263984950852915\n"
     ]
    },
    {
     "name": "stderr",
     "output_type": "stream",
     "text": [
      " 11%|█         | 1071/9766 [52:00<10:41:37,  4.43s/it]"
     ]
    },
    {
     "name": "stdout",
     "output_type": "stream",
     "text": [
      "0.4 124.6 0.018851147873574538 1.4901161193847657e-09 0.5712587949024512\n"
     ]
    },
    {
     "name": "stderr",
     "output_type": "stream",
     "text": [
      " 11%|█         | 1074/9766 [52:09<8:45:06,  3.62s/it] "
     ]
    },
    {
     "name": "stdout",
     "output_type": "stream",
     "text": [
      "0.8 49.2 0.03306299430116376 1.4049364468740508e-05 0.4195427712426135\n"
     ]
    },
    {
     "name": "stderr",
     "output_type": "stream",
     "text": [
      " 11%|█         | 1077/9766 [52:20<10:15:14,  4.25s/it]"
     ]
    },
    {
     "name": "stdout",
     "output_type": "stream",
     "text": [
      "0.4 124.2 0.03348664112326705 4.6882992534964865e-09 0.4661230736198017\n"
     ]
    },
    {
     "name": "stderr",
     "output_type": "stream",
     "text": [
      " 11%|█         | 1081/9766 [52:33<9:22:38,  3.89s/it] "
     ]
    },
    {
     "name": "stdout",
     "output_type": "stream",
     "text": [
      "0.7 68.4 0.009428466220226351 4.470348358154297e-09 0.41380419804344815\n"
     ]
    },
    {
     "name": "stderr",
     "output_type": "stream",
     "text": [
      " 11%|█         | 1085/9766 [52:43<7:22:58,  3.06s/it]"
     ]
    },
    {
     "name": "stdout",
     "output_type": "stream",
     "text": [
      "0.9 31.4 0.012508989969337109 7.029162483726848e-06 0.34628120036369353\n"
     ]
    },
    {
     "name": "stderr",
     "output_type": "stream",
     "text": [
      " 11%|█         | 1088/9766 [52:50<6:27:44,  2.68s/it]"
     ]
    },
    {
     "name": "stdout",
     "output_type": "stream",
     "text": [
      "1.0 9.4 4.885696833698536e-06 1.4901161193847657e-09 0.3649282368108987\n"
     ]
    },
    {
     "name": "stderr",
     "output_type": "stream",
     "text": [
      " 11%|█         | 1091/9766 [53:03<10:26:14,  4.33s/it]"
     ]
    },
    {
     "name": "stdout",
     "output_type": "stream",
     "text": [
      "0.3 144.2 0.02199331590675558 0.0 0.5013899167594587\n"
     ]
    },
    {
     "name": "stderr",
     "output_type": "stream",
     "text": [
      " 11%|█         | 1095/9766 [53:16<9:25:42,  3.91s/it] "
     ]
    },
    {
     "name": "stdout",
     "output_type": "stream",
     "text": [
      "0.5 105.0 0.015713461366232022 4.470348358154297e-09 0.23717118728566317\n"
     ]
    },
    {
     "name": "stderr",
     "output_type": "stream",
     "text": [
      " 11%|█         | 1098/9766 [53:26<9:20:31,  3.88s/it]"
     ]
    },
    {
     "name": "stdout",
     "output_type": "stream",
     "text": [
      "0.6 87.4 0.02513758567582588 2.1073424255447016e-09 0.40060464888622577\n"
     ]
    },
    {
     "name": "stderr",
     "output_type": "stream",
     "text": [
      " 11%|█▏        | 1101/9766 [53:34<7:41:03,  3.19s/it]"
     ]
    },
    {
     "name": "stdout",
     "output_type": "stream",
     "text": [
      "0.9 31.0 0.006987975417878524 7.028933685457331e-06 0.3799315624993209\n"
     ]
    },
    {
     "name": "stderr",
     "output_type": "stream",
     "text": [
      " 11%|█▏        | 1104/9766 [53:41<6:41:51,  2.78s/it]"
     ]
    },
    {
     "name": "stdout",
     "output_type": "stream",
     "text": [
      "1.0 12.2 4.512405079415044e-06 4.071072947336551e-09 0.42958807656814224\n"
     ]
    },
    {
     "name": "stderr",
     "output_type": "stream",
     "text": [
      " 11%|█▏        | 1107/9766 [53:49<6:17:31,  2.62s/it]"
     ]
    },
    {
     "name": "stdout",
     "output_type": "stream",
     "text": [
      "1.0 10.0 7.15941940194114e-06 0.0 0.3850385090907558\n"
     ]
    },
    {
     "name": "stderr",
     "output_type": "stream",
     "text": [
      " 11%|█▏        | 1110/9766 [54:02<10:24:26,  4.33s/it]"
     ]
    },
    {
     "name": "stdout",
     "output_type": "stream",
     "text": [
      "0.2 162.8 0.025132153011348912 3.3320009373125284e-09 0.4020406972765259\n"
     ]
    },
    {
     "name": "stderr",
     "output_type": "stream",
     "text": [
      " 11%|█▏        | 1113/9766 [54:13<10:24:56,  4.33s/it]"
     ]
    },
    {
     "name": "stdout",
     "output_type": "stream",
     "text": [
      "0.5 108.0 0.015716632672523066 8.142145894673102e-09 0.5514588632175426\n"
     ]
    },
    {
     "name": "stderr",
     "output_type": "stream",
     "text": [
      " 11%|█▏        | 1116/9766 [54:21<8:16:36,  3.44s/it] "
     ]
    },
    {
     "name": "stdout",
     "output_type": "stream",
     "text": [
      "0.9 31.0 0.02107789860804812 0.0 0.433907081890064\n"
     ]
    },
    {
     "name": "stderr",
     "output_type": "stream",
     "text": [
      " 11%|█▏        | 1119/9766 [54:29<6:50:41,  2.85s/it]"
     ]
    },
    {
     "name": "stdout",
     "output_type": "stream",
     "text": [
      "1.0 10.4 2.973733466921257e-06 0.0 0.3591309294024771\n"
     ]
    },
    {
     "name": "stderr",
     "output_type": "stream",
     "text": [
      " 11%|█▏        | 1122/9766 [54:36<6:20:45,  2.64s/it]"
     ]
    },
    {
     "name": "stdout",
     "output_type": "stream",
     "text": [
      "1.0 11.6 5.494340033253945e-06 1.4901161193847657e-09 0.5156786704397434\n"
     ]
    },
    {
     "name": "stderr",
     "output_type": "stream",
     "text": [
      " 12%|█▏        | 1125/9766 [54:43<6:07:36,  2.55s/it]"
     ]
    },
    {
     "name": "stdout",
     "output_type": "stream",
     "text": [
      "1.0 13.8 4.3950359205397355e-06 1.4901161193847657e-09 0.5183443952388793\n"
     ]
    },
    {
     "name": "stderr",
     "output_type": "stream",
     "text": [
      " 12%|█▏        | 1128/9766 [54:51<6:08:15,  2.56s/it]"
     ]
    },
    {
     "name": "stdout",
     "output_type": "stream",
     "text": [
      "1.0 12.2 6.67893009309711e-06 1.4901161193847657e-09 0.5193398397450889\n"
     ]
    },
    {
     "name": "stderr",
     "output_type": "stream",
     "text": [
      " 12%|█▏        | 1131/9766 [54:59<6:38:44,  2.77s/it]"
     ]
    },
    {
     "name": "stdout",
     "output_type": "stream",
     "text": [
      "0.9 32.0 0.0141710446016793 1.405199147486022e-05 0.5953994259632844\n"
     ]
    },
    {
     "name": "stderr",
     "output_type": "stream",
     "text": [
      " 12%|█▏        | 1134/9766 [55:06<6:17:25,  2.62s/it]"
     ]
    },
    {
     "name": "stdout",
     "output_type": "stream",
     "text": [
      "1.0 11.8 3.070464788687533e-06 0.0 0.3832525417622306\n"
     ]
    },
    {
     "name": "stderr",
     "output_type": "stream",
     "text": [
      " 12%|█▏        | 1137/9766 [55:13<6:17:06,  2.62s/it]"
     ]
    },
    {
     "name": "stdout",
     "output_type": "stream",
     "text": [
      "1.0 11.4 6.348147076090664e-06 0.0 0.5285512196446194\n"
     ]
    },
    {
     "name": "stderr",
     "output_type": "stream",
     "text": [
      " 12%|█▏        | 1140/9766 [55:24<8:25:05,  3.51s/it]"
     ]
    },
    {
     "name": "stdout",
     "output_type": "stream",
     "text": [
      "0.6 87.0 0.012568260621766244 0.0 0.4523204386313234\n"
     ]
    },
    {
     "name": "stderr",
     "output_type": "stream",
     "text": [
      " 12%|█▏        | 1143/9766 [55:32<7:01:02,  2.93s/it]"
     ]
    },
    {
     "name": "stdout",
     "output_type": "stream",
     "text": [
      "1.0 11.2 3.910476536728479e-06 1.4901161193847657e-09 0.5263575870316088\n"
     ]
    },
    {
     "name": "stderr",
     "output_type": "stream",
     "text": [
      " 12%|█▏        | 1146/9766 [55:39<6:31:23,  2.72s/it]"
     ]
    },
    {
     "name": "stdout",
     "output_type": "stream",
     "text": [
      "1.0 12.0 5.481464948175204e-06 1.4901161193847657e-09 0.4779049809730525\n"
     ]
    },
    {
     "name": "stderr",
     "output_type": "stream",
     "text": [
      " 12%|█▏        | 1149/9766 [55:47<6:21:34,  2.66s/it]"
     ]
    },
    {
     "name": "stdout",
     "output_type": "stream",
     "text": [
      "1.0 11.6 3.8807046722701035e-06 0.0 0.3406968661312577\n"
     ]
    },
    {
     "name": "stderr",
     "output_type": "stream",
     "text": [
      " 12%|█▏        | 1152/9766 [55:58<8:56:44,  3.74s/it]"
     ]
    },
    {
     "name": "stdout",
     "output_type": "stream",
     "text": [
      "0.5 107.6 0.01570726045857606 4.6882992534964865e-09 0.6079881583973131\n"
     ]
    },
    {
     "name": "stderr",
     "output_type": "stream",
     "text": [
      " 12%|█▏        | 1155/9766 [56:06<7:22:36,  3.08s/it]"
     ]
    },
    {
     "name": "stdout",
     "output_type": "stream",
     "text": [
      "1.0 13.4 4.117390919756998e-06 5.087574664314233e-09 0.44293117973142515\n"
     ]
    },
    {
     "name": "stderr",
     "output_type": "stream",
     "text": [
      " 12%|█▏        | 1158/9766 [56:13<6:44:27,  2.82s/it]"
     ]
    },
    {
     "name": "stdout",
     "output_type": "stream",
     "text": [
      "1.0 15.4 4.124594163338411e-06 4.6882992534964865e-09 0.5891349165314977\n"
     ]
    },
    {
     "name": "stderr",
     "output_type": "stream",
     "text": [
      " 12%|█▏        | 1161/9766 [56:21<6:28:18,  2.71s/it]"
     ]
    },
    {
     "name": "stdout",
     "output_type": "stream",
     "text": [
      "1.0 15.8 1.1588213182460384e-05 9.984030712600864e-09 0.5344383211795328\n"
     ]
    },
    {
     "name": "stderr",
     "output_type": "stream",
     "text": [
      " 12%|█▏        | 1164/9766 [56:30<7:29:45,  3.14s/it]"
     ]
    },
    {
     "name": "stdout",
     "output_type": "stream",
     "text": [
      "0.8 51.8 0.03320351013954055 2.5394014160147302e-05 0.5225368353932461\n"
     ]
    },
    {
     "name": "stderr",
     "output_type": "stream",
     "text": [
      " 12%|█▏        | 1167/9766 [56:38<6:50:43,  2.87s/it]"
     ]
    },
    {
     "name": "stdout",
     "output_type": "stream",
     "text": [
      "1.0 14.6 6.173545129143132e-06 2.580956827951785e-09 0.614691962383081\n"
     ]
    },
    {
     "name": "stderr",
     "output_type": "stream",
     "text": [
      " 12%|█▏        | 1170/9766 [56:49<8:58:21,  3.76s/it]"
     ]
    },
    {
     "name": "stdout",
     "output_type": "stream",
     "text": [
      "0.5 105.0 0.015711463929940876 0.0 0.4977241386468275\n"
     ]
    },
    {
     "name": "stderr",
     "output_type": "stream",
     "text": [
      " 12%|█▏        | 1173/9766 [57:03<11:31:45,  4.83s/it]"
     ]
    },
    {
     "name": "stdout",
     "output_type": "stream",
     "text": [
      "0.2 161.4 0.02513524707551129 1.4901161193847657e-09 0.40657961200198417\n"
     ]
    },
    {
     "name": "stderr",
     "output_type": "stream",
     "text": [
      " 12%|█▏        | 1176/9766 [57:15<11:15:16,  4.72s/it]"
     ]
    },
    {
     "name": "stdout",
     "output_type": "stream",
     "text": [
      "0.4 125.4 0.018850080124854292 4.470348358154297e-09 0.5586585394071394\n"
     ]
    },
    {
     "name": "stderr",
     "output_type": "stream",
     "text": [
      " 12%|█▏        | 1179/9766 [57:26<11:02:12,  4.63s/it]"
     ]
    },
    {
     "name": "stdout",
     "output_type": "stream",
     "text": [
      "0.4 125.8 0.018855476795445372 7.539935221430191e-09 0.6594866821896285\n"
     ]
    },
    {
     "name": "stderr",
     "output_type": "stream",
     "text": [
      " 12%|█▏        | 1181/9766 [57:32<8:58:25,  3.76s/it] "
     ]
    },
    {
     "name": "stdout",
     "output_type": "stream",
     "text": [
      "1.0 13.8 4.832157077015133e-06 3.3320009373125284e-09 0.6564448991809192\n"
     ]
    },
    {
     "name": "stderr",
     "output_type": "stream",
     "text": [
      " 12%|█▏        | 1184/9766 [57:42<8:50:21,  3.71s/it]"
     ]
    },
    {
     "name": "stdout",
     "output_type": "stream",
     "text": [
      "0.7 69.2 0.052371870593114 1.405200271115019e-05 0.48096728350546475\n"
     ]
    },
    {
     "name": "stderr",
     "output_type": "stream",
     "text": [
      " 12%|█▏        | 1187/9766 [57:49<7:00:57,  2.94s/it]"
     ]
    },
    {
     "name": "stdout",
     "output_type": "stream",
     "text": [
      "1.0 12.0 7.586787414611507e-06 3.597458544929467e-09 0.5349851648991392\n"
     ]
    },
    {
     "name": "stderr",
     "output_type": "stream",
     "text": [
      " 12%|█▏        | 1190/9766 [57:57<6:21:05,  2.67s/it]"
     ]
    },
    {
     "name": "stdout",
     "output_type": "stream",
     "text": [
      "1.0 11.0 4.071121488619431e-06 0.0 0.5318629726753198\n"
     ]
    },
    {
     "name": "stderr",
     "output_type": "stream",
     "text": [
      " 12%|█▏        | 1193/9766 [58:05<6:53:59,  2.90s/it]"
     ]
    },
    {
     "name": "stdout",
     "output_type": "stream",
     "text": [
      "0.9 30.8 0.017754067716648406 7.0266137603863475e-06 0.46987356041566253\n"
     ]
    },
    {
     "name": "stderr",
     "output_type": "stream",
     "text": [
      " 12%|█▏        | 1196/9766 [58:13<6:35:24,  2.77s/it]"
     ]
    },
    {
     "name": "stdout",
     "output_type": "stream",
     "text": [
      "1.0 13.2 6.8847546804419535e-06 2.580956827951785e-09 0.5216348017242446\n"
     ]
    },
    {
     "name": "stderr",
     "output_type": "stream",
     "text": [
      " 12%|█▏        | 1199/9766 [58:24<9:11:31,  3.86s/it]"
     ]
    },
    {
     "name": "stdout",
     "output_type": "stream",
     "text": [
      "0.5 103.8 0.025397928733030616 1.2569350790825427e-05 0.41342851030705613\n"
     ]
    },
    {
     "name": "stderr",
     "output_type": "stream",
     "text": [
      " 12%|█▏        | 1202/9766 [58:32<7:31:45,  3.16s/it]"
     ]
    },
    {
     "name": "stdout",
     "output_type": "stream",
     "text": [
      "1.0 12.6 8.965966314600163e-06 8.630775929997211e-09 0.42698677108251415\n"
     ]
    },
    {
     "name": "stderr",
     "output_type": "stream",
     "text": [
      " 12%|█▏        | 1205/9766 [58:44<9:41:25,  4.07s/it]"
     ]
    },
    {
     "name": "stdout",
     "output_type": "stream",
     "text": [
      "0.5 106.2 0.026617536486680065 0.0 0.4860762922710071\n"
     ]
    },
    {
     "name": "stderr",
     "output_type": "stream",
     "text": [
      " 12%|█▏        | 1208/9766 [58:55<9:41:03,  4.07s/it]"
     ]
    },
    {
     "name": "stdout",
     "output_type": "stream",
     "text": [
      "0.5 105.2 0.030169411351530707 7.02841213547477e-06 0.3207148613466123\n"
     ]
    },
    {
     "name": "stderr",
     "output_type": "stream",
     "text": [
      " 12%|█▏        | 1211/9766 [59:03<8:03:01,  3.39s/it]"
     ]
    },
    {
     "name": "stdout",
     "output_type": "stream",
     "text": [
      "0.8 45.0 0.006285158181984182 1.4901161193847657e-09 0.28589098717136546\n"
     ]
    },
    {
     "name": "stderr",
     "output_type": "stream",
     "text": [
      " 12%|█▏        | 1215/9766 [59:15<8:17:48,  3.49s/it]"
     ]
    },
    {
     "name": "stdout",
     "output_type": "stream",
     "text": [
      "0.6 88.0 0.012571675683775324 4.470348358154297e-09 0.5669374888802328\n"
     ]
    },
    {
     "name": "stderr",
     "output_type": "stream",
     "text": [
      " 12%|█▏        | 1218/9766 [59:23<7:13:26,  3.04s/it]"
     ]
    },
    {
     "name": "stdout",
     "output_type": "stream",
     "text": [
      "0.9 33.6 0.017777236356310185 3.597458544929467e-09 0.4977994783926862\n"
     ]
    },
    {
     "name": "stderr",
     "output_type": "stream",
     "text": [
      " 13%|█▎        | 1221/9766 [59:33<8:35:47,  3.62s/it]"
     ]
    },
    {
     "name": "stdout",
     "output_type": "stream",
     "text": [
      "0.6 87.8 0.047837667140488246 1.9109545851955774e-05 0.6191337256309909\n"
     ]
    },
    {
     "name": "stderr",
     "output_type": "stream",
     "text": [
      " 13%|█▎        | 1224/9766 [59:42<7:52:06,  3.32s/it]"
     ]
    },
    {
     "name": "stdout",
     "output_type": "stream",
     "text": [
      "0.8 51.4 0.006288959011959393 1.4901161193847657e-09 0.5463533301977956\n"
     ]
    },
    {
     "name": "stderr",
     "output_type": "stream",
     "text": [
      " 13%|█▎        | 1227/9766 [59:55<10:45:28,  4.54s/it]"
     ]
    },
    {
     "name": "stdout",
     "output_type": "stream",
     "text": [
      "0.2 162.0 0.08652769172731854 2.1076242754165954e-05 0.3462633218880673\n"
     ]
    },
    {
     "name": "stderr",
     "output_type": "stream",
     "text": [
      " 13%|█▎        | 1230/9766 [1:00:05<9:37:12,  4.06s/it]"
     ]
    },
    {
     "name": "stdout",
     "output_type": "stream",
     "text": [
      "0.6 85.6 0.02830665843563419 7.025300168354217e-06 0.5472012327122797\n"
     ]
    },
    {
     "name": "stderr",
     "output_type": "stream",
     "text": [
      " 13%|█▎        | 1233/9766 [1:00:16<10:12:23,  4.31s/it]"
     ]
    },
    {
     "name": "stdout",
     "output_type": "stream",
     "text": [
      "0.4 125.0 0.062409125670059365 2.2872051625923267e-05 0.47424118022409567\n"
     ]
    },
    {
     "name": "stderr",
     "output_type": "stream",
     "text": [
      " 13%|█▎        | 1236/9766 [1:00:26<9:22:59,  3.96s/it] "
     ]
    },
    {
     "name": "stdout",
     "output_type": "stream",
     "text": [
      "0.6 86.8 0.02069351838803371 7.0268777671664555e-06 0.4393637452109795\n"
     ]
    },
    {
     "name": "stderr",
     "output_type": "stream",
     "text": [
      " 13%|█▎        | 1239/9766 [1:00:39<11:31:46,  4.87s/it]"
     ]
    },
    {
     "name": "stdout",
     "output_type": "stream",
     "text": [
      "0.3 143.8 0.04669313011039718 2.8106376973138965e-05 0.5059385478168072\n"
     ]
    },
    {
     "name": "stderr",
     "output_type": "stream",
     "text": [
      " 13%|█▎        | 1242/9766 [1:00:48<9:01:42,  3.81s/it] "
     ]
    },
    {
     "name": "stdout",
     "output_type": "stream",
     "text": [
      "0.9 31.0 0.020104017005321204 7.029108198512759e-06 0.41212505947070605\n"
     ]
    },
    {
     "name": "stderr",
     "output_type": "stream",
     "text": [
      " 13%|█▎        | 1245/9766 [1:00:56<7:20:27,  3.10s/it]"
     ]
    },
    {
     "name": "stdout",
     "output_type": "stream",
     "text": [
      "1.0 11.8 5.7911698335250485e-06 1.4901161193847657e-09 0.4993354006950801\n"
     ]
    },
    {
     "name": "stderr",
     "output_type": "stream",
     "text": [
      " 13%|█▎        | 1248/9766 [1:01:05<7:21:22,  3.11s/it]"
     ]
    },
    {
     "name": "stdout",
     "output_type": "stream",
     "text": [
      "0.9 31.6 0.020120747945082437 1.4901161193847657e-09 0.5872107058241869\n"
     ]
    },
    {
     "name": "stderr",
     "output_type": "stream",
     "text": [
      " 13%|█▎        | 1251/9766 [1:01:13<7:01:27,  2.97s/it]"
     ]
    },
    {
     "name": "stdout",
     "output_type": "stream",
     "text": [
      "1.0 14.2 6.640135136979421e-06 1.4901161193847657e-09 0.5023780148923217\n"
     ]
    },
    {
     "name": "stderr",
     "output_type": "stream",
     "text": [
      " 13%|█▎        | 1254/9766 [1:01:21<6:34:57,  2.78s/it]"
     ]
    },
    {
     "name": "stdout",
     "output_type": "stream",
     "text": [
      "1.0 10.0 2.2957586503656983e-06 1.4901161193847657e-09 0.32655228451394824\n"
     ]
    },
    {
     "name": "stderr",
     "output_type": "stream",
     "text": [
      " 13%|█▎        | 1257/9766 [1:01:29<6:50:48,  2.90s/it]"
     ]
    },
    {
     "name": "stdout",
     "output_type": "stream",
     "text": [
      "1.0 13.2 3.87684484895034e-06 0.0 0.3824425835295612\n"
     ]
    },
    {
     "name": "stderr",
     "output_type": "stream",
     "text": [
      " 13%|█▎        | 1260/9766 [1:01:43<10:30:51,  4.45s/it]"
     ]
    },
    {
     "name": "stdout",
     "output_type": "stream",
     "text": [
      "0.3 143.8 0.02199292788157477 4.470348358154297e-09 0.3821633889446884\n"
     ]
    },
    {
     "name": "stderr",
     "output_type": "stream",
     "text": [
      " 13%|█▎        | 1263/9766 [1:01:51<7:52:00,  3.33s/it] "
     ]
    },
    {
     "name": "stdout",
     "output_type": "stream",
     "text": [
      "1.0 15.4 6.539746484575302e-06 2.9802322387695314e-09 0.5088512142913831\n"
     ]
    },
    {
     "name": "stderr",
     "output_type": "stream",
     "text": [
      " 13%|█▎        | 1266/9766 [1:02:01<8:30:21,  3.60s/it]"
     ]
    },
    {
     "name": "stdout",
     "output_type": "stream",
     "text": [
      "0.7 69.0 0.024032769572576863 7.028147408404589e-06 0.48010302587702175\n"
     ]
    },
    {
     "name": "stderr",
     "output_type": "stream",
     "text": [
      " 13%|█▎        | 1268/9766 [1:02:07<8:07:23,  3.44s/it]"
     ]
    },
    {
     "name": "stdout",
     "output_type": "stream",
     "text": [
      "0.9 30.6 0.01290372955060472 7.0280155337796945e-06 0.30728293364283177\n"
     ]
    },
    {
     "name": "stderr",
     "output_type": "stream",
     "text": [
      " 13%|█▎        | 1270/9766 [1:02:13<7:45:13,  3.29s/it]"
     ]
    },
    {
     "name": "stdout",
     "output_type": "stream",
     "text": [
      "0.9 29.0 0.011318057593525378 1.4054594257632006e-05 0.465719862338177\n"
     ]
    },
    {
     "name": "stderr",
     "output_type": "stream",
     "text": [
      " 13%|█▎        | 1273/9766 [1:02:23<8:20:08,  3.53s/it]"
     ]
    },
    {
     "name": "stdout",
     "output_type": "stream",
     "text": [
      "0.7 69.6 0.035992155539103794 2.662068121551359e-05 0.4887118668713839\n"
     ]
    },
    {
     "name": "stderr",
     "output_type": "stream",
     "text": [
      " 13%|█▎        | 1276/9766 [1:02:35<10:06:01,  4.28s/it]"
     ]
    },
    {
     "name": "stdout",
     "output_type": "stream",
     "text": [
      "0.4 125.0 0.03545708892478659 2.1077687263339752e-05 0.47761681103498244\n"
     ]
    },
    {
     "name": "stderr",
     "output_type": "stream",
     "text": [
      " 13%|█▎        | 1279/9766 [1:02:48<11:31:38,  4.89s/it]"
     ]
    },
    {
     "name": "stdout",
     "output_type": "stream",
     "text": [
      "0.2 163.2 0.042895295797859105 2.7359412446292668e-05 0.6911916482514963\n"
     ]
    },
    {
     "name": "stderr",
     "output_type": "stream",
     "text": [
      " 13%|█▎        | 1282/9766 [1:03:00<11:30:56,  4.89s/it]"
     ]
    },
    {
     "name": "stdout",
     "output_type": "stream",
     "text": [
      "0.3 145.2 0.039989034839053465 1.3311826987694821e-05 0.5111739814453382\n"
     ]
    },
    {
     "name": "stderr",
     "output_type": "stream",
     "text": [
      " 13%|█▎        | 1289/9766 [1:03:17<7:37:13,  3.24s/it] "
     ]
    },
    {
     "name": "stdout",
     "output_type": "stream",
     "text": [
      "0.5 105.2 0.043570068863014545 1.3311538153575134e-05 0.36389305649342\n"
     ]
    },
    {
     "name": "stderr",
     "output_type": "stream",
     "text": [
      " 13%|█▎        | 1294/9766 [1:03:30<8:14:33,  3.50s/it]"
     ]
    },
    {
     "name": "stdout",
     "output_type": "stream",
     "text": [
      "0.5 110.6 0.05870266382153507 2.5879415170182474e-05 0.5210334541018631\n"
     ]
    },
    {
     "name": "stderr",
     "output_type": "stream",
     "text": [
      " 13%|█▎        | 1297/9766 [1:03:43<10:25:03,  4.43s/it]"
     ]
    },
    {
     "name": "stdout",
     "output_type": "stream",
     "text": [
      "0.4 123.8 0.061349329932322075 1.3310178361715166e-05 0.43648938826267025\n"
     ]
    },
    {
     "name": "stderr",
     "output_type": "stream",
     "text": [
      " 13%|█▎        | 1300/9766 [1:03:53<9:30:36,  4.04s/it] "
     ]
    },
    {
     "name": "stdout",
     "output_type": "stream",
     "text": [
      "0.6 85.8 0.045640083877469914 2.8098596935673764e-05 0.2781673225735581\n"
     ]
    },
    {
     "name": "stderr",
     "output_type": "stream",
     "text": [
      " 13%|█▎        | 1304/9766 [1:04:08<10:21:55,  4.41s/it]"
     ]
    },
    {
     "name": "stdout",
     "output_type": "stream",
     "text": [
      "0.3 143.6 0.07066326567539108 1.2568452711997254e-05 0.32822656988279436\n"
     ]
    },
    {
     "name": "stderr",
     "output_type": "stream",
     "text": [
      " 13%|█▎        | 1307/9766 [1:04:20<10:52:13,  4.63s/it]"
     ]
    },
    {
     "name": "stdout",
     "output_type": "stream",
     "text": [
      "0.3 143.4 0.07912952125874931 2.809956804339264e-05 0.4556883601453595\n"
     ]
    },
    {
     "name": "stderr",
     "output_type": "stream",
     "text": [
      " 13%|█▎        | 1310/9766 [1:04:31<10:14:53,  4.36s/it]"
     ]
    },
    {
     "name": "stdout",
     "output_type": "stream",
     "text": [
      "0.5 107.2 0.06786424048255012 2.61334038624409e-05 0.4087483835062994\n"
     ]
    },
    {
     "name": "stderr",
     "output_type": "stream",
     "text": [
      " 13%|█▎        | 1313/9766 [1:04:42<10:05:49,  4.30s/it]"
     ]
    },
    {
     "name": "stdout",
     "output_type": "stream",
     "text": [
      "0.5 105.6 0.06711696446061172 1.4050501595815816e-05 0.36703435371897364\n"
     ]
    },
    {
     "name": "stderr",
     "output_type": "stream",
     "text": [
      " 13%|█▎        | 1316/9766 [1:04:54<11:16:57,  4.81s/it]"
     ]
    },
    {
     "name": "stdout",
     "output_type": "stream",
     "text": [
      "0.2 161.4 0.0568280035730304 1.4049232161063739e-05 0.43278291716322786\n"
     ]
    },
    {
     "name": "stderr",
     "output_type": "stream",
     "text": [
      " 14%|█▎        | 1319/9766 [1:05:10<13:25:22,  5.72s/it]"
     ]
    },
    {
     "name": "stdout",
     "output_type": "stream",
     "text": [
      "0.1 180.8 0.06385677211087973 1.8354937390067e-05 0.45671691590133234\n"
     ]
    },
    {
     "name": "stderr",
     "output_type": "stream",
     "text": [
      " 14%|█▎        | 1322/9766 [1:05:24<13:09:57,  5.61s/it]"
     ]
    },
    {
     "name": "stdout",
     "output_type": "stream",
     "text": [
      "0.2 162.4 0.05541587187234701 2.1076804492469084e-05 0.5142918242685331\n"
     ]
    },
    {
     "name": "stderr",
     "output_type": "stream",
     "text": [
      " 14%|█▎        | 1326/9766 [1:05:40<12:49:34,  5.47s/it]"
     ]
    },
    {
     "name": "stdout",
     "output_type": "stream",
     "text": [
      "0.1 180.4 0.032085287458562955 7.024594045389498e-06 0.485202921117445\n"
     ]
    },
    {
     "name": "stderr",
     "output_type": "stream",
     "text": [
      " 14%|█▎        | 1329/9766 [1:05:50<9:39:44,  4.12s/it] "
     ]
    },
    {
     "name": "stdout",
     "output_type": "stream",
     "text": [
      "0.8 48.4 0.021966670137451693 1.404781964449669e-05 0.45090551842629534\n"
     ]
    },
    {
     "name": "stderr",
     "output_type": "stream",
     "text": [
      " 14%|█▎        | 1332/9766 [1:05:57<7:22:35,  3.15s/it]"
     ]
    },
    {
     "name": "stdout",
     "output_type": "stream",
     "text": [
      "1.0 11.6 4.387812730745105e-06 0.0 0.37152466566832937\n"
     ]
    },
    {
     "name": "stderr",
     "output_type": "stream",
     "text": [
      " 14%|█▎        | 1335/9766 [1:06:08<8:33:09,  3.65s/it]"
     ]
    },
    {
     "name": "stdout",
     "output_type": "stream",
     "text": [
      "0.7 65.6 0.00942727198971914 0.0 0.41149870943418526\n"
     ]
    },
    {
     "name": "stderr",
     "output_type": "stream",
     "text": [
      " 14%|█▎        | 1338/9766 [1:06:17<8:19:07,  3.55s/it]"
     ]
    },
    {
     "name": "stdout",
     "output_type": "stream",
     "text": [
      "0.7 66.6 0.02711321481834424 2.107360566726126e-05 0.3128378942954796\n"
     ]
    },
    {
     "name": "stderr",
     "output_type": "stream",
     "text": [
      " 14%|█▎        | 1342/9766 [1:06:27<6:49:40,  2.92s/it]"
     ]
    },
    {
     "name": "stdout",
     "output_type": "stream",
     "text": [
      "0.9 31.0 0.014097282953380457 7.0278823552476315e-06 0.5291721211530198\n"
     ]
    },
    {
     "name": "stderr",
     "output_type": "stream",
     "text": [
      " 14%|█▍        | 1346/9766 [1:06:40<8:27:03,  3.61s/it]"
     ]
    },
    {
     "name": "stdout",
     "output_type": "stream",
     "text": [
      "0.6 87.2 0.06188046575123414 2.7363920200445474e-05 0.43448276847334694\n"
     ]
    },
    {
     "name": "stderr",
     "output_type": "stream",
     "text": [
      " 14%|█▍        | 1350/9766 [1:06:52<8:07:01,  3.47s/it]"
     ]
    },
    {
     "name": "stdout",
     "output_type": "stream",
     "text": [
      "0.7 70.2 0.04803746805393547 1.4048119174263396e-05 0.5542408203283278\n"
     ]
    },
    {
     "name": "stderr",
     "output_type": "stream",
     "text": [
      " 14%|█▍        | 1353/9766 [1:07:04<10:17:48,  4.41s/it]"
     ]
    },
    {
     "name": "stdout",
     "output_type": "stream",
     "text": [
      "0.4 127.8 0.018849452280407908 1.4901161193847657e-09 0.6401524912470618\n"
     ]
    },
    {
     "name": "stderr",
     "output_type": "stream",
     "text": [
      " 14%|█▍        | 1356/9766 [1:07:16<10:22:14,  4.44s/it]"
     ]
    },
    {
     "name": "stdout",
     "output_type": "stream",
     "text": [
      "0.5 105.2 0.09390395205978158 4.977086243952279e-05 0.4284836759817149\n"
     ]
    },
    {
     "name": "stderr",
     "output_type": "stream",
     "text": [
      " 14%|█▍        | 1359/9766 [1:07:27<10:43:30,  4.59s/it]"
     ]
    },
    {
     "name": "stdout",
     "output_type": "stream",
     "text": [
      "0.4 123.8 0.021941465710300805 3.5126054233465296e-05 0.5213954463010475\n"
     ]
    },
    {
     "name": "stderr",
     "output_type": "stream",
     "text": [
      " 14%|█▍        | 1362/9766 [1:07:38<9:52:38,  4.23s/it] "
     ]
    },
    {
     "name": "stdout",
     "output_type": "stream",
     "text": [
      "0.6 87.0 0.0585309872983232 3.240343671191463e-05 0.5916628463564465\n"
     ]
    },
    {
     "name": "stderr",
     "output_type": "stream",
     "text": [
      " 14%|█▍        | 1365/9766 [1:07:48<9:17:08,  3.98s/it]"
     ]
    },
    {
     "name": "stdout",
     "output_type": "stream",
     "text": [
      "0.6 85.8 0.04754308885201618 2.6616723703714453e-05 0.5386764380969717\n"
     ]
    },
    {
     "name": "stderr",
     "output_type": "stream",
     "text": [
      " 14%|█▍        | 1368/9766 [1:07:57<8:22:36,  3.59s/it]"
     ]
    },
    {
     "name": "stdout",
     "output_type": "stream",
     "text": [
      "0.8 50.2 0.02272985601353386 2.2656411685126095e-05 0.5339390205596267\n"
     ]
    },
    {
     "name": "stderr",
     "output_type": "stream",
     "text": [
      " 14%|█▍        | 1370/9766 [1:08:08<10:58:41,  4.71s/it]"
     ]
    },
    {
     "name": "stdout",
     "output_type": "stream",
     "text": [
      "0.4 125.6 0.01885266875362775 8.685033209243699e-09 0.5505287190882739\n"
     ]
    },
    {
     "name": "stderr",
     "output_type": "stream",
     "text": [
      " 14%|█▍        | 1373/9766 [1:08:20<11:09:50,  4.79s/it]"
     ]
    },
    {
     "name": "stdout",
     "output_type": "stream",
     "text": [
      "0.4 124.6 0.01885047106590072 1.4901161193847657e-09 0.5666078146560294\n"
     ]
    },
    {
     "name": "stderr",
     "output_type": "stream",
     "text": [
      " 14%|█▍        | 1376/9766 [1:08:32<10:51:44,  4.66s/it]"
     ]
    },
    {
     "name": "stdout",
     "output_type": "stream",
     "text": [
      "0.5 106.4 0.04471330447173105 7.026657134236212e-06 0.5859262302405497\n"
     ]
    },
    {
     "name": "stderr",
     "output_type": "stream",
     "text": [
      " 14%|█▍        | 1379/9766 [1:08:45<11:32:55,  4.96s/it]"
     ]
    },
    {
     "name": "stdout",
     "output_type": "stream",
     "text": [
      "0.4 124.0 0.031413120968509185 1.1329602062372018e-05 0.5866371026840198\n"
     ]
    },
    {
     "name": "stderr",
     "output_type": "stream",
     "text": [
      " 14%|█▍        | 1382/9766 [1:08:55<9:27:15,  4.06s/it] "
     ]
    },
    {
     "name": "stdout",
     "output_type": "stream",
     "text": [
      "0.8 51.6 0.02526515612288428 1.405402057139304e-05 0.45066287612884637\n"
     ]
    },
    {
     "name": "stderr",
     "output_type": "stream",
     "text": [
      " 14%|█▍        | 1385/9766 [1:09:03<7:17:02,  3.13s/it]"
     ]
    },
    {
     "name": "stdout",
     "output_type": "stream",
     "text": [
      "1.0 14.2 5.182567333402223e-06 2.9802322387695314e-09 0.6150341716971698\n"
     ]
    },
    {
     "name": "stderr",
     "output_type": "stream",
     "text": [
      " 14%|█▍        | 1388/9766 [1:09:11<6:46:46,  2.91s/it]"
     ]
    },
    {
     "name": "stdout",
     "output_type": "stream",
     "text": [
      "1.0 13.8 5.889257110601385e-06 0.0 0.6236044169495798\n"
     ]
    },
    {
     "name": "stderr",
     "output_type": "stream",
     "text": [
      " 14%|█▍        | 1391/9766 [1:09:19<7:02:50,  3.03s/it]"
     ]
    },
    {
     "name": "stdout",
     "output_type": "stream",
     "text": [
      "0.9 29.6 0.017775785937290324 2.1073424255447016e-09 0.4380302873912928\n"
     ]
    },
    {
     "name": "stderr",
     "output_type": "stream",
     "text": [
      " 14%|█▍        | 1394/9766 [1:09:30<8:25:23,  3.62s/it]"
     ]
    },
    {
     "name": "stdout",
     "output_type": "stream",
     "text": [
      "0.7 70.0 0.025270854048595304 1.8853019773341527e-05 0.4920042802188044\n"
     ]
    },
    {
     "name": "stderr",
     "output_type": "stream",
     "text": [
      " 14%|█▍        | 1397/9766 [1:09:40<8:29:06,  3.65s/it]"
     ]
    },
    {
     "name": "stdout",
     "output_type": "stream",
     "text": [
      "0.7 66.6 0.009429040590652986 0.0 0.53126588325045\n"
     ]
    },
    {
     "name": "stderr",
     "output_type": "stream",
     "text": [
      " 14%|█▍        | 1400/9766 [1:09:52<10:07:31,  4.36s/it]"
     ]
    },
    {
     "name": "stdout",
     "output_type": "stream",
     "text": [
      "0.4 124.4 0.03455749752326677 1.2572188274086936e-05 0.4605303929964638\n"
     ]
    },
    {
     "name": "stderr",
     "output_type": "stream",
     "text": [
      " 14%|█▍        | 1403/9766 [1:10:03<10:00:54,  4.31s/it]"
     ]
    },
    {
     "name": "stdout",
     "output_type": "stream",
     "text": [
      "0.6 86.8 0.012567348758540795 0.0 0.6442089219093232\n"
     ]
    },
    {
     "name": "stderr",
     "output_type": "stream",
     "text": [
      " 14%|█▍        | 1406/9766 [1:10:14<9:41:00,  4.17s/it] "
     ]
    },
    {
     "name": "stdout",
     "output_type": "stream",
     "text": [
      "0.6 89.6 0.01257402823890122 2.9802322387695314e-09 0.41558650719190116\n"
     ]
    },
    {
     "name": "stderr",
     "output_type": "stream",
     "text": [
      " 14%|█▍        | 1409/9766 [1:10:25<9:54:12,  4.27s/it]"
     ]
    },
    {
     "name": "stdout",
     "output_type": "stream",
     "text": [
      "0.5 105.8 0.015710634066507616 0.0 0.5691122245056766\n"
     ]
    },
    {
     "name": "stderr",
     "output_type": "stream",
     "text": [
      " 14%|█▍        | 1413/9766 [1:10:39<9:41:23,  4.18s/it]"
     ]
    },
    {
     "name": "stdout",
     "output_type": "stream",
     "text": [
      "0.5 107.8 0.03545913847423896 1.4053323624371519e-05 0.36828610001206874\n"
     ]
    },
    {
     "name": "stderr",
     "output_type": "stream",
     "text": [
      " 14%|█▍        | 1416/9766 [1:10:53<12:11:53,  5.26s/it]"
     ]
    },
    {
     "name": "stdout",
     "output_type": "stream",
     "text": [
      "0.1 180.4 0.03814379164471782 7.027265286996423e-06 0.48439061555926166\n"
     ]
    },
    {
     "name": "stderr",
     "output_type": "stream",
     "text": [
      " 15%|█▍        | 1419/9766 [1:11:03<9:31:00,  4.10s/it] "
     ]
    },
    {
     "name": "stdout",
     "output_type": "stream",
     "text": [
      "0.7 67.6 0.009428775189792859 2.9802322387695314e-09 0.49768915557990806\n"
     ]
    },
    {
     "name": "stderr",
     "output_type": "stream",
     "text": [
      " 15%|█▍        | 1422/9766 [1:11:14<9:53:58,  4.27s/it]"
     ]
    },
    {
     "name": "stdout",
     "output_type": "stream",
     "text": [
      "0.5 106.8 0.015712622315159318 1.4901161193847657e-09 0.4215048369666839\n"
     ]
    },
    {
     "name": "stderr",
     "output_type": "stream",
     "text": [
      " 15%|█▍        | 1426/9766 [1:11:24<7:16:18,  3.14s/it]"
     ]
    },
    {
     "name": "stdout",
     "output_type": "stream",
     "text": [
      "0.9 31.6 0.003143638537603162 5.561189066721316e-09 0.5934549330913025\n"
     ]
    },
    {
     "name": "stderr",
     "output_type": "stream",
     "text": [
      " 15%|█▍        | 1429/9766 [1:11:36<9:41:03,  4.18s/it]"
     ]
    },
    {
     "name": "stdout",
     "output_type": "stream",
     "text": [
      "0.4 123.4 0.01884604515204426 3.3320009373125284e-09 0.4030135505222785\n"
     ]
    },
    {
     "name": "stderr",
     "output_type": "stream",
     "text": [
      " 15%|█▍        | 1432/9766 [1:11:48<9:50:00,  4.25s/it]"
     ]
    },
    {
     "name": "stdout",
     "output_type": "stream",
     "text": [
      "0.6 85.8 0.012571983217474306 4.470348358154297e-09 0.5451523664273423\n"
     ]
    },
    {
     "name": "stderr",
     "output_type": "stream",
     "text": [
      " 15%|█▍        | 1435/9766 [1:11:56<7:44:15,  3.34s/it]"
     ]
    },
    {
     "name": "stdout",
     "output_type": "stream",
     "text": [
      "1.0 15.4 8.161543631703161e-06 3.597458544929467e-09 0.38461908308718845\n"
     ]
    },
    {
     "name": "stderr",
     "output_type": "stream",
     "text": [
      " 15%|█▍        | 1438/9766 [1:12:04<7:00:04,  3.03s/it]"
     ]
    },
    {
     "name": "stdout",
     "output_type": "stream",
     "text": [
      "1.0 11.2 6.865566938313066e-06 4.822117056697294e-09 0.402580500571764\n"
     ]
    },
    {
     "name": "stderr",
     "output_type": "stream",
     "text": [
      " 15%|█▍        | 1441/9766 [1:12:13<7:06:54,  3.08s/it]"
     ]
    },
    {
     "name": "stdout",
     "output_type": "stream",
     "text": [
      "0.9 32.2 0.007061073304427653 6.285722082756172e-06 0.5387929599264092\n"
     ]
    },
    {
     "name": "stderr",
     "output_type": "stream",
     "text": [
      " 15%|█▍        | 1444/9766 [1:12:22<7:23:17,  3.20s/it]"
     ]
    },
    {
     "name": "stdout",
     "output_type": "stream",
     "text": [
      "0.8 50.0 0.02302471068862717 1.3307623513123787e-05 0.4375404448232669\n"
     ]
    },
    {
     "name": "stderr",
     "output_type": "stream",
     "text": [
      " 15%|█▍        | 1447/9766 [1:12:30<7:10:35,  3.11s/it]"
     ]
    },
    {
     "name": "stdout",
     "output_type": "stream",
     "text": [
      "0.9 28.0 0.01295647383347758 4.4703483581542975e-09 0.41503764979206403\n"
     ]
    },
    {
     "name": "stderr",
     "output_type": "stream",
     "text": [
      " 15%|█▍        | 1450/9766 [1:12:38<6:32:11,  2.83s/it]"
     ]
    },
    {
     "name": "stdout",
     "output_type": "stream",
     "text": [
      "1.0 15.8 1.0285501976453072e-05 5.432592795885489e-09 0.5586373320995712\n"
     ]
    },
    {
     "name": "stderr",
     "output_type": "stream",
     "text": [
      " 15%|█▍        | 1453/9766 [1:12:46<6:20:44,  2.75s/it]"
     ]
    },
    {
     "name": "stdout",
     "output_type": "stream",
     "text": [
      "1.0 12.2 4.965575286645353e-06 0.0 0.47724805917367547\n"
     ]
    },
    {
     "name": "stderr",
     "output_type": "stream",
     "text": [
      " 15%|█▍        | 1456/9766 [1:12:56<7:43:11,  3.34s/it]"
     ]
    },
    {
     "name": "stdout",
     "output_type": "stream",
     "text": [
      "0.7 66.6 0.045945386312695756 2.0332230426518847e-05 0.3697957230388546\n"
     ]
    },
    {
     "name": "stderr",
     "output_type": "stream",
     "text": [
      " 15%|█▍        | 1459/9766 [1:13:07<9:21:25,  4.06s/it]"
     ]
    },
    {
     "name": "stdout",
     "output_type": "stream",
     "text": [
      "0.5 106.4 0.04539743798651784 1.8353676095331625e-05 0.5328228785605658\n"
     ]
    },
    {
     "name": "stderr",
     "output_type": "stream",
     "text": [
      " 15%|█▍        | 1462/9766 [1:13:18<9:29:22,  4.11s/it]"
     ]
    },
    {
     "name": "stdout",
     "output_type": "stream",
     "text": [
      "0.6 88.6 0.06824322179604002 7.029030214590257e-06 0.543165865441023\n"
     ]
    },
    {
     "name": "stderr",
     "output_type": "stream",
     "text": [
      " 15%|█▌        | 1465/9766 [1:13:28<9:10:39,  3.98s/it]"
     ]
    },
    {
     "name": "stdout",
     "output_type": "stream",
     "text": [
      "0.6 85.8 0.0618181670181855 2.1075106214873272e-05 0.4262891412062686\n"
     ]
    },
    {
     "name": "stderr",
     "output_type": "stream",
     "text": [
      " 15%|█▌        | 1468/9766 [1:13:40<9:47:16,  4.25s/it]"
     ]
    },
    {
     "name": "stdout",
     "output_type": "stream",
     "text": [
      "0.6 85.2 0.02351851223024357 7.0271328356992696e-06 0.36471544197296957\n"
     ]
    },
    {
     "name": "stderr",
     "output_type": "stream",
     "text": [
      " 15%|█▌        | 1471/9766 [1:13:54<11:48:29,  5.12s/it]"
     ]
    },
    {
     "name": "stdout",
     "output_type": "stream",
     "text": [
      "0.2 162.0 0.04179491877970127 7.028178924906743e-06 0.4009183441557841\n"
     ]
    },
    {
     "name": "stderr",
     "output_type": "stream",
     "text": [
      " 15%|█▌        | 1474/9766 [1:14:01<8:04:13,  3.50s/it] "
     ]
    },
    {
     "name": "stdout",
     "output_type": "stream",
     "text": [
      "1.0 10.6 7.164127790800792e-06 0.0 0.3542248309325334\n"
     ]
    },
    {
     "name": "stderr",
     "output_type": "stream",
     "text": [
      " 15%|█▌        | 1477/9766 [1:14:15<10:37:53,  4.62s/it]"
     ]
    },
    {
     "name": "stdout",
     "output_type": "stream",
     "text": [
      "0.2 161.6 0.04077884446385351 7.027351381568863e-06 0.5121331156664535\n"
     ]
    },
    {
     "name": "stderr",
     "output_type": "stream",
     "text": [
      " 15%|█▌        | 1480/9766 [1:14:22<7:29:13,  3.25s/it] "
     ]
    },
    {
     "name": "stdout",
     "output_type": "stream",
     "text": [
      "1.0 13.2 6.129836486080374e-06 0.0 0.38373643517050443\n"
     ]
    },
    {
     "name": "stderr",
     "output_type": "stream",
     "text": [
      " 15%|█▌        | 1483/9766 [1:14:35<10:19:21,  4.49s/it]"
     ]
    },
    {
     "name": "stdout",
     "output_type": "stream",
     "text": [
      "0.2 160.4 0.02513287334667298 5.7048009704741684e-09 0.501671840567902\n"
     ]
    },
    {
     "name": "stderr",
     "output_type": "stream",
     "text": [
      " 15%|█▌        | 1486/9766 [1:14:46<10:13:14,  4.44s/it]"
     ]
    },
    {
     "name": "stdout",
     "output_type": "stream",
     "text": [
      "0.4 123.2 0.018847697319660732 5.087574664314233e-09 0.47575854416042124\n"
     ]
    },
    {
     "name": "stderr",
     "output_type": "stream",
     "text": [
      " 15%|█▌        | 1489/9766 [1:14:58<10:14:40,  4.46s/it]"
     ]
    },
    {
     "name": "stdout",
     "output_type": "stream",
     "text": [
      "0.4 125.8 0.03141651541538075 1.4901161193847657e-09 0.44069891540878203\n"
     ]
    },
    {
     "name": "stderr",
     "output_type": "stream",
     "text": [
      " 15%|█▌        | 1493/9766 [1:15:12<10:05:38,  4.39s/it]"
     ]
    },
    {
     "name": "stdout",
     "output_type": "stream",
     "text": [
      "0.3 142.8 0.09168357655459844 2.809832244072101e-05 0.4393826348162535\n"
     ]
    },
    {
     "name": "stderr",
     "output_type": "stream",
     "text": [
      " 15%|█▌        | 1496/9766 [1:15:21<8:27:46,  3.68s/it] "
     ]
    },
    {
     "name": "stdout",
     "output_type": "stream",
     "text": [
      "0.8 52.8 0.006289766590317393 5.960464477539063e-09 0.5834725216632403\n"
     ]
    },
    {
     "name": "stderr",
     "output_type": "stream",
     "text": [
      " 15%|█▌        | 1499/9766 [1:15:31<8:57:20,  3.90s/it]"
     ]
    },
    {
     "name": "stdout",
     "output_type": "stream",
     "text": [
      "0.6 87.6 0.012569764688311436 4.6882992534964865e-09 0.5240198508471021\n"
     ]
    },
    {
     "name": "stderr",
     "output_type": "stream",
     "text": [
      " 15%|█▌        | 1502/9766 [1:15:40<8:00:58,  3.49s/it]"
     ]
    },
    {
     "name": "stdout",
     "output_type": "stream",
     "text": [
      "0.8 49.8 0.035678741126439165 1.4051802830603415e-05 0.5946292693041391\n"
     ]
    },
    {
     "name": "stderr",
     "output_type": "stream",
     "text": [
      " 15%|█▌        | 1505/9766 [1:15:48<6:38:17,  2.89s/it]"
     ]
    },
    {
     "name": "stdout",
     "output_type": "stream",
     "text": [
      "1.0 13.2 7.252606765525643e-06 2.1073424255447016e-09 0.5603867874927204\n"
     ]
    },
    {
     "name": "stderr",
     "output_type": "stream",
     "text": [
      " 15%|█▌        | 1508/9766 [1:15:56<6:50:39,  2.98s/it]"
     ]
    },
    {
     "name": "stdout",
     "output_type": "stream",
     "text": [
      "0.9 35.0 0.01571274421739052 4.6882992534964865e-09 0.6793490376981608\n"
     ]
    },
    {
     "name": "stderr",
     "output_type": "stream",
     "text": [
      " 15%|█▌        | 1511/9766 [1:16:07<8:20:48,  3.64s/it]"
     ]
    },
    {
     "name": "stdout",
     "output_type": "stream",
     "text": [
      "0.6 87.0 0.012567942721248889 2.1073424255447016e-09 0.4622300002808003\n"
     ]
    },
    {
     "name": "stderr",
     "output_type": "stream",
     "text": [
      " 16%|█▌        | 1514/9766 [1:16:18<9:15:45,  4.04s/it]"
     ]
    },
    {
     "name": "stdout",
     "output_type": "stream",
     "text": [
      "0.5 106.4 0.015708787390163736 2.1073424255447016e-09 0.3940917493172569\n"
     ]
    },
    {
     "name": "stderr",
     "output_type": "stream",
     "text": [
      " 16%|█▌        | 1516/9766 [1:16:25<8:45:29,  3.82s/it]"
     ]
    },
    {
     "name": "stdout",
     "output_type": "stream",
     "text": [
      "0.8 49.4 0.035681580737909564 1.4050546327639086e-05 0.4901620061904971\n"
     ]
    },
    {
     "name": "stderr",
     "output_type": "stream",
     "text": [
      " 16%|█▌        | 1519/9766 [1:16:38<10:37:26,  4.64s/it]"
     ]
    },
    {
     "name": "stdout",
     "output_type": "stream",
     "text": [
      "0.4 124.4 0.01885255115777202 2.580956827951785e-09 0.4479064667977951\n"
     ]
    },
    {
     "name": "stderr",
     "output_type": "stream",
     "text": [
      " 16%|█▌        | 1522/9766 [1:16:48<9:30:29,  4.15s/it] "
     ]
    },
    {
     "name": "stdout",
     "output_type": "stream",
     "text": [
      "0.7 69.6 0.009426682742001351 0.0 0.5464653709983713\n"
     ]
    },
    {
     "name": "stderr",
     "output_type": "stream",
     "text": [
      " 16%|█▌        | 1525/9766 [1:16:57<7:47:59,  3.41s/it]"
     ]
    },
    {
     "name": "stdout",
     "output_type": "stream",
     "text": [
      "0.9 33.2 0.0031491117365882843 4.4703483581542975e-09 0.6092368971843763\n"
     ]
    },
    {
     "name": "stderr",
     "output_type": "stream",
     "text": [
      " 16%|█▌        | 1528/9766 [1:17:07<8:30:06,  3.72s/it]"
     ]
    },
    {
     "name": "stdout",
     "output_type": "stream",
     "text": [
      "0.7 68.8 0.009428552617024357 4.470348358154297e-09 0.5590326691215124\n"
     ]
    },
    {
     "name": "stderr",
     "output_type": "stream",
     "text": [
      " 16%|█▌        | 1531/9766 [1:17:17<8:12:23,  3.59s/it]"
     ]
    },
    {
     "name": "stdout",
     "output_type": "stream",
     "text": [
      "0.8 50.4 0.006287485372432078 2.1073424255447016e-09 0.5880056619392267\n"
     ]
    },
    {
     "name": "stderr",
     "output_type": "stream",
     "text": [
      " 16%|█▌        | 1534/9766 [1:17:29<10:03:46,  4.40s/it]"
     ]
    },
    {
     "name": "stdout",
     "output_type": "stream",
     "text": [
      "0.5 108.6 0.050464373248098535 7.024638140642537e-06 0.5436523918445036\n"
     ]
    },
    {
     "name": "stderr",
     "output_type": "stream",
     "text": [
      " 16%|█▌        | 1537/9766 [1:17:40<9:30:05,  4.16s/it] "
     ]
    },
    {
     "name": "stdout",
     "output_type": "stream",
     "text": [
      "0.6 88.0 0.012567869616993433 2.1073424255447016e-09 0.3650954952637292\n"
     ]
    },
    {
     "name": "stderr",
     "output_type": "stream",
     "text": [
      " 16%|█▌        | 1540/9766 [1:17:48<7:54:50,  3.46s/it]"
     ]
    },
    {
     "name": "stdout",
     "output_type": "stream",
     "text": [
      "0.9 34.8 0.019103815566941015 6.283481325851355e-06 0.34550998981899084\n"
     ]
    },
    {
     "name": "stderr",
     "output_type": "stream",
     "text": [
      " 16%|█▌        | 1543/9766 [1:17:59<8:30:24,  3.72s/it]"
     ]
    },
    {
     "name": "stdout",
     "output_type": "stream",
     "text": [
      "0.7 68.6 0.06300748713184713 1.9109218217541015e-05 0.46347058667871427\n"
     ]
    },
    {
     "name": "stderr",
     "output_type": "stream",
     "text": [
      " 16%|█▌        | 1546/9766 [1:18:10<9:44:26,  4.27s/it]"
     ]
    },
    {
     "name": "stdout",
     "output_type": "stream",
     "text": [
      "0.4 125.4 0.13773469256719512 6.398639432494174e-05 0.3482549767629333\n"
     ]
    },
    {
     "name": "stderr",
     "output_type": "stream",
     "text": [
      " 16%|█▌        | 1549/9766 [1:18:23<10:31:14,  4.61s/it]"
     ]
    },
    {
     "name": "stdout",
     "output_type": "stream",
     "text": [
      "0.4 123.8 0.1628566465629703 9.506298648697702e-05 0.42591193648862485\n"
     ]
    },
    {
     "name": "stderr",
     "output_type": "stream",
     "text": [
      " 16%|█▌        | 1552/9766 [1:18:39<13:08:11,  5.76s/it]"
     ]
    },
    {
     "name": "stdout",
     "output_type": "stream",
     "text": [
      "0.1 182.8 0.3621857773786211 0.0001759351318015248 0.17155837725171846\n"
     ]
    },
    {
     "name": "stderr",
     "output_type": "stream",
     "text": [
      " 16%|█▌        | 1555/9766 [1:18:47<9:30:18,  4.17s/it] "
     ]
    },
    {
     "name": "stdout",
     "output_type": "stream",
     "text": [
      "0.8 58.4 0.00628909433334326 2.9802322387695314e-09 0.3775585644230891\n"
     ]
    },
    {
     "name": "stderr",
     "output_type": "stream",
     "text": [
      " 16%|█▌        | 1558/9766 [1:18:57<8:49:54,  3.87s/it]"
     ]
    },
    {
     "name": "stdout",
     "output_type": "stream",
     "text": [
      "0.7 74.4 0.009429056745299477 2.9802322387695314e-09 0.40905705672334874\n"
     ]
    },
    {
     "name": "stderr",
     "output_type": "stream",
     "text": [
      " 16%|█▌        | 1561/9766 [1:19:06<7:46:03,  3.41s/it]"
     ]
    },
    {
     "name": "stdout",
     "output_type": "stream",
     "text": [
      "0.9 39.6 0.003148625632109598 5.960464477539063e-09 0.4120892168825051\n"
     ]
    },
    {
     "name": "stderr",
     "output_type": "stream",
     "text": [
      " 16%|█▌        | 1564/9766 [1:19:17<9:05:14,  3.99s/it]"
     ]
    },
    {
     "name": "stdout",
     "output_type": "stream",
     "text": [
      "0.5 106.8 0.03931576656710088 1.4051329545917378e-05 0.3686676611208545\n"
     ]
    },
    {
     "name": "stderr",
     "output_type": "stream",
     "text": [
      " 16%|█▌        | 1567/9766 [1:19:26<7:23:53,  3.25s/it]"
     ]
    },
    {
     "name": "stdout",
     "output_type": "stream",
     "text": [
      "1.0 15.0 8.045586773008036e-06 3.597458544929467e-09 0.5772935804533137\n"
     ]
    },
    {
     "name": "stderr",
     "output_type": "stream",
     "text": [
      " 16%|█▌        | 1570/9766 [1:19:34<6:39:07,  2.92s/it]"
     ]
    },
    {
     "name": "stdout",
     "output_type": "stream",
     "text": [
      "1.0 14.6 5.446060433372556e-06 7.2474826949183254e-09 0.46971899724225163\n"
     ]
    },
    {
     "name": "stderr",
     "output_type": "stream",
     "text": [
      " 16%|█▌        | 1573/9766 [1:19:42<6:38:09,  2.92s/it]"
     ]
    },
    {
     "name": "stdout",
     "output_type": "stream",
     "text": [
      "1.0 14.6 8.366247965840995e-06 6.1784153728812526e-09 0.6378816828043454\n"
     ]
    },
    {
     "name": "stderr",
     "output_type": "stream",
     "text": [
      " 16%|█▌        | 1576/9766 [1:19:50<6:25:27,  2.82s/it]"
     ]
    },
    {
     "name": "stdout",
     "output_type": "stream",
     "text": [
      "1.0 14.4 3.5025370208883656e-06 2.9802322387695314e-09 0.43765950940967324\n"
     ]
    },
    {
     "name": "stderr",
     "output_type": "stream",
     "text": [
      " 16%|█▌        | 1579/9766 [1:19:58<6:41:23,  2.94s/it]"
     ]
    },
    {
     "name": "stdout",
     "output_type": "stream",
     "text": [
      "1.0 15.0 6.491558965201932e-06 5.960464477539063e-09 0.5444427408368929\n"
     ]
    },
    {
     "name": "stderr",
     "output_type": "stream",
     "text": [
      " 16%|█▌        | 1581/9766 [1:20:04<6:41:55,  2.95s/it]"
     ]
    },
    {
     "name": "stdout",
     "output_type": "stream",
     "text": [
      "1.0 12.2 6.054072929427711e-06 2.580956827951785e-09 0.5294044694183626\n"
     ]
    },
    {
     "name": "stderr",
     "output_type": "stream",
     "text": [
      " 16%|█▌        | 1584/9766 [1:20:12<6:26:18,  2.83s/it]"
     ]
    },
    {
     "name": "stdout",
     "output_type": "stream",
     "text": [
      "1.0 14.2 4.703011995133437e-06 2.580956827951785e-09 0.4022233249662652\n"
     ]
    },
    {
     "name": "stderr",
     "output_type": "stream",
     "text": [
      " 16%|█▋        | 1587/9766 [1:20:21<6:51:48,  3.02s/it]"
     ]
    },
    {
     "name": "stdout",
     "output_type": "stream",
     "text": [
      "0.9 31.4 0.02633765887823079 0.00010072856386585563 0.394297772163527\n"
     ]
    },
    {
     "name": "stderr",
     "output_type": "stream",
     "text": [
      " 16%|█▋        | 1590/9766 [1:20:28<6:16:10,  2.76s/it]"
     ]
    },
    {
     "name": "stdout",
     "output_type": "stream",
     "text": [
      "1.0 12.4 6.394886628138179e-06 3.3320009373125284e-09 0.5177469803462742\n"
     ]
    },
    {
     "name": "stderr",
     "output_type": "stream",
     "text": [
      " 16%|█▋        | 1593/9766 [1:20:37<6:48:50,  3.00s/it]"
     ]
    },
    {
     "name": "stdout",
     "output_type": "stream",
     "text": [
      "0.9 32.8 0.02513885015715228 6.290917790497624e-06 0.4492813830150257\n"
     ]
    },
    {
     "name": "stderr",
     "output_type": "stream",
     "text": [
      " 16%|█▋        | 1596/9766 [1:20:49<8:59:55,  3.97s/it]"
     ]
    },
    {
     "name": "stdout",
     "output_type": "stream",
     "text": [
      "0.5 106.4 0.0157065734395323 2.9802322387695314e-09 0.5272675379367013\n"
     ]
    },
    {
     "name": "stderr",
     "output_type": "stream",
     "text": [
      " 16%|█▋        | 1599/9766 [1:21:01<10:28:02,  4.61s/it]"
     ]
    },
    {
     "name": "stdout",
     "output_type": "stream",
     "text": [
      "0.4 127.2 0.018853334325370678 8.759372200833037e-09 0.41169146357664205\n"
     ]
    },
    {
     "name": "stderr",
     "output_type": "stream",
     "text": [
      " 16%|█▋        | 1602/9766 [1:21:11<8:40:45,  3.83s/it] "
     ]
    },
    {
     "name": "stdout",
     "output_type": "stream",
     "text": [
      "0.8 51.2 0.0399203659197897 2.265574274052067e-05 0.5654702038709272\n"
     ]
    },
    {
     "name": "stderr",
     "output_type": "stream",
     "text": [
      " 16%|█▋        | 1605/9766 [1:21:18<6:41:38,  2.95s/it]"
     ]
    },
    {
     "name": "stdout",
     "output_type": "stream",
     "text": [
      "1.0 11.0 6.57787879659227e-06 1.4901161193847657e-09 0.3585965089714967\n"
     ]
    },
    {
     "name": "stderr",
     "output_type": "stream",
     "text": [
      " 16%|█▋        | 1608/9766 [1:21:26<6:44:22,  2.97s/it]"
     ]
    },
    {
     "name": "stdout",
     "output_type": "stream",
     "text": [
      "0.9 33.2 0.02287492987824253 4.214684851089403e-09 0.4576511124070656\n"
     ]
    },
    {
     "name": "stderr",
     "output_type": "stream",
     "text": [
      " 16%|█▋        | 1611/9766 [1:21:37<8:34:17,  3.78s/it]"
     ]
    },
    {
     "name": "stdout",
     "output_type": "stream",
     "text": [
      "0.5 105.0 0.015710769225533425 0.0 0.5153219285315759\n"
     ]
    },
    {
     "name": "stderr",
     "output_type": "stream",
     "text": [
      " 17%|█▋        | 1614/9766 [1:21:50<10:07:00,  4.47s/it]"
     ]
    },
    {
     "name": "stdout",
     "output_type": "stream",
     "text": [
      "0.3 142.8 0.03746674860269071 3.398061695834105e-05 0.41767760688498734\n"
     ]
    },
    {
     "name": "stderr",
     "output_type": "stream",
     "text": [
      " 17%|█▋        | 1617/9766 [1:22:04<11:49:42,  5.23s/it]"
     ]
    },
    {
     "name": "stdout",
     "output_type": "stream",
     "text": [
      "0.2 162.2 0.029116264893304454 1.1333042406676416e-05 0.6551071430013697\n"
     ]
    },
    {
     "name": "stderr",
     "output_type": "stream",
     "text": [
      " 17%|█▋        | 1620/9766 [1:22:17<11:52:39,  5.25s/it]"
     ]
    },
    {
     "name": "stdout",
     "output_type": "stream",
     "text": [
      "0.3 144.4 0.04417066165607462 6.2870440173590895e-06 0.5156133080462436\n"
     ]
    },
    {
     "name": "stderr",
     "output_type": "stream",
     "text": [
      " 17%|█▋        | 1623/9766 [1:22:26<9:05:46,  4.02s/it] "
     ]
    },
    {
     "name": "stdout",
     "output_type": "stream",
     "text": [
      "0.8 51.2 0.012570480541637336 2.9802322387695314e-09 0.4933251193196758\n"
     ]
    },
    {
     "name": "stderr",
     "output_type": "stream",
     "text": [
      " 17%|█▋        | 1627/9766 [1:22:39<8:48:15,  3.89s/it]"
     ]
    },
    {
     "name": "stdout",
     "output_type": "stream",
     "text": [
      "0.5 105.6 0.0691792674347322 7.028059058463516e-06 0.48291175932685404\n"
     ]
    },
    {
     "name": "stderr",
     "output_type": "stream",
     "text": [
      " 17%|█▋        | 1631/9766 [1:22:53<9:11:25,  4.07s/it]"
     ]
    },
    {
     "name": "stdout",
     "output_type": "stream",
     "text": [
      "0.5 105.4 0.042975208180274935 7.030476398474172e-06 0.5441970363527567\n"
     ]
    },
    {
     "name": "stderr",
     "output_type": "stream",
     "text": [
      " 17%|█▋        | 1634/9766 [1:23:08<11:56:11,  5.28s/it]"
     ]
    },
    {
     "name": "stdout",
     "output_type": "stream",
     "text": [
      "0.1 181.2 0.06102031177866467 7.02775006200543e-06 0.4719046191382829\n"
     ]
    },
    {
     "name": "stderr",
     "output_type": "stream",
     "text": [
      " 17%|█▋        | 1637/9766 [1:23:22<12:41:14,  5.62s/it]"
     ]
    },
    {
     "name": "stdout",
     "output_type": "stream",
     "text": [
      "0.0 200.0 0.05340142653333303 7.54668578840193e-09 0.4984877394807371\n"
     ]
    },
    {
     "name": "stderr",
     "output_type": "stream",
     "text": [
      " 17%|█▋        | 1640/9766 [1:23:36<13:02:09,  5.78s/it]"
     ]
    },
    {
     "name": "stdout",
     "output_type": "stream",
     "text": [
      "0.1 180.6 0.06611991771595967 1.4052476292336841e-05 0.4178512791529137\n"
     ]
    },
    {
     "name": "stderr",
     "output_type": "stream",
     "text": [
      " 17%|█▋        | 1644/9766 [1:23:50<10:27:56,  4.64s/it]"
     ]
    },
    {
     "name": "stdout",
     "output_type": "stream",
     "text": [
      "0.3 143.2 0.0423234356216479 1.4901161193847657e-09 0.2850793859043964\n"
     ]
    },
    {
     "name": "stderr",
     "output_type": "stream",
     "text": [
      " 17%|█▋        | 1647/9766 [1:24:03<10:45:26,  4.77s/it]"
     ]
    },
    {
     "name": "stdout",
     "output_type": "stream",
     "text": [
      "0.4 123.8 0.031485076971603014 7.0237996512335745e-06 0.4681291052443612\n"
     ]
    },
    {
     "name": "stderr",
     "output_type": "stream",
     "text": [
      " 17%|█▋        | 1650/9766 [1:24:13<9:35:26,  4.25s/it] "
     ]
    },
    {
     "name": "stdout",
     "output_type": "stream",
     "text": [
      "0.6 87.4 0.012566960714143146 2.1073424255447016e-09 0.5077461962780202\n"
     ]
    },
    {
     "name": "stderr",
     "output_type": "stream",
     "text": [
      " 17%|█▋        | 1653/9766 [1:24:25<10:17:37,  4.57s/it]"
     ]
    },
    {
     "name": "stdout",
     "output_type": "stream",
     "text": [
      "0.5 107.6 0.015711170141954965 6.230980977940642e-09 0.4341593978071919\n"
     ]
    },
    {
     "name": "stderr",
     "output_type": "stream",
     "text": [
      " 17%|█▋        | 1656/9766 [1:24:37<9:54:22,  4.40s/it] "
     ]
    },
    {
     "name": "stdout",
     "output_type": "stream",
     "text": [
      "0.6 86.6 0.027264256597496473 7.02839943304027e-06 0.49287875931930536\n"
     ]
    },
    {
     "name": "stderr",
     "output_type": "stream",
     "text": [
      " 17%|█▋        | 1659/9766 [1:24:49<10:17:14,  4.57s/it]"
     ]
    },
    {
     "name": "stdout",
     "output_type": "stream",
     "text": [
      "0.4 126.8 0.018848795708923043 4.214684851089403e-09 0.6363709981662752\n"
     ]
    },
    {
     "name": "stderr",
     "output_type": "stream",
     "text": [
      " 17%|█▋        | 1663/9766 [1:25:00<8:18:09,  3.69s/it] "
     ]
    },
    {
     "name": "stdout",
     "output_type": "stream",
     "text": [
      "0.7 68.4 0.009428173035329706 2.580956827951785e-09 0.5700737350253664\n"
     ]
    },
    {
     "name": "stderr",
     "output_type": "stream",
     "text": [
      " 17%|█▋        | 1666/9766 [1:25:09<7:06:46,  3.16s/it]"
     ]
    },
    {
     "name": "stdout",
     "output_type": "stream",
     "text": [
      "1.0 13.4 6.555335935915959e-06 5.087574664314233e-09 0.5253754581324215\n"
     ]
    },
    {
     "name": "stderr",
     "output_type": "stream",
     "text": [
      " 17%|█▋        | 1669/9766 [1:25:21<9:24:56,  4.19s/it]"
     ]
    },
    {
     "name": "stdout",
     "output_type": "stream",
     "text": [
      "0.5 105.2 0.01570626244882721 2.1073424255447016e-09 0.5377183571986366\n"
     ]
    },
    {
     "name": "stderr",
     "output_type": "stream",
     "text": [
      " 17%|█▋        | 1672/9766 [1:25:33<9:54:02,  4.40s/it]"
     ]
    },
    {
     "name": "stdout",
     "output_type": "stream",
     "text": [
      "0.5 105.8 0.02388459418594131 7.026304793049224e-06 0.4734001938951227\n"
     ]
    },
    {
     "name": "stderr",
     "output_type": "stream",
     "text": [
      " 17%|█▋        | 1675/9766 [1:25:42<8:26:51,  3.76s/it]"
     ]
    },
    {
     "name": "stdout",
     "output_type": "stream",
     "text": [
      "0.8 52.2 0.029163558779643724 1.405287474625366e-05 0.5628822578072279\n"
     ]
    },
    {
     "name": "stderr",
     "output_type": "stream",
     "text": [
      " 17%|█▋        | 1678/9766 [1:25:50<7:07:40,  3.17s/it]"
     ]
    },
    {
     "name": "stdout",
     "output_type": "stream",
     "text": [
      "1.0 15.0 9.441196039184272e-06 2.9802322387695314e-09 0.6323513883119256\n"
     ]
    },
    {
     "name": "stderr",
     "output_type": "stream",
     "text": [
      " 17%|█▋        | 1681/9766 [1:25:58<6:31:25,  2.90s/it]"
     ]
    },
    {
     "name": "stdout",
     "output_type": "stream",
     "text": [
      "1.0 12.6 7.0035124015743615e-06 1.4901161193847657e-09 0.39456106365141785\n"
     ]
    },
    {
     "name": "stderr",
     "output_type": "stream",
     "text": [
      " 17%|█▋        | 1684/9766 [1:26:06<6:18:35,  2.81s/it]"
     ]
    },
    {
     "name": "stdout",
     "output_type": "stream",
     "text": [
      "1.0 15.2 6.469819297048185e-06 2.1073424255447016e-09 0.5835240494139997\n"
     ]
    },
    {
     "name": "stderr",
     "output_type": "stream",
     "text": [
      " 17%|█▋        | 1687/9766 [1:26:14<6:19:20,  2.82s/it]"
     ]
    },
    {
     "name": "stdout",
     "output_type": "stream",
     "text": [
      "1.0 13.2 6.093822095293447e-06 2.580956827951785e-09 0.46997531022106626\n"
     ]
    },
    {
     "name": "stderr",
     "output_type": "stream",
     "text": [
      " 17%|█▋        | 1689/9766 [1:26:20<6:22:35,  2.84s/it]"
     ]
    },
    {
     "name": "stdout",
     "output_type": "stream",
     "text": [
      "1.0 9.6 5.374914260746735e-06 1.4901161193847657e-09 0.42669726217536336\n"
     ]
    },
    {
     "name": "stderr",
     "output_type": "stream",
     "text": [
      " 17%|█▋        | 1692/9766 [1:26:28<6:12:27,  2.77s/it]"
     ]
    },
    {
     "name": "stdout",
     "output_type": "stream",
     "text": [
      "1.0 11.4 6.287957856049803e-06 2.1073424255447016e-09 0.3756931983077698\n"
     ]
    },
    {
     "name": "stderr",
     "output_type": "stream",
     "text": [
      " 17%|█▋        | 1695/9766 [1:26:36<6:08:53,  2.74s/it]"
     ]
    },
    {
     "name": "stdout",
     "output_type": "stream",
     "text": [
      "1.0 14.6 4.508458892763432e-06 3.597458544929467e-09 0.5475737100774323\n"
     ]
    },
    {
     "name": "stderr",
     "output_type": "stream",
     "text": [
      " 17%|█▋        | 1697/9766 [1:26:41<6:09:44,  2.75s/it]"
     ]
    },
    {
     "name": "stdout",
     "output_type": "stream",
     "text": [
      "1.0 9.4 5.865424181868134e-06 2.9802322387695314e-09 0.4728814179011618\n"
     ]
    },
    {
     "name": "stderr",
     "output_type": "stream",
     "text": [
      " 17%|█▋        | 1700/9766 [1:26:49<6:06:59,  2.73s/it]"
     ]
    },
    {
     "name": "stdout",
     "output_type": "stream",
     "text": [
      "1.0 16.0 8.020293814902656e-06 1.4901161193847657e-09 0.5281795344194978\n"
     ]
    },
    {
     "name": "stderr",
     "output_type": "stream",
     "text": [
      " 17%|█▋        | 1702/9766 [1:26:56<7:02:45,  3.15s/it]"
     ]
    },
    {
     "name": "stdout",
     "output_type": "stream",
     "text": [
      "0.9 31.2 0.008935334592308483 6.285070210433856e-06 0.35988692631549785\n"
     ]
    },
    {
     "name": "stderr",
     "output_type": "stream",
     "text": [
      " 17%|█▋        | 1704/9766 [1:27:01<6:44:23,  3.01s/it]"
     ]
    },
    {
     "name": "stdout",
     "output_type": "stream",
     "text": [
      "1.0 12.2 4.367243135134892e-06 0.0 0.5788823503613896\n"
     ]
    },
    {
     "name": "stderr",
     "output_type": "stream",
     "text": [
      " 17%|█▋        | 1706/9766 [1:27:10<9:01:34,  4.03s/it]"
     ]
    },
    {
     "name": "stdout",
     "output_type": "stream",
     "text": [
      "0.6 85.6 0.012564972936418691 2.580956827951785e-09 0.3946458918642658\n"
     ]
    },
    {
     "name": "stderr",
     "output_type": "stream",
     "text": [
      " 17%|█▋        | 1709/9766 [1:27:19<7:43:56,  3.45s/it]"
     ]
    },
    {
     "name": "stdout",
     "output_type": "stream",
     "text": [
      "0.9 31.6 0.025198419552680002 1.1330974700064658e-05 0.4996065100985329\n"
     ]
    },
    {
     "name": "stderr",
     "output_type": "stream",
     "text": [
      " 18%|█▊        | 1712/9766 [1:27:28<7:17:09,  3.26s/it]"
     ]
    },
    {
     "name": "stdout",
     "output_type": "stream",
     "text": [
      "0.9 31.4 0.025953025927266254 1.1333781202372217e-05 0.5482503283734551\n"
     ]
    },
    {
     "name": "stderr",
     "output_type": "stream",
     "text": [
      " 18%|█▊        | 1715/9766 [1:27:41<9:53:30,  4.42s/it]"
     ]
    },
    {
     "name": "stdout",
     "output_type": "stream",
     "text": [
      "0.3 144.6 0.05400299885821232 7.0267012297670435e-06 0.38756872004926896\n"
     ]
    },
    {
     "name": "stderr",
     "output_type": "stream",
     "text": [
      " 18%|█▊        | 1718/9766 [1:27:53<10:22:34,  4.64s/it]"
     ]
    },
    {
     "name": "stdout",
     "output_type": "stream",
     "text": [
      "0.3 144.2 0.05471332792296278 2.1073424255447016e-09 0.4499025322229805\n"
     ]
    },
    {
     "name": "stderr",
     "output_type": "stream",
     "text": [
      " 18%|█▊        | 1721/9766 [1:28:04<10:05:48,  4.52s/it]"
     ]
    },
    {
     "name": "stdout",
     "output_type": "stream",
     "text": [
      "0.4 125.8 0.018856213666868196 7.194917089858934e-09 0.7138402389004306\n"
     ]
    },
    {
     "name": "stderr",
     "output_type": "stream",
     "text": [
      " 18%|█▊        | 1724/9766 [1:28:16<9:42:52,  4.35s/it] "
     ]
    },
    {
     "name": "stdout",
     "output_type": "stream",
     "text": [
      "0.5 106.6 0.021431567139986278 7.02981194352046e-06 0.5243655119778678\n"
     ]
    },
    {
     "name": "stderr",
     "output_type": "stream",
     "text": [
      " 18%|█▊        | 1727/9766 [1:28:23<7:06:42,  3.18s/it]"
     ]
    },
    {
     "name": "stdout",
     "output_type": "stream",
     "text": [
      "1.0 11.8 6.2729748429168225e-06 0.0 0.4408433414924697\n"
     ]
    },
    {
     "name": "stderr",
     "output_type": "stream",
     "text": [
      " 18%|█▊        | 1730/9766 [1:28:31<6:55:29,  3.10s/it]"
     ]
    },
    {
     "name": "stdout",
     "output_type": "stream",
     "text": [
      "0.9 31.4 0.025136222341299537 6.2858692681171465e-06 0.42318499444889157\n"
     ]
    },
    {
     "name": "stderr",
     "output_type": "stream",
     "text": [
      " 18%|█▊        | 1733/9766 [1:28:39<6:23:36,  2.87s/it]"
     ]
    },
    {
     "name": "stdout",
     "output_type": "stream",
     "text": [
      "1.0 13.0 4.885361347278737e-06 2.580956827951785e-09 0.6038471337251939\n"
     ]
    },
    {
     "name": "stderr",
     "output_type": "stream",
     "text": [
      " 18%|█▊        | 1735/9766 [1:28:45<6:23:54,  2.87s/it]"
     ]
    },
    {
     "name": "stdout",
     "output_type": "stream",
     "text": [
      "1.0 11.4 4.812456423910768e-06 2.1073424255447016e-09 0.41371105279738396\n"
     ]
    },
    {
     "name": "stderr",
     "output_type": "stream",
     "text": [
      " 18%|█▊        | 1737/9766 [1:28:56<10:02:06,  4.50s/it]"
     ]
    },
    {
     "name": "stdout",
     "output_type": "stream",
     "text": [
      "0.4 124.0 0.018851463744512804 0.0 0.3992167041543696\n"
     ]
    },
    {
     "name": "stderr",
     "output_type": "stream",
     "text": [
      " 18%|█▊        | 1740/9766 [1:29:10<11:24:50,  5.12s/it]"
     ]
    },
    {
     "name": "stdout",
     "output_type": "stream",
     "text": [
      "0.3 146.4 0.02199569173262033 2.1073424255447016e-09 0.5384918621599484\n"
     ]
    },
    {
     "name": "stderr",
     "output_type": "stream",
     "text": [
      " 18%|█▊        | 1743/9766 [1:29:24<12:00:56,  5.39s/it]"
     ]
    },
    {
     "name": "stdout",
     "output_type": "stream",
     "text": [
      "0.3 144.0 0.021992940616486135 2.1073424255447016e-09 0.5027376144753977\n"
     ]
    },
    {
     "name": "stderr",
     "output_type": "stream",
     "text": [
      " 18%|█▊        | 1745/9766 [1:29:33<11:34:54,  5.20s/it]"
     ]
    },
    {
     "name": "stdout",
     "output_type": "stream",
     "text": [
      "0.5 107.2 0.029435169236909014 7.027055931432031e-06 0.5424047748433108\n"
     ]
    },
    {
     "name": "stderr",
     "output_type": "stream",
     "text": [
      " 18%|█▊        | 1748/9766 [1:29:41<8:04:51,  3.63s/it] "
     ]
    },
    {
     "name": "stdout",
     "output_type": "stream",
     "text": [
      "1.0 16.0 5.571072393858907e-06 1.4901161193847657e-09 0.5615994977946157\n"
     ]
    },
    {
     "name": "stderr",
     "output_type": "stream",
     "text": [
      " 18%|█▊        | 1751/9766 [1:29:53<9:09:39,  4.11s/it]"
     ]
    },
    {
     "name": "stdout",
     "output_type": "stream",
     "text": [
      "0.5 108.6 0.021387856542204542 7.031170777482933e-06 0.5615215609688313\n"
     ]
    },
    {
     "name": "stderr",
     "output_type": "stream",
     "text": [
      " 18%|█▊        | 1754/9766 [1:30:00<7:07:36,  3.20s/it]"
     ]
    },
    {
     "name": "stdout",
     "output_type": "stream",
     "text": [
      "1.0 15.0 2.8306480649041017e-06 1.4901161193847657e-09 0.45810680012275046\n"
     ]
    },
    {
     "name": "stderr",
     "output_type": "stream",
     "text": [
      " 18%|█▊        | 1757/9766 [1:30:09<6:33:47,  2.95s/it]"
     ]
    },
    {
     "name": "stdout",
     "output_type": "stream",
     "text": [
      "1.0 15.4 4.634775592265408e-06 0.0 0.36333312236778037\n"
     ]
    },
    {
     "name": "stderr",
     "output_type": "stream",
     "text": [
      " 18%|█▊        | 1759/9766 [1:30:16<7:34:36,  3.41s/it]"
     ]
    },
    {
     "name": "stdout",
     "output_type": "stream",
     "text": [
      "0.8 53.8 0.022922558578303897 7.0302110608951935e-06 0.5222485342021809\n"
     ]
    },
    {
     "name": "stderr",
     "output_type": "stream",
     "text": [
      " 18%|█▊        | 1762/9766 [1:30:25<7:26:39,  3.35s/it]"
     ]
    },
    {
     "name": "stdout",
     "output_type": "stream",
     "text": [
      "0.9 33.4 0.006988913587252811 7.029988625639825e-06 0.4547716079464326\n"
     ]
    },
    {
     "name": "stderr",
     "output_type": "stream",
     "text": [
      " 18%|█▊        | 1765/9766 [1:30:35<7:37:04,  3.43s/it]"
     ]
    },
    {
     "name": "stdout",
     "output_type": "stream",
     "text": [
      "0.8 49.6 0.01244675815882955 1.4053006895050693e-05 0.5071915090682311\n"
     ]
    },
    {
     "name": "stderr",
     "output_type": "stream",
     "text": [
      " 18%|█▊        | 1768/9766 [1:30:43<7:01:34,  3.16s/it]"
     ]
    },
    {
     "name": "stdout",
     "output_type": "stream",
     "text": [
      "0.9 30.6 0.011386168608073252 6.288139351025368e-06 0.5071913977449112\n"
     ]
    },
    {
     "name": "stderr",
     "output_type": "stream",
     "text": [
      " 18%|█▊        | 1771/9766 [1:30:52<6:43:22,  3.03s/it]"
     ]
    },
    {
     "name": "stdout",
     "output_type": "stream",
     "text": [
      "0.9 31.8 0.011321336637698097 7.0270110518657975e-06 0.594322478498487\n"
     ]
    },
    {
     "name": "stderr",
     "output_type": "stream",
     "text": [
      " 18%|█▊        | 1774/9766 [1:31:01<7:16:27,  3.28s/it]"
     ]
    },
    {
     "name": "stdout",
     "output_type": "stream",
     "text": [
      "0.8 53.4 0.029225562935972997 1.3313297768695014e-05 0.3612803968893623\n"
     ]
    },
    {
     "name": "stderr",
     "output_type": "stream",
     "text": [
      " 18%|█▊        | 1777/9766 [1:31:09<6:54:35,  3.11s/it]"
     ]
    },
    {
     "name": "stdout",
     "output_type": "stream",
     "text": [
      "1.0 15.6 5.061113441547501e-06 1.4901161193847657e-09 0.44629922985052684\n"
     ]
    },
    {
     "name": "stderr",
     "output_type": "stream",
     "text": [
      " 18%|█▊        | 1780/9766 [1:31:18<7:03:50,  3.18s/it]"
     ]
    },
    {
     "name": "stdout",
     "output_type": "stream",
     "text": [
      "0.9 31.6 0.020133734073202455 7.025697449851524e-06 0.5262299915525912\n"
     ]
    },
    {
     "name": "stderr",
     "output_type": "stream",
     "text": [
      " 18%|█▊        | 1783/9766 [1:31:26<6:15:36,  2.82s/it]"
     ]
    },
    {
     "name": "stdout",
     "output_type": "stream",
     "text": [
      "1.0 12.4 5.1559412451157425e-06 3.3320009373125284e-09 0.4038890979015754\n"
     ]
    },
    {
     "name": "stderr",
     "output_type": "stream",
     "text": [
      " 18%|█▊        | 1785/9766 [1:31:36<8:51:48,  4.00s/it]"
     ]
    },
    {
     "name": "stdout",
     "output_type": "stream",
     "text": [
      "0.5 105.2 0.015709481357036228 2.9802322387695314e-09 0.34645006135975387\n"
     ]
    },
    {
     "name": "stderr",
     "output_type": "stream",
     "text": [
      " 18%|█▊        | 1788/9766 [1:31:46<8:57:51,  4.05s/it]"
     ]
    },
    {
     "name": "stdout",
     "output_type": "stream",
     "text": [
      "0.6 87.6 0.03564156707578968 3.554141274023804e-05 0.28200669648893567\n"
     ]
    },
    {
     "name": "stderr",
     "output_type": "stream",
     "text": [
      " 18%|█▊        | 1791/9766 [1:31:57<9:10:13,  4.14s/it]"
     ]
    },
    {
     "name": "stdout",
     "output_type": "stream",
     "text": [
      "0.6 92.4 0.012569852540958742 0.0 0.678858397525222\n"
     ]
    },
    {
     "name": "stderr",
     "output_type": "stream",
     "text": [
      " 18%|█▊        | 1794/9766 [1:32:08<9:19:26,  4.21s/it]"
     ]
    },
    {
     "name": "stdout",
     "output_type": "stream",
     "text": [
      "0.6 86.8 0.026345907607103036 2.1073424255447016e-09 0.3698014331391159\n"
     ]
    },
    {
     "name": "stderr",
     "output_type": "stream",
     "text": [
      " 18%|█▊        | 1797/9766 [1:32:16<6:50:41,  3.09s/it]"
     ]
    },
    {
     "name": "stdout",
     "output_type": "stream",
     "text": [
      "1.0 11.6 3.417021533893722e-06 0.0 0.36301082652343364\n"
     ]
    },
    {
     "name": "stderr",
     "output_type": "stream",
     "text": [
      " 18%|█▊        | 1799/9766 [1:32:26<9:56:02,  4.49s/it]"
     ]
    },
    {
     "name": "stdout",
     "output_type": "stream",
     "text": [
      "0.3 143.2 0.021992559956683044 4.214684851089403e-09 0.3439022385810209\n"
     ]
    },
    {
     "name": "stderr",
     "output_type": "stream",
     "text": [
      " 18%|█▊        | 1802/9766 [1:32:38<9:47:23,  4.43s/it]"
     ]
    },
    {
     "name": "stdout",
     "output_type": "stream",
     "text": [
      "0.5 108.6 0.015706384367366422 8.41957560162676e-09 0.5409453269690584\n"
     ]
    },
    {
     "name": "stderr",
     "output_type": "stream",
     "text": [
      " 18%|█▊        | 1805/9766 [1:32:47<8:12:44,  3.71s/it]"
     ]
    },
    {
     "name": "stdout",
     "output_type": "stream",
     "text": [
      "0.8 52.0 0.006286352349546001 5.087574664314233e-09 0.5789113315047537\n"
     ]
    },
    {
     "name": "stderr",
     "output_type": "stream",
     "text": [
      " 19%|█▊        | 1808/9766 [1:32:57<8:30:30,  3.85s/it]"
     ]
    },
    {
     "name": "stdout",
     "output_type": "stream",
     "text": [
      "0.6 86.8 0.012569892097209096 0.0 0.459715392202572\n"
     ]
    },
    {
     "name": "stderr",
     "output_type": "stream",
     "text": [
      " 19%|█▊        | 1811/9766 [1:33:10<10:17:34,  4.66s/it]"
     ]
    },
    {
     "name": "stdout",
     "output_type": "stream",
     "text": [
      "0.4 125.8 0.01885010476313873 0.0 0.4189239297867565\n"
     ]
    },
    {
     "name": "stderr",
     "output_type": "stream",
     "text": [
      " 19%|█▊        | 1814/9766 [1:33:21<9:34:01,  4.33s/it] "
     ]
    },
    {
     "name": "stdout",
     "output_type": "stream",
     "text": [
      "0.6 90.0 0.012577538462516243 9.510416310193781e-09 0.6058111388827112\n"
     ]
    },
    {
     "name": "stderr",
     "output_type": "stream",
     "text": [
      " 19%|█▊        | 1816/9766 [1:33:31<10:37:52,  4.81s/it]"
     ]
    },
    {
     "name": "stdout",
     "output_type": "stream",
     "text": [
      "0.5 107.4 0.015718214002508855 8.067806903083764e-09 0.49538734427833064\n"
     ]
    },
    {
     "name": "stderr",
     "output_type": "stream",
     "text": [
      " 19%|█▊        | 1818/9766 [1:33:40<10:28:47,  4.75s/it]"
     ]
    },
    {
     "name": "stdout",
     "output_type": "stream",
     "text": [
      "0.6 90.2 0.0125696561350817 2.9802322387695314e-09 0.379342401347022\n"
     ]
    },
    {
     "name": "stderr",
     "output_type": "stream",
     "text": [
      " 19%|█▊        | 1821/9766 [1:33:51<9:44:38,  4.42s/it] "
     ]
    },
    {
     "name": "stdout",
     "output_type": "stream",
     "text": [
      "0.5 105.4 0.01570893232485053 0.0 0.27766463778403117\n"
     ]
    },
    {
     "name": "stderr",
     "output_type": "stream",
     "text": [
      " 19%|█▊        | 1824/9766 [1:33:59<7:17:24,  3.30s/it]"
     ]
    },
    {
     "name": "stdout",
     "output_type": "stream",
     "text": [
      "1.0 11.8 7.871727310021265e-06 2.9802322387695314e-09 0.46471711110736214\n"
     ]
    },
    {
     "name": "stderr",
     "output_type": "stream",
     "text": [
      " 19%|█▊        | 1827/9766 [1:34:10<8:55:45,  4.05s/it]"
     ]
    },
    {
     "name": "stdout",
     "output_type": "stream",
     "text": [
      "0.5 106.0 0.030404666152291655 7.027496008205283e-06 0.49416543555163067\n"
     ]
    },
    {
     "name": "stderr",
     "output_type": "stream",
     "text": [
      " 19%|█▊        | 1830/9766 [1:34:19<7:50:28,  3.56s/it]"
     ]
    },
    {
     "name": "stdout",
     "output_type": "stream",
     "text": [
      "0.8 52.6 0.02098496625440098 7.029107171814352e-06 0.47193923034763363\n"
     ]
    },
    {
     "name": "stderr",
     "output_type": "stream",
     "text": [
      " 19%|█▉        | 1833/9766 [1:34:29<7:50:34,  3.56s/it]"
     ]
    },
    {
     "name": "stdout",
     "output_type": "stream",
     "text": [
      "0.7 70.6 0.009428192748858916 2.580956827951785e-09 0.43894788833452775\n"
     ]
    },
    {
     "name": "stderr",
     "output_type": "stream",
     "text": [
      " 19%|█▉        | 1836/9766 [1:34:39<8:10:43,  3.71s/it]"
     ]
    },
    {
     "name": "stdout",
     "output_type": "stream",
     "text": [
      "0.6 85.4 0.02724223049018442 6.2839109574327245e-06 0.432360463702732\n"
     ]
    },
    {
     "name": "stderr",
     "output_type": "stream",
     "text": [
      " 19%|█▉        | 1839/9766 [1:34:51<9:37:40,  4.37s/it]"
     ]
    },
    {
     "name": "stdout",
     "output_type": "stream",
     "text": [
      "0.3 143.2 0.08434347786390158 3.240597426604886e-05 0.3826913970314717\n"
     ]
    },
    {
     "name": "stderr",
     "output_type": "stream",
     "text": [
      " 19%|█▉        | 1842/9766 [1:34:59<7:40:15,  3.49s/it]"
     ]
    },
    {
     "name": "stdout",
     "output_type": "stream",
     "text": [
      "0.9 27.6 0.020185296662876273 7.0260953409419955e-06 0.3274803027652657\n"
     ]
    },
    {
     "name": "stderr",
     "output_type": "stream",
     "text": [
      " 19%|█▉        | 1845/9766 [1:35:07<6:23:45,  2.91s/it]"
     ]
    },
    {
     "name": "stdout",
     "output_type": "stream",
     "text": [
      "1.0 11.8 4.556789863893689e-06 2.9802322387695314e-09 0.44853449573501825\n"
     ]
    },
    {
     "name": "stderr",
     "output_type": "stream",
     "text": [
      " 19%|█▉        | 1847/9766 [1:35:12<6:19:45,  2.88s/it]"
     ]
    },
    {
     "name": "stdout",
     "output_type": "stream",
     "text": [
      "1.0 14.6 7.898750703774207e-06 7.692393154156774e-09 0.62555693436115\n"
     ]
    },
    {
     "name": "stderr",
     "output_type": "stream",
     "text": [
      " 19%|█▉        | 1849/9766 [1:35:18<6:43:24,  3.06s/it]"
     ]
    },
    {
     "name": "stdout",
     "output_type": "stream",
     "text": [
      "0.9 32.6 0.019125050139248482 6.289571286281992e-06 0.3535895006207711\n"
     ]
    },
    {
     "name": "stderr",
     "output_type": "stream",
     "text": [
      " 19%|█▉        | 1852/9766 [1:35:26<6:15:24,  2.85s/it]"
     ]
    },
    {
     "name": "stdout",
     "output_type": "stream",
     "text": [
      "1.0 13.2 6.513173011499863e-06 2.9802322387695314e-09 0.4399637968458944\n"
     ]
    },
    {
     "name": "stderr",
     "output_type": "stream",
     "text": [
      " 19%|█▉        | 1855/9766 [1:35:34<6:06:50,  2.78s/it]"
     ]
    },
    {
     "name": "stdout",
     "output_type": "stream",
     "text": [
      "1.0 14.0 5.603249053255496e-06 5.087574664314233e-09 0.5300986367511403\n"
     ]
    },
    {
     "name": "stderr",
     "output_type": "stream",
     "text": [
      " 19%|█▉        | 1857/9766 [1:35:40<6:10:51,  2.81s/it]"
     ]
    },
    {
     "name": "stdout",
     "output_type": "stream",
     "text": [
      "1.0 12.4 5.3662745261242215e-06 0.0 0.4057058682118485\n"
     ]
    },
    {
     "name": "stderr",
     "output_type": "stream",
     "text": [
      " 19%|█▉        | 1860/9766 [1:35:47<5:46:21,  2.63s/it]"
     ]
    },
    {
     "name": "stdout",
     "output_type": "stream",
     "text": [
      "1.0 11.4 3.494699214774735e-06 1.4901161193847657e-09 0.4338304035639746\n"
     ]
    },
    {
     "name": "stderr",
     "output_type": "stream",
     "text": [
      " 19%|█▉        | 1863/9766 [1:35:55<5:57:36,  2.72s/it]"
     ]
    },
    {
     "name": "stdout",
     "output_type": "stream",
     "text": [
      "1.0 17.4 9.48884121989317e-06 8.6850332092437e-09 0.4974081267608996\n"
     ]
    },
    {
     "name": "stderr",
     "output_type": "stream",
     "text": [
      " 19%|█▉        | 1865/9766 [1:36:01<6:17:38,  2.87s/it]"
     ]
    },
    {
     "name": "stdout",
     "output_type": "stream",
     "text": [
      "1.0 14.0 4.275411896872408e-06 7.194917089858934e-09 0.5416197982092419\n"
     ]
    },
    {
     "name": "stderr",
     "output_type": "stream",
     "text": [
      " 19%|█▉        | 1867/9766 [1:36:07<6:48:27,  3.10s/it]"
     ]
    },
    {
     "name": "stdout",
     "output_type": "stream",
     "text": [
      "0.9 34.6 0.02525751777857942 1.13303881726698e-05 0.5175009465951022\n"
     ]
    },
    {
     "name": "stderr",
     "output_type": "stream",
     "text": [
      " 19%|█▉        | 1869/9766 [1:36:13<6:54:32,  3.15s/it]"
     ]
    },
    {
     "name": "stdout",
     "output_type": "stream",
     "text": [
      "0.9 31.8 0.031581324903458795 6.288056177944258e-06 0.40712512062666945\n"
     ]
    },
    {
     "name": "stderr",
     "output_type": "stream",
     "text": [
      " 19%|█▉        | 1872/9766 [1:36:28<10:47:09,  4.92s/it]"
     ]
    },
    {
     "name": "stdout",
     "output_type": "stream",
     "text": [
      "0.0 200.0 0.03141515642762828 2.1073424255447016e-09 0.49341607202210297\n"
     ]
    },
    {
     "name": "stderr",
     "output_type": "stream",
     "text": [
      " 19%|█▉        | 1875/9766 [1:36:39<9:57:35,  4.54s/it] "
     ]
    },
    {
     "name": "stdout",
     "output_type": "stream",
     "text": [
      "0.5 108.0 0.015710757222555004 6.577690783698998e-09 0.5037805751193363\n"
     ]
    },
    {
     "name": "stderr",
     "output_type": "stream",
     "text": [
      " 19%|█▉        | 1878/9766 [1:36:52<11:01:23,  5.03s/it]"
     ]
    },
    {
     "name": "stdout",
     "output_type": "stream",
     "text": [
      "0.2 163.0 0.025128840534785125 6.795641679041188e-09 0.4618289040933716\n"
     ]
    },
    {
     "name": "stderr",
     "output_type": "stream",
     "text": [
      " 19%|█▉        | 1881/9766 [1:37:05<10:54:44,  4.98s/it]"
     ]
    },
    {
     "name": "stdout",
     "output_type": "stream",
     "text": [
      "0.5 107.0 0.032733634889977756 6.2820008496743985e-06 0.2970225229248428\n"
     ]
    },
    {
     "name": "stderr",
     "output_type": "stream",
     "text": [
      " 19%|█▉        | 1884/9766 [1:37:17<10:09:25,  4.64s/it]"
     ]
    },
    {
     "name": "stdout",
     "output_type": "stream",
     "text": [
      "0.6 91.4 0.0668981961951132 2.033532474836052e-05 0.36845469210777876\n"
     ]
    },
    {
     "name": "stderr",
     "output_type": "stream",
     "text": [
      " 19%|█▉        | 1887/9766 [1:37:24<7:13:28,  3.30s/it] "
     ]
    },
    {
     "name": "stdout",
     "output_type": "stream",
     "text": [
      "1.0 12.2 4.386886943730406e-06 1.4901161193847657e-09 0.49857244729585826\n"
     ]
    },
    {
     "name": "stderr",
     "output_type": "stream",
     "text": [
      " 19%|█▉        | 1890/9766 [1:37:34<7:19:12,  3.35s/it]"
     ]
    },
    {
     "name": "stdout",
     "output_type": "stream",
     "text": [
      "0.8 55.0 0.03904561594252112 6.2866494115479726e-06 0.5896999630103772\n"
     ]
    },
    {
     "name": "stderr",
     "output_type": "stream",
     "text": [
      " 19%|█▉        | 1893/9766 [1:37:42<6:49:05,  3.12s/it]"
     ]
    },
    {
     "name": "stdout",
     "output_type": "stream",
     "text": [
      "0.9 32.4 0.038878488188600104 6.284477929771666e-06 0.37965393307244366\n"
     ]
    },
    {
     "name": "stderr",
     "output_type": "stream",
     "text": [
      " 19%|█▉        | 1896/9766 [1:37:49<6:04:56,  2.78s/it]"
     ]
    },
    {
     "name": "stdout",
     "output_type": "stream",
     "text": [
      "1.0 12.8 9.349980201306383e-06 4.214684851089403e-09 0.5012959478734014\n"
     ]
    },
    {
     "name": "stderr",
     "output_type": "stream",
     "text": [
      " 19%|█▉        | 1899/9766 [1:37:57<6:05:59,  2.79s/it]"
     ]
    },
    {
     "name": "stdout",
     "output_type": "stream",
     "text": [
      "1.0 17.2 9.09052965960551e-06 8.6850332092437e-09 0.5126684042708545\n"
     ]
    },
    {
     "name": "stderr",
     "output_type": "stream",
     "text": [
      " 19%|█▉        | 1902/9766 [1:38:06<6:11:20,  2.83s/it]"
     ]
    },
    {
     "name": "stdout",
     "output_type": "stream",
     "text": [
      "1.0 14.8 7.375743882749266e-06 3.597458544929467e-09 0.2769168077995007\n"
     ]
    },
    {
     "name": "stderr",
     "output_type": "stream",
     "text": [
      " 19%|█▉        | 1904/9766 [1:38:11<6:20:50,  2.91s/it]"
     ]
    },
    {
     "name": "stdout",
     "output_type": "stream",
     "text": [
      "1.0 12.8 7.1569444163213095e-06 3.3320009373125284e-09 0.377566263429008\n"
     ]
    },
    {
     "name": "stderr",
     "output_type": "stream",
     "text": [
      " 20%|█▉        | 1907/9766 [1:38:20<6:14:36,  2.86s/it]"
     ]
    },
    {
     "name": "stdout",
     "output_type": "stream",
     "text": [
      "1.0 17.4 9.560601791364352e-06 8.067806903083765e-09 0.5042247647792993\n"
     ]
    },
    {
     "name": "stderr",
     "output_type": "stream",
     "text": [
      " 20%|█▉        | 1910/9766 [1:38:29<6:52:13,  3.15s/it]"
     ]
    },
    {
     "name": "stdout",
     "output_type": "stream",
     "text": [
      "0.8 52.8 0.04271993169413348 6.289709165833463e-06 0.7283257484469383\n"
     ]
    },
    {
     "name": "stderr",
     "output_type": "stream",
     "text": [
      " 20%|█▉        | 1912/9766 [1:38:34<6:27:56,  2.96s/it]"
     ]
    },
    {
     "name": "stdout",
     "output_type": "stream",
     "text": [
      "1.0 14.6 5.508213492081547e-06 2.580956827951785e-09 0.47301464952500333\n"
     ]
    },
    {
     "name": "stderr",
     "output_type": "stream",
     "text": [
      " 20%|█▉        | 1915/9766 [1:38:42<6:11:35,  2.84s/it]"
     ]
    },
    {
     "name": "stdout",
     "output_type": "stream",
     "text": [
      "1.0 14.6 4.620014673863654e-06 4.4703483581542975e-09 0.357597104435159\n"
     ]
    },
    {
     "name": "stderr",
     "output_type": "stream",
     "text": [
      " 20%|█▉        | 1918/9766 [1:38:50<6:09:14,  2.82s/it]"
     ]
    },
    {
     "name": "stdout",
     "output_type": "stream",
     "text": [
      "1.0 16.8 5.349952832425895e-06 1.4901161193847657e-09 0.5617766004474319\n"
     ]
    },
    {
     "name": "stderr",
     "output_type": "stream",
     "text": [
      " 20%|█▉        | 1921/9766 [1:38:59<6:34:08,  3.01s/it]"
     ]
    },
    {
     "name": "stdout",
     "output_type": "stream",
     "text": [
      "0.9 34.0 0.02012162906506992 4.822117056697294e-09 0.4145587423674636\n"
     ]
    },
    {
     "name": "stderr",
     "output_type": "stream",
     "text": [
      " 20%|█▉        | 1924/9766 [1:39:07<6:34:10,  3.02s/it]"
     ]
    },
    {
     "name": "stdout",
     "output_type": "stream",
     "text": [
      "0.9 35.4 0.017783460471195507 1.06012570187608e-08 0.6045640900715358\n"
     ]
    },
    {
     "name": "stderr",
     "output_type": "stream",
     "text": [
      " 20%|█▉        | 1927/9766 [1:39:15<6:16:58,  2.89s/it]"
     ]
    },
    {
     "name": "stdout",
     "output_type": "stream",
     "text": [
      "1.0 15.6 8.152990818381112e-06 1.0031537424875614e-08 0.6198748263742514\n"
     ]
    },
    {
     "name": "stderr",
     "output_type": "stream",
     "text": [
      " 20%|█▉        | 1930/9766 [1:39:23<6:08:16,  2.82s/it]"
     ]
    },
    {
     "name": "stdout",
     "output_type": "stream",
     "text": [
      "1.0 20.2 8.340290356358645e-06 1.4901161193847657e-09 0.5768037141151617\n"
     ]
    },
    {
     "name": "stderr",
     "output_type": "stream",
     "text": [
      " 20%|█▉        | 1933/9766 [1:39:33<7:26:12,  3.42s/it]"
     ]
    },
    {
     "name": "stdout",
     "output_type": "stream",
     "text": [
      "0.7 70.0 0.03096977428831716 2.9802322387695314e-09 0.4177925176079005\n"
     ]
    },
    {
     "name": "stderr",
     "output_type": "stream",
     "text": [
      " 20%|█▉        | 1936/9766 [1:39:44<8:22:09,  3.85s/it]"
     ]
    },
    {
     "name": "stdout",
     "output_type": "stream",
     "text": [
      "0.6 87.2 0.028101103897204466 2.1073424255447016e-09 0.42088652232454205\n"
     ]
    },
    {
     "name": "stderr",
     "output_type": "stream",
     "text": [
      " 20%|█▉        | 1939/9766 [1:39:53<7:44:05,  3.56s/it]"
     ]
    },
    {
     "name": "stdout",
     "output_type": "stream",
     "text": [
      "0.8 53.0 0.06364305421713742 1.1337569635834042e-05 0.562540929295867\n"
     ]
    },
    {
     "name": "stderr",
     "output_type": "stream",
     "text": [
      " 20%|█▉        | 1942/9766 [1:40:02<7:28:10,  3.44s/it]"
     ]
    },
    {
     "name": "stdout",
     "output_type": "stream",
     "text": [
      "0.8 49.6 0.013311622104799409 2.1073424255447016e-09 0.5103724965306421\n"
     ]
    },
    {
     "name": "stderr",
     "output_type": "stream",
     "text": [
      " 20%|█▉        | 1945/9766 [1:40:12<7:54:32,  3.64s/it]"
     ]
    },
    {
     "name": "stdout",
     "output_type": "stream",
     "text": [
      "0.7 68.4 0.021080990401330442 3.942476676500724e-09 0.49939612472811545\n"
     ]
    },
    {
     "name": "stderr",
     "output_type": "stream",
     "text": [
      " 20%|█▉        | 1948/9766 [1:40:20<6:44:24,  3.10s/it]"
     ]
    },
    {
     "name": "stdout",
     "output_type": "stream",
     "text": [
      "1.0 16.8 6.453896196532074e-06 2.9802322387695314e-09 0.3255806347410308\n"
     ]
    },
    {
     "name": "stderr",
     "output_type": "stream",
     "text": [
      " 20%|█▉        | 1951/9766 [1:40:29<6:31:42,  3.01s/it]"
     ]
    },
    {
     "name": "stdout",
     "output_type": "stream",
     "text": [
      "1.0 15.6 4.3880418036141636e-06 0.0 0.5180830421295706\n"
     ]
    },
    {
     "name": "stderr",
     "output_type": "stream",
     "text": [
      " 20%|██        | 1954/9766 [1:40:37<6:11:31,  2.85s/it]"
     ]
    },
    {
     "name": "stdout",
     "output_type": "stream",
     "text": [
      "1.0 16.2 6.88984534398992e-06 3.597458544929467e-09 0.5433331345446071\n"
     ]
    },
    {
     "name": "stderr",
     "output_type": "stream",
     "text": [
      " 20%|██        | 1956/9766 [1:40:42<6:14:33,  2.88s/it]"
     ]
    },
    {
     "name": "stdout",
     "output_type": "stream",
     "text": [
      "1.0 16.2 8.241597783289072e-06 1.4901161193847657e-09 0.4471616450268717\n"
     ]
    },
    {
     "name": "stderr",
     "output_type": "stream",
     "text": [
      " 20%|██        | 1958/9766 [1:40:48<6:29:13,  2.99s/it]"
     ]
    },
    {
     "name": "stdout",
     "output_type": "stream",
     "text": [
      "1.0 19.8 7.522660170388279e-06 7.0513051861060824e-09 0.5642192335406524\n"
     ]
    },
    {
     "name": "stderr",
     "output_type": "stream",
     "text": [
      " 20%|██        | 1960/9766 [1:40:54<6:31:30,  3.01s/it]"
     ]
    },
    {
     "name": "stdout",
     "output_type": "stream",
     "text": [
      "1.0 16.6 7.708509213474067e-06 6.577690783698998e-09 0.4249857814035251\n"
     ]
    },
    {
     "name": "stderr",
     "output_type": "stream",
     "text": [
      " 20%|██        | 1963/9766 [1:41:03<6:46:14,  3.12s/it]"
     ]
    },
    {
     "name": "stdout",
     "output_type": "stream",
     "text": [
      "0.9 35.8 0.0313552071738208 6.2838765670673505e-06 0.4537449285079965\n"
     ]
    },
    {
     "name": "stderr",
     "output_type": "stream",
     "text": [
      " 20%|██        | 1965/9766 [1:41:09<6:26:00,  2.97s/it]"
     ]
    },
    {
     "name": "stdout",
     "output_type": "stream",
     "text": [
      "1.0 11.8 4.172920502099376e-06 0.0 0.45839317799566814\n"
     ]
    },
    {
     "name": "stderr",
     "output_type": "stream",
     "text": [
      " 20%|██        | 1968/9766 [1:41:17<6:21:38,  2.94s/it]"
     ]
    },
    {
     "name": "stdout",
     "output_type": "stream",
     "text": [
      "1.0 17.8 7.247518395455111e-06 8.142145894673102e-09 0.3801717542419757\n"
     ]
    },
    {
     "name": "stderr",
     "output_type": "stream",
     "text": [
      " 20%|██        | 1970/9766 [1:41:22<6:16:17,  2.90s/it]"
     ]
    },
    {
     "name": "stdout",
     "output_type": "stream",
     "text": [
      "1.0 13.0 6.150598782245133e-06 1.4901161193847657e-09 0.4565171756169054\n"
     ]
    },
    {
     "name": "stderr",
     "output_type": "stream",
     "text": [
      " 20%|██        | 1973/9766 [1:41:31<6:08:57,  2.84s/it]"
     ]
    },
    {
     "name": "stdout",
     "output_type": "stream",
     "text": [
      "1.0 15.4 6.668740932932934e-06 3.597458544929467e-09 0.5623897463979868\n"
     ]
    },
    {
     "name": "stderr",
     "output_type": "stream",
     "text": [
      " 20%|██        | 1976/9766 [1:41:38<5:52:00,  2.71s/it]"
     ]
    },
    {
     "name": "stdout",
     "output_type": "stream",
     "text": [
      "1.0 13.2 4.710863179997406e-06 4.071072947336551e-09 0.4454133192831932\n"
     ]
    },
    {
     "name": "stderr",
     "output_type": "stream",
     "text": [
      " 20%|██        | 1978/9766 [1:41:44<6:03:20,  2.80s/it]"
     ]
    },
    {
     "name": "stdout",
     "output_type": "stream",
     "text": [
      "1.0 12.8 5.15974549830663e-06 1.4901161193847657e-09 0.44972734421422017\n"
     ]
    },
    {
     "name": "stderr",
     "output_type": "stream",
     "text": [
      " 20%|██        | 1981/9766 [1:41:51<5:48:11,  2.68s/it]"
     ]
    },
    {
     "name": "stdout",
     "output_type": "stream",
     "text": [
      "1.0 10.4 3.3042871956930323e-06 2.9802322387695314e-09 0.38288831032361015\n"
     ]
    },
    {
     "name": "stderr",
     "output_type": "stream",
     "text": [
      " 20%|██        | 1984/9766 [1:41:59<5:47:25,  2.68s/it]"
     ]
    },
    {
     "name": "stdout",
     "output_type": "stream",
     "text": [
      "1.0 11.0 4.594319861354794e-06 0.0 0.3781007007577197\n"
     ]
    },
    {
     "name": "stderr",
     "output_type": "stream",
     "text": [
      " 20%|██        | 1987/9766 [1:42:07<6:01:59,  2.79s/it]"
     ]
    },
    {
     "name": "stdout",
     "output_type": "stream",
     "text": [
      "1.0 17.6 7.968264299904933e-06 1.4901161193847657e-09 0.5715206744826086\n"
     ]
    },
    {
     "name": "stderr",
     "output_type": "stream",
     "text": [
      " 20%|██        | 1989/9766 [1:42:13<6:10:19,  2.86s/it]"
     ]
    },
    {
     "name": "stdout",
     "output_type": "stream",
     "text": [
      "1.0 15.2 7.052581639480982e-06 6.1784153728812526e-09 0.44203148263119346\n"
     ]
    },
    {
     "name": "stderr",
     "output_type": "stream",
     "text": [
      " 20%|██        | 1992/9766 [1:42:21<6:03:46,  2.81s/it]"
     ]
    },
    {
     "name": "stdout",
     "output_type": "stream",
     "text": [
      "1.0 16.4 3.602525042359982e-06 1.4901161193847657e-09 0.5054770728675687\n"
     ]
    },
    {
     "name": "stderr",
     "output_type": "stream",
     "text": [
      " 20%|██        | 1995/9766 [1:42:29<6:08:13,  2.84s/it]"
     ]
    },
    {
     "name": "stdout",
     "output_type": "stream",
     "text": [
      "1.0 11.2 5.455711273281522e-06 1.4901161193847657e-09 0.41028118802718616\n"
     ]
    },
    {
     "name": "stderr",
     "output_type": "stream",
     "text": [
      " 20%|██        | 1998/9766 [1:42:38<6:23:15,  2.96s/it]"
     ]
    },
    {
     "name": "stdout",
     "output_type": "stream",
     "text": [
      "0.9 30.0 0.04432311520219555 1.1329895617947274e-05 0.41332742745297624\n"
     ]
    },
    {
     "name": "stderr",
     "output_type": "stream",
     "text": [
      " 20%|██        | 2001/9766 [1:42:46<6:23:22,  2.96s/it]"
     ]
    },
    {
     "name": "stdout",
     "output_type": "stream",
     "text": [
      "0.9 32.0 0.04432376620412355 1.1333532748386869e-05 0.5400057874865383\n"
     ]
    },
    {
     "name": "stderr",
     "output_type": "stream",
     "text": [
      " 21%|██        | 2004/9766 [1:42:54<6:03:50,  2.81s/it]"
     ]
    },
    {
     "name": "stdout",
     "output_type": "stream",
     "text": [
      "1.0 14.6 1.4614457340954957e-05 6.664001874625057e-09 0.5230813312383751\n"
     ]
    },
    {
     "name": "stderr",
     "output_type": "stream",
     "text": [
      " 21%|██        | 2007/9766 [1:43:02<6:14:39,  2.90s/it]"
     ]
    },
    {
     "name": "stdout",
     "output_type": "stream",
     "text": [
      "1.0 16.6 7.3586879151666205e-06 0.0 0.39131966742096874\n"
     ]
    },
    {
     "name": "stderr",
     "output_type": "stream",
     "text": [
      " 21%|██        | 2010/9766 [1:43:11<6:56:33,  3.22s/it]"
     ]
    },
    {
     "name": "stdout",
     "output_type": "stream",
     "text": [
      "0.8 49.2 0.07680732565393322 1.2571533179032475e-05 0.5099940457935127\n"
     ]
    },
    {
     "name": "stderr",
     "output_type": "stream",
     "text": [
      " 21%|██        | 2012/9766 [1:43:17<6:35:19,  3.06s/it]"
     ]
    },
    {
     "name": "stdout",
     "output_type": "stream",
     "text": [
      "1.0 13.0 6.148798430942214e-06 1.4901161193847657e-09 0.5148906590515585\n"
     ]
    },
    {
     "name": "stderr",
     "output_type": "stream",
     "text": [
      " 21%|██        | 2014/9766 [1:43:27<9:30:22,  4.41s/it]"
     ]
    },
    {
     "name": "stdout",
     "output_type": "stream",
     "text": [
      "0.5 104.2 0.015707553663401607 2.9802322387695314e-09 0.5252629279160753\n"
     ]
    },
    {
     "name": "stderr",
     "output_type": "stream",
     "text": [
      " 21%|██        | 2017/9766 [1:43:37<7:57:18,  3.70s/it]"
     ]
    },
    {
     "name": "stdout",
     "output_type": "stream",
     "text": [
      "0.9 30.8 0.03333544657397741 7.022479202874455e-06 0.4851664245270742\n"
     ]
    },
    {
     "name": "stderr",
     "output_type": "stream",
     "text": [
      " 21%|██        | 2020/9766 [1:43:47<8:09:32,  3.79s/it]"
     ]
    },
    {
     "name": "stdout",
     "output_type": "stream",
     "text": [
      "0.7 71.0 0.0878517728084895 1.3297059863084718e-05 0.42474470984330914\n"
     ]
    },
    {
     "name": "stderr",
     "output_type": "stream",
     "text": [
      " 21%|██        | 2023/9766 [1:43:55<6:55:25,  3.22s/it]"
     ]
    },
    {
     "name": "stdout",
     "output_type": "stream",
     "text": [
      "0.9 32.6 0.014055016907353054 1.4901161193847657e-09 0.5223586585813841\n"
     ]
    },
    {
     "name": "stderr",
     "output_type": "stream",
     "text": [
      " 21%|██        | 2026/9766 [1:44:04<6:55:53,  3.22s/it]"
     ]
    },
    {
     "name": "stdout",
     "output_type": "stream",
     "text": [
      "0.9 30.6 0.006932786326932225 1.1329895127929925e-05 0.5589782877938239\n"
     ]
    },
    {
     "name": "stderr",
     "output_type": "stream",
     "text": [
      " 21%|██        | 2029/9766 [1:44:12<6:21:57,  2.96s/it]"
     ]
    },
    {
     "name": "stdout",
     "output_type": "stream",
     "text": [
      "1.0 10.4 4.809471298369481e-06 5.704800970474169e-09 0.3555331437399497\n"
     ]
    },
    {
     "name": "stderr",
     "output_type": "stream",
     "text": [
      " 21%|██        | 2032/9766 [1:44:20<6:15:56,  2.92s/it]"
     ]
    },
    {
     "name": "stdout",
     "output_type": "stream",
     "text": [
      "1.0 14.4 6.8485354978736595e-06 0.0 0.43986385845434556\n"
     ]
    },
    {
     "name": "stderr",
     "output_type": "stream",
     "text": [
      " 21%|██        | 2035/9766 [1:44:29<6:25:57,  3.00s/it]"
     ]
    },
    {
     "name": "stdout",
     "output_type": "stream",
     "text": [
      "1.0 11.2 4.791670117654102e-06 1.4901161193847657e-09 0.37104190694485845\n"
     ]
    },
    {
     "name": "stderr",
     "output_type": "stream",
     "text": [
      " 21%|██        | 2038/9766 [1:44:38<6:29:20,  3.02s/it]"
     ]
    },
    {
     "name": "stdout",
     "output_type": "stream",
     "text": [
      "1.0 15.8 6.459812863951478e-06 4.4703483581542975e-09 0.41934085995922743\n"
     ]
    },
    {
     "name": "stderr",
     "output_type": "stream",
     "text": [
      " 21%|██        | 2041/9766 [1:44:48<7:27:03,  3.47s/it]"
     ]
    },
    {
     "name": "stdout",
     "output_type": "stream",
     "text": [
      "0.8 49.4 0.012950451611160652 4.810768905383755e-05 0.5079117265802053\n"
     ]
    },
    {
     "name": "stderr",
     "output_type": "stream",
     "text": [
      " 21%|██        | 2044/9766 [1:44:59<8:30:02,  3.96s/it]"
     ]
    },
    {
     "name": "stdout",
     "output_type": "stream",
     "text": [
      "0.7 68.0 0.047666300328616365 5.3093031284798104e-05 0.3823577398836638\n"
     ]
    },
    {
     "name": "stderr",
     "output_type": "stream",
     "text": [
      " 21%|██        | 2047/9766 [1:45:08<7:02:47,  3.29s/it]"
     ]
    },
    {
     "name": "stdout",
     "output_type": "stream",
     "text": [
      "1.0 12.8 5.795339508297533e-06 2.9802322387695314e-09 0.48260543760201885\n"
     ]
    },
    {
     "name": "stderr",
     "output_type": "stream",
     "text": [
      " 21%|██        | 2050/9766 [1:45:22<10:17:59,  4.81s/it]"
     ]
    },
    {
     "name": "stdout",
     "output_type": "stream",
     "text": [
      "0.3 143.0 0.03142895474260375 4.7690752414529166e-05 0.38908444031990896\n"
     ]
    },
    {
     "name": "stderr",
     "output_type": "stream",
     "text": [
      " 21%|██        | 2053/9766 [1:45:31<8:20:16,  3.89s/it] "
     ]
    },
    {
     "name": "stdout",
     "output_type": "stream",
     "text": [
      "0.8 47.2 0.016421228642694245 7.026359851779321e-06 0.3141193518051277\n"
     ]
    },
    {
     "name": "stderr",
     "output_type": "stream",
     "text": [
      " 21%|██        | 2056/9766 [1:45:46<11:16:11,  5.26s/it]"
     ]
    },
    {
     "name": "stdout",
     "output_type": "stream",
     "text": [
      "0.1 180.6 0.0469181508252234 1.9591273422975985e-05 0.43438328258034387\n"
     ]
    },
    {
     "name": "stderr",
     "output_type": "stream",
     "text": [
      " 21%|██        | 2059/9766 [1:45:54<7:49:00,  3.65s/it] "
     ]
    },
    {
     "name": "stdout",
     "output_type": "stream",
     "text": [
      "1.0 13.2 5.280346634329866e-06 3.597458544929467e-09 0.5631473000911437\n"
     ]
    },
    {
     "name": "stderr",
     "output_type": "stream",
     "text": [
      " 21%|██        | 2062/9766 [1:46:06<8:58:11,  4.19s/it]"
     ]
    },
    {
     "name": "stdout",
     "output_type": "stream",
     "text": [
      "0.6 89.0 0.012569451961872074 1.4901161193847657e-09 0.3646801499895986\n"
     ]
    },
    {
     "name": "stderr",
     "output_type": "stream",
     "text": [
      " 21%|██        | 2065/9766 [1:46:16<8:17:39,  3.88s/it]"
     ]
    },
    {
     "name": "stdout",
     "output_type": "stream",
     "text": [
      "0.7 67.6 0.015713712263512113 1.2570585155089004e-05 0.3673263731855331\n"
     ]
    },
    {
     "name": "stderr",
     "output_type": "stream",
     "text": [
      " 21%|██        | 2068/9766 [1:46:26<8:06:22,  3.79s/it]"
     ]
    },
    {
     "name": "stdout",
     "output_type": "stream",
     "text": [
      "0.7 69.6 0.018790998415582138 7.026481324900215e-06 0.40817215069168994\n"
     ]
    },
    {
     "name": "stderr",
     "output_type": "stream",
     "text": [
      " 21%|██        | 2072/9766 [1:46:43<11:01:47,  5.16s/it]"
     ]
    },
    {
     "name": "stdout",
     "output_type": "stream",
     "text": [
      "0.0 200.0 0.047122532492778736 1.4901161193847657e-09 0.5250949246342342\n"
     ]
    },
    {
     "name": "stderr",
     "output_type": "stream",
     "text": [
      " 21%|██        | 2075/9766 [1:46:52<8:44:21,  4.09s/it] "
     ]
    },
    {
     "name": "stdout",
     "output_type": "stream",
     "text": [
      "0.7 70.6 0.01885469365805081 1.4901161193847657e-09 0.4894936989962382\n"
     ]
    },
    {
     "name": "stderr",
     "output_type": "stream",
     "text": [
      " 21%|██▏       | 2078/9766 [1:47:02<7:50:12,  3.67s/it]"
     ]
    },
    {
     "name": "stdout",
     "output_type": "stream",
     "text": [
      "0.8 49.2 0.00628823739863698 1.4901161193847657e-09 0.35034568236932007\n"
     ]
    },
    {
     "name": "stderr",
     "output_type": "stream",
     "text": [
      " 21%|██▏       | 2081/9766 [1:47:12<8:04:32,  3.78s/it]"
     ]
    },
    {
     "name": "stdout",
     "output_type": "stream",
     "text": [
      "0.7 65.8 0.00942808448525163 2.9802322387695314e-09 0.37110706967125195\n"
     ]
    },
    {
     "name": "stderr",
     "output_type": "stream",
     "text": [
      " 21%|██▏       | 2085/9766 [1:47:27<9:16:03,  4.34s/it]"
     ]
    },
    {
     "name": "stdout",
     "output_type": "stream",
     "text": [
      "0.3 142.6 0.03455791780166217 2.1073424255447016e-09 0.4893770942064967\n"
     ]
    },
    {
     "name": "stderr",
     "output_type": "stream",
     "text": [
      " 21%|██▏       | 2088/9766 [1:47:37<8:30:33,  3.99s/it]"
     ]
    },
    {
     "name": "stdout",
     "output_type": "stream",
     "text": [
      "0.6 86.4 0.018850396644261958 3.597458544929467e-09 0.39355601088871167\n"
     ]
    },
    {
     "name": "stderr",
     "output_type": "stream",
     "text": [
      " 21%|██▏       | 2091/9766 [1:47:47<8:13:41,  3.86s/it]"
     ]
    },
    {
     "name": "stdout",
     "output_type": "stream",
     "text": [
      "0.6 88.0 0.012570057711111717 3.597458544929467e-09 0.5603372636125604\n"
     ]
    },
    {
     "name": "stderr",
     "output_type": "stream",
     "text": [
      " 21%|██▏       | 2094/9766 [1:47:54<6:28:32,  3.04s/it]"
     ]
    },
    {
     "name": "stdout",
     "output_type": "stream",
     "text": [
      "1.0 13.8 4.514477641087661e-06 2.580956827951785e-09 0.456176752095406\n"
     ]
    },
    {
     "name": "stderr",
     "output_type": "stream",
     "text": [
      " 21%|██▏       | 2097/9766 [1:48:04<7:40:21,  3.60s/it]"
     ]
    },
    {
     "name": "stdout",
     "output_type": "stream",
     "text": [
      "0.6 89.6 0.01571275138833523 6.285193932298823e-06 0.507391887070501\n"
     ]
    },
    {
     "name": "stderr",
     "output_type": "stream",
     "text": [
      " 22%|██▏       | 2100/9766 [1:48:13<7:10:16,  3.37s/it]"
     ]
    },
    {
     "name": "stdout",
     "output_type": "stream",
     "text": [
      "0.8 53.4 0.006290422250311084 1.4901161193847657e-09 0.5388632562737221\n"
     ]
    },
    {
     "name": "stderr",
     "output_type": "stream",
     "text": [
      " 22%|██▏       | 2103/9766 [1:48:22<7:04:55,  3.33s/it]"
     ]
    },
    {
     "name": "stdout",
     "output_type": "stream",
     "text": [
      "0.8 51.2 0.006290046829002351 2.1073424255447016e-09 0.5396745047018875\n"
     ]
    },
    {
     "name": "stderr",
     "output_type": "stream",
     "text": [
      " 22%|██▏       | 2106/9766 [1:48:31<6:39:27,  3.13s/it]"
     ]
    },
    {
     "name": "stdout",
     "output_type": "stream",
     "text": [
      "0.9 28.6 0.0031440718482241004 0.0 0.4748303631330074\n"
     ]
    },
    {
     "name": "stderr",
     "output_type": "stream",
     "text": [
      " 22%|██▏       | 2109/9766 [1:48:40<6:55:50,  3.26s/it]"
     ]
    },
    {
     "name": "stdout",
     "output_type": "stream",
     "text": [
      "0.8 55.6 0.009430128165195204 5.087574664314233e-09 0.5402517491925816\n"
     ]
    },
    {
     "name": "stderr",
     "output_type": "stream",
     "text": [
      " 22%|██▏       | 2112/9766 [1:48:51<8:11:38,  3.85s/it]"
     ]
    },
    {
     "name": "stdout",
     "output_type": "stream",
     "text": [
      "0.5 105.8 0.01571114149064665 0.0 0.43970145916715814\n"
     ]
    },
    {
     "name": "stderr",
     "output_type": "stream",
     "text": [
      " 22%|██▏       | 2115/9766 [1:49:03<9:40:22,  4.55s/it]"
     ]
    },
    {
     "name": "stdout",
     "output_type": "stream",
     "text": [
      "0.3 142.8 0.021993255563869406 3.597458544929467e-09 0.6163838768242297\n"
     ]
    },
    {
     "name": "stderr",
     "output_type": "stream",
     "text": [
      " 22%|██▏       | 2118/9766 [1:49:13<8:37:08,  4.06s/it]"
     ]
    },
    {
     "name": "stdout",
     "output_type": "stream",
     "text": [
      "0.6 86.0 0.012566958626227132 0.0 0.41051071986917337\n"
     ]
    },
    {
     "name": "stderr",
     "output_type": "stream",
     "text": [
      " 22%|██▏       | 2121/9766 [1:49:21<6:57:04,  3.27s/it]"
     ]
    },
    {
     "name": "stdout",
     "output_type": "stream",
     "text": [
      "0.9 33.4 0.019114537199041527 0.0 0.3808039801599947\n"
     ]
    },
    {
     "name": "stderr",
     "output_type": "stream",
     "text": [
      " 22%|██▏       | 2124/9766 [1:49:29<6:25:45,  3.03s/it]"
     ]
    },
    {
     "name": "stdout",
     "output_type": "stream",
     "text": [
      "0.9 29.2 0.006285251051453565 2.580956827951785e-09 0.45310372839403507\n"
     ]
    },
    {
     "name": "stderr",
     "output_type": "stream",
     "text": [
      " 22%|██▏       | 2127/9766 [1:49:41<8:36:29,  4.06s/it]"
     ]
    },
    {
     "name": "stdout",
     "output_type": "stream",
     "text": [
      "0.4 125.6 0.028276411405385025 0.0 0.4017757407766075\n"
     ]
    },
    {
     "name": "stderr",
     "output_type": "stream",
     "text": [
      " 22%|██▏       | 2130/9766 [1:49:53<9:37:35,  4.54s/it]"
     ]
    },
    {
     "name": "stdout",
     "output_type": "stream",
     "text": [
      "0.3 144.0 0.02771232092050358 7.027485928241801e-06 0.4485372941761285\n"
     ]
    },
    {
     "name": "stderr",
     "output_type": "stream",
     "text": [
      " 22%|██▏       | 2133/9766 [1:50:00<6:49:56,  3.22s/it]"
     ]
    },
    {
     "name": "stdout",
     "output_type": "stream",
     "text": [
      "1.0 11.8 7.0657514451065975e-06 1.4901161193847657e-09 0.27972644767481947\n"
     ]
    },
    {
     "name": "stderr",
     "output_type": "stream",
     "text": [
      " 22%|██▏       | 2136/9766 [1:50:10<7:19:18,  3.45s/it]"
     ]
    },
    {
     "name": "stdout",
     "output_type": "stream",
     "text": [
      "0.7 67.8 0.015650136864644556 2.809930272485727e-05 0.4512227296608177\n"
     ]
    },
    {
     "name": "stderr",
     "output_type": "stream",
     "text": [
      " 22%|██▏       | 2139/9766 [1:50:18<6:32:31,  3.09s/it]"
     ]
    },
    {
     "name": "stdout",
     "output_type": "stream",
     "text": [
      "0.9 29.8 0.0032122293690699287 1.4049232194767017e-05 0.3618907764829562\n"
     ]
    },
    {
     "name": "stderr",
     "output_type": "stream",
     "text": [
      " 22%|██▏       | 2142/9766 [1:50:25<5:47:38,  2.74s/it]"
     ]
    },
    {
     "name": "stdout",
     "output_type": "stream",
     "text": [
      "1.0 11.2 3.61838593950685e-06 3.3320009373125284e-09 0.5165304070499813\n"
     ]
    },
    {
     "name": "stderr",
     "output_type": "stream",
     "text": [
      " 22%|██▏       | 2145/9766 [1:50:33<5:33:50,  2.63s/it]"
     ]
    },
    {
     "name": "stdout",
     "output_type": "stream",
     "text": [
      "1.0 12.6 4.51513938044794e-06 3.597458544929467e-09 0.645397006951029\n"
     ]
    },
    {
     "name": "stderr",
     "output_type": "stream",
     "text": [
      " 22%|██▏       | 2147/9766 [1:50:38<5:52:18,  2.77s/it]"
     ]
    },
    {
     "name": "stdout",
     "output_type": "stream",
     "text": [
      "1.0 12.0 3.91539479143275e-06 5.087574664314233e-09 0.42720877978530486\n"
     ]
    },
    {
     "name": "stderr",
     "output_type": "stream",
     "text": [
      " 22%|██▏       | 2150/9766 [1:50:46<5:39:47,  2.68s/it]"
     ]
    },
    {
     "name": "stdout",
     "output_type": "stream",
     "text": [
      "1.0 11.6 5.109638044242463e-06 4.6882992534964865e-09 0.4701333377680029\n"
     ]
    },
    {
     "name": "stderr",
     "output_type": "stream",
     "text": [
      " 22%|██▏       | 2152/9766 [1:50:52<6:18:38,  2.98s/it]"
     ]
    },
    {
     "name": "stdout",
     "output_type": "stream",
     "text": [
      "0.9 31.2 0.006224333058925922 1.405261993811328e-05 0.5189384459563007\n"
     ]
    },
    {
     "name": "stderr",
     "output_type": "stream",
     "text": [
      " 22%|██▏       | 2155/9766 [1:51:03<7:40:02,  3.63s/it]"
     ]
    },
    {
     "name": "stdout",
     "output_type": "stream",
     "text": [
      "0.6 87.0 0.012569874396120673 2.1073424255447016e-09 0.35800442047504216\n"
     ]
    },
    {
     "name": "stderr",
     "output_type": "stream",
     "text": [
      " 22%|██▏       | 2158/9766 [1:51:14<8:24:39,  3.98s/it]"
     ]
    },
    {
     "name": "stdout",
     "output_type": "stream",
     "text": [
      "0.5 110.0 0.07000154163655964 1.777741803678806e-05 0.5230210453337147\n"
     ]
    },
    {
     "name": "stderr",
     "output_type": "stream",
     "text": [
      " 22%|██▏       | 2162/9766 [1:51:27<8:27:42,  4.01s/it]"
     ]
    },
    {
     "name": "stdout",
     "output_type": "stream",
     "text": [
      "0.4 124.8 0.03141987442952197 5.140140269373623e-09 0.5140437473722655\n"
     ]
    },
    {
     "name": "stderr",
     "output_type": "stream",
     "text": [
      " 22%|██▏       | 2166/9766 [1:51:38<7:28:44,  3.54s/it]"
     ]
    },
    {
     "name": "stdout",
     "output_type": "stream",
     "text": [
      "0.6 87.4 0.018849068358384326 1.4901161193847657e-09 0.42327591988719526\n"
     ]
    },
    {
     "name": "stderr",
     "output_type": "stream",
     "text": [
      " 22%|██▏       | 2173/9766 [1:51:54<6:46:57,  3.22s/it]"
     ]
    },
    {
     "name": "stdout",
     "output_type": "stream",
     "text": [
      "0.5 106.4 0.032525075286320204 1.4054418494033823e-05 0.3566663492518999\n"
     ]
    },
    {
     "name": "stderr",
     "output_type": "stream",
     "text": [
      " 22%|██▏       | 2176/9766 [1:52:07<9:35:24,  4.55s/it]"
     ]
    },
    {
     "name": "stdout",
     "output_type": "stream",
     "text": [
      "0.2 160.8 0.025132048368379328 2.1073424255447016e-09 0.42882583945373415\n"
     ]
    },
    {
     "name": "stderr",
     "output_type": "stream",
     "text": [
      " 22%|██▏       | 2179/9766 [1:52:17<8:14:38,  3.91s/it]"
     ]
    },
    {
     "name": "stdout",
     "output_type": "stream",
     "text": [
      "0.7 68.4 0.009429163911502792 0.0 0.4308368861210381\n"
     ]
    },
    {
     "name": "stderr",
     "output_type": "stream",
     "text": [
      " 22%|██▏       | 2182/9766 [1:52:24<6:17:11,  2.98s/it]"
     ]
    },
    {
     "name": "stdout",
     "output_type": "stream",
     "text": [
      "1.0 9.4 3.0052981864738512e-06 0.0 0.3432573364443341\n"
     ]
    },
    {
     "name": "stderr",
     "output_type": "stream",
     "text": [
      " 22%|██▏       | 2185/9766 [1:52:32<5:56:31,  2.82s/it]"
     ]
    },
    {
     "name": "stdout",
     "output_type": "stream",
     "text": [
      "0.9 28.0 0.0031438607840066557 0.0 0.35657358383035453\n"
     ]
    },
    {
     "name": "stderr",
     "output_type": "stream",
     "text": [
      " 22%|██▏       | 2189/9766 [1:52:44<7:22:28,  3.50s/it]"
     ]
    },
    {
     "name": "stdout",
     "output_type": "stream",
     "text": [
      "0.5 105.6 0.03303899335744963 1.4049011558721423e-05 0.5394064238283808\n"
     ]
    },
    {
     "name": "stderr",
     "output_type": "stream",
     "text": [
      " 22%|██▏       | 2192/9766 [1:52:55<8:09:38,  3.88s/it]"
     ]
    },
    {
     "name": "stdout",
     "output_type": "stream",
     "text": [
      "0.5 104.2 0.015709242446844705 0.0 0.381088094878106\n"
     ]
    },
    {
     "name": "stderr",
     "output_type": "stream",
     "text": [
      " 22%|██▏       | 2195/9766 [1:53:03<6:39:05,  3.16s/it]"
     ]
    },
    {
     "name": "stdout",
     "output_type": "stream",
     "text": [
      "0.9 32.8 0.003147092941068131 2.1073424255447016e-09 0.4797467110769543\n"
     ]
    },
    {
     "name": "stderr",
     "output_type": "stream",
     "text": [
      " 23%|██▎       | 2198/9766 [1:53:12<7:18:01,  3.47s/it]"
     ]
    },
    {
     "name": "stdout",
     "output_type": "stream",
     "text": [
      "0.7 69.2 0.009428802566662545 3.597458544929467e-09 0.5933949987167506\n"
     ]
    },
    {
     "name": "stderr",
     "output_type": "stream",
     "text": [
      " 23%|██▎       | 2201/9766 [1:53:20<6:27:10,  3.07s/it]"
     ]
    },
    {
     "name": "stdout",
     "output_type": "stream",
     "text": [
      "0.9 31.0 0.034005537865738525 1.911288422723513e-05 0.40227439247264807\n"
     ]
    },
    {
     "name": "stderr",
     "output_type": "stream",
     "text": [
      " 23%|██▎       | 2204/9766 [1:53:31<7:36:12,  3.62s/it]"
     ]
    },
    {
     "name": "stdout",
     "output_type": "stream",
     "text": [
      "0.6 87.8 0.04164364639706435 1.9114097989572925e-05 0.36597819699059314\n"
     ]
    },
    {
     "name": "stderr",
     "output_type": "stream",
     "text": [
      " 23%|██▎       | 2207/9766 [1:53:40<7:10:08,  3.41s/it]"
     ]
    },
    {
     "name": "stdout",
     "output_type": "stream",
     "text": [
      "0.8 50.0 0.006289341135932755 5.704800970474169e-09 0.5334587687947699\n"
     ]
    },
    {
     "name": "stderr",
     "output_type": "stream",
     "text": [
      " 23%|██▎       | 2210/9766 [1:53:50<7:50:48,  3.74s/it]"
     ]
    },
    {
     "name": "stdout",
     "output_type": "stream",
     "text": [
      "0.6 86.8 0.034385860861215645 1.4901161193847657e-09 0.3907528427726875\n"
     ]
    },
    {
     "name": "stderr",
     "output_type": "stream",
     "text": [
      " 23%|██▎       | 2213/9766 [1:54:01<8:35:53,  4.10s/it]"
     ]
    },
    {
     "name": "stdout",
     "output_type": "stream",
     "text": [
      "0.5 106.0 0.02827462722114548 5.432592795885489e-09 0.5060994158488954\n"
     ]
    },
    {
     "name": "stderr",
     "output_type": "stream",
     "text": [
      " 23%|██▎       | 2216/9766 [1:54:13<9:13:58,  4.40s/it]"
     ]
    },
    {
     "name": "stdout",
     "output_type": "stream",
     "text": [
      "0.4 123.4 0.027085031197993853 6.285193932298823e-06 0.5667320688604579\n"
     ]
    },
    {
     "name": "stderr",
     "output_type": "stream",
     "text": [
      " 23%|██▎       | 2219/9766 [1:54:23<8:28:03,  4.04s/it]"
     ]
    },
    {
     "name": "stdout",
     "output_type": "stream",
     "text": [
      "0.6 89.8 0.02923697408357596 6.290972543673232e-06 0.523502893900427\n"
     ]
    },
    {
     "name": "stderr",
     "output_type": "stream",
     "text": [
      " 23%|██▎       | 2222/9766 [1:54:35<9:15:37,  4.42s/it]"
     ]
    },
    {
     "name": "stdout",
     "output_type": "stream",
     "text": [
      "0.4 126.4 0.03262812690220927 2.1073424255447016e-09 0.5977396495719405\n"
     ]
    },
    {
     "name": "stderr",
     "output_type": "stream",
     "text": [
      " 23%|██▎       | 2225/9766 [1:54:46<9:01:42,  4.31s/it]"
     ]
    },
    {
     "name": "stdout",
     "output_type": "stream",
     "text": [
      "0.5 107.0 0.06431719734862829 8.630775929997211e-09 0.6245745029979902\n"
     ]
    },
    {
     "name": "stderr",
     "output_type": "stream",
     "text": [
      " 23%|██▎       | 2228/9766 [1:54:58<9:33:31,  4.57s/it]"
     ]
    },
    {
     "name": "stdout",
     "output_type": "stream",
     "text": [
      "0.4 127.2 0.01885066907323632 6.577690783698998e-09 0.6045417602080253\n"
     ]
    },
    {
     "name": "stderr",
     "output_type": "stream",
     "text": [
      " 23%|██▎       | 2231/9766 [1:55:07<7:52:38,  3.76s/it]"
     ]
    },
    {
     "name": "stdout",
     "output_type": "stream",
     "text": [
      "0.8 49.6 0.04925567478437783 7.0259517160379716e-06 0.44333832059402045\n"
     ]
    },
    {
     "name": "stderr",
     "output_type": "stream",
     "text": [
      " 23%|██▎       | 2234/9766 [1:55:15<6:22:37,  3.05s/it]"
     ]
    },
    {
     "name": "stdout",
     "output_type": "stream",
     "text": [
      "1.0 14.0 9.785925411936296e-06 4.214684851089403e-09 0.6478592027143677\n"
     ]
    },
    {
     "name": "stderr",
     "output_type": "stream",
     "text": [
      " 23%|██▎       | 2237/9766 [1:55:22<5:42:36,  2.73s/it]"
     ]
    },
    {
     "name": "stdout",
     "output_type": "stream",
     "text": [
      "1.0 11.2 5.395566770854794e-06 0.0 0.4941191211983032\n"
     ]
    },
    {
     "name": "stderr",
     "output_type": "stream",
     "text": [
      " 23%|██▎       | 2240/9766 [1:55:35<8:45:51,  4.19s/it]"
     ]
    },
    {
     "name": "stdout",
     "output_type": "stream",
     "text": [
      "0.3 142.2 0.06511164799213853 7.026304793049224e-06 0.43780575122591986\n"
     ]
    },
    {
     "name": "stderr",
     "output_type": "stream",
     "text": [
      " 23%|██▎       | 2242/9766 [1:55:45<9:59:22,  4.78s/it]"
     ]
    },
    {
     "name": "stdout",
     "output_type": "stream",
     "text": [
      "0.4 123.6 0.018847075034397948 6.577690783698998e-09 0.6284830656365219\n"
     ]
    },
    {
     "name": "stderr",
     "output_type": "stream",
     "text": [
      " 23%|██▎       | 2245/9766 [1:55:58<10:41:00,  5.11s/it]"
     ]
    },
    {
     "name": "stdout",
     "output_type": "stream",
     "text": [
      "0.2 162.2 0.025133129989560875 6.1784153728812526e-09 0.5098102820635001\n"
     ]
    },
    {
     "name": "stderr",
     "output_type": "stream",
     "text": [
      " 23%|██▎       | 2247/9766 [1:56:08<11:01:28,  5.28s/it]"
     ]
    },
    {
     "name": "stdout",
     "output_type": "stream",
     "text": [
      "0.4 122.8 0.060449315781696156 1.4052565500689179e-05 0.29641555025315874\n"
     ]
    },
    {
     "name": "stderr",
     "output_type": "stream",
     "text": [
      " 23%|██▎       | 2250/9766 [1:56:21<10:42:54,  5.13s/it]"
     ]
    },
    {
     "name": "stdout",
     "output_type": "stream",
     "text": [
      "0.2 161.8 0.048064867829469754 1.1331831179402636e-05 0.3986071663074212\n"
     ]
    },
    {
     "name": "stderr",
     "output_type": "stream",
     "text": [
      " 23%|██▎       | 2253/9766 [1:56:32<9:12:59,  4.42s/it] "
     ]
    },
    {
     "name": "stdout",
     "output_type": "stream",
     "text": [
      "0.6 89.4 0.012567044506155343 2.1073424255447016e-09 0.5586129580591968\n"
     ]
    },
    {
     "name": "stderr",
     "output_type": "stream",
     "text": [
      " 23%|██▎       | 2256/9766 [1:56:39<6:48:51,  3.27s/it]"
     ]
    },
    {
     "name": "stdout",
     "output_type": "stream",
     "text": [
      "1.0 14.6 4.401720660498443e-06 0.0 0.4691156187476171\n"
     ]
    },
    {
     "name": "stderr",
     "output_type": "stream",
     "text": [
      " 23%|██▎       | 2259/9766 [1:56:47<6:05:29,  2.92s/it]"
     ]
    },
    {
     "name": "stdout",
     "output_type": "stream",
     "text": [
      "1.0 15.4 5.147985157102706e-06 1.1873422242803376e-08 0.5707851235110928\n"
     ]
    },
    {
     "name": "stderr",
     "output_type": "stream",
     "text": [
      " 23%|██▎       | 2261/9766 [1:56:57<9:04:40,  4.35s/it]"
     ]
    },
    {
     "name": "stdout",
     "output_type": "stream",
     "text": [
      "0.3 143.6 0.021986718690909172 4.6882992534964865e-09 0.385392034411166\n"
     ]
    },
    {
     "name": "stderr",
     "output_type": "stream",
     "text": [
      " 23%|██▎       | 2263/9766 [1:57:05<8:24:36,  4.04s/it]"
     ]
    },
    {
     "name": "stdout",
     "output_type": "stream",
     "text": [
      "0.8 52.0 0.006291222822861879 2.1073424255447016e-09 0.5365543013159704\n"
     ]
    },
    {
     "name": "stderr",
     "output_type": "stream",
     "text": [
      " 23%|██▎       | 2266/9766 [1:57:13<7:01:28,  3.37s/it]"
     ]
    },
    {
     "name": "stdout",
     "output_type": "stream",
     "text": [
      "0.9 32.8 0.026916574157956803 7.03121525560646e-06 0.5798700401436273\n"
     ]
    },
    {
     "name": "stderr",
     "output_type": "stream",
     "text": [
      " 23%|██▎       | 2269/9766 [1:57:21<6:28:34,  3.11s/it]"
     ]
    },
    {
     "name": "stdout",
     "output_type": "stream",
     "text": [
      "0.9 31.0 0.02279909757660426 1.6925724066475713e-05 0.37469667499448767\n"
     ]
    },
    {
     "name": "stderr",
     "output_type": "stream",
     "text": [
      " 23%|██▎       | 2271/9766 [1:57:27<6:11:45,  2.98s/it]"
     ]
    },
    {
     "name": "stdout",
     "output_type": "stream",
     "text": [
      "1.0 15.2 8.089374174243318e-06 6.1784153728812526e-09 0.6150901375101869\n"
     ]
    },
    {
     "name": "stderr",
     "output_type": "stream",
     "text": [
      " 23%|██▎       | 2274/9766 [1:57:35<5:46:39,  2.78s/it]"
     ]
    },
    {
     "name": "stdout",
     "output_type": "stream",
     "text": [
      "1.0 13.2 4.767916626086374e-06 0.0 0.4405519294916657\n"
     ]
    },
    {
     "name": "stderr",
     "output_type": "stream",
     "text": [
      " 23%|██▎       | 2276/9766 [1:57:40<5:55:30,  2.85s/it]"
     ]
    },
    {
     "name": "stdout",
     "output_type": "stream",
     "text": [
      "1.0 16.0 5.187593698574202e-06 4.470348358154297e-09 0.6276076330268711\n"
     ]
    },
    {
     "name": "stderr",
     "output_type": "stream",
     "text": [
      " 23%|██▎       | 2278/9766 [1:57:46<5:48:40,  2.79s/it]"
     ]
    },
    {
     "name": "stdout",
     "output_type": "stream",
     "text": [
      "1.0 11.4 3.8107815922182018e-06 2.580956827951785e-09 0.43671297477807125\n"
     ]
    },
    {
     "name": "stderr",
     "output_type": "stream",
     "text": [
      " 23%|██▎       | 2281/9766 [1:57:54<5:55:48,  2.85s/it]"
     ]
    },
    {
     "name": "stdout",
     "output_type": "stream",
     "text": [
      "0.9 28.4 0.014056794372985622 2.9802322387695314e-09 0.3250308073155426\n"
     ]
    },
    {
     "name": "stderr",
     "output_type": "stream",
     "text": [
      " 23%|██▎       | 2284/9766 [1:58:03<6:48:19,  3.27s/it]"
     ]
    },
    {
     "name": "stdout",
     "output_type": "stream",
     "text": [
      "0.7 67.0 0.023204618392894647 2.9802322387695314e-09 0.34026980888940717\n"
     ]
    },
    {
     "name": "stderr",
     "output_type": "stream",
     "text": [
      " 23%|██▎       | 2287/9766 [1:58:15<8:29:06,  4.08s/it]"
     ]
    },
    {
     "name": "stdout",
     "output_type": "stream",
     "text": [
      "0.4 123.8 0.04386490721290019 1.2567303224883855e-05 0.5548251537354905\n"
     ]
    },
    {
     "name": "stderr",
     "output_type": "stream",
     "text": [
      " 23%|██▎       | 2290/9766 [1:58:22<6:29:52,  3.13s/it]"
     ]
    },
    {
     "name": "stdout",
     "output_type": "stream",
     "text": [
      "1.0 17.2 8.354665961972202e-06 8.41957560162676e-09 0.5366669348512594\n"
     ]
    },
    {
     "name": "stderr",
     "output_type": "stream",
     "text": [
      " 23%|██▎       | 2293/9766 [1:58:33<8:04:16,  3.89s/it]"
     ]
    },
    {
     "name": "stdout",
     "output_type": "stream",
     "text": [
      "0.5 106.4 0.015706840885506945 3.597458544929467e-09 0.5762521628543775\n"
     ]
    },
    {
     "name": "stderr",
     "output_type": "stream",
     "text": [
      " 24%|██▎       | 2296/9766 [1:58:44<8:29:19,  4.09s/it]"
     ]
    },
    {
     "name": "stdout",
     "output_type": "stream",
     "text": [
      "0.5 104.2 0.03784355439784973 1.132661045737398e-05 0.3399878335390119\n"
     ]
    },
    {
     "name": "stderr",
     "output_type": "stream",
     "text": [
      " 24%|██▎       | 2299/9766 [1:58:52<6:39:42,  3.21s/it]"
     ]
    },
    {
     "name": "stdout",
     "output_type": "stream",
     "text": [
      "0.9 30.2 0.0031510964799995175 1.2568477901012203e-05 0.36300508044646956\n"
     ]
    },
    {
     "name": "stderr",
     "output_type": "stream",
     "text": [
      " 24%|██▎       | 2302/9766 [1:58:59<5:46:08,  2.78s/it]"
     ]
    },
    {
     "name": "stdout",
     "output_type": "stream",
     "text": [
      "1.0 11.2 7.460558369111545e-06 2.9802322387695314e-09 0.6229995932008892\n"
     ]
    },
    {
     "name": "stderr",
     "output_type": "stream",
     "text": [
      " 24%|██▎       | 2305/9766 [1:59:07<5:35:23,  2.70s/it]"
     ]
    },
    {
     "name": "stdout",
     "output_type": "stream",
     "text": [
      "1.0 15.2 3.4848600900024167e-06 6.31223317608206e-09 0.5820861217937436\n"
     ]
    },
    {
     "name": "stderr",
     "output_type": "stream",
     "text": [
      " 24%|██▎       | 2308/9766 [1:59:15<5:26:36,  2.63s/it]"
     ]
    },
    {
     "name": "stdout",
     "output_type": "stream",
     "text": [
      "1.0 13.2 4.273481519914528e-06 0.0 0.42654801264478326\n"
     ]
    },
    {
     "name": "stderr",
     "output_type": "stream",
     "text": [
      " 24%|██▎       | 2311/9766 [1:59:22<5:16:22,  2.55s/it]"
     ]
    },
    {
     "name": "stdout",
     "output_type": "stream",
     "text": [
      "1.0 8.6 4.77703761078742e-06 1.4901161193847657e-09 0.3680484529544783\n"
     ]
    },
    {
     "name": "stderr",
     "output_type": "stream",
     "text": [
      " 24%|██▎       | 2314/9766 [1:59:31<6:21:14,  3.07s/it]"
     ]
    },
    {
     "name": "stdout",
     "output_type": "stream",
     "text": [
      "0.8 52.2 0.033786077980484316 6.2817147468906656e-06 0.5268713915784581\n"
     ]
    },
    {
     "name": "stderr",
     "output_type": "stream",
     "text": [
      " 24%|██▎       | 2317/9766 [1:59:39<6:10:09,  2.98s/it]"
     ]
    },
    {
     "name": "stdout",
     "output_type": "stream",
     "text": [
      "0.9 29.6 0.025993727896851764 1.133055222215474e-05 0.4200157026408496\n"
     ]
    },
    {
     "name": "stderr",
     "output_type": "stream",
     "text": [
      " 24%|██▍       | 2320/9766 [1:59:47<6:08:06,  2.97s/it]"
     ]
    },
    {
     "name": "stdout",
     "output_type": "stream",
     "text": [
      "0.9 31.0 0.011444725855559631 1.1329907157255713e-05 0.5821624764154163\n"
     ]
    },
    {
     "name": "stderr",
     "output_type": "stream",
     "text": [
      " 24%|██▍       | 2323/9766 [1:59:58<7:22:48,  3.57s/it]"
     ]
    },
    {
     "name": "stdout",
     "output_type": "stream",
     "text": [
      "0.6 87.0 0.01257027712512653 9.030051340814956e-09 0.5344991644102676\n"
     ]
    },
    {
     "name": "stderr",
     "output_type": "stream",
     "text": [
      " 24%|██▍       | 2325/9766 [2:00:05<7:49:49,  3.79s/it]"
     ]
    },
    {
     "name": "stdout",
     "output_type": "stream",
     "text": [
      "0.7 66.0 0.00943053841215227 2.580956827951785e-09 0.4678469453471374\n"
     ]
    },
    {
     "name": "stderr",
     "output_type": "stream",
     "text": [
      " 24%|██▍       | 2328/9766 [2:00:14<7:13:11,  3.49s/it]"
     ]
    },
    {
     "name": "stdout",
     "output_type": "stream",
     "text": [
      "0.7 65.8 0.009427678583387387 1.4901161193847657e-09 0.3711369601622204\n"
     ]
    },
    {
     "name": "stderr",
     "output_type": "stream",
     "text": [
      " 24%|██▍       | 2331/9766 [2:00:27<9:23:40,  4.55s/it]"
     ]
    },
    {
     "name": "stdout",
     "output_type": "stream",
     "text": [
      "0.2 161.8 0.025132668151627957 1.4901161193847657e-09 0.4748150555505946\n"
     ]
    },
    {
     "name": "stderr",
     "output_type": "stream",
     "text": [
      " 24%|██▍       | 2334/9766 [2:00:37<8:27:10,  4.09s/it]"
     ]
    },
    {
     "name": "stdout",
     "output_type": "stream",
     "text": [
      "0.6 88.4 0.012568187513222525 1.4901161193847657e-09 0.44423687918745597\n"
     ]
    },
    {
     "name": "stderr",
     "output_type": "stream",
     "text": [
      " 24%|██▍       | 2337/9766 [2:00:47<7:39:13,  3.71s/it]"
     ]
    },
    {
     "name": "stdout",
     "output_type": "stream",
     "text": [
      "0.7 66.8 0.05265489696706823 1.9591315055365493e-05 0.20969947916808823\n"
     ]
    },
    {
     "name": "stderr",
     "output_type": "stream",
     "text": [
      " 24%|██▍       | 2340/9766 [2:00:55<6:13:50,  3.02s/it]"
     ]
    },
    {
     "name": "stdout",
     "output_type": "stream",
     "text": [
      "1.0 14.0 6.335325330332405e-06 1.4901161193847657e-09 0.4001103557638319\n"
     ]
    },
    {
     "name": "stderr",
     "output_type": "stream",
     "text": [
      " 24%|██▍       | 2343/9766 [2:01:03<5:57:44,  2.89s/it]"
     ]
    },
    {
     "name": "stdout",
     "output_type": "stream",
     "text": [
      "0.9 29.4 0.025340442736144664 6.287473495578125e-06 0.3203973028676196\n"
     ]
    },
    {
     "name": "stderr",
     "output_type": "stream",
     "text": [
      " 24%|██▍       | 2346/9766 [2:01:12<6:57:58,  3.38s/it]"
     ]
    },
    {
     "name": "stdout",
     "output_type": "stream",
     "text": [
      "0.7 69.6 0.009429164744874019 0.0 0.4746833132473102\n"
     ]
    },
    {
     "name": "stderr",
     "output_type": "stream",
     "text": [
      " 24%|██▍       | 2349/9766 [2:01:23<7:37:06,  3.70s/it]"
     ]
    },
    {
     "name": "stdout",
     "output_type": "stream",
     "text": [
      "0.6 90.0 0.012572045250768623 2.9802322387695314e-09 0.48284870263962015\n"
     ]
    },
    {
     "name": "stderr",
     "output_type": "stream",
     "text": [
      " 24%|██▍       | 2352/9766 [2:01:32<7:21:03,  3.57s/it]"
     ]
    },
    {
     "name": "stdout",
     "output_type": "stream",
     "text": [
      "0.7 68.0 0.009428047515276733 4.071072947336551e-09 0.5857668241917127\n"
     ]
    },
    {
     "name": "stderr",
     "output_type": "stream",
     "text": [
      " 24%|██▍       | 2355/9766 [2:01:39<6:04:58,  2.95s/it]"
     ]
    },
    {
     "name": "stdout",
     "output_type": "stream",
     "text": [
      "1.0 15.0 5.298135671863329e-06 4.470348358154297e-09 0.5535366826213638\n"
     ]
    },
    {
     "name": "stderr",
     "output_type": "stream",
     "text": [
      " 24%|██▍       | 2358/9766 [2:01:47<5:38:56,  2.75s/it]"
     ]
    },
    {
     "name": "stdout",
     "output_type": "stream",
     "text": [
      "1.0 15.2 9.170607779829649e-06 3.597458544929467e-09 0.6420420605628896\n"
     ]
    },
    {
     "name": "stderr",
     "output_type": "stream",
     "text": [
      " 24%|██▍       | 2361/9766 [2:01:54<5:26:46,  2.65s/it]"
     ]
    },
    {
     "name": "stdout",
     "output_type": "stream",
     "text": [
      "1.0 15.0 9.35468474060256e-06 7.194917089858934e-09 0.45081831536507566\n"
     ]
    },
    {
     "name": "stderr",
     "output_type": "stream",
     "text": [
      " 24%|██▍       | 2364/9766 [2:02:02<5:27:01,  2.65s/it]"
     ]
    },
    {
     "name": "stdout",
     "output_type": "stream",
     "text": [
      "1.0 13.6 6.865314209987118e-06 5.140140269373623e-09 0.532481648212836\n"
     ]
    },
    {
     "name": "stderr",
     "output_type": "stream",
     "text": [
      " 24%|██▍       | 2367/9766 [2:02:10<5:19:56,  2.59s/it]"
     ]
    },
    {
     "name": "stdout",
     "output_type": "stream",
     "text": [
      "1.0 12.2 5.560366611390428e-06 1.1144144333331398e-08 0.4776651493880256\n"
     ]
    },
    {
     "name": "stderr",
     "output_type": "stream",
     "text": [
      " 24%|██▍       | 2370/9766 [2:02:17<5:23:16,  2.62s/it]"
     ]
    },
    {
     "name": "stdout",
     "output_type": "stream",
     "text": [
      "1.0 11.0 6.2572533582739565e-06 0.0 0.4465713049600276\n"
     ]
    },
    {
     "name": "stderr",
     "output_type": "stream",
     "text": [
      " 24%|██▍       | 2372/9766 [2:02:23<5:34:32,  2.71s/it]"
     ]
    },
    {
     "name": "stdout",
     "output_type": "stream",
     "text": [
      "1.0 12.4 4.691075159665758e-06 0.0 0.3410139501678359\n"
     ]
    },
    {
     "name": "stderr",
     "output_type": "stream",
     "text": [
      " 24%|██▍       | 2375/9766 [2:02:31<5:46:29,  2.81s/it]"
     ]
    },
    {
     "name": "stdout",
     "output_type": "stream",
     "text": [
      "1.0 20.4 9.658309104694109e-06 6.577690783698998e-09 0.44568116196984714\n"
     ]
    },
    {
     "name": "stderr",
     "output_type": "stream",
     "text": [
      " 24%|██▍       | 2377/9766 [2:02:37<5:59:02,  2.92s/it]"
     ]
    },
    {
     "name": "stdout",
     "output_type": "stream",
     "text": [
      "1.0 13.2 4.553671153078597e-06 0.0 0.4196698193295056\n"
     ]
    },
    {
     "name": "stderr",
     "output_type": "stream",
     "text": [
      " 24%|██▍       | 2380/9766 [2:02:48<7:59:47,  3.90s/it]"
     ]
    },
    {
     "name": "stdout",
     "output_type": "stream",
     "text": [
      "0.5 107.0 0.015712995593612705 7.864709001078261e-09 0.5219489698033318\n"
     ]
    },
    {
     "name": "stderr",
     "output_type": "stream",
     "text": [
      " 24%|██▍       | 2383/9766 [2:03:03<10:56:00,  5.33s/it]"
     ]
    },
    {
     "name": "stdout",
     "output_type": "stream",
     "text": [
      "0.2 162.4 0.040838340373918265 0.0 0.5276170280167192\n"
     ]
    },
    {
     "name": "stderr",
     "output_type": "stream",
     "text": [
      " 24%|██▍       | 2386/9766 [2:03:13<8:09:47,  3.98s/it] "
     ]
    },
    {
     "name": "stdout",
     "output_type": "stream",
     "text": [
      "0.8 48.2 0.03554794763023067 5.7048009704741684e-09 0.4089924434896006\n"
     ]
    },
    {
     "name": "stderr",
     "output_type": "stream",
     "text": [
      " 24%|██▍       | 2389/9766 [2:03:20<6:16:14,  3.06s/it]"
     ]
    },
    {
     "name": "stdout",
     "output_type": "stream",
     "text": [
      "1.0 11.8 4.763904371463778e-06 1.4901161193847657e-09 0.5109752982057345\n"
     ]
    },
    {
     "name": "stderr",
     "output_type": "stream",
     "text": [
      " 24%|██▍       | 2391/9766 [2:03:25<6:00:16,  2.93s/it]"
     ]
    },
    {
     "name": "stdout",
     "output_type": "stream",
     "text": [
      "1.0 12.0 3.3133195087875265e-06 2.1073424255447016e-09 0.2705537967229031\n"
     ]
    },
    {
     "name": "stderr",
     "output_type": "stream",
     "text": [
      " 25%|██▍       | 2394/9766 [2:03:33<5:46:14,  2.82s/it]"
     ]
    },
    {
     "name": "stdout",
     "output_type": "stream",
     "text": [
      "1.0 13.4 1.0413380847476975e-05 1.1136693051968246e-08 0.4740063358102919\n"
     ]
    },
    {
     "name": "stderr",
     "output_type": "stream",
     "text": [
      " 25%|██▍       | 2397/9766 [2:03:46<8:45:16,  4.28s/it]"
     ]
    },
    {
     "name": "stdout",
     "output_type": "stream",
     "text": [
      "0.3 142.8 0.036620993510935715 2.9802322387695314e-09 0.4793152829653036\n"
     ]
    },
    {
     "name": "stderr",
     "output_type": "stream",
     "text": [
      " 25%|██▍       | 2400/9766 [2:03:58<9:07:24,  4.46s/it]"
     ]
    },
    {
     "name": "stdout",
     "output_type": "stream",
     "text": [
      "0.4 123.8 0.05938901720242362 6.287399872695049e-06 0.4438595377428916\n"
     ]
    },
    {
     "name": "stderr",
     "output_type": "stream",
     "text": [
      " 25%|██▍       | 2403/9766 [2:04:10<9:44:50,  4.77s/it]"
     ]
    },
    {
     "name": "stdout",
     "output_type": "stream",
     "text": [
      "0.3 142.2 0.021993967403092868 1.4901161193847657e-09 0.37601882981622553\n"
     ]
    },
    {
     "name": "stderr",
     "output_type": "stream",
     "text": [
      " 25%|██▍       | 2406/9766 [2:04:18<6:48:19,  3.33s/it]"
     ]
    },
    {
     "name": "stdout",
     "output_type": "stream",
     "text": [
      "1.0 12.8 4.751405691664807e-06 0.0 0.4707852010213382\n"
     ]
    },
    {
     "name": "stderr",
     "output_type": "stream",
     "text": [
      " 25%|██▍       | 2409/9766 [2:04:25<5:51:00,  2.86s/it]"
     ]
    },
    {
     "name": "stdout",
     "output_type": "stream",
     "text": [
      "1.0 13.4 5.37009643375162e-06 5.087574664314233e-09 0.5168779707280425\n"
     ]
    },
    {
     "name": "stderr",
     "output_type": "stream",
     "text": [
      " 25%|██▍       | 2412/9766 [2:04:33<5:34:07,  2.73s/it]"
     ]
    },
    {
     "name": "stdout",
     "output_type": "stream",
     "text": [
      "1.0 12.0 9.27200109326607e-06 6.577690783698998e-09 0.510070585092781\n"
     ]
    },
    {
     "name": "stderr",
     "output_type": "stream",
     "text": [
      " 25%|██▍       | 2414/9766 [2:04:39<5:47:00,  2.83s/it]"
     ]
    },
    {
     "name": "stdout",
     "output_type": "stream",
     "text": [
      "1.0 15.4 6.846383206166799e-06 2.9802322387695314e-09 0.4968906182106217\n"
     ]
    },
    {
     "name": "stderr",
     "output_type": "stream",
     "text": [
      " 25%|██▍       | 2417/9766 [2:04:47<5:41:42,  2.79s/it]"
     ]
    },
    {
     "name": "stdout",
     "output_type": "stream",
     "text": [
      "1.0 13.2 7.204793515835034e-06 4.071072947336551e-09 0.5928157600292177\n"
     ]
    },
    {
     "name": "stderr",
     "output_type": "stream",
     "text": [
      " 25%|██▍       | 2420/9766 [2:04:55<5:44:04,  2.81s/it]"
     ]
    },
    {
     "name": "stdout",
     "output_type": "stream",
     "text": [
      "1.0 13.4 5.614926861920404e-06 6.577690783698998e-09 0.5274336928895709\n"
     ]
    },
    {
     "name": "stderr",
     "output_type": "stream",
     "text": [
      " 25%|██▍       | 2423/9766 [2:05:02<5:31:36,  2.71s/it]"
     ]
    },
    {
     "name": "stdout",
     "output_type": "stream",
     "text": [
      "1.0 11.4 4.813804733917786e-06 1.4901161193847657e-09 0.46127625676989237\n"
     ]
    },
    {
     "name": "stderr",
     "output_type": "stream",
     "text": [
      " 25%|██▍       | 2425/9766 [2:05:08<5:55:47,  2.91s/it]"
     ]
    },
    {
     "name": "stdout",
     "output_type": "stream",
     "text": [
      "1.0 14.8 6.961722510476097e-06 5.087574664314233e-09 0.5022304201281748\n"
     ]
    },
    {
     "name": "stderr",
     "output_type": "stream",
     "text": [
      " 25%|██▍       | 2428/9766 [2:05:16<5:37:37,  2.76s/it]"
     ]
    },
    {
     "name": "stdout",
     "output_type": "stream",
     "text": [
      "1.0 10.6 4.875384447042351e-06 1.4901161193847657e-09 0.4215579889260754\n"
     ]
    },
    {
     "name": "stderr",
     "output_type": "stream",
     "text": [
      " 25%|██▍       | 2430/9766 [2:05:22<5:48:38,  2.85s/it]"
     ]
    },
    {
     "name": "stdout",
     "output_type": "stream",
     "text": [
      "1.0 11.4 3.678486842237421e-06 1.4901161193847657e-09 0.47662339616439703\n"
     ]
    },
    {
     "name": "stderr",
     "output_type": "stream",
     "text": [
      " 25%|██▍       | 2433/9766 [2:05:33<7:31:31,  3.69s/it]"
     ]
    },
    {
     "name": "stdout",
     "output_type": "stream",
     "text": [
      "0.6 87.2 0.012572859774342226 2.1073424255447016e-09 0.5508843165002142\n"
     ]
    },
    {
     "name": "stderr",
     "output_type": "stream",
     "text": [
      " 25%|██▍       | 2436/9766 [2:05:45<8:49:02,  4.33s/it]"
     ]
    },
    {
     "name": "stdout",
     "output_type": "stream",
     "text": [
      "0.4 126.0 0.018854061079771205 1.4901161193847657e-09 0.520595899326651\n"
     ]
    },
    {
     "name": "stderr",
     "output_type": "stream",
     "text": [
      " 25%|██▍       | 2439/9766 [2:05:53<7:05:34,  3.49s/it]"
     ]
    },
    {
     "name": "stdout",
     "output_type": "stream",
     "text": [
      "0.9 31.0 0.0384733368159365 3.397760164450149e-05 0.4935542722019335\n"
     ]
    },
    {
     "name": "stderr",
     "output_type": "stream",
     "text": [
      " 25%|██▌       | 2442/9766 [2:06:01<5:59:56,  2.95s/it]"
     ]
    },
    {
     "name": "stdout",
     "output_type": "stream",
     "text": [
      "1.0 11.4 6.486391725290647e-06 4.822117056697294e-09 0.34835890451676577\n"
     ]
    },
    {
     "name": "stderr",
     "output_type": "stream",
     "text": [
      " 25%|██▌       | 2445/9766 [2:06:09<5:44:22,  2.82s/it]"
     ]
    },
    {
     "name": "stdout",
     "output_type": "stream",
     "text": [
      "1.0 12.6 5.574568626977576e-06 2.9802322387695314e-09 0.5841464555598401\n"
     ]
    },
    {
     "name": "stderr",
     "output_type": "stream",
     "text": [
      " 25%|██▌       | 2448/9766 [2:06:17<5:44:08,  2.82s/it]"
     ]
    },
    {
     "name": "stdout",
     "output_type": "stream",
     "text": [
      "0.9 29.6 0.013024507835550706 7.026260698904323e-06 0.3511470134522682\n"
     ]
    },
    {
     "name": "stderr",
     "output_type": "stream",
     "text": [
      " 25%|██▌       | 2450/9766 [2:06:22<5:40:26,  2.79s/it]"
     ]
    },
    {
     "name": "stdout",
     "output_type": "stream",
     "text": [
      "1.0 11.6 6.563441122074413e-06 3.597458544929467e-09 0.5814599066149829\n"
     ]
    },
    {
     "name": "stderr",
     "output_type": "stream",
     "text": [
      " 25%|██▌       | 2453/9766 [2:06:30<5:34:13,  2.74s/it]"
     ]
    },
    {
     "name": "stdout",
     "output_type": "stream",
     "text": [
      "1.0 14.2 6.9884014529625814e-06 5.087574664314233e-09 0.5609134017517966\n"
     ]
    },
    {
     "name": "stderr",
     "output_type": "stream",
     "text": [
      " 25%|██▌       | 2456/9766 [2:06:37<5:23:11,  2.65s/it]"
     ]
    },
    {
     "name": "stdout",
     "output_type": "stream",
     "text": [
      "1.0 13.4 3.901580215805787e-06 1.4901161193847657e-09 0.46276352550202515\n"
     ]
    },
    {
     "name": "stderr",
     "output_type": "stream",
     "text": [
      " 25%|██▌       | 2459/9766 [2:06:45<5:15:04,  2.59s/it]"
     ]
    },
    {
     "name": "stdout",
     "output_type": "stream",
     "text": [
      "1.0 11.4 3.4562240218293823e-06 2.9802322387695314e-09 0.3932838951476616\n"
     ]
    },
    {
     "name": "stderr",
     "output_type": "stream",
     "text": [
      " 25%|██▌       | 2461/9766 [2:06:51<5:56:38,  2.93s/it]"
     ]
    },
    {
     "name": "stdout",
     "output_type": "stream",
     "text": [
      "0.9 29.2 0.04216588358979191 1.691332034034372e-05 0.42069691391132774\n"
     ]
    },
    {
     "name": "stderr",
     "output_type": "stream",
     "text": [
      " 25%|██▌       | 2464/9766 [2:07:03<8:16:29,  4.08s/it]"
     ]
    },
    {
     "name": "stdout",
     "output_type": "stream",
     "text": [
      "0.4 127.0 0.018852657569663527 3.597458544929467e-09 0.6737180286186707\n"
     ]
    },
    {
     "name": "stderr",
     "output_type": "stream",
     "text": [
      " 25%|██▌       | 2466/9766 [2:07:09<6:59:05,  3.44s/it]"
     ]
    },
    {
     "name": "stdout",
     "output_type": "stream",
     "text": [
      "1.0 14.0 7.66230150526813e-06 2.9802322387695314e-09 0.511119842235707\n"
     ]
    },
    {
     "name": "stderr",
     "output_type": "stream",
     "text": [
      " 25%|██▌       | 2468/9766 [2:07:14<6:15:10,  3.08s/it]"
     ]
    },
    {
     "name": "stdout",
     "output_type": "stream",
     "text": [
      "1.0 12.8 1.1166970933553791e-05 5.912957765264313e-09 0.548760795603603\n"
     ]
    },
    {
     "name": "stderr",
     "output_type": "stream",
     "text": [
      " 25%|██▌       | 2470/9766 [2:07:24<9:00:38,  4.45s/it]"
     ]
    },
    {
     "name": "stdout",
     "output_type": "stream",
     "text": [
      "0.3 143.6 0.021991582739270467 1.4901161193847657e-09 0.6018254922586453\n"
     ]
    },
    {
     "name": "stderr",
     "output_type": "stream",
     "text": [
      " 25%|██▌       | 2472/9766 [2:07:30<7:29:19,  3.70s/it]"
     ]
    },
    {
     "name": "stdout",
     "output_type": "stream",
     "text": [
      "1.0 16.0 5.2634187935576104e-06 1.4901161193847657e-09 0.6783079891883175\n"
     ]
    },
    {
     "name": "stderr",
     "output_type": "stream",
     "text": [
      " 25%|██▌       | 2475/9766 [2:07:42<8:34:35,  4.23s/it]"
     ]
    },
    {
     "name": "stdout",
     "output_type": "stream",
     "text": [
      "0.4 122.8 0.01884832819089055 2.9802322387695314e-09 0.35739136815744443\n"
     ]
    },
    {
     "name": "stderr",
     "output_type": "stream",
     "text": [
      " 25%|██▌       | 2478/9766 [2:07:56<10:40:04,  5.27s/it]"
     ]
    },
    {
     "name": "stdout",
     "output_type": "stream",
     "text": [
      "0.0 200.0 0.03141631728018865 0.0 0.43473845335610567\n"
     ]
    },
    {
     "name": "stderr",
     "output_type": "stream",
     "text": [
      " 25%|██▌       | 2481/9766 [2:08:03<6:59:32,  3.46s/it] "
     ]
    },
    {
     "name": "stdout",
     "output_type": "stream",
     "text": [
      "1.0 14.0 3.48497988117291e-06 0.0 0.5100041099555284\n"
     ]
    },
    {
     "name": "stderr",
     "output_type": "stream",
     "text": [
      " 25%|██▌       | 2484/9766 [2:08:17<9:14:17,  4.57s/it]"
     ]
    },
    {
     "name": "stdout",
     "output_type": "stream",
     "text": [
      "0.2 161.4 0.025129699201669208 4.071072947336551e-09 0.40664412507994374\n"
     ]
    },
    {
     "name": "stderr",
     "output_type": "stream",
     "text": [
      " 25%|██▌       | 2487/9766 [2:08:27<8:40:30,  4.29s/it]"
     ]
    },
    {
     "name": "stdout",
     "output_type": "stream",
     "text": [
      "0.5 105.2 0.015708996429176593 2.9802322387695314e-09 0.5661083129374018\n"
     ]
    },
    {
     "name": "stderr",
     "output_type": "stream",
     "text": [
      " 26%|██▌       | 2491/9766 [2:08:41<8:24:32,  4.16s/it]"
     ]
    },
    {
     "name": "stdout",
     "output_type": "stream",
     "text": [
      "0.4 126.2 0.018848887604951407 0.0 0.5522540072031902\n"
     ]
    },
    {
     "name": "stderr",
     "output_type": "stream",
     "text": [
      " 26%|██▌       | 2494/9766 [2:08:49<6:52:23,  3.40s/it]"
     ]
    },
    {
     "name": "stdout",
     "output_type": "stream",
     "text": [
      "0.9 35.0 0.00315024170859137 5.561189066721316e-09 0.5594802888751946\n"
     ]
    },
    {
     "name": "stderr",
     "output_type": "stream",
     "text": [
      " 26%|██▌       | 2496/9766 [2:08:58<8:03:37,  3.99s/it]"
     ]
    },
    {
     "name": "stdout",
     "output_type": "stream",
     "text": [
      "0.6 86.8 0.012570855022110836 2.9802322387695314e-09 0.5316568047196097\n"
     ]
    },
    {
     "name": "stderr",
     "output_type": "stream",
     "text": [
      " 26%|██▌       | 2499/9766 [2:09:11<9:52:52,  4.90s/it]"
     ]
    },
    {
     "name": "stdout",
     "output_type": "stream",
     "text": [
      "0.2 162.0 0.02513455022492262 2.9802322387695314e-09 0.4902024539143056\n"
     ]
    },
    {
     "name": "stderr",
     "output_type": "stream",
     "text": [
      " 26%|██▌       | 2502/9766 [2:09:21<8:17:21,  4.11s/it]"
     ]
    },
    {
     "name": "stdout",
     "output_type": "stream",
     "text": [
      "0.7 72.4 0.01571425992275471 4.822117056697294e-09 0.6176130860282064\n"
     ]
    },
    {
     "name": "stderr",
     "output_type": "stream",
     "text": [
      " 26%|██▌       | 2505/9766 [2:09:35<10:19:04,  5.12s/it]"
     ]
    },
    {
     "name": "stdout",
     "output_type": "stream",
     "text": [
      "0.1 180.4 0.028276456711549314 4.470348358154297e-09 0.25810627555187154\n"
     ]
    },
    {
     "name": "stderr",
     "output_type": "stream",
     "text": [
      " 26%|██▌       | 2507/9766 [2:09:42<8:47:03,  4.36s/it] "
     ]
    },
    {
     "name": "stdout",
     "output_type": "stream",
     "text": [
      "0.8 51.2 0.009432141743592363 5.087574664314233e-09 0.5045870448662294\n"
     ]
    },
    {
     "name": "stderr",
     "output_type": "stream",
     "text": [
      " 26%|██▌       | 2509/9766 [2:09:49<8:02:23,  3.99s/it]"
     ]
    },
    {
     "name": "stdout",
     "output_type": "stream",
     "text": [
      "0.8 54.0 0.01256945498198748 4.071072947336551e-09 0.53527102265157\n"
     ]
    },
    {
     "name": "stderr",
     "output_type": "stream",
     "text": [
      " 26%|██▌       | 2512/9766 [2:10:00<8:05:31,  4.02s/it]"
     ]
    },
    {
     "name": "stdout",
     "output_type": "stream",
     "text": [
      "0.6 88.6 0.018854423531299555 3.597458544929467e-09 0.5621854164142208\n"
     ]
    },
    {
     "name": "stderr",
     "output_type": "stream",
     "text": [
      " 26%|██▌       | 2515/9766 [2:10:12<9:12:36,  4.57s/it]"
     ]
    },
    {
     "name": "stdout",
     "output_type": "stream",
     "text": [
      "0.3 143.0 0.05009134419876441 6.577690783698998e-09 0.5261757216993301\n"
     ]
    },
    {
     "name": "stderr",
     "output_type": "stream",
     "text": [
      " 26%|██▌       | 2518/9766 [2:10:22<8:22:17,  4.16s/it]"
     ]
    },
    {
     "name": "stdout",
     "output_type": "stream",
     "text": [
      "0.6 89.8 0.01885229455302755 4.6882992534964865e-09 0.4545906454074314\n"
     ]
    },
    {
     "name": "stderr",
     "output_type": "stream",
     "text": [
      " 26%|██▌       | 2521/9766 [2:10:35<9:30:59,  4.73s/it]"
     ]
    },
    {
     "name": "stdout",
     "output_type": "stream",
     "text": [
      "0.2 161.6 0.05785527011525775 5.087574664314233e-09 0.4428992194463053\n"
     ]
    },
    {
     "name": "stderr",
     "output_type": "stream",
     "text": [
      " 26%|██▌       | 2524/9766 [2:10:48<9:44:07,  4.84s/it]"
     ]
    },
    {
     "name": "stdout",
     "output_type": "stream",
     "text": [
      "0.3 145.2 0.05347291352651603 7.027275078621386e-06 0.7003868860415651\n"
     ]
    },
    {
     "name": "stderr",
     "output_type": "stream",
     "text": [
      " 26%|██▌       | 2527/9766 [2:10:59<9:03:29,  4.50s/it]"
     ]
    },
    {
     "name": "stdout",
     "output_type": "stream",
     "text": [
      "0.5 104.4 0.01885367533188498 5.704800970474169e-09 0.3865264394001688\n"
     ]
    },
    {
     "name": "stderr",
     "output_type": "stream",
     "text": [
      " 26%|██▌       | 2530/9766 [2:11:09<8:08:50,  4.05s/it]"
     ]
    },
    {
     "name": "stdout",
     "output_type": "stream",
     "text": [
      "0.6 87.0 0.06293279526287966 2.9802322387695314e-09 0.37852342447524256\n"
     ]
    },
    {
     "name": "stderr",
     "output_type": "stream",
     "text": [
      " 26%|██▌       | 2533/9766 [2:11:23<10:04:30,  5.01s/it]"
     ]
    },
    {
     "name": "stdout",
     "output_type": "stream",
     "text": [
      "0.1 181.4 0.028274756787545173 2.580956827951785e-09 0.5356877630730705\n"
     ]
    },
    {
     "name": "stderr",
     "output_type": "stream",
     "text": [
      " 26%|██▌       | 2536/9766 [2:11:38<11:30:02,  5.73s/it]"
     ]
    },
    {
     "name": "stdout",
     "output_type": "stream",
     "text": [
      "0.0 200.0 0.0815380466440492 7.037018716281687e-06 0.4932422262094759\n"
     ]
    },
    {
     "name": "stderr",
     "output_type": "stream",
     "text": [
      " 26%|██▌       | 2539/9766 [2:11:49<9:24:44,  4.69s/it] "
     ]
    },
    {
     "name": "stdout",
     "output_type": "stream",
     "text": [
      "0.5 105.8 0.08803757065584397 5.3789077253298406e-05 0.3511572428117049\n"
     ]
    },
    {
     "name": "stderr",
     "output_type": "stream",
     "text": [
      " 26%|██▌       | 2542/9766 [2:11:59<8:20:56,  4.16s/it]"
     ]
    },
    {
     "name": "stdout",
     "output_type": "stream",
     "text": [
      "0.6 88.8 0.04398240030456553 2.9802322387695314e-09 0.5304164869052002\n"
     ]
    },
    {
     "name": "stderr",
     "output_type": "stream",
     "text": [
      " 26%|██▌       | 2545/9766 [2:12:13<10:11:58,  5.08s/it]"
     ]
    },
    {
     "name": "stdout",
     "output_type": "stream",
     "text": [
      "0.1 180.4 0.04860146948630688 0.0 0.4722470579651068\n"
     ]
    },
    {
     "name": "stderr",
     "output_type": "stream",
     "text": [
      " 26%|██▌       | 2548/9766 [2:12:25<9:31:26,  4.75s/it] "
     ]
    },
    {
     "name": "stdout",
     "output_type": "stream",
     "text": [
      "0.4 124.8 0.03180324852557141 1.4901161193847657e-09 0.4935885260788674\n"
     ]
    },
    {
     "name": "stderr",
     "output_type": "stream",
     "text": [
      " 26%|██▌       | 2551/9766 [2:12:35<8:09:45,  4.07s/it]"
     ]
    },
    {
     "name": "stdout",
     "output_type": "stream",
     "text": [
      "0.7 68.8 0.01571333007228982 1.4901161193847657e-09 0.441376808207012\n"
     ]
    },
    {
     "name": "stderr",
     "output_type": "stream",
     "text": [
      " 26%|██▌       | 2554/9766 [2:12:42<6:15:57,  3.13s/it]"
     ]
    },
    {
     "name": "stdout",
     "output_type": "stream",
     "text": [
      "1.0 13.6 6.507927302072821e-06 5.561189066721316e-09 0.46690538730990755\n"
     ]
    },
    {
     "name": "stderr",
     "output_type": "stream",
     "text": [
      " 26%|██▌       | 2556/9766 [2:12:48<5:54:49,  2.95s/it]"
     ]
    },
    {
     "name": "stdout",
     "output_type": "stream",
     "text": [
      "1.0 11.2 3.605176293815618e-06 0.0 0.49255969748607764\n"
     ]
    },
    {
     "name": "stderr",
     "output_type": "stream",
     "text": [
      " 26%|██▌       | 2558/9766 [2:12:53<5:50:22,  2.92s/it]"
     ]
    },
    {
     "name": "stdout",
     "output_type": "stream",
     "text": [
      "1.0 12.4 4.364304397556644e-06 0.0 0.5503219490083454\n"
     ]
    },
    {
     "name": "stderr",
     "output_type": "stream",
     "text": [
      " 26%|██▌       | 2560/9766 [2:12:59<5:46:53,  2.89s/it]"
     ]
    },
    {
     "name": "stdout",
     "output_type": "stream",
     "text": [
      "1.0 11.4 3.5848086357803618e-06 2.1073424255447016e-09 0.4833740371084689\n"
     ]
    },
    {
     "name": "stderr",
     "output_type": "stream",
     "text": [
      " 26%|██▌       | 2562/9766 [2:13:05<6:07:45,  3.06s/it]"
     ]
    },
    {
     "name": "stdout",
     "output_type": "stream",
     "text": [
      "0.9 32.8 0.0254317988500883 2.8961676836104594e-05 0.48106870246908623\n"
     ]
    },
    {
     "name": "stderr",
     "output_type": "stream",
     "text": [
      " 26%|██▋       | 2565/9766 [2:13:12<5:31:13,  2.76s/it]"
     ]
    },
    {
     "name": "stdout",
     "output_type": "stream",
     "text": [
      "1.0 13.0 8.674542962802864e-06 6.1784153728812526e-09 0.5405958936056261\n"
     ]
    },
    {
     "name": "stderr",
     "output_type": "stream",
     "text": [
      " 26%|██▋       | 2567/9766 [2:13:18<5:35:55,  2.80s/it]"
     ]
    },
    {
     "name": "stdout",
     "output_type": "stream",
     "text": [
      "1.0 14.4 4.790676357259253e-06 2.9802322387695314e-09 0.4747666572249125\n"
     ]
    },
    {
     "name": "stderr",
     "output_type": "stream",
     "text": [
      " 26%|██▋       | 2570/9766 [2:13:26<5:44:03,  2.87s/it]"
     ]
    },
    {
     "name": "stdout",
     "output_type": "stream",
     "text": [
      "0.9 31.6 0.0031465710984321083 2.1073424255447016e-09 0.5640805681581387\n"
     ]
    },
    {
     "name": "stderr",
     "output_type": "stream",
     "text": [
      " 26%|██▋       | 2573/9766 [2:13:38<7:59:05,  4.00s/it]"
     ]
    },
    {
     "name": "stdout",
     "output_type": "stream",
     "text": [
      "0.4 124.4 0.018854057491457122 0.0 0.5601489512317006\n"
     ]
    },
    {
     "name": "stderr",
     "output_type": "stream",
     "text": [
      " 26%|██▋       | 2576/9766 [2:13:48<7:37:47,  3.82s/it]"
     ]
    },
    {
     "name": "stdout",
     "output_type": "stream",
     "text": [
      "0.6 88.0 0.012569810181888274 6.577690783698998e-09 0.3546214346513473\n"
     ]
    },
    {
     "name": "stderr",
     "output_type": "stream",
     "text": [
      " 26%|██▋       | 2579/9766 [2:13:56<6:21:48,  3.19s/it]"
     ]
    },
    {
     "name": "stdout",
     "output_type": "stream",
     "text": [
      "0.9 33.8 0.025895106118535193 7.024230488059715e-06 0.6006111512216253\n"
     ]
    },
    {
     "name": "stderr",
     "output_type": "stream",
     "text": [
      " 26%|██▋       | 2583/9766 [2:14:09<7:49:14,  3.92s/it]"
     ]
    },
    {
     "name": "stdout",
     "output_type": "stream",
     "text": [
      "0.4 124.0 0.018850964097394295 5.7048009704741684e-09 0.5205772829689956\n"
     ]
    },
    {
     "name": "stderr",
     "output_type": "stream",
     "text": [
      " 26%|██▋       | 2587/9766 [2:14:21<7:09:57,  3.59s/it]"
     ]
    },
    {
     "name": "stdout",
     "output_type": "stream",
     "text": [
      "0.6 87.0 0.023482710332526826 5.432592795885489e-09 0.4237433148500653\n"
     ]
    },
    {
     "name": "stderr",
     "output_type": "stream",
     "text": [
      " 27%|██▋       | 2590/9766 [2:14:31<7:26:45,  3.74s/it]"
     ]
    },
    {
     "name": "stdout",
     "output_type": "stream",
     "text": [
      "0.6 86.6 0.012570420048732106 0.0 0.5560373241131336\n"
     ]
    },
    {
     "name": "stderr",
     "output_type": "stream",
     "text": [
      " 27%|██▋       | 2593/9766 [2:14:39<6:42:59,  3.37s/it]"
     ]
    },
    {
     "name": "stdout",
     "output_type": "stream",
     "text": [
      "0.8 50.0 0.047303148560116366 1.3306008493432206e-05 0.4625662778750178\n"
     ]
    },
    {
     "name": "stderr",
     "output_type": "stream",
     "text": [
      " 27%|██▋       | 2596/9766 [2:14:46<5:28:33,  2.75s/it]"
     ]
    },
    {
     "name": "stdout",
     "output_type": "stream",
     "text": [
      "1.0 10.8 3.7819682618320882e-06 0.0 0.3735431439587319\n"
     ]
    },
    {
     "name": "stderr",
     "output_type": "stream",
     "text": [
      " 27%|██▋       | 2599/9766 [2:14:57<6:56:32,  3.49s/it]"
     ]
    },
    {
     "name": "stdout",
     "output_type": "stream",
     "text": [
      "0.6 87.4 0.060078630241389444 4.822117056697294e-09 0.5470317644307632\n"
     ]
    },
    {
     "name": "stderr",
     "output_type": "stream",
     "text": [
      " 27%|██▋       | 2602/9766 [2:15:04<5:54:21,  2.97s/it]"
     ]
    },
    {
     "name": "stdout",
     "output_type": "stream",
     "text": [
      "1.0 15.0 7.647874273461427e-06 1.4901161193847657e-09 0.576170975071757\n"
     ]
    },
    {
     "name": "stderr",
     "output_type": "stream",
     "text": [
      " 27%|██▋       | 2605/9766 [2:15:12<5:27:51,  2.75s/it]"
     ]
    },
    {
     "name": "stdout",
     "output_type": "stream",
     "text": [
      "1.0 15.6 7.431807530451328e-06 2.1073424255447016e-09 0.44250775200839454\n"
     ]
    },
    {
     "name": "stderr",
     "output_type": "stream",
     "text": [
      " 27%|██▋       | 2608/9766 [2:15:19<5:11:54,  2.61s/it]"
     ]
    },
    {
     "name": "stdout",
     "output_type": "stream",
     "text": [
      "1.0 12.6 7.170108093541653e-06 2.1073424255447016e-09 0.3959031207286738\n"
     ]
    },
    {
     "name": "stderr",
     "output_type": "stream",
     "text": [
      " 27%|██▋       | 2611/9766 [2:15:30<7:20:15,  3.69s/it]"
     ]
    },
    {
     "name": "stdout",
     "output_type": "stream",
     "text": [
      "0.5 108.2 0.03708164479212428 7.029194875250382e-06 0.581344576778143\n"
     ]
    },
    {
     "name": "stderr",
     "output_type": "stream",
     "text": [
      " 27%|██▋       | 2614/9766 [2:15:39<6:36:07,  3.32s/it]"
     ]
    },
    {
     "name": "stdout",
     "output_type": "stream",
     "text": [
      "0.8 48.6 0.006286167898115669 0.0 0.38047233172683037\n"
     ]
    },
    {
     "name": "stderr",
     "output_type": "stream",
     "text": [
      " 27%|██▋       | 2618/9766 [2:15:50<6:28:12,  3.26s/it]"
     ]
    },
    {
     "name": "stdout",
     "output_type": "stream",
     "text": [
      "0.7 69.8 0.009428537418911491 2.9802322387695314e-09 0.554850787168821\n"
     ]
    },
    {
     "name": "stderr",
     "output_type": "stream",
     "text": [
      " 27%|██▋       | 2621/9766 [2:15:58<5:48:49,  2.93s/it]"
     ]
    },
    {
     "name": "stdout",
     "output_type": "stream",
     "text": [
      "0.9 33.2 0.0031466577648326293 4.071072947336551e-09 0.4538327285494814\n"
     ]
    },
    {
     "name": "stderr",
     "output_type": "stream",
     "text": [
      " 27%|██▋       | 2624/9766 [2:16:08<6:53:28,  3.47s/it]"
     ]
    },
    {
     "name": "stdout",
     "output_type": "stream",
     "text": [
      "0.7 70.0 0.030147744552083088 2.1073424255447016e-09 0.4257407294658063\n"
     ]
    },
    {
     "name": "stderr",
     "output_type": "stream",
     "text": [
      " 27%|██▋       | 2627/9766 [2:16:18<7:22:01,  3.71s/it]"
     ]
    },
    {
     "name": "stdout",
     "output_type": "stream",
     "text": [
      "0.7 71.0 0.020337585990634666 7.81214339601887e-09 0.5193041383046214\n"
     ]
    },
    {
     "name": "stderr",
     "output_type": "stream",
     "text": [
      " 27%|██▋       | 2630/9766 [2:16:28<7:24:21,  3.74s/it]"
     ]
    },
    {
     "name": "stdout",
     "output_type": "stream",
     "text": [
      "0.7 69.0 0.02827884687639006 1.2568146752718346e-05 0.418828510340784\n"
     ]
    },
    {
     "name": "stderr",
     "output_type": "stream",
     "text": [
      " 27%|██▋       | 2633/9766 [2:16:38<7:28:38,  3.77s/it]"
     ]
    },
    {
     "name": "stdout",
     "output_type": "stream",
     "text": [
      "0.8 52.8 0.03886466166256499 1.2567766923031725e-05 0.5028137216401041\n"
     ]
    },
    {
     "name": "stderr",
     "output_type": "stream",
     "text": [
      " 27%|██▋       | 2636/9766 [2:16:48<6:50:35,  3.46s/it]"
     ]
    },
    {
     "name": "stdout",
     "output_type": "stream",
     "text": [
      "0.9 33.6 0.01257283177909734 6.291865852112897e-06 0.6130077803466133\n"
     ]
    },
    {
     "name": "stderr",
     "output_type": "stream",
     "text": [
      " 27%|██▋       | 2639/9766 [2:16:55<5:44:02,  2.90s/it]"
     ]
    },
    {
     "name": "stdout",
     "output_type": "stream",
     "text": [
      "1.0 13.2 4.569783981897971e-06 0.0 0.3946373277102791\n"
     ]
    },
    {
     "name": "stderr",
     "output_type": "stream",
     "text": [
      " 27%|██▋       | 2641/9766 [2:17:02<6:37:50,  3.35s/it]"
     ]
    },
    {
     "name": "stdout",
     "output_type": "stream",
     "text": [
      "0.8 49.8 0.04514163751071105 1.3309645824002598e-05 0.5155753119639523\n"
     ]
    },
    {
     "name": "stderr",
     "output_type": "stream",
     "text": [
      " 27%|██▋       | 2644/9766 [2:17:11<6:35:12,  3.33s/it]"
     ]
    },
    {
     "name": "stdout",
     "output_type": "stream",
     "text": [
      "0.8 51.4 0.02139389729989033 1.3313436361991682e-05 0.4453588944955775\n"
     ]
    },
    {
     "name": "stderr",
     "output_type": "stream",
     "text": [
      " 27%|██▋       | 2646/9766 [2:17:17<6:03:56,  3.07s/it]"
     ]
    },
    {
     "name": "stdout",
     "output_type": "stream",
     "text": [
      "1.0 12.8 4.505525613547088e-06 2.9802322387695314e-09 0.4765242804611082\n"
     ]
    },
    {
     "name": "stderr",
     "output_type": "stream",
     "text": [
      " 27%|██▋       | 2649/9766 [2:17:25<5:53:35,  2.98s/it]"
     ]
    },
    {
     "name": "stdout",
     "output_type": "stream",
     "text": [
      "0.9 30.6 0.021120904130909637 7.0293733707885315e-06 0.5909586839811947\n"
     ]
    },
    {
     "name": "stderr",
     "output_type": "stream",
     "text": [
      " 27%|██▋       | 2652/9766 [2:17:36<7:42:31,  3.90s/it]"
     ]
    },
    {
     "name": "stdout",
     "output_type": "stream",
     "text": [
      "0.5 106.8 0.01571025993942326 1.4901161193847657e-09 0.6155238311868285\n"
     ]
    },
    {
     "name": "stderr",
     "output_type": "stream",
     "text": [
      " 27%|██▋       | 2655/9766 [2:17:47<7:51:36,  3.98s/it]"
     ]
    },
    {
     "name": "stdout",
     "output_type": "stream",
     "text": [
      "0.6 89.8 0.02827672796237758 6.282691652382924e-06 0.44127263440244746\n"
     ]
    },
    {
     "name": "stderr",
     "output_type": "stream",
     "text": [
      " 27%|██▋       | 2658/9766 [2:18:00<9:13:51,  4.68s/it]"
     ]
    },
    {
     "name": "stdout",
     "output_type": "stream",
     "text": [
      "0.3 145.2 0.03992623931729195 8.759372200833037e-09 0.5810339672749458\n"
     ]
    },
    {
     "name": "stderr",
     "output_type": "stream",
     "text": [
      " 27%|██▋       | 2661/9766 [2:18:12<9:11:49,  4.66s/it]"
     ]
    },
    {
     "name": "stdout",
     "output_type": "stream",
     "text": [
      "0.4 128.6 0.018856504315346353 3.3320009373125284e-09 0.42012646989034896\n"
     ]
    },
    {
     "name": "stderr",
     "output_type": "stream",
     "text": [
      " 27%|██▋       | 2664/9766 [2:18:19<6:33:37,  3.33s/it]"
     ]
    },
    {
     "name": "stdout",
     "output_type": "stream",
     "text": [
      "1.0 11.6 4.562869101470401e-06 0.0 0.4632065528316735\n"
     ]
    },
    {
     "name": "stderr",
     "output_type": "stream",
     "text": [
      " 27%|██▋       | 2666/9766 [2:18:25<6:03:18,  3.07s/it]"
     ]
    },
    {
     "name": "stdout",
     "output_type": "stream",
     "text": [
      "1.0 11.8 1.1469869542042834e-05 8.120372508143155e-09 0.36598326686601085\n"
     ]
    },
    {
     "name": "stderr",
     "output_type": "stream",
     "text": [
      " 27%|██▋       | 2669/9766 [2:18:33<5:34:20,  2.83s/it]"
     ]
    },
    {
     "name": "stdout",
     "output_type": "stream",
     "text": [
      "1.0 10.0 7.0687310231919455e-06 3.3320009373125284e-09 0.3200673258890419\n"
     ]
    },
    {
     "name": "stderr",
     "output_type": "stream",
     "text": [
      " 27%|██▋       | 2671/9766 [2:18:39<5:51:23,  2.97s/it]"
     ]
    },
    {
     "name": "stdout",
     "output_type": "stream",
     "text": [
      "1.0 14.4 5.077948339594789e-06 0.0 0.4459287195604612\n"
     ]
    },
    {
     "name": "stderr",
     "output_type": "stream",
     "text": [
      " 27%|██▋       | 2673/9766 [2:18:45<5:59:08,  3.04s/it]"
     ]
    },
    {
     "name": "stdout",
     "output_type": "stream",
     "text": [
      "0.9 29.4 0.015720510522328944 1.1328991989931922e-05 0.44735895502276674\n"
     ]
    },
    {
     "name": "stderr",
     "output_type": "stream",
     "text": [
      " 27%|██▋       | 2675/9766 [2:18:51<6:11:44,  3.15s/it]"
     ]
    },
    {
     "name": "stdout",
     "output_type": "stream",
     "text": [
      "0.9 33.2 0.015724033030879464 1.1332107843286516e-05 0.5096924385506183\n"
     ]
    },
    {
     "name": "stderr",
     "output_type": "stream",
     "text": [
      " 27%|██▋       | 2677/9766 [2:18:57<6:21:21,  3.23s/it]"
     ]
    },
    {
     "name": "stdout",
     "output_type": "stream",
     "text": [
      "0.9 34.0 0.006947796959072923 1.405458391902149e-05 0.524431718708521\n"
     ]
    },
    {
     "name": "stderr",
     "output_type": "stream",
     "text": [
      " 27%|██▋       | 2680/9766 [2:19:07<6:55:31,  3.52s/it]"
     ]
    },
    {
     "name": "stdout",
     "output_type": "stream",
     "text": [
      "0.7 70.4 0.00021337267273201723 2.1073649691529985e-05 0.43070974641711873\n"
     ]
    },
    {
     "name": "stderr",
     "output_type": "stream",
     "text": [
      " 27%|██▋       | 2682/9766 [2:19:13<6:40:14,  3.39s/it]"
     ]
    },
    {
     "name": "stdout",
     "output_type": "stream",
     "text": [
      "0.9 31.2 0.04399029429522148 4.071072947336551e-09 0.48873193494973294\n"
     ]
    },
    {
     "name": "stderr",
     "output_type": "stream",
     "text": [
      " 27%|██▋       | 2684/9766 [2:19:19<6:00:42,  3.06s/it]"
     ]
    },
    {
     "name": "stdout",
     "output_type": "stream",
     "text": [
      "1.0 13.6 6.316347680106751e-06 2.9802322387695314e-09 0.6585217940322838\n"
     ]
    },
    {
     "name": "stderr",
     "output_type": "stream",
     "text": [
      " 28%|██▊       | 2686/9766 [2:19:24<5:48:46,  2.96s/it]"
     ]
    },
    {
     "name": "stdout",
     "output_type": "stream",
     "text": [
      "1.0 15.6 1.0860142647870622e-05 8.472141206686152e-09 0.42665944770031566\n"
     ]
    },
    {
     "name": "stderr",
     "output_type": "stream",
     "text": [
      " 28%|██▊       | 2688/9766 [2:19:35<8:46:46,  4.47s/it]"
     ]
    },
    {
     "name": "stdout",
     "output_type": "stream",
     "text": [
      "0.3 143.2 0.02198945143769372 4.071072947336551e-09 0.5303386195932306\n"
     ]
    },
    {
     "name": "stderr",
     "output_type": "stream",
     "text": [
      " 28%|██▊       | 2691/9766 [2:19:43<6:24:54,  3.26s/it]"
     ]
    },
    {
     "name": "stdout",
     "output_type": "stream",
     "text": [
      "1.0 16.2 7.799599420714624e-06 6.1784153728812526e-09 0.4967698149133283\n"
     ]
    },
    {
     "name": "stderr",
     "output_type": "stream",
     "text": [
      " 28%|██▊       | 2694/9766 [2:19:50<5:36:59,  2.86s/it]"
     ]
    },
    {
     "name": "stdout",
     "output_type": "stream",
     "text": [
      "1.0 16.6 8.033297831280933e-06 0.0 0.5005193916806526\n"
     ]
    },
    {
     "name": "stderr",
     "output_type": "stream",
     "text": [
      " 28%|██▊       | 2696/9766 [2:19:56<5:36:11,  2.85s/it]"
     ]
    },
    {
     "name": "stdout",
     "output_type": "stream",
     "text": [
      "1.0 15.2 3.5807023949005937e-06 2.1073424255447016e-09 0.5341906496834712\n"
     ]
    },
    {
     "name": "stderr",
     "output_type": "stream",
     "text": [
      " 28%|██▊       | 2699/9766 [2:20:04<5:25:07,  2.76s/it]"
     ]
    },
    {
     "name": "stdout",
     "output_type": "stream",
     "text": [
      "1.0 11.4 5.3809961667278195e-06 1.4901161193847657e-09 0.2983861502204218\n"
     ]
    },
    {
     "name": "stderr",
     "output_type": "stream",
     "text": [
      " 28%|██▊       | 2702/9766 [2:20:15<7:42:11,  3.93s/it]"
     ]
    },
    {
     "name": "stdout",
     "output_type": "stream",
     "text": [
      "0.4 124.6 0.01885293131513445 4.071072947336551e-09 0.6206726779655484\n"
     ]
    },
    {
     "name": "stderr",
     "output_type": "stream",
     "text": [
      " 28%|██▊       | 2705/9766 [2:20:23<5:57:52,  3.04s/it]"
     ]
    },
    {
     "name": "stdout",
     "output_type": "stream",
     "text": [
      "1.0 11.8 5.017945830560731e-06 4.470348358154297e-09 0.4192638604857626\n"
     ]
    },
    {
     "name": "stderr",
     "output_type": "stream",
     "text": [
      " 28%|██▊       | 2707/9766 [2:20:28<5:37:16,  2.87s/it]"
     ]
    },
    {
     "name": "stdout",
     "output_type": "stream",
     "text": [
      "1.0 12.4 6.158034707731279e-06 0.0 0.4144746952988413\n"
     ]
    },
    {
     "name": "stderr",
     "output_type": "stream",
     "text": [
      " 28%|██▊       | 2709/9766 [2:20:34<5:41:09,  2.90s/it]"
     ]
    },
    {
     "name": "stdout",
     "output_type": "stream",
     "text": [
      "1.0 14.8 6.551373780507258e-06 2.9802322387695314e-09 0.6639868638439772\n"
     ]
    },
    {
     "name": "stderr",
     "output_type": "stream",
     "text": [
      " 28%|██▊       | 2711/9766 [2:20:39<5:38:58,  2.88s/it]"
     ]
    },
    {
     "name": "stdout",
     "output_type": "stream",
     "text": [
      "1.0 13.2 8.001645103693415e-06 5.7048009704741684e-09 0.4665975486063666\n"
     ]
    },
    {
     "name": "stderr",
     "output_type": "stream",
     "text": [
      " 28%|██▊       | 2713/9766 [2:20:45<5:31:15,  2.82s/it]"
     ]
    },
    {
     "name": "stdout",
     "output_type": "stream",
     "text": [
      "1.0 13.8 5.419246435076665e-06 1.4901161193847657e-09 0.5493229598025874\n"
     ]
    },
    {
     "name": "stderr",
     "output_type": "stream",
     "text": [
      " 28%|██▊       | 2716/9766 [2:20:52<5:13:56,  2.67s/it]"
     ]
    },
    {
     "name": "stdout",
     "output_type": "stream",
     "text": [
      "1.0 11.0 6.586259272108264e-06 4.214684851089403e-09 0.4505619225495458\n"
     ]
    },
    {
     "name": "stderr",
     "output_type": "stream",
     "text": [
      " 28%|██▊       | 2718/9766 [2:20:58<5:20:38,  2.73s/it]"
     ]
    },
    {
     "name": "stdout",
     "output_type": "stream",
     "text": [
      "1.0 12.4 4.165917641461215e-06 0.0 0.6603417514746786\n"
     ]
    },
    {
     "name": "stderr",
     "output_type": "stream",
     "text": [
      " 28%|██▊       | 2720/9766 [2:21:04<5:45:38,  2.94s/it]"
     ]
    },
    {
     "name": "stdout",
     "output_type": "stream",
     "text": [
      "0.9 27.0 0.003144771680615113 0.0 0.2248528266399008\n"
     ]
    },
    {
     "name": "stderr",
     "output_type": "stream",
     "text": [
      " 28%|██▊       | 2722/9766 [2:21:11<6:38:21,  3.39s/it]"
     ]
    },
    {
     "name": "stdout",
     "output_type": "stream",
     "text": [
      "0.8 51.2 0.006289460464725958 2.580956827951785e-09 0.5370764058429319\n"
     ]
    },
    {
     "name": "stderr",
     "output_type": "stream",
     "text": [
      " 28%|██▊       | 2725/9766 [2:21:22<7:41:48,  3.94s/it]"
     ]
    },
    {
     "name": "stdout",
     "output_type": "stream",
     "text": [
      "0.5 104.0 0.0157030656457896 4.6882992534964865e-09 0.32465139594593306\n"
     ]
    },
    {
     "name": "stderr",
     "output_type": "stream",
     "text": [
      " 28%|██▊       | 2728/9766 [2:21:32<7:30:44,  3.84s/it]"
     ]
    },
    {
     "name": "stdout",
     "output_type": "stream",
     "text": [
      "0.7 67.2 0.009428371648935502 6.8285699113545425e-09 0.4624810782683849\n"
     ]
    },
    {
     "name": "stderr",
     "output_type": "stream",
     "text": [
      " 28%|██▊       | 2730/9766 [2:21:44<10:17:50,  5.27s/it]"
     ]
    },
    {
     "name": "stdout",
     "output_type": "stream",
     "text": [
      "0.1 181.4 0.02827318477485826 3.597458544929467e-09 0.5336905563152219\n"
     ]
    },
    {
     "name": "stderr",
     "output_type": "stream",
     "text": [
      " 28%|██▊       | 2732/9766 [2:21:52<9:25:59,  4.83s/it] "
     ]
    },
    {
     "name": "stdout",
     "output_type": "stream",
     "text": [
      "0.6 87.0 0.012570587124904295 4.6882992534964865e-09 0.3969074031090144\n"
     ]
    },
    {
     "name": "stderr",
     "output_type": "stream",
     "text": [
      " 28%|██▊       | 2735/9766 [2:22:00<6:41:33,  3.43s/it]"
     ]
    },
    {
     "name": "stdout",
     "output_type": "stream",
     "text": [
      "1.0 13.0 7.967474953559362e-06 4.470348358154297e-09 0.3891049238728644\n"
     ]
    },
    {
     "name": "stderr",
     "output_type": "stream",
     "text": [
      " 28%|██▊       | 2738/9766 [2:22:08<6:07:50,  3.14s/it]"
     ]
    },
    {
     "name": "stdout",
     "output_type": "stream",
     "text": [
      "0.9 32.2 0.013025862100952367 7.0264372318633665e-06 0.43742988659150867\n"
     ]
    },
    {
     "name": "stderr",
     "output_type": "stream",
     "text": [
      " 28%|██▊       | 2740/9766 [2:22:14<5:49:31,  2.98s/it]"
     ]
    },
    {
     "name": "stdout",
     "output_type": "stream",
     "text": [
      "1.0 11.8 4.623970977620243e-06 1.4901161193847657e-09 0.4754004698527835\n"
     ]
    },
    {
     "name": "stderr",
     "output_type": "stream",
     "text": [
      " 28%|██▊       | 2743/9766 [2:22:22<5:28:13,  2.80s/it]"
     ]
    },
    {
     "name": "stdout",
     "output_type": "stream",
     "text": [
      "1.0 17.0 8.869929703174419e-06 2.9802322387695314e-09 0.6302961858188891\n"
     ]
    },
    {
     "name": "stderr",
     "output_type": "stream",
     "text": [
      " 28%|██▊       | 2746/9766 [2:22:29<5:25:56,  2.79s/it]"
     ]
    },
    {
     "name": "stdout",
     "output_type": "stream",
     "text": [
      "1.0 10.8 4.9142076939597774e-06 1.4901161193847657e-09 0.4683795562007961\n"
     ]
    },
    {
     "name": "stderr",
     "output_type": "stream",
     "text": [
      " 28%|██▊       | 2749/9766 [2:22:37<5:04:59,  2.61s/it]"
     ]
    },
    {
     "name": "stdout",
     "output_type": "stream",
     "text": [
      "1.0 12.4 6.172727260555788e-06 1.4901161193847657e-09 0.35452973312381925\n"
     ]
    },
    {
     "name": "stderr",
     "output_type": "stream",
     "text": [
      " 28%|██▊       | 2752/9766 [2:22:48<7:12:11,  3.70s/it]"
     ]
    },
    {
     "name": "stdout",
     "output_type": "stream",
     "text": [
      "0.5 106.6 0.015711472697062447 4.470348358154297e-09 0.5028451667027702\n"
     ]
    },
    {
     "name": "stderr",
     "output_type": "stream",
     "text": [
      " 28%|██▊       | 2754/9766 [2:22:57<8:33:32,  4.39s/it]"
     ]
    },
    {
     "name": "stdout",
     "output_type": "stream",
     "text": [
      "0.5 108.0 0.01571068624038191 2.9802322387695314e-09 0.5617714571714776\n"
     ]
    },
    {
     "name": "stderr",
     "output_type": "stream",
     "text": [
      " 28%|██▊       | 2757/9766 [2:23:05<6:24:58,  3.30s/it]"
     ]
    },
    {
     "name": "stdout",
     "output_type": "stream",
     "text": [
      "1.0 13.2 5.172710465104184e-06 1.4901161193847657e-09 0.4746008966205431\n"
     ]
    },
    {
     "name": "stderr",
     "output_type": "stream",
     "text": [
      " 28%|██▊       | 2759/9766 [2:23:10<5:58:26,  3.07s/it]"
     ]
    },
    {
     "name": "stdout",
     "output_type": "stream",
     "text": [
      "1.0 13.6 3.6251842057282825e-06 5.087574664314233e-09 0.47098543837174844\n"
     ]
    },
    {
     "name": "stderr",
     "output_type": "stream",
     "text": [
      " 28%|██▊       | 2761/9766 [2:23:16<5:43:04,  2.94s/it]"
     ]
    },
    {
     "name": "stdout",
     "output_type": "stream",
     "text": [
      "1.0 12.2 5.087566328930184e-06 0.0 0.5441741460299765\n"
     ]
    },
    {
     "name": "stderr",
     "output_type": "stream",
     "text": [
      " 28%|██▊       | 2763/9766 [2:23:22<5:39:38,  2.91s/it]"
     ]
    },
    {
     "name": "stdout",
     "output_type": "stream",
     "text": [
      "1.0 14.2 9.471441549109575e-06 2.9802322387695314e-09 0.4971015357898967\n"
     ]
    },
    {
     "name": "stderr",
     "output_type": "stream",
     "text": [
      " 28%|██▊       | 2765/9766 [2:23:27<5:40:41,  2.92s/it]"
     ]
    },
    {
     "name": "stdout",
     "output_type": "stream",
     "text": [
      "1.0 14.6 6.073910005289044e-06 2.1073424255447016e-09 0.4282133270016731\n"
     ]
    },
    {
     "name": "stderr",
     "output_type": "stream",
     "text": [
      " 28%|██▊       | 2767/9766 [2:23:33<5:43:57,  2.95s/it]"
     ]
    },
    {
     "name": "stdout",
     "output_type": "stream",
     "text": [
      "1.0 13.0 5.781477256930584e-06 2.9802322387695314e-09 0.4006729988397796\n"
     ]
    },
    {
     "name": "stderr",
     "output_type": "stream",
     "text": [
      " 28%|██▊       | 2769/9766 [2:23:39<5:43:25,  2.94s/it]"
     ]
    },
    {
     "name": "stdout",
     "output_type": "stream",
     "text": [
      "1.0 16.6 5.881743016171316e-06 2.1073424255447016e-09 0.6606492464983869\n"
     ]
    },
    {
     "name": "stderr",
     "output_type": "stream",
     "text": [
      " 28%|██▊       | 2771/9766 [2:23:44<5:37:12,  2.89s/it]"
     ]
    },
    {
     "name": "stdout",
     "output_type": "stream",
     "text": [
      "1.0 12.4 2.935192398986909e-06 3.3320009373125284e-09 0.5506311470782442\n"
     ]
    },
    {
     "name": "stderr",
     "output_type": "stream",
     "text": [
      " 28%|██▊       | 2773/9766 [2:23:50<5:31:22,  2.84s/it]"
     ]
    },
    {
     "name": "stdout",
     "output_type": "stream",
     "text": [
      "1.0 12.2 3.055712320981533e-06 2.1073424255447016e-09 0.4728971893951185\n"
     ]
    },
    {
     "name": "stderr",
     "output_type": "stream",
     "text": [
      " 28%|██▊       | 2775/9766 [2:23:55<5:30:09,  2.83s/it]"
     ]
    },
    {
     "name": "stdout",
     "output_type": "stream",
     "text": [
      "1.0 15.2 7.844060045761118e-06 2.580956827951785e-09 0.5104525125576973\n"
     ]
    },
    {
     "name": "stderr",
     "output_type": "stream",
     "text": [
      " 28%|██▊       | 2778/9766 [2:24:03<5:27:42,  2.81s/it]"
     ]
    },
    {
     "name": "stdout",
     "output_type": "stream",
     "text": [
      "1.0 15.6 6.06604720420898e-06 1.4901161193847657e-09 0.7027280472002014\n"
     ]
    },
    {
     "name": "stderr",
     "output_type": "stream",
     "text": [
      " 28%|██▊       | 2780/9766 [2:24:09<5:29:11,  2.83s/it]"
     ]
    },
    {
     "name": "stdout",
     "output_type": "stream",
     "text": [
      "1.0 11.4 6.892733329915746e-06 5.087574664314233e-09 0.40055429513645063\n"
     ]
    },
    {
     "name": "stderr",
     "output_type": "stream",
     "text": [
      " 28%|██▊       | 2782/9766 [2:24:14<5:22:53,  2.77s/it]"
     ]
    },
    {
     "name": "stdout",
     "output_type": "stream",
     "text": [
      "1.0 10.4 3.5808684133678194e-06 0.0 0.4723175518738888\n"
     ]
    },
    {
     "name": "stderr",
     "output_type": "stream",
     "text": [
      " 29%|██▊       | 2784/9766 [2:24:20<5:27:43,  2.82s/it]"
     ]
    },
    {
     "name": "stdout",
     "output_type": "stream",
     "text": [
      "1.0 12.4 4.311983691842012e-06 1.4901161193847657e-09 0.4441829911689731\n"
     ]
    },
    {
     "name": "stderr",
     "output_type": "stream",
     "text": [
      " 29%|██▊       | 2786/9766 [2:24:25<5:35:49,  2.89s/it]"
     ]
    },
    {
     "name": "stdout",
     "output_type": "stream",
     "text": [
      "1.0 14.0 7.704403916485283e-06 6.523433504452509e-09 0.5026444243950333\n"
     ]
    },
    {
     "name": "stderr",
     "output_type": "stream",
     "text": [
      " 29%|██▊       | 2788/9766 [2:24:31<5:40:23,  2.93s/it]"
     ]
    },
    {
     "name": "stdout",
     "output_type": "stream",
     "text": [
      "1.0 10.6 5.143019497211499e-06 0.0 0.33592780049760684\n"
     ]
    },
    {
     "name": "stderr",
     "output_type": "stream",
     "text": [
      " 29%|██▊       | 2790/9766 [2:24:37<5:38:51,  2.91s/it]"
     ]
    },
    {
     "name": "stdout",
     "output_type": "stream",
     "text": [
      "1.0 11.2 5.145089766459737e-06 6.1784153728812526e-09 0.4289247778629762\n"
     ]
    },
    {
     "name": "stderr",
     "output_type": "stream",
     "text": [
      " 29%|██▊       | 2792/9766 [2:24:43<5:41:46,  2.94s/it]"
     ]
    },
    {
     "name": "stdout",
     "output_type": "stream",
     "text": [
      "1.0 14.4 5.040545616982772e-06 6.630256388758389e-09 0.5611014935436593\n"
     ]
    },
    {
     "name": "stderr",
     "output_type": "stream",
     "text": [
      " 29%|██▊       | 2794/9766 [2:24:48<5:43:57,  2.96s/it]"
     ]
    },
    {
     "name": "stdout",
     "output_type": "stream",
     "text": [
      "1.0 12.4 3.867048135461965e-06 0.0 0.4762895256736598\n"
     ]
    },
    {
     "name": "stderr",
     "output_type": "stream",
     "text": [
      " 29%|██▊       | 2796/9766 [2:24:54<5:44:12,  2.96s/it]"
     ]
    },
    {
     "name": "stdout",
     "output_type": "stream",
     "text": [
      "1.0 15.0 6.15290379478996e-06 1.4901161193847657e-09 0.6811491904654873\n"
     ]
    },
    {
     "name": "stderr",
     "output_type": "stream",
     "text": [
      " 29%|██▊       | 2798/9766 [2:25:00<5:38:28,  2.91s/it]"
     ]
    },
    {
     "name": "stdout",
     "output_type": "stream",
     "text": [
      "1.0 12.0 3.094014502955303e-06 0.0 0.5307047660328378\n"
     ]
    },
    {
     "name": "stderr",
     "output_type": "stream",
     "text": [
      " 29%|██▊       | 2800/9766 [2:25:05<5:29:55,  2.84s/it]"
     ]
    },
    {
     "name": "stdout",
     "output_type": "stream",
     "text": [
      "1.0 12.8 9.258239841181643e-06 2.1073424255447016e-09 0.39970611864216377\n"
     ]
    },
    {
     "name": "stderr",
     "output_type": "stream",
     "text": [
      " 29%|██▊       | 2802/9766 [2:25:12<6:21:42,  3.29s/it]"
     ]
    },
    {
     "name": "stdout",
     "output_type": "stream",
     "text": [
      "0.8 52.2 0.028631521355202517 2.2656739988016976e-05 0.516715824025234\n"
     ]
    },
    {
     "name": "stderr",
     "output_type": "stream",
     "text": [
      " 29%|██▊       | 2804/9766 [2:25:18<6:20:05,  3.28s/it]"
     ]
    },
    {
     "name": "stdout",
     "output_type": "stream",
     "text": [
      "0.9 30.6 0.021106201601850783 6.283885769991174e-06 0.48046582839214763\n"
     ]
    },
    {
     "name": "stderr",
     "output_type": "stream",
     "text": [
      " 29%|██▊       | 2806/9766 [2:25:29<8:52:27,  4.59s/it]"
     ]
    },
    {
     "name": "stdout",
     "output_type": "stream",
     "text": [
      "0.3 143.8 0.021993908936017353 1.4901161193847657e-09 0.6998273776934633\n"
     ]
    },
    {
     "name": "stderr",
     "output_type": "stream",
     "text": [
      " 29%|██▉       | 2809/9766 [2:25:37<6:24:34,  3.32s/it]"
     ]
    },
    {
     "name": "stdout",
     "output_type": "stream",
     "text": [
      "1.0 12.8 4.965475181749656e-06 0.0 0.5023238970233563\n"
     ]
    },
    {
     "name": "stderr",
     "output_type": "stream",
     "text": [
      " 29%|██▉       | 2812/9766 [2:25:48<8:00:52,  4.15s/it]"
     ]
    },
    {
     "name": "stdout",
     "output_type": "stream",
     "text": [
      "0.4 125.4 0.01884877977271962 5.087574664314233e-09 0.6087377333264751\n"
     ]
    },
    {
     "name": "stderr",
     "output_type": "stream",
     "text": [
      " 29%|██▉       | 2815/9766 [2:25:56<5:56:03,  3.07s/it]"
     ]
    },
    {
     "name": "stdout",
     "output_type": "stream",
     "text": [
      "1.0 13.4 6.580059167417741e-06 1.4901161193847657e-09 0.5160061621972704\n"
     ]
    },
    {
     "name": "stderr",
     "output_type": "stream",
     "text": [
      " 29%|██▉       | 2818/9766 [2:26:06<7:04:29,  3.67s/it]"
     ]
    },
    {
     "name": "stdout",
     "output_type": "stream",
     "text": [
      "0.6 88.6 0.01256678505638353 2.9802322387695314e-09 0.4904395120777303\n"
     ]
    },
    {
     "name": "stderr",
     "output_type": "stream",
     "text": [
      " 29%|██▉       | 2821/9766 [2:26:14<5:46:27,  2.99s/it]"
     ]
    },
    {
     "name": "stdout",
     "output_type": "stream",
     "text": [
      "1.0 14.2 5.024513856987986e-06 2.9802322387695314e-09 0.3897136742551778\n"
     ]
    },
    {
     "name": "stderr",
     "output_type": "stream",
     "text": [
      " 29%|██▉       | 2824/9766 [2:26:26<7:51:19,  4.07s/it]"
     ]
    },
    {
     "name": "stdout",
     "output_type": "stream",
     "text": [
      "0.4 124.4 0.01885323316384978 3.597458544929467e-09 0.41242683794480917\n"
     ]
    },
    {
     "name": "stderr",
     "output_type": "stream",
     "text": [
      " 29%|██▉       | 2827/9766 [2:26:36<7:27:13,  3.87s/it]"
     ]
    },
    {
     "name": "stdout",
     "output_type": "stream",
     "text": [
      "0.7 69.4 0.04451494586701773 6.2873261405450745e-06 0.4981608522212161\n"
     ]
    },
    {
     "name": "stderr",
     "output_type": "stream",
     "text": [
      " 29%|██▉       | 2829/9766 [2:26:41<6:24:08,  3.32s/it]"
     ]
    },
    {
     "name": "stdout",
     "output_type": "stream",
     "text": [
      "1.0 11.2 4.668268904866695e-06 1.4901161193847657e-09 0.4688430508115891\n"
     ]
    },
    {
     "name": "stderr",
     "output_type": "stream",
     "text": [
      " 29%|██▉       | 2831/9766 [2:26:50<7:57:57,  4.14s/it]"
     ]
    },
    {
     "name": "stdout",
     "output_type": "stream",
     "text": [
      "0.5 106.0 0.015705859024746787 2.9802322387695314e-09 0.3774279305379859\n"
     ]
    },
    {
     "name": "stderr",
     "output_type": "stream",
     "text": [
      " 29%|██▉       | 2833/9766 [2:26:56<6:44:42,  3.50s/it]"
     ]
    },
    {
     "name": "stdout",
     "output_type": "stream",
     "text": [
      "1.0 11.2 5.49354882558467e-06 4.470348358154297e-09 0.4259166042394386\n"
     ]
    },
    {
     "name": "stderr",
     "output_type": "stream",
     "text": [
      " 29%|██▉       | 2835/9766 [2:27:02<6:31:27,  3.39s/it]"
     ]
    },
    {
     "name": "stdout",
     "output_type": "stream",
     "text": [
      "0.9 31.8 0.044099360831046895 2.1073424255447016e-09 0.6328075463310994\n"
     ]
    },
    {
     "name": "stderr",
     "output_type": "stream",
     "text": [
      " 29%|██▉       | 2837/9766 [2:27:08<5:56:35,  3.09s/it]"
     ]
    },
    {
     "name": "stdout",
     "output_type": "stream",
     "text": [
      "1.0 11.4 4.163926173258734e-06 1.4901161193847657e-09 0.32090177572944\n"
     ]
    },
    {
     "name": "stderr",
     "output_type": "stream",
     "text": [
      " 29%|██▉       | 2839/9766 [2:27:13<5:42:59,  2.97s/it]"
     ]
    },
    {
     "name": "stdout",
     "output_type": "stream",
     "text": [
      "1.0 13.2 6.498029612735822e-06 4.470348358154297e-09 0.5102475029847436\n"
     ]
    },
    {
     "name": "stderr",
     "output_type": "stream",
     "text": [
      " 29%|██▉       | 2841/9766 [2:27:19<5:32:51,  2.88s/it]"
     ]
    },
    {
     "name": "stdout",
     "output_type": "stream",
     "text": [
      "1.0 13.0 5.719670153571839e-06 1.4901161193847657e-09 0.49714366928187237\n"
     ]
    },
    {
     "name": "stderr",
     "output_type": "stream",
     "text": [
      " 29%|██▉       | 2843/9766 [2:27:24<5:27:44,  2.84s/it]"
     ]
    },
    {
     "name": "stdout",
     "output_type": "stream",
     "text": [
      "1.0 11.4 3.656610461329288e-06 6.1784153728812526e-09 0.4218963556456581\n"
     ]
    },
    {
     "name": "stderr",
     "output_type": "stream",
     "text": [
      " 29%|██▉       | 2845/9766 [2:27:30<5:33:19,  2.89s/it]"
     ]
    },
    {
     "name": "stdout",
     "output_type": "stream",
     "text": [
      "1.0 13.4 6.069882864088363e-06 2.1073424255447016e-09 0.5448154581060847\n"
     ]
    },
    {
     "name": "stderr",
     "output_type": "stream",
     "text": [
      " 29%|██▉       | 2847/9766 [2:27:38<6:57:06,  3.62s/it]"
     ]
    },
    {
     "name": "stdout",
     "output_type": "stream",
     "text": [
      "0.7 70.0 0.009431600738826863 5.960464477539063e-09 0.5322236206795841\n"
     ]
    },
    {
     "name": "stderr",
     "output_type": "stream",
     "text": [
      " 29%|██▉       | 2849/9766 [2:27:45<6:57:10,  3.62s/it]"
     ]
    },
    {
     "name": "stdout",
     "output_type": "stream",
     "text": [
      "0.8 49.0 0.0767680702623469 1.3306407100356177e-05 0.4533217271340398\n"
     ]
    },
    {
     "name": "stderr",
     "output_type": "stream",
     "text": [
      " 29%|██▉       | 2851/9766 [2:27:53<7:35:27,  3.95s/it]"
     ]
    },
    {
     "name": "stdout",
     "output_type": "stream",
     "text": [
      "0.7 70.8 0.06128438805178519 7.030993250345755e-06 0.5463040370057828\n"
     ]
    },
    {
     "name": "stderr",
     "output_type": "stream",
     "text": [
      " 29%|██▉       | 2853/9766 [2:28:03<9:05:44,  4.74s/it]"
     ]
    },
    {
     "name": "stdout",
     "output_type": "stream",
     "text": [
      "0.4 123.6 0.053932103753051165 2.9802322387695314e-09 0.45207375030577746\n"
     ]
    },
    {
     "name": "stderr",
     "output_type": "stream",
     "text": [
      " 29%|██▉       | 2855/9766 [2:28:12<9:24:12,  4.90s/it]"
     ]
    },
    {
     "name": "stdout",
     "output_type": "stream",
     "text": [
      "0.5 107.2 0.015709746852797458 3.597458544929467e-09 0.38133799546546415\n"
     ]
    },
    {
     "name": "stderr",
     "output_type": "stream",
     "text": [
      " 29%|██▉       | 2857/9766 [2:28:21<9:04:16,  4.73s/it]"
     ]
    },
    {
     "name": "stdout",
     "output_type": "stream",
     "text": [
      "0.6 88.2 0.012569541567733086 1.4901161193847657e-09 0.4497455704697867\n"
     ]
    },
    {
     "name": "stderr",
     "output_type": "stream",
     "text": [
      " 29%|██▉       | 2859/9766 [2:28:26<7:19:15,  3.82s/it]"
     ]
    },
    {
     "name": "stdout",
     "output_type": "stream",
     "text": [
      "1.0 11.6 4.396686038018745e-06 1.4901161193847657e-09 0.537038167665342\n"
     ]
    },
    {
     "name": "stderr",
     "output_type": "stream",
     "text": [
      " 29%|██▉       | 2861/9766 [2:28:32<6:23:10,  3.33s/it]"
     ]
    },
    {
     "name": "stdout",
     "output_type": "stream",
     "text": [
      "1.0 10.2 3.130647492001789e-06 3.597458544929467e-09 0.4044039388963537\n"
     ]
    },
    {
     "name": "stderr",
     "output_type": "stream",
     "text": [
      " 29%|██▉       | 2863/9766 [2:28:38<6:00:48,  3.14s/it]"
     ]
    },
    {
     "name": "stdout",
     "output_type": "stream",
     "text": [
      "1.0 16.0 6.76388484277271e-06 1.4901161193847657e-09 0.45514644138099414\n"
     ]
    },
    {
     "name": "stderr",
     "output_type": "stream",
     "text": [
      " 29%|██▉       | 2865/9766 [2:28:43<5:43:12,  2.98s/it]"
     ]
    },
    {
     "name": "stdout",
     "output_type": "stream",
     "text": [
      "1.0 15.6 9.798794330900365e-06 8.764593733198018e-09 0.7395126248213911\n"
     ]
    },
    {
     "name": "stderr",
     "output_type": "stream",
     "text": [
      " 29%|██▉       | 2867/9766 [2:28:49<5:41:14,  2.97s/it]"
     ]
    },
    {
     "name": "stdout",
     "output_type": "stream",
     "text": [
      "1.0 13.4 6.6724574331549165e-06 3.597458544929467e-09 0.5272999811185339\n"
     ]
    },
    {
     "name": "stderr",
     "output_type": "stream",
     "text": [
      " 29%|██▉       | 2869/9766 [2:28:55<5:55:19,  3.09s/it]"
     ]
    },
    {
     "name": "stdout",
     "output_type": "stream",
     "text": [
      "1.0 11.6 5.19345160291636e-06 1.4901161193847657e-09 0.5237519000473619\n"
     ]
    },
    {
     "name": "stderr",
     "output_type": "stream",
     "text": [
      " 29%|██▉       | 2871/9766 [2:29:01<5:47:53,  3.03s/it]"
     ]
    },
    {
     "name": "stdout",
     "output_type": "stream",
     "text": [
      "1.0 12.0 6.695284361189449e-06 2.580956827951785e-09 0.4295910034293658\n"
     ]
    },
    {
     "name": "stderr",
     "output_type": "stream",
     "text": [
      " 29%|██▉       | 2873/9766 [2:29:06<5:37:53,  2.94s/it]"
     ]
    },
    {
     "name": "stdout",
     "output_type": "stream",
     "text": [
      "1.0 13.8 5.849793229539087e-06 0.0 0.32722340778806236\n"
     ]
    },
    {
     "name": "stderr",
     "output_type": "stream",
     "text": [
      " 29%|██▉       | 2875/9766 [2:29:13<6:23:31,  3.34s/it]"
     ]
    },
    {
     "name": "stdout",
     "output_type": "stream",
     "text": [
      "0.8 52.4 0.05057505681197948 2.8102635694363116e-05 0.5394486150593134\n"
     ]
    },
    {
     "name": "stderr",
     "output_type": "stream",
     "text": [
      " 29%|██▉       | 2878/9766 [2:29:23<6:25:23,  3.36s/it]"
     ]
    },
    {
     "name": "stdout",
     "output_type": "stream",
     "text": [
      "0.8 51.0 0.013444172647453744 1.4051340254293744e-05 0.3758161386525961\n"
     ]
    },
    {
     "name": "stderr",
     "output_type": "stream",
     "text": [
      " 30%|██▉       | 2881/9766 [2:29:32<6:31:06,  3.41s/it]"
     ]
    },
    {
     "name": "stdout",
     "output_type": "stream",
     "text": [
      "0.8 54.0 0.015259825042051738 1.4055872690956178e-05 0.569183827592876\n"
     ]
    },
    {
     "name": "stderr",
     "output_type": "stream",
     "text": [
      " 30%|██▉       | 2883/9766 [2:29:38<6:22:23,  3.33s/it]"
     ]
    },
    {
     "name": "stdout",
     "output_type": "stream",
     "text": [
      "0.9 30.4 0.006350755327736571 7.032662699480635e-06 0.4601519534756925\n"
     ]
    },
    {
     "name": "stderr",
     "output_type": "stream",
     "text": [
      " 30%|██▉       | 2886/9766 [2:29:46<5:35:28,  2.93s/it]"
     ]
    },
    {
     "name": "stdout",
     "output_type": "stream",
     "text": [
      "1.0 16.8 5.071871699161886e-06 1.4901161193847657e-09 0.5195344733376482\n"
     ]
    },
    {
     "name": "stderr",
     "output_type": "stream",
     "text": [
      " 30%|██▉       | 2889/9766 [2:29:54<5:34:57,  2.92s/it]"
     ]
    },
    {
     "name": "stdout",
     "output_type": "stream",
     "text": [
      "1.0 14.6 5.035342576499049e-06 0.0 0.6790771143395926\n"
     ]
    },
    {
     "name": "stderr",
     "output_type": "stream",
     "text": [
      " 30%|██▉       | 2892/9766 [2:30:05<6:48:10,  3.56s/it]"
     ]
    },
    {
     "name": "stdout",
     "output_type": "stream",
     "text": [
      "0.7 69.8 0.021077309734819923 4.071072947336551e-09 0.39175787356827285\n"
     ]
    },
    {
     "name": "stderr",
     "output_type": "stream",
     "text": [
      " 30%|██▉       | 2895/9766 [2:30:13<5:38:33,  2.96s/it]"
     ]
    },
    {
     "name": "stdout",
     "output_type": "stream",
     "text": [
      "1.0 12.2 5.492465288334215e-06 0.0 0.4334311726073786\n"
     ]
    },
    {
     "name": "stderr",
     "output_type": "stream",
     "text": [
      " 30%|██▉       | 2898/9766 [2:30:20<5:08:05,  2.69s/it]"
     ]
    },
    {
     "name": "stdout",
     "output_type": "stream",
     "text": [
      "1.0 13.0 3.6972235037977523e-06 2.1073424255447016e-09 0.3791009891242976\n"
     ]
    },
    {
     "name": "stderr",
     "output_type": "stream",
     "text": [
      " 30%|██▉       | 2901/9766 [2:30:29<5:57:27,  3.12s/it]"
     ]
    },
    {
     "name": "stdout",
     "output_type": "stream",
     "text": [
      "0.8 51.4 0.03388045985651225 7.0259959701724006e-06 0.4085963292118905\n"
     ]
    },
    {
     "name": "stderr",
     "output_type": "stream",
     "text": [
      " 30%|██▉       | 2903/9766 [2:30:35<5:44:55,  3.02s/it]"
     ]
    },
    {
     "name": "stdout",
     "output_type": "stream",
     "text": [
      "1.0 15.2 4.642599994925192e-06 7.81214339601887e-09 0.5478562003423744\n"
     ]
    },
    {
     "name": "stderr",
     "output_type": "stream",
     "text": [
      " 30%|██▉       | 2906/9766 [2:30:43<5:40:32,  2.98s/it]"
     ]
    },
    {
     "name": "stdout",
     "output_type": "stream",
     "text": [
      "0.9 34.8 0.018855651798878305 6.2883465620694064e-06 0.49894170302588314\n"
     ]
    },
    {
     "name": "stderr",
     "output_type": "stream",
     "text": [
      " 30%|██▉       | 2909/9766 [2:30:52<5:58:28,  3.14s/it]"
     ]
    },
    {
     "name": "stdout",
     "output_type": "stream",
     "text": [
      "0.8 50.4 0.01584430011011757 1.2571265892142675e-05 0.47637033611761126\n"
     ]
    },
    {
     "name": "stderr",
     "output_type": "stream",
     "text": [
      " 30%|██▉       | 2911/9766 [2:30:59<6:29:15,  3.41s/it]"
     ]
    },
    {
     "name": "stdout",
     "output_type": "stream",
     "text": [
      "0.8 49.0 0.019172343213597252 1.3312869960455298e-05 0.3859847383463322\n"
     ]
    },
    {
     "name": "stderr",
     "output_type": "stream",
     "text": [
      " 30%|██▉       | 2914/9766 [2:31:06<5:35:17,  2.94s/it]"
     ]
    },
    {
     "name": "stdout",
     "output_type": "stream",
     "text": [
      "1.0 15.8 9.354326326848799e-06 5.43934336285723e-09 0.46477782578655225\n"
     ]
    },
    {
     "name": "stderr",
     "output_type": "stream",
     "text": [
      " 30%|██▉       | 2916/9766 [2:31:12<5:22:50,  2.83s/it]"
     ]
    },
    {
     "name": "stdout",
     "output_type": "stream",
     "text": [
      "1.0 11.6 4.002956597433189e-06 2.1073424255447016e-09 0.3607130208494026\n"
     ]
    },
    {
     "name": "stderr",
     "output_type": "stream",
     "text": [
      " 30%|██▉       | 2918/9766 [2:31:18<5:45:50,  3.03s/it]"
     ]
    },
    {
     "name": "stdout",
     "output_type": "stream",
     "text": [
      "0.9 30.6 0.006254372941534539 7.0252560772565105e-06 0.44768095335368124\n"
     ]
    },
    {
     "name": "stderr",
     "output_type": "stream",
     "text": [
      " 30%|██▉       | 2920/9766 [2:31:25<6:29:14,  3.41s/it]"
     ]
    },
    {
     "name": "stdout",
     "output_type": "stream",
     "text": [
      "0.8 54.4 0.00936699322175007 1.4053227344985759e-05 0.5889473156105751\n"
     ]
    },
    {
     "name": "stderr",
     "output_type": "stream",
     "text": [
      " 30%|██▉       | 2922/9766 [2:31:31<6:27:53,  3.40s/it]"
     ]
    },
    {
     "name": "stdout",
     "output_type": "stream",
     "text": [
      "0.9 32.6 0.006257892374436111 7.0302994025123e-06 0.5045743435149395\n"
     ]
    },
    {
     "name": "stderr",
     "output_type": "stream",
     "text": [
      " 30%|██▉       | 2924/9766 [2:31:38<6:24:43,  3.37s/it]"
     ]
    },
    {
     "name": "stdout",
     "output_type": "stream",
     "text": [
      "0.9 34.6 0.0031153039094009606 7.024682235618782e-06 0.5138254445729652\n"
     ]
    },
    {
     "name": "stderr",
     "output_type": "stream",
     "text": [
      " 30%|██▉       | 2926/9766 [2:31:44<6:17:40,  3.31s/it]"
     ]
    },
    {
     "name": "stdout",
     "output_type": "stream",
     "text": [
      "0.9 32.0 0.0031150069573705383 7.0264372318633665e-06 0.4204101815401759\n"
     ]
    },
    {
     "name": "stderr",
     "output_type": "stream",
     "text": [
      " 30%|██▉       | 2928/9766 [2:31:49<5:48:21,  3.06s/it]"
     ]
    },
    {
     "name": "stdout",
     "output_type": "stream",
     "text": [
      "1.0 15.2 6.0995883669951514e-06 3.597458544929467e-09 0.29971367155787293\n"
     ]
    },
    {
     "name": "stderr",
     "output_type": "stream",
     "text": [
      " 30%|███       | 2930/9766 [2:31:56<6:21:21,  3.35s/it]"
     ]
    },
    {
     "name": "stdout",
     "output_type": "stream",
     "text": [
      "0.8 48.4 0.014082548783201901 1.4050943070390687e-05 0.3353483873894264\n"
     ]
    },
    {
     "name": "stderr",
     "output_type": "stream",
     "text": [
      " 30%|███       | 2932/9766 [2:32:02<6:09:40,  3.25s/it]"
     ]
    },
    {
     "name": "stdout",
     "output_type": "stream",
     "text": [
      "1.0 14.6 6.184165784936841e-06 6.3220272766341055e-09 0.5364181200612141\n"
     ]
    },
    {
     "name": "stderr",
     "output_type": "stream",
     "text": [
      " 30%|███       | 2935/9766 [2:32:12<6:18:40,  3.33s/it]"
     ]
    },
    {
     "name": "stdout",
     "output_type": "stream",
     "text": [
      "0.8 50.4 0.003184149663617275 1.4049453117033554e-05 0.5211349373564209\n"
     ]
    },
    {
     "name": "stderr",
     "output_type": "stream",
     "text": [
      " 30%|███       | 2937/9766 [2:32:19<6:39:17,  3.51s/it]"
     ]
    },
    {
     "name": "stdout",
     "output_type": "stream",
     "text": [
      "0.9 32.8 7.250170812327504e-05 7.0236673488516034e-06 0.39840016006721074\n"
     ]
    },
    {
     "name": "stderr",
     "output_type": "stream",
     "text": [
      " 30%|███       | 2939/9766 [2:32:26<6:47:04,  3.58s/it]"
     ]
    },
    {
     "name": "stdout",
     "output_type": "stream",
     "text": [
      "0.8 50.4 0.03278720502564511 1.2564396692672623e-05 0.48176720828049274\n"
     ]
    },
    {
     "name": "stderr",
     "output_type": "stream",
     "text": [
      " 30%|███       | 2941/9766 [2:32:33<7:20:30,  3.87s/it]"
     ]
    },
    {
     "name": "stdout",
     "output_type": "stream",
     "text": [
      "0.7 70.2 0.009430666493207191 2.580956827951785e-09 0.5114551651310554\n"
     ]
    },
    {
     "name": "stderr",
     "output_type": "stream",
     "text": [
      " 30%|███       | 2944/9766 [2:32:47<9:25:41,  4.98s/it]"
     ]
    },
    {
     "name": "stdout",
     "output_type": "stream",
     "text": [
      "0.1 180.8 0.028276121930402503 5.087574664314233e-09 0.5611079947175954\n"
     ]
    },
    {
     "name": "stderr",
     "output_type": "stream",
     "text": [
      " 30%|███       | 2947/9766 [2:33:01<9:54:59,  5.24s/it]"
     ]
    },
    {
     "name": "stdout",
     "output_type": "stream",
     "text": [
      "0.2 162.0 0.07233772877128143 7.027981459966743e-06 0.4838990106928067\n"
     ]
    },
    {
     "name": "stderr",
     "output_type": "stream",
     "text": [
      " 30%|███       | 2950/9766 [2:33:15<10:17:37,  5.44s/it]"
     ]
    },
    {
     "name": "stdout",
     "output_type": "stream",
     "text": [
      "0.1 180.8 0.03757347295269618 1.8353976829440187e-05 0.5197503827381572\n"
     ]
    },
    {
     "name": "stderr",
     "output_type": "stream",
     "text": [
      " 30%|███       | 2953/9766 [2:33:28<10:00:29,  5.29s/it]"
     ]
    },
    {
     "name": "stdout",
     "output_type": "stream",
     "text": [
      "0.2 161.4 0.033244130258293265 2.4635349989320186e-05 0.4677200400172078\n"
     ]
    },
    {
     "name": "stderr",
     "output_type": "stream",
     "text": [
      " 30%|███       | 2956/9766 [2:33:42<10:25:37,  5.51s/it]"
     ]
    },
    {
     "name": "stdout",
     "output_type": "stream",
     "text": [
      "0.1 180.8 0.03449263322442481 1.405142827428561e-05 0.301120014764629\n"
     ]
    },
    {
     "name": "stderr",
     "output_type": "stream",
     "text": [
      " 30%|███       | 2959/9766 [2:33:56<10:21:32,  5.48s/it]"
     ]
    },
    {
     "name": "stdout",
     "output_type": "stream",
     "text": [
      "0.1 181.6 0.06165917451486501 1.3314601159818699e-05 0.6569236745992627\n"
     ]
    },
    {
     "name": "stderr",
     "output_type": "stream",
     "text": [
      " 30%|███       | 2962/9766 [2:34:09<9:46:16,  5.17s/it] "
     ]
    },
    {
     "name": "stdout",
     "output_type": "stream",
     "text": [
      "0.3 144.8 0.041571761253237687 7.029329119156122e-06 0.4478364099035814\n"
     ]
    },
    {
     "name": "stderr",
     "output_type": "stream",
     "text": [
      " 30%|███       | 2965/9766 [2:34:22<9:55:15,  5.25s/it]"
     ]
    },
    {
     "name": "stdout",
     "output_type": "stream",
     "text": [
      "0.2 163.6 0.025137061029242354 0.0 0.44370499245417305\n"
     ]
    },
    {
     "name": "stderr",
     "output_type": "stream",
     "text": [
      " 30%|███       | 2968/9766 [2:34:36<10:25:58,  5.52s/it]"
     ]
    },
    {
     "name": "stdout",
     "output_type": "stream",
     "text": [
      "0.1 180.6 0.0518490566297133 1.9588260702381134e-05 0.3961156300805183\n"
     ]
    },
    {
     "name": "stderr",
     "output_type": "stream",
     "text": [
      " 30%|███       | 2971/9766 [2:34:47<8:22:33,  4.44s/it] "
     ]
    },
    {
     "name": "stdout",
     "output_type": "stream",
     "text": [
      "0.6 87.6 0.058241395547697736 4.100473008652277e-05 0.40904834849840316\n"
     ]
    },
    {
     "name": "stderr",
     "output_type": "stream",
     "text": [
      " 30%|███       | 2974/9766 [2:34:58<8:06:59,  4.30s/it]"
     ]
    },
    {
     "name": "stdout",
     "output_type": "stream",
     "text": [
      "0.5 105.2 0.02038980320542205 3.3638329162571513e-05 0.4552130602996513\n"
     ]
    },
    {
     "name": "stderr",
     "output_type": "stream",
     "text": [
      " 30%|███       | 2977/9766 [2:35:07<6:50:55,  3.63s/it]"
     ]
    },
    {
     "name": "stdout",
     "output_type": "stream",
     "text": [
      "0.8 51.8 0.03823336650952071 6.288361593426758e-06 0.5249610994528247\n"
     ]
    },
    {
     "name": "stderr",
     "output_type": "stream",
     "text": [
      " 31%|███       | 2980/9766 [2:35:16<6:20:22,  3.36s/it]"
     ]
    },
    {
     "name": "stdout",
     "output_type": "stream",
     "text": [
      "0.8 53.0 0.0360897141912891 6.290137942549541e-06 0.4927004420771416\n"
     ]
    },
    {
     "name": "stderr",
     "output_type": "stream",
     "text": [
      " 31%|███       | 2983/9766 [2:35:23<5:10:58,  2.75s/it]"
     ]
    },
    {
     "name": "stdout",
     "output_type": "stream",
     "text": [
      "1.0 14.4 4.270585071372691e-06 3.597458544929467e-09 0.5944147385421995\n"
     ]
    },
    {
     "name": "stderr",
     "output_type": "stream",
     "text": [
      " 31%|███       | 2986/9766 [2:35:31<5:43:22,  3.04s/it]"
     ]
    },
    {
     "name": "stdout",
     "output_type": "stream",
     "text": [
      "0.8 50.8 0.03113125786080001 2.51353169924309e-05 0.3865707720551885\n"
     ]
    },
    {
     "name": "stderr",
     "output_type": "stream",
     "text": [
      " 31%|███       | 2989/9766 [2:35:39<5:05:29,  2.70s/it]"
     ]
    },
    {
     "name": "stdout",
     "output_type": "stream",
     "text": [
      "1.0 11.4 2.4141014228638124e-06 0.0 0.40934980349798844\n"
     ]
    },
    {
     "name": "stderr",
     "output_type": "stream",
     "text": [
      " 31%|███       | 2992/9766 [2:35:47<5:39:49,  3.01s/it]"
     ]
    },
    {
     "name": "stdout",
     "output_type": "stream",
     "text": [
      "0.8 49.2 0.025974980730978675 1.4051119348915707e-05 0.35416468615796914\n"
     ]
    },
    {
     "name": "stderr",
     "output_type": "stream",
     "text": [
      " 31%|███       | 2995/9766 [2:35:55<5:35:35,  2.97s/it]"
     ]
    },
    {
     "name": "stdout",
     "output_type": "stream",
     "text": [
      "0.9 35.6 0.017040114146940545 1.2568156904545672e-05 0.6222039233715244\n"
     ]
    },
    {
     "name": "stderr",
     "output_type": "stream",
     "text": [
      " 31%|███       | 2998/9766 [2:36:06<6:49:00,  3.63s/it]"
     ]
    },
    {
     "name": "stdout",
     "output_type": "stream",
     "text": [
      "0.6 87.2 0.05211956313725591 1.885216615254028e-05 0.43942977197923694\n"
     ]
    },
    {
     "name": "stderr",
     "output_type": "stream",
     "text": [
      " 31%|███       | 3001/9766 [2:36:13<5:31:13,  2.94s/it]"
     ]
    },
    {
     "name": "stdout",
     "output_type": "stream",
     "text": [
      "1.0 15.4 6.5405976243626355e-06 2.1073424255447016e-09 0.608449590079351\n"
     ]
    },
    {
     "name": "stderr",
     "output_type": "stream",
     "text": [
      " 31%|███       | 3004/9766 [2:36:21<5:09:42,  2.75s/it]"
     ]
    },
    {
     "name": "stdout",
     "output_type": "stream",
     "text": [
      "1.0 17.4 9.101130003647592e-06 3.597458544929467e-09 0.4345968751928074\n"
     ]
    },
    {
     "name": "stderr",
     "output_type": "stream",
     "text": [
      " 31%|███       | 3007/9766 [2:36:29<5:35:55,  2.98s/it]"
     ]
    },
    {
     "name": "stdout",
     "output_type": "stream",
     "text": [
      "0.9 31.2 0.019192558260755367 1.1326926827000682e-05 0.46614317422223894\n"
     ]
    },
    {
     "name": "stderr",
     "output_type": "stream",
     "text": [
      " 31%|███       | 3010/9766 [2:36:39<6:28:36,  3.45s/it]"
     ]
    },
    {
     "name": "stdout",
     "output_type": "stream",
     "text": [
      "0.7 71.0 0.009428908318858236 4.214684851089403e-09 0.5747624262298398\n"
     ]
    },
    {
     "name": "stderr",
     "output_type": "stream",
     "text": [
      " 31%|███       | 3013/9766 [2:36:51<7:56:01,  4.23s/it]"
     ]
    },
    {
     "name": "stdout",
     "output_type": "stream",
     "text": [
      "0.4 127.0 0.022707579959556103 6.288652293571828e-06 0.5645954315213162\n"
     ]
    },
    {
     "name": "stderr",
     "output_type": "stream",
     "text": [
      " 31%|███       | 3015/9766 [2:36:59<8:04:45,  4.31s/it]"
     ]
    },
    {
     "name": "stdout",
     "output_type": "stream",
     "text": [
      "0.7 68.6 0.009425801333103513 1.4901161193847657e-09 0.31068849920841096\n"
     ]
    },
    {
     "name": "stderr",
     "output_type": "stream",
     "text": [
      " 31%|███       | 3018/9766 [2:37:09<7:10:33,  3.83s/it]"
     ]
    },
    {
     "name": "stdout",
     "output_type": "stream",
     "text": [
      "0.7 69.4 0.009429288278511283 1.4901161193847657e-09 0.39807735434790115\n"
     ]
    },
    {
     "name": "stderr",
     "output_type": "stream",
     "text": [
      " 31%|███       | 3021/9766 [2:37:22<8:41:31,  4.64s/it]"
     ]
    },
    {
     "name": "stdout",
     "output_type": "stream",
     "text": [
      "0.3 145.2 0.021993651046877866 6.577690783698998e-09 0.6360566154667767\n"
     ]
    },
    {
     "name": "stderr",
     "output_type": "stream",
     "text": [
      " 31%|███       | 3024/9766 [2:37:33<8:28:10,  4.52s/it]"
     ]
    },
    {
     "name": "stdout",
     "output_type": "stream",
     "text": [
      "0.5 110.2 0.0324024881462965 1.761739205811202e-05 0.539984422047018\n"
     ]
    },
    {
     "name": "stderr",
     "output_type": "stream",
     "text": [
      " 31%|███       | 3026/9766 [2:37:41<8:14:36,  4.40s/it]"
     ]
    },
    {
     "name": "stdout",
     "output_type": "stream",
     "text": [
      "0.7 72.4 0.02520138124135493 7.027618372881306e-06 0.6222847456862785\n"
     ]
    },
    {
     "name": "stderr",
     "output_type": "stream",
     "text": [
      " 31%|███       | 3029/9766 [2:37:52<7:57:00,  4.25s/it]"
     ]
    },
    {
     "name": "stdout",
     "output_type": "stream",
     "text": [
      "0.5 105.2 0.03775357407314133 2.5138780855070215e-05 0.4115413600758509\n"
     ]
    },
    {
     "name": "stderr",
     "output_type": "stream",
     "text": [
      " 31%|███       | 3032/9766 [2:38:03<7:35:29,  4.06s/it]"
     ]
    },
    {
     "name": "stdout",
     "output_type": "stream",
     "text": [
      "0.6 87.6 0.026465177505404697 1.2568748989907156e-05 0.5624350618414069\n"
     ]
    },
    {
     "name": "stderr",
     "output_type": "stream",
     "text": [
      " 31%|███       | 3035/9766 [2:38:11<5:54:25,  3.16s/it]"
     ]
    },
    {
     "name": "stdout",
     "output_type": "stream",
     "text": [
      "1.0 13.2 8.479672272785956e-06 8.630775929997211e-09 0.5490498600049631\n"
     ]
    },
    {
     "name": "stderr",
     "output_type": "stream",
     "text": [
      " 31%|███       | 3038/9766 [2:38:20<6:26:49,  3.45s/it]"
     ]
    },
    {
     "name": "stdout",
     "output_type": "stream",
     "text": [
      "0.7 69.0 0.025134477218841732 6.286664119614118e-06 0.4737741677228734\n"
     ]
    },
    {
     "name": "stderr",
     "output_type": "stream",
     "text": [
      " 31%|███       | 3040/9766 [2:38:26<5:49:00,  3.11s/it]"
     ]
    },
    {
     "name": "stdout",
     "output_type": "stream",
     "text": [
      "1.0 13.4 5.9810890379549485e-06 2.1073424255447016e-09 0.4278996543487682\n"
     ]
    },
    {
     "name": "stderr",
     "output_type": "stream",
     "text": [
      " 31%|███       | 3042/9766 [2:38:31<5:35:05,  2.99s/it]"
     ]
    },
    {
     "name": "stdout",
     "output_type": "stream",
     "text": [
      "1.0 13.6 3.554938019224555e-06 2.580956827951785e-09 0.36924623355603275\n"
     ]
    },
    {
     "name": "stderr",
     "output_type": "stream",
     "text": [
      " 31%|███       | 3045/9766 [2:38:42<6:44:33,  3.61s/it]"
     ]
    },
    {
     "name": "stdout",
     "output_type": "stream",
     "text": [
      "0.6 88.2 0.012566342930367222 6.432272181444466e-09 0.6606293089448139\n"
     ]
    },
    {
     "name": "stderr",
     "output_type": "stream",
     "text": [
      " 31%|███       | 3048/9766 [2:38:53<7:54:21,  4.24s/it]"
     ]
    },
    {
     "name": "stdout",
     "output_type": "stream",
     "text": [
      "0.4 123.2 0.018854329668526758 1.4901161193847657e-09 0.4875348197913182\n"
     ]
    },
    {
     "name": "stderr",
     "output_type": "stream",
     "text": [
      " 31%|███       | 3051/9766 [2:39:04<7:31:24,  4.03s/it]"
     ]
    },
    {
     "name": "stdout",
     "output_type": "stream",
     "text": [
      "0.6 87.2 0.012572163087371213 3.597458544929467e-09 0.5247818002082059\n"
     ]
    },
    {
     "name": "stderr",
     "output_type": "stream",
     "text": [
      " 31%|███▏      | 3054/9766 [2:39:11<5:43:13,  3.07s/it]"
     ]
    },
    {
     "name": "stdout",
     "output_type": "stream",
     "text": [
      "1.0 13.4 7.0782996765253575e-06 2.9802322387695314e-09 0.5789693253709814\n"
     ]
    },
    {
     "name": "stderr",
     "output_type": "stream",
     "text": [
      " 31%|███▏      | 3057/9766 [2:39:21<6:22:28,  3.42s/it]"
     ]
    },
    {
     "name": "stdout",
     "output_type": "stream",
     "text": [
      "0.7 69.0 0.02621521169644081 6.287380128347786e-06 0.4065704789986063\n"
     ]
    },
    {
     "name": "stderr",
     "output_type": "stream",
     "text": [
      " 31%|███▏      | 3060/9766 [2:39:35<8:52:28,  4.76s/it]"
     ]
    },
    {
     "name": "stdout",
     "output_type": "stream",
     "text": [
      "0.2 161.8 0.054641617187875635 2.3894903027371475e-05 0.5282706042972838\n"
     ]
    },
    {
     "name": "stderr",
     "output_type": "stream",
     "text": [
      " 31%|███▏      | 3063/9766 [2:39:47<9:03:45,  4.87s/it]"
     ]
    },
    {
     "name": "stdout",
     "output_type": "stream",
     "text": [
      "0.3 144.0 0.04192037901654367 6.285258037523577e-06 0.600080275618198\n"
     ]
    },
    {
     "name": "stderr",
     "output_type": "stream",
     "text": [
      " 31%|███▏      | 3066/9766 [2:39:59<8:42:45,  4.68s/it]"
     ]
    },
    {
     "name": "stdout",
     "output_type": "stream",
     "text": [
      "0.4 124.6 0.05217849400358129 5.075713666305376e-05 0.4743103889296017\n"
     ]
    },
    {
     "name": "stderr",
     "output_type": "stream",
     "text": [
      " 31%|███▏      | 3069/9766 [2:40:11<8:28:08,  4.55s/it]"
     ]
    },
    {
     "name": "stdout",
     "output_type": "stream",
     "text": [
      "0.4 123.0 0.046541411748693 1.405072243522119e-05 0.2887176615268575\n"
     ]
    },
    {
     "name": "stderr",
     "output_type": "stream",
     "text": [
      " 31%|███▏      | 3072/9766 [2:40:22<8:05:26,  4.35s/it]"
     ]
    },
    {
     "name": "stdout",
     "output_type": "stream",
     "text": [
      "0.5 107.0 0.04186956335157946 7.035494296497713e-06 0.6672132605359936\n"
     ]
    },
    {
     "name": "stderr",
     "output_type": "stream",
     "text": [
      " 31%|███▏      | 3075/9766 [2:40:34<8:47:46,  4.73s/it]"
     ]
    },
    {
     "name": "stdout",
     "output_type": "stream",
     "text": [
      "0.3 142.6 0.10058830360027773 4.2148622639590145e-05 0.4975321812723794\n"
     ]
    },
    {
     "name": "stderr",
     "output_type": "stream",
     "text": [
      " 32%|███▏      | 3078/9766 [2:40:47<8:59:09,  4.84s/it]"
     ]
    },
    {
     "name": "stdout",
     "output_type": "stream",
     "text": [
      "0.3 141.6 0.06454829249770754 1.3309197557611459e-05 0.3842076134151494\n"
     ]
    },
    {
     "name": "stderr",
     "output_type": "stream",
     "text": [
      " 32%|███▏      | 3081/9766 [2:40:57<7:43:55,  4.16s/it]"
     ]
    },
    {
     "name": "stdout",
     "output_type": "stream",
     "text": [
      "0.7 70.0 0.03420933873946004 1.3313293659175386e-05 0.38884066180783916\n"
     ]
    },
    {
     "name": "stderr",
     "output_type": "stream",
     "text": [
      " 32%|███▏      | 3084/9766 [2:41:05<5:52:06,  3.16s/it]"
     ]
    },
    {
     "name": "stdout",
     "output_type": "stream",
     "text": [
      "1.0 11.0 4.286396445570132e-06 0.0 0.3677997515481685\n"
     ]
    },
    {
     "name": "stderr",
     "output_type": "stream",
     "text": [
      " 32%|███▏      | 3087/9766 [2:41:13<5:42:19,  3.08s/it]"
     ]
    },
    {
     "name": "stdout",
     "output_type": "stream",
     "text": [
      "0.9 32.6 0.012573103171825653 6.285079520196587e-06 0.44080440139260946\n"
     ]
    },
    {
     "name": "stderr",
     "output_type": "stream",
     "text": [
      " 32%|███▏      | 3090/9766 [2:41:21<5:04:18,  2.73s/it]"
     ]
    },
    {
     "name": "stdout",
     "output_type": "stream",
     "text": [
      "1.0 10.8 3.973351662367066e-06 0.0 0.39886627681506764\n"
     ]
    },
    {
     "name": "stderr",
     "output_type": "stream",
     "text": [
      " 32%|███▏      | 3093/9766 [2:41:30<5:46:15,  3.11s/it]"
     ]
    },
    {
     "name": "stdout",
     "output_type": "stream",
     "text": [
      "0.8 48.6 0.016289366319526342 1.8354829099158622e-05 0.3509509371371839\n"
     ]
    },
    {
     "name": "stderr",
     "output_type": "stream",
     "text": [
      " 32%|███▏      | 3096/9766 [2:41:38<5:32:26,  2.99s/it]"
     ]
    },
    {
     "name": "stdout",
     "output_type": "stream",
     "text": [
      "0.9 32.4 0.013025322330375464 7.0235347278337905e-06 0.6267269122754051\n"
     ]
    },
    {
     "name": "stderr",
     "output_type": "stream",
     "text": [
      " 32%|███▏      | 3099/9766 [2:41:45<5:17:52,  2.86s/it]"
     ]
    },
    {
     "name": "stdout",
     "output_type": "stream",
     "text": [
      "0.9 29.6 0.012957515004391813 1.4901161193847657e-09 0.28705768270085585\n"
     ]
    },
    {
     "name": "stderr",
     "output_type": "stream",
     "text": [
      " 32%|███▏      | 3102/9766 [2:41:53<5:17:25,  2.86s/it]"
     ]
    },
    {
     "name": "stdout",
     "output_type": "stream",
     "text": [
      "0.9 32.6 0.015712224616360727 3.597458544929467e-09 0.399555716727117\n"
     ]
    },
    {
     "name": "stderr",
     "output_type": "stream",
     "text": [
      " 32%|███▏      | 3105/9766 [2:42:01<5:07:24,  2.77s/it]"
     ]
    },
    {
     "name": "stdout",
     "output_type": "stream",
     "text": [
      "1.0 14.2 5.509438389245101e-06 2.580956827951785e-09 0.5851844271082464\n"
     ]
    },
    {
     "name": "stderr",
     "output_type": "stream",
     "text": [
      " 32%|███▏      | 3108/9766 [2:42:10<5:23:28,  2.92s/it]"
     ]
    },
    {
     "name": "stdout",
     "output_type": "stream",
     "text": [
      "0.9 31.8 0.014054379325694163 1.4901161193847657e-09 0.417269281421562\n"
     ]
    },
    {
     "name": "stderr",
     "output_type": "stream",
     "text": [
      " 32%|███▏      | 3111/9766 [2:42:18<5:30:01,  2.98s/it]"
     ]
    },
    {
     "name": "stdout",
     "output_type": "stream",
     "text": [
      "0.9 34.2 0.01993415254480812 6.2864519227040256e-06 0.4759767976363539\n"
     ]
    },
    {
     "name": "stderr",
     "output_type": "stream",
     "text": [
      " 32%|███▏      | 3114/9766 [2:42:25<5:04:28,  2.75s/it]"
     ]
    },
    {
     "name": "stdout",
     "output_type": "stream",
     "text": [
      "1.0 11.4 6.283945853586416e-06 2.9802322387695314e-09 0.3583407310470387\n"
     ]
    },
    {
     "name": "stderr",
     "output_type": "stream",
     "text": [
      " 32%|███▏      | 3116/9766 [2:42:31<5:20:24,  2.89s/it]"
     ]
    },
    {
     "name": "stdout",
     "output_type": "stream",
     "text": [
      "1.0 14.6 9.026087246691808e-06 7.194917089858934e-09 0.5491981694875328\n"
     ]
    },
    {
     "name": "stderr",
     "output_type": "stream",
     "text": [
      " 32%|███▏      | 3118/9766 [2:42:37<5:22:25,  2.91s/it]"
     ]
    },
    {
     "name": "stdout",
     "output_type": "stream",
     "text": [
      "1.0 13.2 6.164465436472071e-06 1.4901161193847657e-09 0.42691520409845357\n"
     ]
    },
    {
     "name": "stderr",
     "output_type": "stream",
     "text": [
      " 32%|███▏      | 3121/9766 [2:42:46<5:51:33,  3.17s/it]"
     ]
    },
    {
     "name": "stdout",
     "output_type": "stream",
     "text": [
      "0.8 51.8 0.023839003866814822 7.028147250355596e-06 0.6641028860572916\n"
     ]
    },
    {
     "name": "stderr",
     "output_type": "stream",
     "text": [
      " 32%|███▏      | 3124/9766 [2:42:54<5:15:09,  2.85s/it]"
     ]
    },
    {
     "name": "stdout",
     "output_type": "stream",
     "text": [
      "1.0 12.4 8.698677335893872e-06 8.893190004033845e-09 0.6085703682594581\n"
     ]
    },
    {
     "name": "stderr",
     "output_type": "stream",
     "text": [
      " 32%|███▏      | 3126/9766 [2:42:59<5:19:34,  2.89s/it]"
     ]
    },
    {
     "name": "stdout",
     "output_type": "stream",
     "text": [
      "1.0 11.4 5.594858847398332e-06 4.470348358154297e-09 0.4812524378920543\n"
     ]
    },
    {
     "name": "stderr",
     "output_type": "stream",
     "text": [
      " 32%|███▏      | 3128/9766 [2:43:05<5:10:47,  2.81s/it]"
     ]
    },
    {
     "name": "stdout",
     "output_type": "stream",
     "text": [
      "1.0 13.6 9.490278891521336e-06 3.597458544929467e-09 0.5944223809968137\n"
     ]
    },
    {
     "name": "stderr",
     "output_type": "stream",
     "text": [
      " 32%|███▏      | 3130/9766 [2:43:12<6:24:27,  3.48s/it]"
     ]
    },
    {
     "name": "stdout",
     "output_type": "stream",
     "text": [
      "0.7 72.0 0.021995664109462697 2.9802322387695314e-09 0.48401248379235773\n"
     ]
    },
    {
     "name": "stderr",
     "output_type": "stream",
     "text": [
      " 32%|███▏      | 3132/9766 [2:43:23<8:34:34,  4.65s/it]"
     ]
    },
    {
     "name": "stdout",
     "output_type": "stream",
     "text": [
      "0.3 144.2 0.03180197761774773 4.470348358154297e-09 0.3589655013490597\n"
     ]
    },
    {
     "name": "stderr",
     "output_type": "stream",
     "text": [
      " 32%|███▏      | 3135/9766 [2:43:31<6:15:30,  3.40s/it]"
     ]
    },
    {
     "name": "stdout",
     "output_type": "stream",
     "text": [
      "1.0 16.0 8.279475087675826e-06 3.597458544929467e-09 0.5759010473430617\n"
     ]
    },
    {
     "name": "stderr",
     "output_type": "stream",
     "text": [
      " 32%|███▏      | 3138/9766 [2:43:38<5:17:51,  2.88s/it]"
     ]
    },
    {
     "name": "stdout",
     "output_type": "stream",
     "text": [
      "1.0 11.6 6.103352750720286e-06 1.4901161193847657e-09 0.4593805388812019\n"
     ]
    },
    {
     "name": "stderr",
     "output_type": "stream",
     "text": [
      " 32%|███▏      | 3140/9766 [2:43:44<5:20:13,  2.90s/it]"
     ]
    },
    {
     "name": "stdout",
     "output_type": "stream",
     "text": [
      "1.0 15.4 9.265388146655618e-06 3.597458544929467e-09 0.5637203608747965\n"
     ]
    },
    {
     "name": "stderr",
     "output_type": "stream",
     "text": [
      " 32%|███▏      | 3142/9766 [2:43:55<8:26:35,  4.59s/it]"
     ]
    },
    {
     "name": "stdout",
     "output_type": "stream",
     "text": [
      "0.2 164.4 0.045896945253228044 7.030731047262477e-06 0.49164288904653064\n"
     ]
    },
    {
     "name": "stderr",
     "output_type": "stream",
     "text": [
      " 32%|███▏      | 3144/9766 [2:44:06<9:48:34,  5.33s/it]"
     ]
    },
    {
     "name": "stdout",
     "output_type": "stream",
     "text": [
      "0.3 144.0 0.030115684119492253 7.026702102001469e-06 0.48036843756783254\n"
     ]
    },
    {
     "name": "stderr",
     "output_type": "stream",
     "text": [
      " 32%|███▏      | 3146/9766 [2:44:17<10:16:31,  5.59s/it]"
     ]
    },
    {
     "name": "stdout",
     "output_type": "stream",
     "text": [
      "0.3 145.0 0.04122641856346954 6.9227089152702554e-09 0.5137594942321718\n"
     ]
    },
    {
     "name": "stderr",
     "output_type": "stream",
     "text": [
      " 32%|███▏      | 3149/9766 [2:44:29<9:09:22,  4.98s/it] "
     ]
    },
    {
     "name": "stdout",
     "output_type": "stream",
     "text": [
      "0.4 126.8 0.018855448544943185 1.507345442969606e-08 0.6516162628591786\n"
     ]
    },
    {
     "name": "stderr",
     "output_type": "stream",
     "text": [
      " 32%|███▏      | 3151/9766 [2:44:34<7:07:43,  3.88s/it]"
     ]
    },
    {
     "name": "stdout",
     "output_type": "stream",
     "text": [
      "1.0 13.6 7.95189101885545e-06 7.802349295466825e-09 0.37457073618682335\n"
     ]
    },
    {
     "name": "stderr",
     "output_type": "stream",
     "text": [
      " 32%|███▏      | 3153/9766 [2:44:40<6:35:54,  3.59s/it]"
     ]
    },
    {
     "name": "stdout",
     "output_type": "stream",
     "text": [
      "0.9 30.8 0.012957826918910448 2.9802322387695314e-09 0.47567782331865205\n"
     ]
    },
    {
     "name": "stderr",
     "output_type": "stream",
     "text": [
      " 32%|███▏      | 3155/9766 [2:44:46<5:55:14,  3.22s/it]"
     ]
    },
    {
     "name": "stdout",
     "output_type": "stream",
     "text": [
      "1.0 18.6 9.226360097557363e-06 2.580956827951785e-09 0.616104393794923\n"
     ]
    },
    {
     "name": "stderr",
     "output_type": "stream",
     "text": [
      " 32%|███▏      | 3157/9766 [2:44:53<6:25:27,  3.50s/it]"
     ]
    },
    {
     "name": "stdout",
     "output_type": "stream",
     "text": [
      "0.8 51.6 0.025075444704186777 7.032627515106056e-06 0.5926329625324664\n"
     ]
    },
    {
     "name": "stderr",
     "output_type": "stream",
     "text": [
      " 32%|███▏      | 3159/9766 [2:45:00<6:23:30,  3.48s/it]"
     ]
    },
    {
     "name": "stdout",
     "output_type": "stream",
     "text": [
      "0.9 32.6 0.012508662688122018 7.024329151950382e-06 0.5291754649330838\n"
     ]
    },
    {
     "name": "stderr",
     "output_type": "stream",
     "text": [
      " 32%|███▏      | 3161/9766 [2:45:05<5:46:36,  3.15s/it]"
     ]
    },
    {
     "name": "stdout",
     "output_type": "stream",
     "text": [
      "1.0 14.8 5.744208212878968e-06 5.16191365590357e-09 0.5155814530486437\n"
     ]
    },
    {
     "name": "stderr",
     "output_type": "stream",
     "text": [
      " 32%|███▏      | 3163/9766 [2:45:11<5:26:41,  2.97s/it]"
     ]
    },
    {
     "name": "stdout",
     "output_type": "stream",
     "text": [
      "1.0 11.4 5.446027649391897e-06 2.1073424255447016e-09 0.5312373906625928\n"
     ]
    },
    {
     "name": "stderr",
     "output_type": "stream",
     "text": [
      " 32%|███▏      | 3165/9766 [2:45:19<6:49:49,  3.73s/it]"
     ]
    },
    {
     "name": "stdout",
     "output_type": "stream",
     "text": [
      "0.6 89.0 0.01256574178707916 5.575503985246929e-09 0.5647831870536502\n"
     ]
    },
    {
     "name": "stderr",
     "output_type": "stream",
     "text": [
      " 32%|███▏      | 3168/9766 [2:45:28<6:31:17,  3.56s/it]"
     ]
    },
    {
     "name": "stdout",
     "output_type": "stream",
     "text": [
      "0.8 56.0 0.013914536102692391 1.4059218308801008e-05 0.5945258064812219\n"
     ]
    },
    {
     "name": "stderr",
     "output_type": "stream",
     "text": [
      " 32%|███▏      | 3171/9766 [2:45:36<5:30:06,  3.00s/it]"
     ]
    },
    {
     "name": "stdout",
     "output_type": "stream",
     "text": [
      "1.0 13.2 4.3149679784346514e-06 2.580956827951785e-09 0.45443477938037785\n"
     ]
    },
    {
     "name": "stderr",
     "output_type": "stream",
     "text": [
      " 32%|███▏      | 3173/9766 [2:45:45<7:14:16,  3.95s/it]"
     ]
    },
    {
     "name": "stdout",
     "output_type": "stream",
     "text": [
      "0.5 105.8 0.015709531462956283 2.9802322387695314e-09 0.35923168333177025\n"
     ]
    },
    {
     "name": "stderr",
     "output_type": "stream",
     "text": [
      " 33%|███▎      | 3175/9766 [2:45:52<7:03:35,  3.86s/it]"
     ]
    },
    {
     "name": "stdout",
     "output_type": "stream",
     "text": [
      "0.8 53.6 0.025142456391244645 2.580956827951785e-09 0.5105056344617743\n"
     ]
    },
    {
     "name": "stderr",
     "output_type": "stream",
     "text": [
      " 33%|███▎      | 3177/9766 [2:45:58<6:04:43,  3.32s/it]"
     ]
    },
    {
     "name": "stdout",
     "output_type": "stream",
     "text": [
      "1.0 11.8 5.9630812205066246e-06 1.4901161193847657e-09 0.3273086440373989\n"
     ]
    },
    {
     "name": "stderr",
     "output_type": "stream",
     "text": [
      " 33%|███▎      | 3180/9766 [2:46:07<6:05:28,  3.33s/it]"
     ]
    },
    {
     "name": "stdout",
     "output_type": "stream",
     "text": [
      "0.8 52.0 0.031355964339041295 1.33125713885326e-05 0.5568310581058873\n"
     ]
    },
    {
     "name": "stderr",
     "output_type": "stream",
     "text": [
      " 33%|███▎      | 3183/9766 [2:46:15<5:38:34,  3.09s/it]"
     ]
    },
    {
     "name": "stdout",
     "output_type": "stream",
     "text": [
      "0.9 28.8 0.018853347722476994 0.0 0.4292404817710464\n"
     ]
    },
    {
     "name": "stderr",
     "output_type": "stream",
     "text": [
      " 33%|███▎      | 3186/9766 [2:46:23<5:29:11,  3.00s/it]"
     ]
    },
    {
     "name": "stdout",
     "output_type": "stream",
     "text": [
      "0.9 34.4 0.015647208217807847 7.027927347982751e-06 0.5083192684655795\n"
     ]
    },
    {
     "name": "stderr",
     "output_type": "stream",
     "text": [
      " 33%|███▎      | 3189/9766 [2:46:31<5:10:24,  2.83s/it]"
     ]
    },
    {
     "name": "stdout",
     "output_type": "stream",
     "text": [
      "1.0 12.8 3.964683783647443e-06 2.9802322387695314e-09 0.41669175717294166\n"
     ]
    },
    {
     "name": "stderr",
     "output_type": "stream",
     "text": [
      " 33%|███▎      | 3192/9766 [2:46:39<4:47:26,  2.62s/it]"
     ]
    },
    {
     "name": "stdout",
     "output_type": "stream",
     "text": [
      "1.0 9.8 4.82607517402393e-06 2.9802322387695314e-09 0.3874213447698797\n"
     ]
    },
    {
     "name": "stderr",
     "output_type": "stream",
     "text": [
      " 33%|███▎      | 3195/9766 [2:46:46<4:46:38,  2.62s/it]"
     ]
    },
    {
     "name": "stdout",
     "output_type": "stream",
     "text": [
      "1.0 14.4 5.865509307680269e-06 2.1073424255447016e-09 0.576826746695238\n"
     ]
    },
    {
     "name": "stderr",
     "output_type": "stream",
     "text": [
      " 33%|███▎      | 3198/9766 [2:46:55<5:20:57,  2.93s/it]"
     ]
    },
    {
     "name": "stdout",
     "output_type": "stream",
     "text": [
      "0.9 30.6 0.0031455345078517994 5.561189066721316e-09 0.26611804009199364\n"
     ]
    },
    {
     "name": "stderr",
     "output_type": "stream",
     "text": [
      " 33%|███▎      | 3201/9766 [2:47:02<4:59:30,  2.74s/it]"
     ]
    },
    {
     "name": "stdout",
     "output_type": "stream",
     "text": [
      "1.0 13.4 6.207682086060201e-06 8.759372200833037e-09 0.5083891029455031\n"
     ]
    },
    {
     "name": "stderr",
     "output_type": "stream",
     "text": [
      " 33%|███▎      | 3203/9766 [2:47:08<5:04:18,  2.78s/it]"
     ]
    },
    {
     "name": "stdout",
     "output_type": "stream",
     "text": [
      "1.0 16.2 5.03443431714602e-06 5.140140269373623e-09 0.49848058801839557\n"
     ]
    },
    {
     "name": "stderr",
     "output_type": "stream",
     "text": [
      " 33%|███▎      | 3206/9766 [2:47:15<4:56:15,  2.71s/it]"
     ]
    },
    {
     "name": "stdout",
     "output_type": "stream",
     "text": [
      "1.0 12.6 7.361828703766928e-06 2.9802322387695314e-09 0.40285294664085836\n"
     ]
    },
    {
     "name": "stderr",
     "output_type": "stream",
     "text": [
      " 33%|███▎      | 3209/9766 [2:47:23<4:51:36,  2.67s/it]"
     ]
    },
    {
     "name": "stdout",
     "output_type": "stream",
     "text": [
      "1.0 11.0 6.4468446805832035e-06 1.4901161193847657e-09 0.4131056090783559\n"
     ]
    },
    {
     "name": "stderr",
     "output_type": "stream",
     "text": [
      " 33%|███▎      | 3212/9766 [2:47:33<6:28:31,  3.56s/it]"
     ]
    },
    {
     "name": "stdout",
     "output_type": "stream",
     "text": [
      "0.6 87.8 0.01257114956639519 1.4901161193847657e-09 0.3864566310761567\n"
     ]
    },
    {
     "name": "stderr",
     "output_type": "stream",
     "text": [
      " 33%|███▎      | 3215/9766 [2:47:41<5:25:33,  2.98s/it]"
     ]
    },
    {
     "name": "stdout",
     "output_type": "stream",
     "text": [
      "1.0 15.0 7.404078953840063e-06 6.652029775288337e-09 0.5275259010369617\n"
     ]
    },
    {
     "name": "stderr",
     "output_type": "stream",
     "text": [
      " 33%|███▎      | 3217/9766 [2:47:47<5:15:09,  2.89s/it]"
     ]
    },
    {
     "name": "stdout",
     "output_type": "stream",
     "text": [
      "1.0 11.2 7.255281398293578e-06 2.9802322387695314e-09 0.31174672241076584\n"
     ]
    },
    {
     "name": "stderr",
     "output_type": "stream",
     "text": [
      " 33%|███▎      | 3219/9766 [2:47:56<7:03:17,  3.88s/it]"
     ]
    },
    {
     "name": "stdout",
     "output_type": "stream",
     "text": [
      "0.5 106.0 0.016022495680970174 3.1416168045800086e-05 0.46925598131385726\n"
     ]
    },
    {
     "name": "stderr",
     "output_type": "stream",
     "text": [
      " 33%|███▎      | 3221/9766 [2:48:06<8:31:55,  4.69s/it]"
     ]
    },
    {
     "name": "stdout",
     "output_type": "stream",
     "text": [
      "0.4 124.2 0.01923165072294903 3.770424365366509e-05 0.41279097166354084\n"
     ]
    },
    {
     "name": "stderr",
     "output_type": "stream",
     "text": [
      " 33%|███▎      | 3224/9766 [2:48:13<5:59:40,  3.30s/it]"
     ]
    },
    {
     "name": "stdout",
     "output_type": "stream",
     "text": [
      "1.0 11.8 3.393281050153092e-06 4.470348358154297e-09 0.42509633970397226\n"
     ]
    },
    {
     "name": "stderr",
     "output_type": "stream",
     "text": [
      " 33%|███▎      | 3227/9766 [2:48:21<5:31:55,  3.05s/it]"
     ]
    },
    {
     "name": "stdout",
     "output_type": "stream",
     "text": [
      "0.9 28.8 0.01777735517233172 0.0 0.3046468101768897\n"
     ]
    },
    {
     "name": "stderr",
     "output_type": "stream",
     "text": [
      " 33%|███▎      | 3229/9766 [2:48:27<5:19:32,  2.93s/it]"
     ]
    },
    {
     "name": "stdout",
     "output_type": "stream",
     "text": [
      "1.0 9.2 3.885703937688949e-06 2.580956827951785e-09 0.3332524066173215\n"
     ]
    },
    {
     "name": "stderr",
     "output_type": "stream",
     "text": [
      " 33%|███▎      | 3231/9766 [2:48:32<5:20:41,  2.94s/it]"
     ]
    },
    {
     "name": "stdout",
     "output_type": "stream",
     "text": [
      "1.0 14.2 4.757151465335389e-06 1.4901161193847657e-09 0.4234491113120332\n"
     ]
    },
    {
     "name": "stderr",
     "output_type": "stream",
     "text": [
      " 33%|███▎      | 3233/9766 [2:48:38<5:23:10,  2.97s/it]"
     ]
    },
    {
     "name": "stdout",
     "output_type": "stream",
     "text": [
      "1.0 13.8 5.901247182086459e-06 3.942476676500724e-09 0.4666106076017703\n"
     ]
    },
    {
     "name": "stderr",
     "output_type": "stream",
     "text": [
      " 33%|███▎      | 3236/9766 [2:48:46<4:59:17,  2.75s/it]"
     ]
    },
    {
     "name": "stdout",
     "output_type": "stream",
     "text": [
      "1.0 14.6 5.1812953435597986e-06 0.0 0.3997889386109136\n"
     ]
    },
    {
     "name": "stderr",
     "output_type": "stream",
     "text": [
      " 33%|███▎      | 3239/9766 [2:48:53<4:46:44,  2.64s/it]"
     ]
    },
    {
     "name": "stdout",
     "output_type": "stream",
     "text": [
      "1.0 11.2 4.665194796017053e-06 0.0 0.4831610737518185\n"
     ]
    },
    {
     "name": "stderr",
     "output_type": "stream",
     "text": [
      " 33%|███▎      | 3242/9766 [2:49:01<4:59:31,  2.75s/it]"
     ]
    },
    {
     "name": "stdout",
     "output_type": "stream",
     "text": [
      "1.0 14.0 6.9166655355320665e-06 6.1784153728812526e-09 0.5363672927295722\n"
     ]
    },
    {
     "name": "stderr",
     "output_type": "stream",
     "text": [
      " 33%|███▎      | 3245/9766 [2:49:09<4:59:45,  2.76s/it]"
     ]
    },
    {
     "name": "stdout",
     "output_type": "stream",
     "text": [
      "1.0 12.8 4.759191792243734e-06 0.0 0.4557447923066108\n"
     ]
    },
    {
     "name": "stderr",
     "output_type": "stream",
     "text": [
      " 33%|███▎      | 3248/9766 [2:49:17<4:56:36,  2.73s/it]"
     ]
    },
    {
     "name": "stdout",
     "output_type": "stream",
     "text": [
      "1.0 16.2 5.784494655365365e-06 4.214684851089403e-09 0.6230378659164675\n"
     ]
    },
    {
     "name": "stderr",
     "output_type": "stream",
     "text": [
      " 33%|███▎      | 3251/9766 [2:49:25<4:57:04,  2.74s/it]"
     ]
    },
    {
     "name": "stdout",
     "output_type": "stream",
     "text": [
      "1.0 14.8 5.204998546514555e-06 5.912957765264313e-09 0.5707140760381448\n"
     ]
    },
    {
     "name": "stderr",
     "output_type": "stream",
     "text": [
      " 33%|███▎      | 3254/9766 [2:49:33<5:00:35,  2.77s/it]"
     ]
    },
    {
     "name": "stdout",
     "output_type": "stream",
     "text": [
      "1.0 16.0 5.173039942287391e-06 0.0 0.6307073905652046\n"
     ]
    },
    {
     "name": "stderr",
     "output_type": "stream",
     "text": [
      " 33%|███▎      | 3256/9766 [2:49:39<5:25:54,  3.00s/it]"
     ]
    },
    {
     "name": "stdout",
     "output_type": "stream",
     "text": [
      "0.9 32.2 0.020124066671811568 8.685033209243699e-09 0.5905178082529562\n"
     ]
    },
    {
     "name": "stderr",
     "output_type": "stream",
     "text": [
      " 33%|███▎      | 3259/9766 [2:49:47<5:19:54,  2.95s/it]"
     ]
    },
    {
     "name": "stdout",
     "output_type": "stream",
     "text": [
      "0.9 28.6 0.017775780539915124 4.071072947336551e-09 0.3700042729406309\n"
     ]
    },
    {
     "name": "stderr",
     "output_type": "stream",
     "text": [
      " 33%|███▎      | 3261/9766 [2:49:53<5:26:02,  3.01s/it]"
     ]
    },
    {
     "name": "stdout",
     "output_type": "stream",
     "text": [
      "1.0 18.2 1.0387297069046372e-05 7.742870483855355e-09 0.6729441931989749\n"
     ]
    },
    {
     "name": "stderr",
     "output_type": "stream",
     "text": [
      " 33%|███▎      | 3263/9766 [2:49:59<5:24:44,  3.00s/it]"
     ]
    },
    {
     "name": "stdout",
     "output_type": "stream",
     "text": [
      "1.0 11.6 3.5788376820586096e-06 2.1073424255447016e-09 0.5249806227725345\n"
     ]
    },
    {
     "name": "stderr",
     "output_type": "stream",
     "text": [
      " 33%|███▎      | 3265/9766 [2:50:04<5:14:05,  2.90s/it]"
     ]
    },
    {
     "name": "stdout",
     "output_type": "stream",
     "text": [
      "1.0 11.4 3.891669598447678e-06 0.0 0.6159420999506382\n"
     ]
    },
    {
     "name": "stderr",
     "output_type": "stream",
     "text": [
      " 33%|███▎      | 3267/9766 [2:50:10<5:07:53,  2.84s/it]"
     ]
    },
    {
     "name": "stdout",
     "output_type": "stream",
     "text": [
      "1.0 10.6 5.29596944211687e-06 2.1073424255447016e-09 0.28414122969593636\n"
     ]
    },
    {
     "name": "stderr",
     "output_type": "stream",
     "text": [
      " 33%|███▎      | 3269/9766 [2:50:15<5:08:29,  2.85s/it]"
     ]
    },
    {
     "name": "stdout",
     "output_type": "stream",
     "text": [
      "1.0 11.6 7.693519778069812e-06 6.31223317608206e-09 0.3441872860684505\n"
     ]
    },
    {
     "name": "stderr",
     "output_type": "stream",
     "text": [
      " 33%|███▎      | 3271/9766 [2:50:21<5:03:32,  2.80s/it]"
     ]
    },
    {
     "name": "stdout",
     "output_type": "stream",
     "text": [
      "1.0 12.8 7.690732814821572e-06 4.6882992534964865e-09 0.5584349021759034\n"
     ]
    },
    {
     "name": "stderr",
     "output_type": "stream",
     "text": [
      " 34%|███▎      | 3274/9766 [2:50:29<4:57:06,  2.75s/it]"
     ]
    },
    {
     "name": "stdout",
     "output_type": "stream",
     "text": [
      "1.0 12.2 7.974609765540529e-06 3.597458544929467e-09 0.44451862609587467\n"
     ]
    },
    {
     "name": "stderr",
     "output_type": "stream",
     "text": [
      " 34%|███▎      | 3276/9766 [2:50:34<5:02:00,  2.79s/it]"
     ]
    },
    {
     "name": "stdout",
     "output_type": "stream",
     "text": [
      "1.0 15.4 6.287964053616474e-06 4.071072947336551e-09 0.5081693778053309\n"
     ]
    },
    {
     "name": "stderr",
     "output_type": "stream",
     "text": [
      " 34%|███▎      | 3279/9766 [2:50:42<4:51:04,  2.69s/it]"
     ]
    },
    {
     "name": "stdout",
     "output_type": "stream",
     "text": [
      "1.0 13.8 5.752601246967701e-06 4.470348358154297e-09 0.6423725182711753\n"
     ]
    },
    {
     "name": "stderr",
     "output_type": "stream",
     "text": [
      " 34%|███▎      | 3282/9766 [2:50:52<6:06:16,  3.39s/it]"
     ]
    },
    {
     "name": "stdout",
     "output_type": "stream",
     "text": [
      "0.7 71.2 0.009428190813194385 2.9802322387695314e-09 0.5326765135192435\n"
     ]
    },
    {
     "name": "stderr",
     "output_type": "stream",
     "text": [
      " 34%|███▎      | 3284/9766 [2:50:58<6:04:15,  3.37s/it]"
     ]
    },
    {
     "name": "stdout",
     "output_type": "stream",
     "text": [
      "0.9 32.2 0.0031474109258177994 5.43934336285723e-09 0.4202062456527065\n"
     ]
    },
    {
     "name": "stderr",
     "output_type": "stream",
     "text": [
      " 34%|███▎      | 3287/9766 [2:51:07<5:36:57,  3.12s/it]"
     ]
    },
    {
     "name": "stdout",
     "output_type": "stream",
     "text": [
      "0.9 32.2 0.003146405801269294 2.9802322387695314e-09 0.42484148906195857\n"
     ]
    },
    {
     "name": "stderr",
     "output_type": "stream",
     "text": [
      " 34%|███▎      | 3289/9766 [2:51:12<5:24:13,  3.00s/it]"
     ]
    },
    {
     "name": "stdout",
     "output_type": "stream",
     "text": [
      "1.0 16.0 3.5215592476144737e-06 6.929459482241995e-09 0.4918036138469904\n"
     ]
    },
    {
     "name": "stderr",
     "output_type": "stream",
     "text": [
      " 34%|███▎      | 3292/9766 [2:51:20<5:02:59,  2.81s/it]"
     ]
    },
    {
     "name": "stdout",
     "output_type": "stream",
     "text": [
      "1.0 13.6 6.106537578584922e-06 5.960464477539063e-09 0.4697265813867876\n"
     ]
    },
    {
     "name": "stderr",
     "output_type": "stream",
     "text": [
      " 34%|███▎      | 3294/9766 [2:51:29<6:47:16,  3.78s/it]"
     ]
    },
    {
     "name": "stdout",
     "output_type": "stream",
     "text": [
      "0.6 89.4 0.015712370284193207 6.2872761430864426e-06 0.5557298632386299\n"
     ]
    },
    {
     "name": "stderr",
     "output_type": "stream",
     "text": [
      " 34%|███▎      | 3296/9766 [2:51:35<6:40:29,  3.71s/it]"
     ]
    },
    {
     "name": "stdout",
     "output_type": "stream",
     "text": [
      "0.8 49.8 0.006290776627756919 2.9802322387695314e-09 0.6574431420543931\n"
     ]
    },
    {
     "name": "stderr",
     "output_type": "stream",
     "text": [
      " 34%|███▍      | 3298/9766 [2:51:41<5:52:45,  3.27s/it]"
     ]
    },
    {
     "name": "stdout",
     "output_type": "stream",
     "text": [
      "1.0 13.2 8.374360321226355e-06 4.071072947336551e-09 0.5978174426852189\n"
     ]
    },
    {
     "name": "stderr",
     "output_type": "stream",
     "text": [
      " 34%|███▍      | 3300/9766 [2:51:46<5:25:51,  3.02s/it]"
     ]
    },
    {
     "name": "stdout",
     "output_type": "stream",
     "text": [
      "1.0 12.0 7.660050401124363e-06 2.1073424255447016e-09 0.4669853865628017\n"
     ]
    },
    {
     "name": "stderr",
     "output_type": "stream",
     "text": [
      " 34%|███▍      | 3302/9766 [2:51:53<5:45:07,  3.20s/it]"
     ]
    },
    {
     "name": "stdout",
     "output_type": "stream",
     "text": [
      "0.9 37.2 0.012575748655450336 7.194917089858934e-09 0.5489028962647764\n"
     ]
    },
    {
     "name": "stderr",
     "output_type": "stream",
     "text": [
      " 34%|███▍      | 3304/9766 [2:51:59<5:54:26,  3.29s/it]"
     ]
    },
    {
     "name": "stdout",
     "output_type": "stream",
     "text": [
      "0.9 30.2 0.014051830747615245 1.4901161193847657e-09 0.4637289684537758\n"
     ]
    },
    {
     "name": "stderr",
     "output_type": "stream",
     "text": [
      " 34%|███▍      | 3306/9766 [2:52:08<7:11:33,  4.01s/it]"
     ]
    },
    {
     "name": "stdout",
     "output_type": "stream",
     "text": [
      "0.6 88.2 0.03290358827154979 5.7048009704741684e-09 0.45836148862954607\n"
     ]
    },
    {
     "name": "stderr",
     "output_type": "stream",
     "text": [
      " 34%|███▍      | 3308/9766 [2:52:16<7:20:04,  4.09s/it]"
     ]
    },
    {
     "name": "stdout",
     "output_type": "stream",
     "text": [
      "0.7 68.2 0.01924170436622052 1.4901161193847657e-09 0.4290625519320348\n"
     ]
    },
    {
     "name": "stderr",
     "output_type": "stream",
     "text": [
      " 34%|███▍      | 3310/9766 [2:52:26<8:28:13,  4.72s/it]"
     ]
    },
    {
     "name": "stdout",
     "output_type": "stream",
     "text": [
      "0.4 126.0 0.03976990341181866 1.4053579153597556e-05 0.43801942087579376\n"
     ]
    },
    {
     "name": "stderr",
     "output_type": "stream",
     "text": [
      " 34%|███▍      | 3312/9766 [2:52:34<8:22:41,  4.67s/it]"
     ]
    },
    {
     "name": "stdout",
     "output_type": "stream",
     "text": [
      "0.6 89.4 0.01257019794123212 3.597458544929467e-09 0.4998290940145994\n"
     ]
    },
    {
     "name": "stderr",
     "output_type": "stream",
     "text": [
      " 34%|███▍      | 3314/9766 [2:52:45<9:22:53,  5.23s/it]"
     ]
    },
    {
     "name": "stdout",
     "output_type": "stream",
     "text": [
      "0.3 144.8 0.02199949300054872 5.087574664314233e-09 0.4010095155987418\n"
     ]
    },
    {
     "name": "stderr",
     "output_type": "stream",
     "text": [
      " 34%|███▍      | 3317/9766 [2:52:57<9:10:37,  5.12s/it]"
     ]
    },
    {
     "name": "stdout",
     "output_type": "stream",
     "text": [
      "0.3 145.2 0.021996417776502148 2.9802322387695314e-09 0.4189611672414249\n"
     ]
    },
    {
     "name": "stderr",
     "output_type": "stream",
     "text": [
      " 34%|███▍      | 3319/9766 [2:53:09<10:00:58,  5.59s/it]"
     ]
    },
    {
     "name": "stdout",
     "output_type": "stream",
     "text": [
      "0.3 144.4 0.031804612182723284 7.194917089858934e-09 0.542671072119352\n"
     ]
    },
    {
     "name": "stderr",
     "output_type": "stream",
     "text": [
      " 34%|███▍      | 3321/9766 [2:53:20<10:32:58,  5.89s/it]"
     ]
    },
    {
     "name": "stdout",
     "output_type": "stream",
     "text": [
      "0.2 163.2 0.029046841378428938 6.284872848647017e-06 0.5779285047778642\n"
     ]
    },
    {
     "name": "stderr",
     "output_type": "stream",
     "text": [
      " 34%|███▍      | 3323/9766 [2:53:28<9:17:27,  5.19s/it] "
     ]
    },
    {
     "name": "stdout",
     "output_type": "stream",
     "text": [
      "0.6 90.0 0.012568440064369916 1.4901161193847657e-09 0.42901668388322733\n"
     ]
    },
    {
     "name": "stderr",
     "output_type": "stream",
     "text": [
      " 34%|███▍      | 3325/9766 [2:53:35<7:52:01,  4.40s/it]"
     ]
    },
    {
     "name": "stdout",
     "output_type": "stream",
     "text": [
      "0.8 48.2 0.04713397720665718 7.026790126441487e-06 0.42762290237962874\n"
     ]
    },
    {
     "name": "stderr",
     "output_type": "stream",
     "text": [
      " 34%|███▍      | 3327/9766 [2:53:39<5:51:56,  3.28s/it]/home/dmitry/dev/gym_interf/gym_interf/envs/interf_env.py:260: RuntimeWarning: divide by zero encountered in double_scalars\n",
      "  band_width_y = InterfEnv.lamb / abs(wave_vector2[1])\n",
      " 34%|███▍      | 3328/9766 [2:53:43<6:11:29,  3.46s/it]"
     ]
    },
    {
     "name": "stdout",
     "output_type": "stream",
     "text": [
      "0.9 32.6 0.007001795721473627 6.284073559999493e-06 0.5430121646010528\n"
     ]
    },
    {
     "name": "stderr",
     "output_type": "stream",
     "text": [
      " 34%|███▍      | 3330/9766 [2:53:49<5:41:18,  3.18s/it]"
     ]
    },
    {
     "name": "stdout",
     "output_type": "stream",
     "text": [
      "1.0 15.4 5.773712967006422e-06 2.9802322387695314e-09 0.5560915635211507\n"
     ]
    },
    {
     "name": "stderr",
     "output_type": "stream",
     "text": [
      " 34%|███▍      | 3332/9766 [2:53:56<6:05:40,  3.41s/it]"
     ]
    },
    {
     "name": "stdout",
     "output_type": "stream",
     "text": [
      "0.8 50.8 0.028340906568943912 6.287956842938511e-06 0.5381105430551788\n"
     ]
    },
    {
     "name": "stderr",
     "output_type": "stream",
     "text": [
      " 34%|███▍      | 3335/9766 [2:54:05<5:45:30,  3.22s/it]"
     ]
    },
    {
     "name": "stdout",
     "output_type": "stream",
     "text": [
      "0.9 34.4 0.0031459403710696688 4.6882992534964865e-09 0.5986170911016465\n"
     ]
    },
    {
     "name": "stderr",
     "output_type": "stream",
     "text": [
      " 34%|███▍      | 3338/9766 [2:54:12<5:05:52,  2.86s/it]"
     ]
    },
    {
     "name": "stdout",
     "output_type": "stream",
     "text": [
      "1.0 10.6 4.471948927632937e-06 0.0 0.33282347727308925\n"
     ]
    },
    {
     "name": "stderr",
     "output_type": "stream",
     "text": [
      " 34%|███▍      | 3340/9766 [2:54:18<5:25:48,  3.04s/it]"
     ]
    },
    {
     "name": "stdout",
     "output_type": "stream",
     "text": [
      "0.9 33.8 0.019877186614155065 1.4901161193847657e-09 0.559871426771749\n"
     ]
    },
    {
     "name": "stderr",
     "output_type": "stream",
     "text": [
      " 34%|███▍      | 3343/9766 [2:54:29<6:34:39,  3.69s/it]"
     ]
    },
    {
     "name": "stdout",
     "output_type": "stream",
     "text": [
      "0.6 90.0 0.01833611308415648 7.030862587486401e-06 0.5666913685592379\n"
     ]
    },
    {
     "name": "stderr",
     "output_type": "stream",
     "text": [
      " 34%|███▍      | 3346/9766 [2:54:37<5:23:41,  3.03s/it]"
     ]
    },
    {
     "name": "stdout",
     "output_type": "stream",
     "text": [
      "1.0 14.6 8.452707492342873e-06 2.1073424255447016e-09 0.5298640442556461\n"
     ]
    },
    {
     "name": "stderr",
     "output_type": "stream",
     "text": [
      " 34%|███▍      | 3348/9766 [2:54:46<7:33:00,  4.24s/it]"
     ]
    },
    {
     "name": "stdout",
     "output_type": "stream",
     "text": [
      "0.4 126.0 0.04097132868107156 1.331137671411751e-05 0.4522205559843367\n"
     ]
    },
    {
     "name": "stderr",
     "output_type": "stream",
     "text": [
      " 34%|███▍      | 3350/9766 [2:54:54<7:36:28,  4.27s/it]"
     ]
    },
    {
     "name": "stdout",
     "output_type": "stream",
     "text": [
      "0.7 71.4 0.009429511666388408 3.6500241499888573e-09 0.5694166758879768\n"
     ]
    },
    {
     "name": "stderr",
     "output_type": "stream",
     "text": [
      " 34%|███▍      | 3352/9766 [2:55:02<7:37:02,  4.28s/it]"
     ]
    },
    {
     "name": "stdout",
     "output_type": "stream",
     "text": [
      "0.7 71.2 0.013356822146140822 7.028456229342898e-06 0.5141299118680333\n"
     ]
    },
    {
     "name": "stderr",
     "output_type": "stream",
     "text": [
      " 34%|███▍      | 3355/9766 [2:55:16<8:50:55,  4.97s/it]"
     ]
    },
    {
     "name": "stdout",
     "output_type": "stream",
     "text": [
      "0.2 162.6 0.025135374392931543 3.597458544929467e-09 0.46081777778219496\n"
     ]
    },
    {
     "name": "stderr",
     "output_type": "stream",
     "text": [
      " 34%|███▍      | 3358/9766 [2:55:26<7:32:12,  4.23s/it]"
     ]
    },
    {
     "name": "stdout",
     "output_type": "stream",
     "text": [
      "0.6 87.4 0.012569825791404688 3.597458544929467e-09 0.3646986748801929\n"
     ]
    },
    {
     "name": "stderr",
     "output_type": "stream",
     "text": [
      " 34%|███▍      | 3361/9766 [2:55:38<7:54:44,  4.45s/it]"
     ]
    },
    {
     "name": "stdout",
     "output_type": "stream",
     "text": [
      "0.4 126.4 0.03368405918890264 1.3308183802922745e-05 0.4346392464413455\n"
     ]
    },
    {
     "name": "stderr",
     "output_type": "stream",
     "text": [
      " 34%|███▍      | 3364/9766 [2:55:49<7:37:39,  4.29s/it]"
     ]
    },
    {
     "name": "stdout",
     "output_type": "stream",
     "text": [
      "0.5 107.0 0.028611119508179284 2.107803091751707e-05 0.59276201005636\n"
     ]
    },
    {
     "name": "stderr",
     "output_type": "stream",
     "text": [
      " 34%|███▍      | 3367/9766 [2:56:01<8:05:33,  4.55s/it]"
     ]
    },
    {
     "name": "stdout",
     "output_type": "stream",
     "text": [
      "0.4 125.8 0.03495350433179435 2.8099126508186258e-05 0.5632113548672022\n"
     ]
    },
    {
     "name": "stderr",
     "output_type": "stream",
     "text": [
      " 35%|███▍      | 3370/9766 [2:56:09<6:10:04,  3.47s/it]"
     ]
    },
    {
     "name": "stdout",
     "output_type": "stream",
     "text": [
      "0.9 34.0 0.006354968959234905 7.0259959701724006e-06 0.47712870122771084\n"
     ]
    },
    {
     "name": "stderr",
     "output_type": "stream",
     "text": [
      " 35%|███▍      | 3373/9766 [2:56:21<7:33:28,  4.26s/it]"
     ]
    },
    {
     "name": "stdout",
     "output_type": "stream",
     "text": [
      "0.4 124.8 0.02461784694092865 7.0259517160379716e-06 0.38979537746555115\n"
     ]
    },
    {
     "name": "stderr",
     "output_type": "stream",
     "text": [
      " 35%|███▍      | 3376/9766 [2:56:34<8:41:11,  4.89s/it]"
     ]
    },
    {
     "name": "stdout",
     "output_type": "stream",
     "text": [
      "0.2 161.8 0.039093366467711846 1.4053258837641727e-05 0.5254730400813232\n"
     ]
    },
    {
     "name": "stderr",
     "output_type": "stream",
     "text": [
      " 35%|███▍      | 3379/9766 [2:56:47<8:49:58,  4.98s/it]"
     ]
    },
    {
     "name": "stdout",
     "output_type": "stream",
     "text": [
      "0.3 145.8 0.02591693774419022 7.031348814197026e-06 0.6504237303209186\n"
     ]
    },
    {
     "name": "stderr",
     "output_type": "stream",
     "text": [
      " 35%|███▍      | 3382/9766 [2:56:57<7:11:18,  4.05s/it]"
     ]
    },
    {
     "name": "stdout",
     "output_type": "stream",
     "text": [
      "0.7 68.2 0.02827591971782615 5.087574664314233e-09 0.5207184763154329\n"
     ]
    },
    {
     "name": "stderr",
     "output_type": "stream",
     "text": [
      " 35%|███▍      | 3385/9766 [2:57:09<8:08:51,  4.60s/it]"
     ]
    },
    {
     "name": "stdout",
     "output_type": "stream",
     "text": [
      "0.3 143.6 0.034072493069253855 7.026657852315226e-06 0.6510611573172903\n"
     ]
    },
    {
     "name": "stderr",
     "output_type": "stream",
     "text": [
      " 35%|███▍      | 3388/9766 [2:57:21<8:24:56,  4.75s/it]"
     ]
    },
    {
     "name": "stdout",
     "output_type": "stream",
     "text": [
      "0.3 144.0 0.05357980976430503 1.9598408534971658e-05 0.5686761806667746\n"
     ]
    },
    {
     "name": "stderr",
     "output_type": "stream",
     "text": [
      " 35%|███▍      | 3391/9766 [2:57:34<8:53:58,  5.03s/it]"
     ]
    },
    {
     "name": "stdout",
     "output_type": "stream",
     "text": [
      "0.2 162.8 0.029088376833458645 7.031048515639891e-06 0.4606407910382613\n"
     ]
    },
    {
     "name": "stderr",
     "output_type": "stream",
     "text": [
      " 35%|███▍      | 3394/9766 [2:57:43<6:45:57,  3.82s/it]"
     ]
    },
    {
     "name": "stdout",
     "output_type": "stream",
     "text": [
      "0.8 48.4 0.006289988338815468 6.0498191020454256e-09 0.47658316773682063\n"
     ]
    },
    {
     "name": "stderr",
     "output_type": "stream",
     "text": [
      " 35%|███▍      | 3397/9766 [2:57:56<8:09:26,  4.61s/it]"
     ]
    },
    {
     "name": "stdout",
     "output_type": "stream",
     "text": [
      "0.2 163.2 0.03763941208022548 7.030600328991726e-06 0.4592780994668849\n"
     ]
    },
    {
     "name": "stderr",
     "output_type": "stream",
     "text": [
      " 35%|███▍      | 3401/9766 [2:58:09<7:22:23,  4.17s/it]"
     ]
    },
    {
     "name": "stdout",
     "output_type": "stream",
     "text": [
      "0.4 129.2 0.053020565864219896 2.0336186395501206e-05 0.5014263621848561\n"
     ]
    },
    {
     "name": "stderr",
     "output_type": "stream",
     "text": [
      " 35%|███▍      | 3405/9766 [2:58:23<7:43:07,  4.37s/it]"
     ]
    },
    {
     "name": "stdout",
     "output_type": "stream",
     "text": [
      "0.3 145.2 0.08454025574715285 2.8100780426292633e-05 0.47954705944682113\n"
     ]
    },
    {
     "name": "stderr",
     "output_type": "stream",
     "text": [
      " 35%|███▍      | 3408/9766 [2:58:33<6:57:07,  3.94s/it]"
     ]
    },
    {
     "name": "stdout",
     "output_type": "stream",
     "text": [
      "0.7 72.0 0.029966861098104747 7.028534596879687e-06 0.4896373466220864\n"
     ]
    },
    {
     "name": "stderr",
     "output_type": "stream",
     "text": [
      " 35%|███▍      | 3411/9766 [2:58:43<6:53:03,  3.90s/it]"
     ]
    },
    {
     "name": "stdout",
     "output_type": "stream",
     "text": [
      "0.6 87.0 0.023968694296239636 1.4050766537712818e-05 0.47121624087604896\n"
     ]
    },
    {
     "name": "stderr",
     "output_type": "stream",
     "text": [
      " 35%|███▍      | 3414/9766 [2:58:51<5:44:12,  3.25s/it]"
     ]
    },
    {
     "name": "stdout",
     "output_type": "stream",
     "text": [
      "0.9 34.6 0.006288924309224235 2.580956827951785e-09 0.6357587704599312\n"
     ]
    },
    {
     "name": "stderr",
     "output_type": "stream",
     "text": [
      " 35%|███▍      | 3417/9766 [2:59:00<5:34:42,  3.16s/it]"
     ]
    },
    {
     "name": "stdout",
     "output_type": "stream",
     "text": [
      "0.9 34.2 0.008891032531084787 2.580956827951785e-09 0.5522885295083393\n"
     ]
    },
    {
     "name": "stderr",
     "output_type": "stream",
     "text": [
      " 35%|███▌      | 3420/9766 [2:59:09<6:05:31,  3.46s/it]"
     ]
    },
    {
     "name": "stdout",
     "output_type": "stream",
     "text": [
      "0.7 70.0 0.02628062131360382 6.289550222010788e-06 0.3977840768222224\n"
     ]
    },
    {
     "name": "stderr",
     "output_type": "stream",
     "text": [
      " 35%|███▌      | 3423/9766 [2:59:19<5:55:13,  3.36s/it]"
     ]
    },
    {
     "name": "stdout",
     "output_type": "stream",
     "text": [
      "0.8 47.8 0.020216373350764042 2.1073424255447016e-09 0.33735187176633036\n"
     ]
    },
    {
     "name": "stderr",
     "output_type": "stream",
     "text": [
      " 35%|███▌      | 3425/9766 [2:59:24<5:23:33,  3.06s/it]"
     ]
    },
    {
     "name": "stdout",
     "output_type": "stream",
     "text": [
      "1.0 9.4 6.4784445394096704e-06 1.4901161193847657e-09 0.3911736533993848\n"
     ]
    },
    {
     "name": "stderr",
     "output_type": "stream",
     "text": [
      " 35%|███▌      | 3428/9766 [2:59:32<5:23:42,  3.06s/it]"
     ]
    },
    {
     "name": "stdout",
     "output_type": "stream",
     "text": [
      "0.9 32.6 0.011332974673924547 5.087574664314233e-09 0.4594959810088066\n"
     ]
    },
    {
     "name": "stderr",
     "output_type": "stream",
     "text": [
      " 35%|███▌      | 3430/9766 [2:59:39<5:55:57,  3.37s/it]"
     ]
    },
    {
     "name": "stdout",
     "output_type": "stream",
     "text": [
      "0.8 49.4 0.02590957209581577 0.0 0.31914316076766996\n"
     ]
    },
    {
     "name": "stderr",
     "output_type": "stream",
     "text": [
      " 35%|███▌      | 3433/9766 [2:59:47<5:06:14,  2.90s/it]"
     ]
    },
    {
     "name": "stdout",
     "output_type": "stream",
     "text": [
      "1.0 12.4 4.15318125816805e-06 0.0 0.5832851037228656\n"
     ]
    },
    {
     "name": "stderr",
     "output_type": "stream",
     "text": [
      " 35%|███▌      | 3436/9766 [2:59:57<6:02:49,  3.44s/it]"
     ]
    },
    {
     "name": "stdout",
     "output_type": "stream",
     "text": [
      "0.7 72.4 0.035226362444829795 4.470348358154297e-09 0.5053542633490211\n"
     ]
    },
    {
     "name": "stderr",
     "output_type": "stream",
     "text": [
      " 35%|███▌      | 3438/9766 [3:00:05<6:37:08,  3.77s/it]"
     ]
    },
    {
     "name": "stdout",
     "output_type": "stream",
     "text": [
      "0.7 69.0 0.04649116403280622 6.1784153728812526e-09 0.5221184153082592\n"
     ]
    },
    {
     "name": "stderr",
     "output_type": "stream",
     "text": [
      " 35%|███▌      | 3441/9766 [3:00:13<5:42:47,  3.25s/it]"
     ]
    },
    {
     "name": "stdout",
     "output_type": "stream",
     "text": [
      "0.9 31.2 0.012570955194858072 5.087574664314233e-09 0.6715399434666987\n"
     ]
    },
    {
     "name": "stderr",
     "output_type": "stream",
     "text": [
      " 35%|███▌      | 3444/9766 [3:00:21<5:22:17,  3.06s/it]"
     ]
    },
    {
     "name": "stdout",
     "output_type": "stream",
     "text": [
      "0.9 31.8 0.016920375212345268 6.929459482241995e-09 0.6098531379625147\n"
     ]
    },
    {
     "name": "stderr",
     "output_type": "stream",
     "text": [
      " 35%|███▌      | 3447/9766 [3:00:29<5:03:37,  2.88s/it]"
     ]
    },
    {
     "name": "stdout",
     "output_type": "stream",
     "text": [
      "1.0 15.8 1.054598825072777e-05 7.802349295466825e-09 0.5743386647621277\n"
     ]
    },
    {
     "name": "stderr",
     "output_type": "stream",
     "text": [
      " 35%|███▌      | 3450/9766 [3:00:37<4:46:46,  2.72s/it]"
     ]
    },
    {
     "name": "stdout",
     "output_type": "stream",
     "text": [
      "1.0 13.6 4.394879300505982e-06 0.0 0.421789659506257\n"
     ]
    },
    {
     "name": "stderr",
     "output_type": "stream",
     "text": [
      " 35%|███▌      | 3452/9766 [3:00:43<5:15:56,  3.00s/it]"
     ]
    },
    {
     "name": "stdout",
     "output_type": "stream",
     "text": [
      "0.9 34.6 0.012962337442936667 1.0175149328628466e-08 0.49385423942958706\n"
     ]
    },
    {
     "name": "stderr",
     "output_type": "stream",
     "text": [
      " 35%|███▌      | 3454/9766 [3:00:49<5:09:28,  2.94s/it]"
     ]
    },
    {
     "name": "stdout",
     "output_type": "stream",
     "text": [
      "1.0 14.6 6.376762980846312e-06 1.4901161193847657e-09 0.5432505739187883\n"
     ]
    },
    {
     "name": "stderr",
     "output_type": "stream",
     "text": [
      " 35%|███▌      | 3457/9766 [3:01:00<6:54:02,  3.94s/it]"
     ]
    },
    {
     "name": "stdout",
     "output_type": "stream",
     "text": [
      "0.5 108.6 0.043264350903651154 2.580956827951785e-09 0.49265719038320305\n"
     ]
    },
    {
     "name": "stderr",
     "output_type": "stream",
     "text": [
      " 35%|███▌      | 3460/9766 [3:01:12<7:46:00,  4.43s/it]"
     ]
    },
    {
     "name": "stdout",
     "output_type": "stream",
     "text": [
      "0.3 144.8 0.036041162685804304 1.4901161193847657e-09 0.43295378272591645\n"
     ]
    },
    {
     "name": "stderr",
     "output_type": "stream",
     "text": [
      " 35%|███▌      | 3465/9766 [3:01:25<6:01:08,  3.44s/it]"
     ]
    },
    {
     "name": "stdout",
     "output_type": "stream",
     "text": [
      "0.6 88.4 0.032293128333676015 8.790164419362482e-09 0.3733212968359075\n"
     ]
    },
    {
     "name": "stderr",
     "output_type": "stream",
     "text": [
      " 36%|███▌      | 3468/9766 [3:01:33<5:01:59,  2.88s/it]"
     ]
    },
    {
     "name": "stdout",
     "output_type": "stream",
     "text": [
      "1.0 13.2 6.99361298365776e-06 4.470348358154297e-09 0.43486775435599334\n"
     ]
    },
    {
     "name": "stderr",
     "output_type": "stream",
     "text": [
      " 36%|███▌      | 3471/9766 [3:01:40<4:49:23,  2.76s/it]"
     ]
    },
    {
     "name": "stdout",
     "output_type": "stream",
     "text": [
      "1.0 14.2 7.979403832079533e-06 3.597458544929467e-09 0.4543201088828459\n"
     ]
    },
    {
     "name": "stderr",
     "output_type": "stream",
     "text": [
      " 36%|███▌      | 3474/9766 [3:01:48<4:44:08,  2.71s/it]"
     ]
    },
    {
     "name": "stdout",
     "output_type": "stream",
     "text": [
      "1.0 16.6 7.527768938353497e-06 8.685033209243699e-09 0.5898983707779957\n"
     ]
    },
    {
     "name": "stderr",
     "output_type": "stream",
     "text": [
      " 36%|███▌      | 3476/9766 [3:01:56<5:56:41,  3.40s/it]"
     ]
    },
    {
     "name": "stdout",
     "output_type": "stream",
     "text": [
      "0.7 69.0 0.042152236388013686 7.0513051861060824e-09 0.4100140290219906\n"
     ]
    },
    {
     "name": "stderr",
     "output_type": "stream",
     "text": [
      " 36%|███▌      | 3479/9766 [3:02:05<6:08:00,  3.51s/it]"
     ]
    },
    {
     "name": "stdout",
     "output_type": "stream",
     "text": [
      "0.7 69.6 0.04689584646475831 2.8970444628839578e-05 0.35419752019580614\n"
     ]
    },
    {
     "name": "stderr",
     "output_type": "stream",
     "text": [
      " 36%|███▌      | 3481/9766 [3:02:12<6:13:24,  3.56s/it]"
     ]
    },
    {
     "name": "stdout",
     "output_type": "stream",
     "text": [
      "0.8 50.4 0.017772869940822285 0.0 0.40605706423446586\n"
     ]
    },
    {
     "name": "stderr",
     "output_type": "stream",
     "text": [
      " 36%|███▌      | 3484/9766 [3:02:21<5:57:05,  3.41s/it]"
     ]
    },
    {
     "name": "stdout",
     "output_type": "stream",
     "text": [
      "0.8 51.4 0.02810498069731222 3.597458544929467e-09 0.39480767578794135\n"
     ]
    },
    {
     "name": "stderr",
     "output_type": "stream",
     "text": [
      " 36%|███▌      | 3487/9766 [3:02:29<5:19:15,  3.05s/it]"
     ]
    },
    {
     "name": "stdout",
     "output_type": "stream",
     "text": [
      "1.0 18.0 9.818970783008251e-06 5.087574664314233e-09 0.618103100010979\n"
     ]
    },
    {
     "name": "stderr",
     "output_type": "stream",
     "text": [
      " 36%|███▌      | 3490/9766 [3:02:42<7:26:00,  4.26s/it]"
     ]
    },
    {
     "name": "stdout",
     "output_type": "stream",
     "text": [
      "0.3 145.0 0.09342407986364146 6.322438081129835e-05 0.465842457387062\n"
     ]
    },
    {
     "name": "stderr",
     "output_type": "stream",
     "text": [
      " 36%|███▌      | 3493/9766 [3:02:54<8:13:54,  4.72s/it]"
     ]
    },
    {
     "name": "stdout",
     "output_type": "stream",
     "text": [
      "0.3 144.2 0.09116453625068269 7.0321743855452825e-06 0.4171817217339237\n"
     ]
    },
    {
     "name": "stderr",
     "output_type": "stream",
     "text": [
      " 36%|███▌      | 3495/9766 [3:03:03<8:09:08,  4.68s/it]"
     ]
    },
    {
     "name": "stdout",
     "output_type": "stream",
     "text": [
      "0.6 87.6 0.012574522609812077 2.9802322387695314e-09 0.5304606013005676\n"
     ]
    },
    {
     "name": "stderr",
     "output_type": "stream",
     "text": [
      " 36%|███▌      | 3497/9766 [3:03:14<9:30:01,  5.46s/it]"
     ]
    },
    {
     "name": "stdout",
     "output_type": "stream",
     "text": [
      "0.2 161.8 0.04695010949107472 2.9802322387695314e-09 0.39753113656041283\n"
     ]
    },
    {
     "name": "stderr",
     "output_type": "stream",
     "text": [
      " 36%|███▌      | 3500/9766 [3:03:27<9:16:14,  5.33s/it]"
     ]
    },
    {
     "name": "stdout",
     "output_type": "stream",
     "text": [
      "0.2 162.2 0.04422951348489691 2.9802322387695314e-09 0.5130209315157723\n"
     ]
    },
    {
     "name": "stderr",
     "output_type": "stream",
     "text": [
      " 36%|███▌      | 3503/9766 [3:03:42<9:41:24,  5.57s/it]"
     ]
    },
    {
     "name": "stdout",
     "output_type": "stream",
     "text": [
      "0.1 181.0 0.07171122150693376 2.1073424255447016e-09 0.46631373199247844\n"
     ]
    },
    {
     "name": "stderr",
     "output_type": "stream",
     "text": [
      " 36%|███▌      | 3505/9766 [3:03:54<11:00:31,  6.33s/it]"
     ]
    },
    {
     "name": "stdout",
     "output_type": "stream",
     "text": [
      "0.0 200.0 0.05216722204805302 1.4901161193847657e-09 0.3621827831739416\n"
     ]
    },
    {
     "name": "stderr",
     "output_type": "stream",
     "text": [
      " 36%|███▌      | 3508/9766 [3:04:09<10:34:58,  6.09s/it]"
     ]
    },
    {
     "name": "stdout",
     "output_type": "stream",
     "text": [
      "0.0 200.0 0.05695286956633232 0.0 0.4444389505328009\n"
     ]
    },
    {
     "name": "stderr",
     "output_type": "stream",
     "text": [
      " 36%|███▌      | 3510/9766 [3:04:19<9:56:38,  5.72s/it] "
     ]
    },
    {
     "name": "stdout",
     "output_type": "stream",
     "text": [
      "0.4 125.2 0.04066542987419779 8.41282503465502e-09 0.557563614659016\n"
     ]
    },
    {
     "name": "stderr",
     "output_type": "stream",
     "text": [
      " 36%|███▌      | 3513/9766 [3:04:31<8:32:36,  4.92s/it]"
     ]
    },
    {
     "name": "stdout",
     "output_type": "stream",
     "text": [
      "0.5 106.2 0.02827600102250637 7.194917089858934e-09 0.5313400889767794\n"
     ]
    },
    {
     "name": "stderr",
     "output_type": "stream",
     "text": [
      " 36%|███▌      | 3516/9766 [3:04:40<6:45:08,  3.89s/it]"
     ]
    },
    {
     "name": "stdout",
     "output_type": "stream",
     "text": [
      "0.8 52.4 0.006287075760022355 2.1073424255447016e-09 0.4593988249108361\n"
     ]
    },
    {
     "name": "stderr",
     "output_type": "stream",
     "text": [
      " 36%|███▌      | 3519/9766 [3:04:50<6:32:27,  3.77s/it]"
     ]
    },
    {
     "name": "stdout",
     "output_type": "stream",
     "text": [
      "0.7 71.6 0.0285256238650874 2.9802322387695314e-09 0.48427203660086543\n"
     ]
    },
    {
     "name": "stderr",
     "output_type": "stream",
     "text": [
      " 36%|███▌      | 3521/9766 [3:05:02<9:16:32,  5.35s/it]"
     ]
    },
    {
     "name": "stdout",
     "output_type": "stream",
     "text": [
      "0.1 181.6 0.08266036944604352 3.771067373224095e-05 0.46410967172415846\n"
     ]
    },
    {
     "name": "stderr",
     "output_type": "stream",
     "text": [
      " 36%|███▌      | 3523/9766 [3:05:13<9:40:03,  5.57s/it]"
     ]
    },
    {
     "name": "stdout",
     "output_type": "stream",
     "text": [
      "0.3 142.6 0.038413824062933755 6.287301274724368e-06 0.27979890088458237\n"
     ]
    },
    {
     "name": "stderr",
     "output_type": "stream",
     "text": [
      " 36%|███▌      | 3526/9766 [3:05:25<8:53:29,  5.13s/it]"
     ]
    },
    {
     "name": "stdout",
     "output_type": "stream",
     "text": [
      "0.3 144.4 0.04437855837247155 2.1075581163159352e-05 0.4126670802277797\n"
     ]
    },
    {
     "name": "stderr",
     "output_type": "stream",
     "text": [
      " 36%|███▌      | 3529/9766 [3:05:34<6:32:52,  3.78s/it]"
     ]
    },
    {
     "name": "stdout",
     "output_type": "stream",
     "text": [
      "0.9 33.0 0.014056429311774882 6.929459482241995e-09 0.49715790655273073\n"
     ]
    },
    {
     "name": "stderr",
     "output_type": "stream",
     "text": [
      " 36%|███▌      | 3532/9766 [3:05:41<5:12:39,  3.01s/it]"
     ]
    },
    {
     "name": "stdout",
     "output_type": "stream",
     "text": [
      "1.0 13.0 5.305033358674587e-06 1.4901161193847657e-09 0.5849078660040355\n"
     ]
    },
    {
     "name": "stderr",
     "output_type": "stream",
     "text": [
      " 36%|███▌      | 3535/9766 [3:05:50<5:30:01,  3.18s/it]"
     ]
    },
    {
     "name": "stdout",
     "output_type": "stream",
     "text": [
      "0.8 51.0 0.028102548011954033 1.4901161193847657e-09 0.3898059244624191\n"
     ]
    },
    {
     "name": "stderr",
     "output_type": "stream",
     "text": [
      " 36%|███▌      | 3537/9766 [3:05:57<5:37:50,  3.25s/it]"
     ]
    },
    {
     "name": "stdout",
     "output_type": "stream",
     "text": [
      "0.9 32.2 0.025407145455299717 1.132626980494142e-05 0.49838357035773057\n"
     ]
    },
    {
     "name": "stderr",
     "output_type": "stream",
     "text": [
      " 36%|███▌      | 3540/9766 [3:06:04<4:55:13,  2.85s/it]"
     ]
    },
    {
     "name": "stdout",
     "output_type": "stream",
     "text": [
      "1.0 15.6 5.6631053788211034e-06 9.503665743222041e-09 0.5693597081173467\n"
     ]
    },
    {
     "name": "stderr",
     "output_type": "stream",
     "text": [
      " 36%|███▋      | 3543/9766 [3:06:12<4:42:36,  2.72s/it]"
     ]
    },
    {
     "name": "stdout",
     "output_type": "stream",
     "text": [
      "1.0 15.6 4.547919748148174e-06 2.9802322387695314e-09 0.5283608212444275\n"
     ]
    },
    {
     "name": "stderr",
     "output_type": "stream",
     "text": [
      " 36%|███▋      | 3546/9766 [3:06:22<6:03:15,  3.50s/it]"
     ]
    },
    {
     "name": "stdout",
     "output_type": "stream",
     "text": [
      "0.6 89.2 0.012568878501466142 4.470348358154297e-09 0.30719208264011977\n"
     ]
    },
    {
     "name": "stderr",
     "output_type": "stream",
     "text": [
      " 36%|███▋      | 3549/9766 [3:06:30<5:02:42,  2.92s/it]"
     ]
    },
    {
     "name": "stdout",
     "output_type": "stream",
     "text": [
      "1.0 10.2 4.75515393250314e-06 0.0 0.3970161446739473\n"
     ]
    },
    {
     "name": "stderr",
     "output_type": "stream",
     "text": [
      " 36%|███▋      | 3552/9766 [3:06:37<4:44:02,  2.74s/it]"
     ]
    },
    {
     "name": "stdout",
     "output_type": "stream",
     "text": [
      "1.0 13.4 5.4124573950344946e-06 1.4901161193847657e-09 0.38054325531529926\n"
     ]
    },
    {
     "name": "stderr",
     "output_type": "stream",
     "text": [
      " 36%|███▋      | 3555/9766 [3:06:45<4:34:15,  2.65s/it]"
     ]
    },
    {
     "name": "stdout",
     "output_type": "stream",
     "text": [
      "1.0 10.4 5.603099926551339e-06 4.470348358154297e-09 0.36548595891319924\n"
     ]
    },
    {
     "name": "stderr",
     "output_type": "stream",
     "text": [
      " 36%|███▋      | 3557/9766 [3:06:55<6:55:44,  4.02s/it]"
     ]
    },
    {
     "name": "stdout",
     "output_type": "stream",
     "text": [
      "0.4 123.8 0.04060880636423979 1.3306846677271382e-05 0.32073585796223414\n"
     ]
    },
    {
     "name": "stderr",
     "output_type": "stream",
     "text": [
      " 36%|███▋      | 3560/9766 [3:07:03<5:29:26,  3.19s/it]"
     ]
    },
    {
     "name": "stdout",
     "output_type": "stream",
     "text": [
      "1.0 16.2 6.971087726856571e-06 2.9802322387695314e-09 0.46147074812551486\n"
     ]
    },
    {
     "name": "stderr",
     "output_type": "stream",
     "text": [
      " 36%|███▋      | 3562/9766 [3:07:09<5:32:40,  3.22s/it]"
     ]
    },
    {
     "name": "stdout",
     "output_type": "stream",
     "text": [
      "0.9 30.4 0.008846823402982477 6.285859772263563e-06 0.4649163733519723\n"
     ]
    },
    {
     "name": "stderr",
     "output_type": "stream",
     "text": [
      " 37%|███▋      | 3565/9766 [3:07:20<7:01:26,  4.08s/it]"
     ]
    },
    {
     "name": "stdout",
     "output_type": "stream",
     "text": [
      "0.4 125.2 0.018853731702895105 2.1073424255447016e-09 0.49895573983928704\n"
     ]
    },
    {
     "name": "stderr",
     "output_type": "stream",
     "text": [
      " 37%|███▋      | 3568/9766 [3:07:32<7:35:23,  4.41s/it]"
     ]
    },
    {
     "name": "stdout",
     "output_type": "stream",
     "text": [
      "0.4 126.8 0.042645337669170294 1.1331686042428006e-05 0.5276761803730612\n"
     ]
    },
    {
     "name": "stderr",
     "output_type": "stream",
     "text": [
      " 37%|███▋      | 3571/9766 [3:07:40<5:53:28,  3.42s/it]"
     ]
    },
    {
     "name": "stdout",
     "output_type": "stream",
     "text": [
      "0.9 32.4 0.01686515465058801 6.2844781064747e-06 0.2852791238885265\n"
     ]
    },
    {
     "name": "stderr",
     "output_type": "stream",
     "text": [
      " 37%|███▋      | 3574/9766 [3:07:48<4:59:35,  2.90s/it]"
     ]
    },
    {
     "name": "stdout",
     "output_type": "stream",
     "text": [
      "1.0 14.6 4.815305543063891e-06 2.1073424255447016e-09 0.6249657609768743\n"
     ]
    },
    {
     "name": "stderr",
     "output_type": "stream",
     "text": [
      " 37%|███▋      | 3576/9766 [3:07:54<5:15:03,  3.05s/it]"
     ]
    },
    {
     "name": "stdout",
     "output_type": "stream",
     "text": [
      "0.9 31.4 0.012942623979461911 6.293617190391177e-06 0.5413329879894581\n"
     ]
    },
    {
     "name": "stderr",
     "output_type": "stream",
     "text": [
      " 37%|███▋      | 3579/9766 [3:08:02<4:45:45,  2.77s/it]"
     ]
    },
    {
     "name": "stdout",
     "output_type": "stream",
     "text": [
      "1.0 13.6 6.506294474573554e-06 3.597458544929467e-09 0.4680811487168743\n"
     ]
    },
    {
     "name": "stderr",
     "output_type": "stream",
     "text": [
      " 37%|███▋      | 3582/9766 [3:08:09<4:35:12,  2.67s/it]"
     ]
    },
    {
     "name": "stdout",
     "output_type": "stream",
     "text": [
      "1.0 14.0 6.087461115559672e-06 2.580956827951785e-09 0.43658653779295664\n"
     ]
    },
    {
     "name": "stderr",
     "output_type": "stream",
     "text": [
      " 37%|███▋      | 3585/9766 [3:08:17<4:39:23,  2.71s/it]"
     ]
    },
    {
     "name": "stdout",
     "output_type": "stream",
     "text": [
      "1.0 17.0 7.839375987826359e-06 4.071072947336551e-09 0.4499916652041748\n"
     ]
    },
    {
     "name": "stderr",
     "output_type": "stream",
     "text": [
      " 37%|███▋      | 3587/9766 [3:08:23<4:47:52,  2.80s/it]"
     ]
    },
    {
     "name": "stdout",
     "output_type": "stream",
     "text": [
      "1.0 15.2 7.765715923823396e-06 3.3320009373125284e-09 0.491429290621625\n"
     ]
    },
    {
     "name": "stderr",
     "output_type": "stream",
     "text": [
      " 37%|███▋      | 3589/9766 [3:08:28<4:52:38,  2.84s/it]"
     ]
    },
    {
     "name": "stdout",
     "output_type": "stream",
     "text": [
      "1.0 14.6 8.153102385878433e-06 4.071072947336551e-09 0.5373588504304313\n"
     ]
    },
    {
     "name": "stderr",
     "output_type": "stream",
     "text": [
      " 37%|███▋      | 3591/9766 [3:08:34<5:03:34,  2.95s/it]"
     ]
    },
    {
     "name": "stdout",
     "output_type": "stream",
     "text": [
      "1.0 18.0 8.117659411533461e-06 6.1784153728812526e-09 0.4546820577615813\n"
     ]
    },
    {
     "name": "stderr",
     "output_type": "stream",
     "text": [
      " 37%|███▋      | 3593/9766 [3:08:40<5:00:30,  2.92s/it]"
     ]
    },
    {
     "name": "stdout",
     "output_type": "stream",
     "text": [
      "1.0 15.0 8.956483401387397e-06 3.942476676500724e-09 0.5306605582820909\n"
     ]
    },
    {
     "name": "stderr",
     "output_type": "stream",
     "text": [
      " 37%|███▋      | 3595/9766 [3:08:45<4:56:46,  2.89s/it]"
     ]
    },
    {
     "name": "stdout",
     "output_type": "stream",
     "text": [
      "1.0 13.8 7.063616250851101e-06 2.1073424255447016e-09 0.4971311675011282\n"
     ]
    },
    {
     "name": "stderr",
     "output_type": "stream",
     "text": [
      " 37%|███▋      | 3597/9766 [3:08:51<4:55:17,  2.87s/it]"
     ]
    },
    {
     "name": "stdout",
     "output_type": "stream",
     "text": [
      "1.0 14.4 7.206825220704919e-06 4.214684851089403e-09 0.5525341322224974\n"
     ]
    },
    {
     "name": "stderr",
     "output_type": "stream",
     "text": [
      " 37%|███▋      | 3599/9766 [3:08:57<5:18:12,  3.10s/it]"
     ]
    },
    {
     "name": "stdout",
     "output_type": "stream",
     "text": [
      "0.9 34.2 0.02961009940322738 6.285973306062204e-06 0.4585366946282966\n"
     ]
    },
    {
     "name": "stderr",
     "output_type": "stream",
     "text": [
      " 37%|███▋      | 3601/9766 [3:09:04<5:53:42,  3.44s/it]"
     ]
    },
    {
     "name": "stdout",
     "output_type": "stream",
     "text": [
      "0.8 51.6 0.010201185506003102 6.287078784396285e-06 0.4365883885668965\n"
     ]
    },
    {
     "name": "stderr",
     "output_type": "stream",
     "text": [
      " 37%|███▋      | 3604/9766 [3:09:14<5:51:17,  3.42s/it]"
     ]
    },
    {
     "name": "stdout",
     "output_type": "stream",
     "text": [
      "0.8 52.2 0.006288341009342516 1.4901161193847657e-09 0.6241966831437459\n"
     ]
    },
    {
     "name": "stderr",
     "output_type": "stream",
     "text": [
      " 37%|███▋      | 3606/9766 [3:09:23<7:11:11,  4.20s/it]"
     ]
    },
    {
     "name": "stdout",
     "output_type": "stream",
     "text": [
      "0.5 108.4 0.03770123022025684 5.087574664314233e-09 0.5372120208667648\n"
     ]
    },
    {
     "name": "stderr",
     "output_type": "stream",
     "text": [
      " 37%|███▋      | 3608/9766 [3:09:28<5:58:30,  3.49s/it]"
     ]
    },
    {
     "name": "stdout",
     "output_type": "stream",
     "text": [
      "1.0 11.8 5.871628919304177e-06 2.9802322387695314e-09 0.3927154274469871\n"
     ]
    },
    {
     "name": "stderr",
     "output_type": "stream",
     "text": [
      " 37%|███▋      | 3610/9766 [3:09:37<6:54:03,  4.04s/it]"
     ]
    },
    {
     "name": "stdout",
     "output_type": "stream",
     "text": [
      "0.6 88.8 0.012574002297974073 2.580956827951785e-09 0.501327112802892\n"
     ]
    },
    {
     "name": "stderr",
     "output_type": "stream",
     "text": [
      " 37%|███▋      | 3612/9766 [3:09:46<8:00:49,  4.69s/it]"
     ]
    },
    {
     "name": "stdout",
     "output_type": "stream",
     "text": [
      "0.4 125.2 0.018854587297948297 3.597458544929467e-09 0.5003675027237721\n"
     ]
    },
    {
     "name": "stderr",
     "output_type": "stream",
     "text": [
      " 37%|███▋      | 3614/9766 [3:09:55<7:56:43,  4.65s/it]"
     ]
    },
    {
     "name": "stdout",
     "output_type": "stream",
     "text": [
      "0.6 90.0 0.012569535680653535 5.087574664314233e-09 0.5461895493856159\n"
     ]
    },
    {
     "name": "stderr",
     "output_type": "stream",
     "text": [
      " 37%|███▋      | 3616/9766 [3:10:06<9:01:39,  5.28s/it]"
     ]
    },
    {
     "name": "stdout",
     "output_type": "stream",
     "text": [
      "0.3 142.8 0.0219912037001607 0.0 0.25712663243595724\n"
     ]
    },
    {
     "name": "stderr",
     "output_type": "stream",
     "text": [
      " 37%|███▋      | 3618/9766 [3:10:18<10:33:46,  6.19s/it]"
     ]
    },
    {
     "name": "stdout",
     "output_type": "stream",
     "text": [
      "0.0 200.0 0.03141901753384614 0.0 0.40575842285006425\n"
     ]
    },
    {
     "name": "stderr",
     "output_type": "stream",
     "text": [
      " 37%|███▋      | 3620/9766 [3:10:28<9:55:45,  5.82s/it] "
     ]
    },
    {
     "name": "stdout",
     "output_type": "stream",
     "text": [
      "0.4 126.2 0.018852616258063382 9.354825120463026e-09 0.4689946425234693\n"
     ]
    },
    {
     "name": "stderr",
     "output_type": "stream",
     "text": [
      " 37%|███▋      | 3622/9766 [3:10:39<9:57:59,  5.84s/it]"
     ]
    },
    {
     "name": "stdout",
     "output_type": "stream",
     "text": [
      "0.3 144.4 0.021993466925776018 6.1784153728812526e-09 0.6616635514238111\n"
     ]
    },
    {
     "name": "stderr",
     "output_type": "stream",
     "text": [
      " 37%|███▋      | 3624/9766 [3:10:52<10:59:10,  6.44s/it]"
     ]
    },
    {
     "name": "stdout",
     "output_type": "stream",
     "text": [
      "0.0 200.0 0.03141574282085159 0.0 0.47280839053664214\n"
     ]
    },
    {
     "name": "stderr",
     "output_type": "stream",
     "text": [
      " 37%|███▋      | 3626/9766 [3:11:03<11:00:13,  6.45s/it]"
     ]
    },
    {
     "name": "stdout",
     "output_type": "stream",
     "text": [
      "0.2 162.6 0.02513423624693758 1.4901161193847657e-09 0.38832839259556035\n"
     ]
    },
    {
     "name": "stderr",
     "output_type": "stream",
     "text": [
      " 37%|███▋      | 3629/9766 [3:11:12<7:05:26,  4.16s/it] "
     ]
    },
    {
     "name": "stdout",
     "output_type": "stream",
     "text": [
      "0.9 28.4 0.013009896063010201 7.02499120878083e-06 0.27628294651706503\n"
     ]
    },
    {
     "name": "stderr",
     "output_type": "stream",
     "text": [
      " 37%|███▋      | 3631/9766 [3:11:20<7:25:16,  4.35s/it]"
     ]
    },
    {
     "name": "stdout",
     "output_type": "stream",
     "text": [
      "0.6 90.0 0.03753215901616922 7.065620104631695e-09 0.4526043495821993\n"
     ]
    },
    {
     "name": "stderr",
     "output_type": "stream",
     "text": [
      " 37%|███▋      | 3633/9766 [3:11:29<7:59:38,  4.69s/it]"
     ]
    },
    {
     "name": "stdout",
     "output_type": "stream",
     "text": [
      "0.5 106.0 0.03854468862538347 7.031336517998708e-06 0.4866432635797418\n"
     ]
    },
    {
     "name": "stderr",
     "output_type": "stream",
     "text": [
      " 37%|███▋      | 3636/9766 [3:11:39<6:32:09,  3.84s/it]"
     ]
    },
    {
     "name": "stdout",
     "output_type": "stream",
     "text": [
      "0.8 49.0 0.02998540541815496 4.214684851089403e-09 0.4571847469307643\n"
     ]
    },
    {
     "name": "stderr",
     "output_type": "stream",
     "text": [
      " 37%|███▋      | 3639/9766 [3:11:51<7:48:53,  4.59s/it]"
     ]
    },
    {
     "name": "stdout",
     "output_type": "stream",
     "text": [
      "0.3 142.0 0.044769449377178555 6.284379151997762e-06 0.3291444892195693\n"
     ]
    },
    {
     "name": "stderr",
     "output_type": "stream",
     "text": [
      " 37%|███▋      | 3641/9766 [3:11:58<7:01:49,  4.13s/it]"
     ]
    },
    {
     "name": "stdout",
     "output_type": "stream",
     "text": [
      "0.8 49.6 0.038351300592425405 7.024947115743981e-06 0.3964163717235175\n"
     ]
    },
    {
     "name": "stderr",
     "output_type": "stream",
     "text": [
      " 37%|███▋      | 3644/9766 [3:12:09<7:02:43,  4.14s/it]"
     ]
    },
    {
     "name": "stdout",
     "output_type": "stream",
     "text": [
      "0.6 91.0 0.02238264210007162 4.214684851089403e-09 0.5787096545333781\n"
     ]
    },
    {
     "name": "stderr",
     "output_type": "stream",
     "text": [
      " 37%|███▋      | 3647/9766 [3:12:19<6:12:42,  3.65s/it]"
     ]
    },
    {
     "name": "stdout",
     "output_type": "stream",
     "text": [
      "0.8 52.8 0.006292054864522313 5.087574664314233e-09 0.4945243227498228\n"
     ]
    },
    {
     "name": "stderr",
     "output_type": "stream",
     "text": [
      " 37%|███▋      | 3649/9766 [3:12:25<5:53:55,  3.47s/it]"
     ]
    },
    {
     "name": "stdout",
     "output_type": "stream",
     "text": [
      "0.9 35.0 0.008896794580646903 5.960464477539063e-09 0.5543330092386036\n"
     ]
    },
    {
     "name": "stderr",
     "output_type": "stream",
     "text": [
      " 37%|███▋      | 3651/9766 [3:12:31<5:29:55,  3.24s/it]"
     ]
    },
    {
     "name": "stdout",
     "output_type": "stream",
     "text": [
      "1.0 15.2 4.127430847310476e-06 3.597458544929467e-09 0.4644438052809101\n"
     ]
    },
    {
     "name": "stderr",
     "output_type": "stream",
     "text": [
      " 37%|███▋      | 3653/9766 [3:12:40<6:55:43,  4.08s/it]"
     ]
    },
    {
     "name": "stdout",
     "output_type": "stream",
     "text": [
      "0.5 105.4 0.015709680502967994 1.4901161193847657e-09 0.4582784361651185\n"
     ]
    },
    {
     "name": "stderr",
     "output_type": "stream",
     "text": [
      " 37%|███▋      | 3656/9766 [3:12:53<8:21:19,  4.92s/it]"
     ]
    },
    {
     "name": "stdout",
     "output_type": "stream",
     "text": [
      "0.2 164.4 0.0340208097001028 7.194917089858934e-09 0.530393039822313\n"
     ]
    },
    {
     "name": "stderr",
     "output_type": "stream",
     "text": [
      " 37%|███▋      | 3659/9766 [3:13:03<7:03:15,  4.16s/it]"
     ]
    },
    {
     "name": "stdout",
     "output_type": "stream",
     "text": [
      "0.7 69.6 0.022195378403239114 4.470348358154297e-09 0.45995054287776593\n"
     ]
    },
    {
     "name": "stderr",
     "output_type": "stream",
     "text": [
      " 37%|███▋      | 3662/9766 [3:13:11<5:24:50,  3.19s/it]"
     ]
    },
    {
     "name": "stdout",
     "output_type": "stream",
     "text": [
      "1.0 12.6 5.6109383180234054e-06 5.561189066721316e-09 0.400735886948499\n"
     ]
    },
    {
     "name": "stderr",
     "output_type": "stream",
     "text": [
      " 38%|███▊      | 3665/9766 [3:13:21<6:09:36,  3.63s/it]"
     ]
    },
    {
     "name": "stdout",
     "output_type": "stream",
     "text": [
      "0.6 85.4 0.024053645058787973 5.140140269373623e-09 0.33346755591145494\n"
     ]
    },
    {
     "name": "stderr",
     "output_type": "stream",
     "text": [
      " 38%|███▊      | 3668/9766 [3:13:29<5:10:09,  3.05s/it]"
     ]
    },
    {
     "name": "stdout",
     "output_type": "stream",
     "text": [
      "1.0 14.4 2.3894445572943652e-06 0.0 0.43789402220848617\n"
     ]
    },
    {
     "name": "stderr",
     "output_type": "stream",
     "text": [
      " 38%|███▊      | 3670/9766 [3:13:35<4:59:57,  2.95s/it]"
     ]
    },
    {
     "name": "stdout",
     "output_type": "stream",
     "text": [
      "1.0 15.0 1.1161040270062023e-05 6.577690783698998e-09 0.46218204997334933\n"
     ]
    },
    {
     "name": "stderr",
     "output_type": "stream",
     "text": [
      " 38%|███▊      | 3672/9766 [3:13:40<4:53:08,  2.89s/it]"
     ]
    },
    {
     "name": "stdout",
     "output_type": "stream",
     "text": [
      "1.0 12.8 3.0141593109169867e-06 4.470348358154297e-09 0.42744496475995397\n"
     ]
    },
    {
     "name": "stderr",
     "output_type": "stream",
     "text": [
      " 38%|███▊      | 3674/9766 [3:13:48<5:58:44,  3.53s/it]"
     ]
    },
    {
     "name": "stdout",
     "output_type": "stream",
     "text": [
      "0.7 71.6 0.05833241467680446 7.02718740794773e-06 0.6368726943484849\n"
     ]
    },
    {
     "name": "stderr",
     "output_type": "stream",
     "text": [
      " 38%|███▊      | 3677/9766 [3:13:56<5:03:37,  2.99s/it]"
     ]
    },
    {
     "name": "stdout",
     "output_type": "stream",
     "text": [
      "1.0 16.2 6.480388918955796e-06 4.071072947336551e-09 0.5868767608978823\n"
     ]
    },
    {
     "name": "stderr",
     "output_type": "stream",
     "text": [
      " 38%|███▊      | 3680/9766 [3:14:06<5:58:51,  3.54s/it]"
     ]
    },
    {
     "name": "stdout",
     "output_type": "stream",
     "text": [
      "0.7 69.6 0.024932974500949813 2.1074610155524733e-05 0.4515613133711683\n"
     ]
    },
    {
     "name": "stderr",
     "output_type": "stream",
     "text": [
      " 38%|███▊      | 3682/9766 [3:14:14<6:30:03,  3.85s/it]"
     ]
    },
    {
     "name": "stdout",
     "output_type": "stream",
     "text": [
      "0.7 70.0 0.034010221097314206 2.107759118419813e-05 0.5215069146901671\n"
     ]
    },
    {
     "name": "stderr",
     "output_type": "stream",
     "text": [
      " 38%|███▊      | 3684/9766 [3:14:19<5:41:56,  3.37s/it]"
     ]
    },
    {
     "name": "stdout",
     "output_type": "stream",
     "text": [
      "1.0 15.0 8.220454796092699e-06 7.0513051861060824e-09 0.5592802030597879\n"
     ]
    },
    {
     "name": "stderr",
     "output_type": "stream",
     "text": [
      " 38%|███▊      | 3686/9766 [3:14:25<5:18:38,  3.14s/it]"
     ]
    },
    {
     "name": "stdout",
     "output_type": "stream",
     "text": [
      "1.0 15.6 5.03032594991892e-06 1.4901161193847657e-09 0.5778307091902455\n"
     ]
    },
    {
     "name": "stderr",
     "output_type": "stream",
     "text": [
      " 38%|███▊      | 3688/9766 [3:14:31<5:13:28,  3.09s/it]"
     ]
    },
    {
     "name": "stdout",
     "output_type": "stream",
     "text": [
      "1.0 15.6 1.0208157512630202e-05 1.1617758735738482e-08 0.47048119464561866\n"
     ]
    },
    {
     "name": "stderr",
     "output_type": "stream",
     "text": [
      " 38%|███▊      | 3690/9766 [3:14:36<5:02:10,  2.98s/it]"
     ]
    },
    {
     "name": "stdout",
     "output_type": "stream",
     "text": [
      "1.0 14.0 5.17644679203271e-06 0.0 0.5125335411401654\n"
     ]
    },
    {
     "name": "stderr",
     "output_type": "stream",
     "text": [
      " 38%|███▊      | 3692/9766 [3:14:42<4:58:07,  2.94s/it]"
     ]
    },
    {
     "name": "stdout",
     "output_type": "stream",
     "text": [
      "1.0 17.8 7.504900770310369e-06 6.31223317608206e-09 0.5783566228008251\n"
     ]
    },
    {
     "name": "stderr",
     "output_type": "stream",
     "text": [
      " 38%|███▊      | 3695/9766 [3:14:50<4:57:41,  2.94s/it]"
     ]
    },
    {
     "name": "stdout",
     "output_type": "stream",
     "text": [
      "0.9 30.0 0.006351023491525246 7.030078207889718e-06 0.35292321721892533\n"
     ]
    },
    {
     "name": "stderr",
     "output_type": "stream",
     "text": [
      " 38%|███▊      | 3697/9766 [3:14:56<4:55:53,  2.93s/it]"
     ]
    },
    {
     "name": "stdout",
     "output_type": "stream",
     "text": [
      "1.0 15.4 6.972808637300921e-06 2.9802322387695314e-09 0.5408560436789555\n"
     ]
    },
    {
     "name": "stderr",
     "output_type": "stream",
     "text": [
      " 38%|███▊      | 3700/9766 [3:15:04<4:47:06,  2.84s/it]"
     ]
    },
    {
     "name": "stdout",
     "output_type": "stream",
     "text": [
      "1.0 15.4 9.14236822628986e-06 5.704800970474169e-09 0.5176159971035654\n"
     ]
    },
    {
     "name": "stderr",
     "output_type": "stream",
     "text": [
      " 38%|███▊      | 3703/9766 [3:15:12<4:39:19,  2.76s/it]"
     ]
    },
    {
     "name": "stdout",
     "output_type": "stream",
     "text": [
      "1.0 17.2 1.02767193194427e-05 7.450580596923828e-09 0.6562718575699072\n"
     ]
    },
    {
     "name": "stderr",
     "output_type": "stream",
     "text": [
      " 38%|███▊      | 3705/9766 [3:15:18<5:12:49,  3.10s/it]"
     ]
    },
    {
     "name": "stdout",
     "output_type": "stream",
     "text": [
      "0.9 35.4 0.0062897599073136095 2.1073424255447016e-09 0.5469882904827944\n"
     ]
    },
    {
     "name": "stderr",
     "output_type": "stream",
     "text": [
      " 38%|███▊      | 3707/9766 [3:15:24<5:18:02,  3.15s/it]"
     ]
    },
    {
     "name": "stdout",
     "output_type": "stream",
     "text": [
      "0.9 31.0 0.01777785728236362 8.541421305490849e-09 0.3829631775495069\n"
     ]
    },
    {
     "name": "stderr",
     "output_type": "stream",
     "text": [
      " 38%|███▊      | 3709/9766 [3:15:31<5:31:03,  3.28s/it]"
     ]
    },
    {
     "name": "stdout",
     "output_type": "stream",
     "text": [
      "0.9 31.2 0.02592740026152495 7.031048709937228e-06 0.6090207820832573\n"
     ]
    },
    {
     "name": "stderr",
     "output_type": "stream",
     "text": [
      " 38%|███▊      | 3711/9766 [3:15:40<6:54:53,  4.11s/it]"
     ]
    },
    {
     "name": "stdout",
     "output_type": "stream",
     "text": [
      "0.5 107.4 0.038576309895635284 1.6919965854519446e-05 0.42886156382056484\n"
     ]
    },
    {
     "name": "stderr",
     "output_type": "stream",
     "text": [
      " 38%|███▊      | 3713/9766 [3:15:50<8:04:06,  4.80s/it]"
     ]
    },
    {
     "name": "stdout",
     "output_type": "stream",
     "text": [
      "0.4 126.2 0.03552861262000105 7.027574277628267e-06 0.47478223357983146\n"
     ]
    },
    {
     "name": "stderr",
     "output_type": "stream",
     "text": [
      " 38%|███▊      | 3715/9766 [3:15:58<7:26:39,  4.43s/it]"
     ]
    },
    {
     "name": "stdout",
     "output_type": "stream",
     "text": [
      "0.7 68.0 0.0468746284767364 7.0256092723658995e-06 0.31776470454374917\n"
     ]
    },
    {
     "name": "stderr",
     "output_type": "stream",
     "text": [
      " 38%|███▊      | 3718/9766 [3:16:11<8:26:22,  5.02s/it]"
     ]
    },
    {
     "name": "stdout",
     "output_type": "stream",
     "text": [
      "0.2 163.2 0.03976203225575119 2.9802322387695314e-09 0.549143876380114\n"
     ]
    },
    {
     "name": "stderr",
     "output_type": "stream",
     "text": [
      " 38%|███▊      | 3721/9766 [3:16:22<7:17:46,  4.35s/it]"
     ]
    },
    {
     "name": "stdout",
     "output_type": "stream",
     "text": [
      "0.6 88.4 0.012567753519532005 8.685033209243699e-09 0.5538696662044493\n"
     ]
    },
    {
     "name": "stderr",
     "output_type": "stream",
     "text": [
      " 38%|███▊      | 3724/9766 [3:16:31<6:13:47,  3.71s/it]"
     ]
    },
    {
     "name": "stdout",
     "output_type": "stream",
     "text": [
      "0.8 51.4 0.006290541687883525 1.0503345128781019e-08 0.6245575687602571\n"
     ]
    },
    {
     "name": "stderr",
     "output_type": "stream",
     "text": [
      " 38%|███▊      | 3727/9766 [3:16:39<5:08:51,  3.07s/it]"
     ]
    },
    {
     "name": "stdout",
     "output_type": "stream",
     "text": [
      "1.0 15.2 9.13183181599718e-06 1.038330612341861e-08 0.6736344110423582\n"
     ]
    },
    {
     "name": "stderr",
     "output_type": "stream",
     "text": [
      " 38%|███▊      | 3729/9766 [3:16:50<7:47:41,  4.65s/it]"
     ]
    },
    {
     "name": "stdout",
     "output_type": "stream",
     "text": [
      "0.2 160.8 0.03801048054814615 2.893887908618186e-05 0.5412916055530799\n"
     ]
    },
    {
     "name": "stderr",
     "output_type": "stream",
     "text": [
      " 38%|███▊      | 3732/9766 [3:17:01<7:27:57,  4.45s/it]"
     ]
    },
    {
     "name": "stdout",
     "output_type": "stream",
     "text": [
      "0.5 104.2 0.015709252150071067 2.1073424255447016e-09 0.40347705849767745\n"
     ]
    },
    {
     "name": "stderr",
     "output_type": "stream",
     "text": [
      " 38%|███▊      | 3735/9766 [3:17:14<8:00:29,  4.78s/it]"
     ]
    },
    {
     "name": "stdout",
     "output_type": "stream",
     "text": [
      "0.3 143.2 0.02199331121998948 5.087574664314233e-09 0.5130513894175226\n"
     ]
    },
    {
     "name": "stderr",
     "output_type": "stream",
     "text": [
      " 38%|███▊      | 3738/9766 [3:17:24<7:05:42,  4.24s/it]"
     ]
    },
    {
     "name": "stdout",
     "output_type": "stream",
     "text": [
      "0.6 91.4 0.027222664030229382 7.027220231839188e-06 0.6885050013441198\n"
     ]
    },
    {
     "name": "stderr",
     "output_type": "stream",
     "text": [
      " 38%|███▊      | 3742/9766 [3:17:36<6:14:51,  3.73s/it]"
     ]
    },
    {
     "name": "stdout",
     "output_type": "stream",
     "text": [
      "0.6 89.4 0.02513801769276538 4.6882992534964865e-09 0.4416175754865974\n"
     ]
    },
    {
     "name": "stderr",
     "output_type": "stream",
     "text": [
      " 38%|███▊      | 3745/9766 [3:17:46<6:04:35,  3.63s/it]"
     ]
    },
    {
     "name": "stdout",
     "output_type": "stream",
     "text": [
      "0.7 69.2 0.018851063842480306 5.087574664314233e-09 0.5923887713867424\n"
     ]
    },
    {
     "name": "stderr",
     "output_type": "stream",
     "text": [
      " 38%|███▊      | 3748/9766 [3:17:56<6:24:10,  3.83s/it]"
     ]
    },
    {
     "name": "stdout",
     "output_type": "stream",
     "text": [
      "0.6 91.2 0.025200375387367906 1.4050533066557468e-05 0.5070088340348994\n"
     ]
    },
    {
     "name": "stderr",
     "output_type": "stream",
     "text": [
      " 38%|███▊      | 3750/9766 [3:18:02<5:43:02,  3.42s/it]"
     ]
    },
    {
     "name": "stdout",
     "output_type": "stream",
     "text": [
      "1.0 15.6 4.394138202713085e-06 3.597458544929467e-09 0.604352770831728\n"
     ]
    },
    {
     "name": "stderr",
     "output_type": "stream",
     "text": [
      " 38%|███▊      | 3752/9766 [3:18:10<6:41:45,  4.01s/it]"
     ]
    },
    {
     "name": "stdout",
     "output_type": "stream",
     "text": [
      "0.6 89.2 0.02697681227611328 2.2658284840576763e-05 0.4954849157117625\n"
     ]
    },
    {
     "name": "stderr",
     "output_type": "stream",
     "text": [
      " 38%|███▊      | 3754/9766 [3:18:19<7:08:15,  4.27s/it]"
     ]
    },
    {
     "name": "stdout",
     "output_type": "stream",
     "text": [
      "0.6 90.2 0.02199778289051433 4.214684851089403e-09 0.3681140228810256\n"
     ]
    },
    {
     "name": "stderr",
     "output_type": "stream",
     "text": [
      " 38%|███▊      | 3757/9766 [3:18:29<6:48:44,  4.08s/it]"
     ]
    },
    {
     "name": "stdout",
     "output_type": "stream",
     "text": [
      "0.6 88.0 0.021994186483536363 3.597458544929467e-09 0.5490249617405686\n"
     ]
    },
    {
     "name": "stderr",
     "output_type": "stream",
     "text": [
      " 39%|███▊      | 3760/9766 [3:18:40<7:05:57,  4.26s/it]"
     ]
    },
    {
     "name": "stdout",
     "output_type": "stream",
     "text": [
      "0.4 124.6 0.028279736352715124 5.087574664314233e-09 0.36804967259724447\n"
     ]
    },
    {
     "name": "stderr",
     "output_type": "stream",
     "text": [
      " 39%|███▊      | 3764/9766 [3:18:53<6:30:37,  3.90s/it]"
     ]
    },
    {
     "name": "stdout",
     "output_type": "stream",
     "text": [
      "0.5 109.6 0.031420726828022126 4.470348358154297e-09 0.6113558100821691\n"
     ]
    },
    {
     "name": "stderr",
     "output_type": "stream",
     "text": [
      " 39%|███▊      | 3767/9766 [3:19:03<6:28:58,  3.89s/it]"
     ]
    },
    {
     "name": "stdout",
     "output_type": "stream",
     "text": [
      "0.6 88.0 0.02513831809483959 1.1665265448013231e-08 0.5736010099222938\n"
     ]
    },
    {
     "name": "stderr",
     "output_type": "stream",
     "text": [
      " 39%|███▊      | 3770/9766 [3:19:12<5:40:23,  3.41s/it]"
     ]
    },
    {
     "name": "stdout",
     "output_type": "stream",
     "text": [
      "0.8 49.0 0.012570188147571488 2.9802322387695314e-09 0.3750009961770177\n"
     ]
    },
    {
     "name": "stderr",
     "output_type": "stream",
     "text": [
      " 39%|███▊      | 3773/9766 [3:19:22<6:06:44,  3.67s/it]"
     ]
    },
    {
     "name": "stdout",
     "output_type": "stream",
     "text": [
      "0.6 88.6 0.02513976510173188 8.940696716308593e-09 0.5381275390851167\n"
     ]
    },
    {
     "name": "stderr",
     "output_type": "stream",
     "text": [
      " 39%|███▊      | 3776/9766 [3:19:29<5:02:40,  3.03s/it]"
     ]
    },
    {
     "name": "stdout",
     "output_type": "stream",
     "text": [
      "1.0 14.6 2.6935010761028398e-06 1.4901161193847657e-09 0.581103313882314\n"
     ]
    },
    {
     "name": "stderr",
     "output_type": "stream",
     "text": [
      " 39%|███▊      | 3779/9766 [3:19:37<4:32:40,  2.73s/it]"
     ]
    },
    {
     "name": "stdout",
     "output_type": "stream",
     "text": [
      "1.0 11.8 8.160948621184771e-06 2.9802322387695314e-09 0.40279545472465533\n"
     ]
    },
    {
     "name": "stderr",
     "output_type": "stream",
     "text": [
      " 39%|███▊      | 3781/9766 [3:19:42<4:39:13,  2.80s/it]"
     ]
    },
    {
     "name": "stdout",
     "output_type": "stream",
     "text": [
      "1.0 13.4 4.327759661242614e-06 2.9802322387695314e-09 0.46516364714525943\n"
     ]
    },
    {
     "name": "stderr",
     "output_type": "stream",
     "text": [
      " 39%|███▊      | 3783/9766 [3:19:48<4:38:17,  2.79s/it]"
     ]
    },
    {
     "name": "stdout",
     "output_type": "stream",
     "text": [
      "1.0 13.2 4.293305009739983e-06 0.0 0.5052398839434825\n"
     ]
    },
    {
     "name": "stderr",
     "output_type": "stream",
     "text": [
      " 39%|███▉      | 3786/9766 [3:19:56<4:32:04,  2.73s/it]"
     ]
    },
    {
     "name": "stdout",
     "output_type": "stream",
     "text": [
      "1.0 14.0 1.6659510284823183e-05 1.4170191610188581e-08 0.49279811868485107\n"
     ]
    },
    {
     "name": "stderr",
     "output_type": "stream",
     "text": [
      " 39%|███▉      | 3788/9766 [3:20:01<4:36:17,  2.77s/it]"
     ]
    },
    {
     "name": "stdout",
     "output_type": "stream",
     "text": [
      "1.0 12.0 4.993211059991146e-06 0.0 0.3462979309691313\n"
     ]
    },
    {
     "name": "stderr",
     "output_type": "stream",
     "text": [
      " 39%|███▉      | 3790/9766 [3:20:07<4:44:41,  2.86s/it]"
     ]
    },
    {
     "name": "stdout",
     "output_type": "stream",
     "text": [
      "1.0 12.6 4.348603036661815e-06 1.4901161193847657e-09 0.3753024774810017\n"
     ]
    },
    {
     "name": "stderr",
     "output_type": "stream",
     "text": [
      " 39%|███▉      | 3792/9766 [3:20:12<4:43:02,  2.84s/it]"
     ]
    },
    {
     "name": "stdout",
     "output_type": "stream",
     "text": [
      "1.0 14.4 8.187013957800827e-06 3.3320009373125284e-09 0.5304982065561917\n"
     ]
    },
    {
     "name": "stderr",
     "output_type": "stream",
     "text": [
      " 39%|███▉      | 3794/9766 [3:20:18<4:46:34,  2.88s/it]"
     ]
    },
    {
     "name": "stdout",
     "output_type": "stream",
     "text": [
      "1.0 15.0 8.154110333414836e-06 2.9802322387695314e-09 0.43472918683095696\n"
     ]
    },
    {
     "name": "stderr",
     "output_type": "stream",
     "text": [
      " 39%|███▉      | 3796/9766 [3:20:24<4:49:35,  2.91s/it]"
     ]
    },
    {
     "name": "stdout",
     "output_type": "stream",
     "text": [
      "1.0 13.8 4.267689354787903e-06 0.0 0.5400087778383528\n"
     ]
    },
    {
     "name": "stderr",
     "output_type": "stream",
     "text": [
      " 39%|███▉      | 3798/9766 [3:20:29<4:50:46,  2.92s/it]"
     ]
    },
    {
     "name": "stdout",
     "output_type": "stream",
     "text": [
      "1.0 13.0 1.0158922148022064e-05 2.9802322387695314e-09 0.5132532394162413\n"
     ]
    },
    {
     "name": "stderr",
     "output_type": "stream",
     "text": [
      " 39%|███▉      | 3801/9766 [3:20:37<4:28:45,  2.70s/it]"
     ]
    },
    {
     "name": "stdout",
     "output_type": "stream",
     "text": [
      "1.0 16.2 5.609120854158015e-06 4.071072947336551e-09 0.5428301919401269\n"
     ]
    },
    {
     "name": "stderr",
     "output_type": "stream",
     "text": [
      " 39%|███▉      | 3804/9766 [3:20:44<4:21:38,  2.63s/it]"
     ]
    },
    {
     "name": "stdout",
     "output_type": "stream",
     "text": [
      "1.0 13.0 4.308102871869611e-06 1.4901161193847657e-09 0.4517491342552023\n"
     ]
    },
    {
     "name": "stderr",
     "output_type": "stream",
     "text": [
      " 39%|███▉      | 3807/9766 [3:20:52<4:25:17,  2.67s/it]"
     ]
    },
    {
     "name": "stdout",
     "output_type": "stream",
     "text": [
      "1.0 11.6 5.808086158519535e-06 2.9802322387695314e-09 0.5352871650140438\n"
     ]
    },
    {
     "name": "stderr",
     "output_type": "stream",
     "text": [
      " 39%|███▉      | 3809/9766 [3:20:57<4:25:37,  2.68s/it]"
     ]
    },
    {
     "name": "stdout",
     "output_type": "stream",
     "text": [
      "1.0 12.0 5.8968906986086755e-06 3.3320009373125284e-09 0.3847975369963924\n"
     ]
    },
    {
     "name": "stderr",
     "output_type": "stream",
     "text": [
      " 39%|███▉      | 3811/9766 [3:21:03<4:41:24,  2.84s/it]"
     ]
    },
    {
     "name": "stdout",
     "output_type": "stream",
     "text": [
      "1.0 16.2 9.061254610946686e-06 6.3220272766341055e-09 0.6799087009900683\n"
     ]
    },
    {
     "name": "stderr",
     "output_type": "stream",
     "text": [
      " 39%|███▉      | 3813/9766 [3:21:08<4:44:12,  2.86s/it]"
     ]
    },
    {
     "name": "stdout",
     "output_type": "stream",
     "text": [
      "1.0 16.4 6.626396180670679e-06 2.9802322387695314e-09 0.6646786643084053\n"
     ]
    },
    {
     "name": "stderr",
     "output_type": "stream",
     "text": [
      " 39%|███▉      | 3815/9766 [3:21:18<6:52:45,  4.16s/it]"
     ]
    },
    {
     "name": "stdout",
     "output_type": "stream",
     "text": [
      "0.4 127.4 0.01885637291039109 5.757366575533559e-09 0.4034189738572816\n"
     ]
    },
    {
     "name": "stderr",
     "output_type": "stream",
     "text": [
      " 39%|███▉      | 3818/9766 [3:21:28<6:16:11,  3.79s/it]"
     ]
    },
    {
     "name": "stdout",
     "output_type": "stream",
     "text": [
      "0.7 70.0 0.009427162512852083 0.0 0.5674703799833116\n"
     ]
    },
    {
     "name": "stderr",
     "output_type": "stream",
     "text": [
      " 39%|███▉      | 3821/9766 [3:21:41<7:46:25,  4.71s/it]"
     ]
    },
    {
     "name": "stdout",
     "output_type": "stream",
     "text": [
      "0.2 164.8 0.0251407155487188 5.087574664314233e-09 0.7077505371507428\n"
     ]
    },
    {
     "name": "stderr",
     "output_type": "stream",
     "text": [
      " 39%|███▉      | 3825/9766 [3:21:54<6:34:26,  3.98s/it]"
     ]
    },
    {
     "name": "stdout",
     "output_type": "stream",
     "text": [
      "0.5 106.8 0.015712348248695746 1.4901161193847657e-09 0.4406449768407613\n"
     ]
    },
    {
     "name": "stderr",
     "output_type": "stream",
     "text": [
      " 39%|███▉      | 3828/9766 [3:22:07<7:52:49,  4.78s/it]"
     ]
    },
    {
     "name": "stdout",
     "output_type": "stream",
     "text": [
      "0.2 164.0 0.025133538747546064 2.1073424255447016e-09 0.5251620878338464\n"
     ]
    },
    {
     "name": "stderr",
     "output_type": "stream",
     "text": [
      " 39%|███▉      | 3832/9766 [3:22:18<6:10:13,  3.74s/it]"
     ]
    },
    {
     "name": "stdout",
     "output_type": "stream",
     "text": [
      "0.6 87.2 0.025212702652404734 1.2567589434656764e-05 0.3852875151729308\n"
     ]
    },
    {
     "name": "stderr",
     "output_type": "stream",
     "text": [
      " 39%|███▉      | 3836/9766 [3:22:33<7:27:11,  4.52s/it]"
     ]
    },
    {
     "name": "stdout",
     "output_type": "stream",
     "text": [
      "0.2 162.4 0.040906737884115384 6.283777449902543e-06 0.43396392615526524\n"
     ]
    },
    {
     "name": "stderr",
     "output_type": "stream",
     "text": [
      " 39%|███▉      | 3839/9766 [3:22:41<5:21:33,  3.26s/it]"
     ]
    },
    {
     "name": "stdout",
     "output_type": "stream",
     "text": [
      "1.0 15.4 5.645605930669426e-06 5.43934336285723e-09 0.4462001984204839\n"
     ]
    },
    {
     "name": "stderr",
     "output_type": "stream",
     "text": [
      " 39%|███▉      | 3842/9766 [3:22:48<4:34:23,  2.78s/it]"
     ]
    },
    {
     "name": "stdout",
     "output_type": "stream",
     "text": [
      "1.0 13.4 7.296915077774809e-06 5.561189066721316e-09 0.43219214520473115\n"
     ]
    },
    {
     "name": "stderr",
     "output_type": "stream",
     "text": [
      " 39%|███▉      | 3845/9766 [3:22:55<4:16:09,  2.60s/it]"
     ]
    },
    {
     "name": "stdout",
     "output_type": "stream",
     "text": [
      "1.0 10.6 7.2743737635505375e-06 3.597458544929467e-09 0.29292731957607526\n"
     ]
    },
    {
     "name": "stderr",
     "output_type": "stream",
     "text": [
      " 39%|███▉      | 3848/9766 [3:23:06<5:54:04,  3.59s/it]"
     ]
    },
    {
     "name": "stdout",
     "output_type": "stream",
     "text": [
      "0.6 87.2 0.0234243694183311 7.0325382671522025e-06 0.5536384111784141\n"
     ]
    },
    {
     "name": "stderr",
     "output_type": "stream",
     "text": [
      " 39%|███▉      | 3851/9766 [3:23:14<4:52:46,  2.97s/it]"
     ]
    },
    {
     "name": "stdout",
     "output_type": "stream",
     "text": [
      "1.0 13.8 9.26489208589286e-06 4.470348358154297e-09 0.47930033109158526\n"
     ]
    },
    {
     "name": "stderr",
     "output_type": "stream",
     "text": [
      " 39%|███▉      | 3854/9766 [3:23:21<4:29:44,  2.74s/it]"
     ]
    },
    {
     "name": "stdout",
     "output_type": "stream",
     "text": [
      "1.0 11.4 5.879504744517292e-06 2.9802322387695314e-09 0.3673568541737058\n"
     ]
    },
    {
     "name": "stderr",
     "output_type": "stream",
     "text": [
      " 39%|███▉      | 3857/9766 [3:23:29<4:34:02,  2.78s/it]"
     ]
    },
    {
     "name": "stdout",
     "output_type": "stream",
     "text": [
      "1.0 14.2 5.4785519961815135e-06 0.0 0.4310358972374101\n"
     ]
    },
    {
     "name": "stderr",
     "output_type": "stream",
     "text": [
      " 40%|███▉      | 3860/9766 [3:23:37<4:23:22,  2.68s/it]"
     ]
    },
    {
     "name": "stdout",
     "output_type": "stream",
     "text": [
      "1.0 12.6 5.995814745965456e-06 2.1073424255447016e-09 0.4462252648835447\n"
     ]
    },
    {
     "name": "stderr",
     "output_type": "stream",
     "text": [
      " 40%|███▉      | 3862/9766 [3:23:42<4:32:39,  2.77s/it]"
     ]
    },
    {
     "name": "stdout",
     "output_type": "stream",
     "text": [
      "1.0 14.0 6.970645160228802e-06 0.0 0.3485624526420024\n"
     ]
    },
    {
     "name": "stderr",
     "output_type": "stream",
     "text": [
      " 40%|███▉      | 3864/9766 [3:23:48<4:34:30,  2.79s/it]"
     ]
    },
    {
     "name": "stdout",
     "output_type": "stream",
     "text": [
      "1.0 11.6 5.894444781898869e-06 2.1073424255447016e-09 0.497378302518792\n"
     ]
    },
    {
     "name": "stderr",
     "output_type": "stream",
     "text": [
      " 40%|███▉      | 3866/9766 [3:23:53<4:34:54,  2.80s/it]"
     ]
    },
    {
     "name": "stdout",
     "output_type": "stream",
     "text": [
      "1.0 11.2 4.185478341168041e-06 0.0 0.2916178219811115\n"
     ]
    },
    {
     "name": "stderr",
     "output_type": "stream",
     "text": [
      " 40%|███▉      | 3868/9766 [3:23:59<4:44:56,  2.90s/it]"
     ]
    },
    {
     "name": "stdout",
     "output_type": "stream",
     "text": [
      "1.0 15.6 9.222945196789202e-06 0.0 0.49390115130935835\n"
     ]
    },
    {
     "name": "stderr",
     "output_type": "stream",
     "text": [
      " 40%|███▉      | 3870/9766 [3:24:08<6:34:30,  4.01s/it]"
     ]
    },
    {
     "name": "stdout",
     "output_type": "stream",
     "text": [
      "0.5 107.8 0.015709876642386756 3.6500241499888573e-09 0.5761057749114927\n"
     ]
    },
    {
     "name": "stderr",
     "output_type": "stream",
     "text": [
      " 40%|███▉      | 3873/9766 [3:24:16<5:06:40,  3.12s/it]"
     ]
    },
    {
     "name": "stdout",
     "output_type": "stream",
     "text": [
      "1.0 11.6 5.8003567017455e-06 2.580956827951785e-09 0.4098451944854446\n"
     ]
    },
    {
     "name": "stderr",
     "output_type": "stream",
     "text": [
      " 40%|███▉      | 3875/9766 [3:24:22<4:56:40,  3.02s/it]"
     ]
    },
    {
     "name": "stdout",
     "output_type": "stream",
     "text": [
      "1.0 13.8 8.926602728402499e-06 1.4901161193847657e-09 0.6211771231306498\n"
     ]
    },
    {
     "name": "stderr",
     "output_type": "stream",
     "text": [
      " 40%|███▉      | 3877/9766 [3:24:27<4:48:22,  2.94s/it]"
     ]
    },
    {
     "name": "stdout",
     "output_type": "stream",
     "text": [
      "1.0 13.4 5.604215702468276e-06 3.597458544929467e-09 0.627007911960449\n"
     ]
    },
    {
     "name": "stderr",
     "output_type": "stream",
     "text": [
      " 40%|███▉      | 3880/9766 [3:24:35<4:29:02,  2.74s/it]"
     ]
    },
    {
     "name": "stdout",
     "output_type": "stream",
     "text": [
      "1.0 12.8 4.617013655158968e-06 1.4901161193847657e-09 0.6051503518342757\n"
     ]
    },
    {
     "name": "stderr",
     "output_type": "stream",
     "text": [
      " 40%|███▉      | 3883/9766 [3:24:43<4:21:51,  2.67s/it]"
     ]
    },
    {
     "name": "stdout",
     "output_type": "stream",
     "text": [
      "1.0 12.0 3.4207299228616888e-06 1.4901161193847657e-09 0.3444347524016356\n"
     ]
    },
    {
     "name": "stderr",
     "output_type": "stream",
     "text": [
      " 40%|███▉      | 3886/9766 [3:24:51<4:44:40,  2.90s/it]"
     ]
    },
    {
     "name": "stdout",
     "output_type": "stream",
     "text": [
      "0.9 32.8 0.006261433293618575 7.03007680700311e-06 0.31835755410935934\n"
     ]
    },
    {
     "name": "stderr",
     "output_type": "stream",
     "text": [
      " 40%|███▉      | 3889/9766 [3:24:59<4:52:54,  2.99s/it]"
     ]
    },
    {
     "name": "stdout",
     "output_type": "stream",
     "text": [
      "0.9 35.4 7.843956697633394e-05 7.0320517189355525e-06 0.3901764405292298\n"
     ]
    },
    {
     "name": "stderr",
     "output_type": "stream",
     "text": [
      " 40%|███▉      | 3892/9766 [3:25:10<5:42:38,  3.50s/it]"
     ]
    },
    {
     "name": "stdout",
     "output_type": "stream",
     "text": [
      "0.7 68.2 0.01253973895386655 7.031125373076807e-06 0.4389550223559266\n"
     ]
    },
    {
     "name": "stderr",
     "output_type": "stream",
     "text": [
      " 40%|███▉      | 3895/9766 [3:25:24<7:56:34,  4.87s/it]"
     ]
    },
    {
     "name": "stdout",
     "output_type": "stream",
     "text": [
      "0.1 181.0 0.028269846885590127 3.597458544929467e-09 0.4820204498729832\n"
     ]
    },
    {
     "name": "stderr",
     "output_type": "stream",
     "text": [
      " 40%|███▉      | 3898/9766 [3:25:35<7:26:11,  4.56s/it]"
     ]
    },
    {
     "name": "stdout",
     "output_type": "stream",
     "text": [
      "0.5 106.8 0.01571145265446724 1.4901161193847657e-09 0.526042871526102\n"
     ]
    },
    {
     "name": "stderr",
     "output_type": "stream",
     "text": [
      " 40%|███▉      | 3900/9766 [3:25:45<8:05:18,  4.96s/it]"
     ]
    },
    {
     "name": "stdout",
     "output_type": "stream",
     "text": [
      "0.4 125.0 0.018851351159170034 0.0 0.5177116748361539\n"
     ]
    },
    {
     "name": "stderr",
     "output_type": "stream",
     "text": [
      " 40%|███▉      | 3902/9766 [3:25:50<6:15:44,  3.84s/it]"
     ]
    },
    {
     "name": "stdout",
     "output_type": "stream",
     "text": [
      "1.0 14.4 8.858618865995829e-06 5.16191365590357e-09 0.6008156012287773\n"
     ]
    },
    {
     "name": "stderr",
     "output_type": "stream",
     "text": [
      " 40%|███▉      | 3904/9766 [3:25:56<5:26:32,  3.34s/it]"
     ]
    },
    {
     "name": "stdout",
     "output_type": "stream",
     "text": [
      "1.0 14.6 5.593199074223049e-06 1.0031537424875614e-08 0.4974801248421147\n"
     ]
    },
    {
     "name": "stderr",
     "output_type": "stream",
     "text": [
      " 40%|███▉      | 3906/9766 [3:26:02<5:09:33,  3.17s/it]"
     ]
    },
    {
     "name": "stdout",
     "output_type": "stream",
     "text": [
      "1.0 13.2 7.480714390050765e-06 3.597458544929467e-09 0.49183566363490944\n"
     ]
    },
    {
     "name": "stderr",
     "output_type": "stream",
     "text": [
      " 40%|████      | 3908/9766 [3:26:08<5:15:17,  3.23s/it]"
     ]
    },
    {
     "name": "stdout",
     "output_type": "stream",
     "text": [
      "0.9 32.8 0.059770258555358134 1.7778416957676947e-05 0.4134044614095977\n"
     ]
    },
    {
     "name": "stderr",
     "output_type": "stream",
     "text": [
      " 40%|████      | 3910/9766 [3:26:14<4:56:49,  3.04s/it]"
     ]
    },
    {
     "name": "stdout",
     "output_type": "stream",
     "text": [
      "1.0 11.8 9.362933844341668e-06 5.087574664314233e-09 0.4763422889308823\n"
     ]
    },
    {
     "name": "stderr",
     "output_type": "stream",
     "text": [
      " 40%|████      | 3912/9766 [3:26:19<4:44:15,  2.91s/it]"
     ]
    },
    {
     "name": "stdout",
     "output_type": "stream",
     "text": [
      "1.0 12.8 5.704762865233062e-06 3.597458544929467e-09 0.500784900195282\n"
     ]
    },
    {
     "name": "stderr",
     "output_type": "stream",
     "text": [
      " 40%|████      | 3914/9766 [3:26:25<4:44:48,  2.92s/it]"
     ]
    },
    {
     "name": "stdout",
     "output_type": "stream",
     "text": [
      "1.0 12.6 6.059060333433151e-06 0.0 0.3677555525567374\n"
     ]
    },
    {
     "name": "stderr",
     "output_type": "stream",
     "text": [
      " 40%|████      | 3916/9766 [3:26:31<5:07:21,  3.15s/it]"
     ]
    },
    {
     "name": "stdout",
     "output_type": "stream",
     "text": [
      "0.9 29.2 0.02023238953828786 1.133065745623601e-05 0.41041098011908483\n"
     ]
    },
    {
     "name": "stderr",
     "output_type": "stream",
     "text": [
      " 40%|████      | 3918/9766 [3:26:40<6:19:21,  3.89s/it]"
     ]
    },
    {
     "name": "stdout",
     "output_type": "stream",
     "text": [
      "0.6 87.8 0.06815020201531177 3.59637395469857e-05 0.5060933850252736\n"
     ]
    },
    {
     "name": "stderr",
     "output_type": "stream",
     "text": [
      " 40%|████      | 3920/9766 [3:26:45<5:28:51,  3.38s/it]"
     ]
    },
    {
     "name": "stdout",
     "output_type": "stream",
     "text": [
      "1.0 13.0 4.970232832444258e-06 0.0 0.5990722214221951\n"
     ]
    },
    {
     "name": "stderr",
     "output_type": "stream",
     "text": [
      " 40%|████      | 3922/9766 [3:26:51<5:09:32,  3.18s/it]"
     ]
    },
    {
     "name": "stdout",
     "output_type": "stream",
     "text": [
      "1.0 15.0 8.169111533560337e-06 4.071072947336551e-09 0.715811706228961\n"
     ]
    },
    {
     "name": "stderr",
     "output_type": "stream",
     "text": [
      " 40%|████      | 3924/9766 [3:26:57<4:58:29,  3.07s/it]"
     ]
    },
    {
     "name": "stdout",
     "output_type": "stream",
     "text": [
      "1.0 15.0 6.590313201832173e-06 4.6882992534964865e-09 0.45859209445489657\n"
     ]
    },
    {
     "name": "stderr",
     "output_type": "stream",
     "text": [
      " 40%|████      | 3926/9766 [3:27:09<8:15:33,  5.09s/it]"
     ]
    },
    {
     "name": "stdout",
     "output_type": "stream",
     "text": [
      "0.1 182.0 0.0314180029705931 0.0 0.4638590904232912\n"
     ]
    },
    {
     "name": "stderr",
     "output_type": "stream",
     "text": [
      " 40%|████      | 3928/9766 [3:27:21<9:28:36,  5.84s/it]"
     ]
    },
    {
     "name": "stdout",
     "output_type": "stream",
     "text": [
      "0.1 180.4 0.02827395395091643 3.597458544929467e-09 0.4066257607679463\n"
     ]
    },
    {
     "name": "stderr",
     "output_type": "stream",
     "text": [
      " 40%|████      | 3930/9766 [3:27:33<9:54:19,  6.11s/it]"
     ]
    },
    {
     "name": "stdout",
     "output_type": "stream",
     "text": [
      "0.2 161.6 0.0251337723073436 6.143906154658886e-09 0.5155306944182099\n"
     ]
    },
    {
     "name": "stderr",
     "output_type": "stream",
     "text": [
      " 40%|████      | 3932/9766 [3:27:43<9:37:40,  5.94s/it]"
     ]
    },
    {
     "name": "stdout",
     "output_type": "stream",
     "text": [
      "0.3 143.4 0.0649016357142063 1.8356831291945326e-05 0.3835814744822187\n"
     ]
    },
    {
     "name": "stderr",
     "output_type": "stream",
     "text": [
      " 40%|████      | 3934/9766 [3:27:55<9:48:35,  6.06s/it]"
     ]
    },
    {
     "name": "stdout",
     "output_type": "stream",
     "text": [
      "0.2 164.0 0.025137142516267957 8.893190004033845e-09 0.6584299639260689\n"
     ]
    },
    {
     "name": "stderr",
     "output_type": "stream",
     "text": [
      " 40%|████      | 3937/9766 [3:28:09<9:25:55,  5.83s/it]"
     ]
    },
    {
     "name": "stdout",
     "output_type": "stream",
     "text": [
      "0.1 182.2 0.028269278117258413 5.140140269373623e-09 0.391517388554962\n"
     ]
    },
    {
     "name": "stderr",
     "output_type": "stream",
     "text": [
      " 40%|████      | 3939/9766 [3:28:22<10:27:07,  6.46s/it]"
     ]
    },
    {
     "name": "stdout",
     "output_type": "stream",
     "text": [
      "0.0 200.0 0.031413414397429854 3.3320009373125284e-09 0.7360320773109051\n"
     ]
    },
    {
     "name": "stderr",
     "output_type": "stream",
     "text": [
      " 40%|████      | 3942/9766 [3:28:31<7:06:25,  4.39s/it] "
     ]
    },
    {
     "name": "stdout",
     "output_type": "stream",
     "text": [
      "0.8 48.2 0.0062859833462123454 2.9802322387695314e-09 0.3226553016114441\n"
     ]
    },
    {
     "name": "stderr",
     "output_type": "stream",
     "text": [
      " 40%|████      | 3944/9766 [3:28:40<7:41:56,  4.76s/it]"
     ]
    },
    {
     "name": "stdout",
     "output_type": "stream",
     "text": [
      "0.5 109.2 0.0157122418528697 3.3320009373125284e-09 0.43662386500217476\n"
     ]
    },
    {
     "name": "stderr",
     "output_type": "stream",
     "text": [
      " 40%|████      | 3947/9766 [3:28:48<5:31:06,  3.41s/it]"
     ]
    },
    {
     "name": "stdout",
     "output_type": "stream",
     "text": [
      "1.0 15.4 9.17378205669363e-06 4.6882992534964865e-09 0.5493146294638244\n"
     ]
    },
    {
     "name": "stderr",
     "output_type": "stream",
     "text": [
      " 40%|████      | 3949/9766 [3:28:53<5:03:38,  3.13s/it]"
     ]
    },
    {
     "name": "stdout",
     "output_type": "stream",
     "text": [
      "1.0 14.8 5.049015423867312e-06 2.1073424255447016e-09 0.597922446326048\n"
     ]
    },
    {
     "name": "stderr",
     "output_type": "stream",
     "text": [
      " 40%|████      | 3951/9766 [3:29:02<6:20:12,  3.92s/it]"
     ]
    },
    {
     "name": "stdout",
     "output_type": "stream",
     "text": [
      "0.6 90.2 0.012571267735042546 6.577690783698998e-09 0.6220603525276954\n"
     ]
    },
    {
     "name": "stderr",
     "output_type": "stream",
     "text": [
      " 40%|████      | 3954/9766 [3:29:14<7:06:13,  4.40s/it]"
     ]
    },
    {
     "name": "stdout",
     "output_type": "stream",
     "text": [
      "0.4 125.4 0.01885176064137472 1.4901161193847657e-09 0.38367169459688066\n"
     ]
    },
    {
     "name": "stderr",
     "output_type": "stream",
     "text": [
      " 41%|████      | 3956/9766 [3:29:19<5:51:44,  3.63s/it]"
     ]
    },
    {
     "name": "stdout",
     "output_type": "stream",
     "text": [
      "1.0 14.8 5.984895576928217e-06 1.4901161193847657e-09 0.5377073964467438\n"
     ]
    },
    {
     "name": "stderr",
     "output_type": "stream",
     "text": [
      " 41%|████      | 3959/9766 [3:29:28<5:04:25,  3.15s/it]"
     ]
    },
    {
     "name": "stdout",
     "output_type": "stream",
     "text": [
      "0.9 32.8 0.011434575976245958 1.2568675270551372e-05 0.6244297693700163\n"
     ]
    },
    {
     "name": "stderr",
     "output_type": "stream",
     "text": [
      " 41%|████      | 3961/9766 [3:29:33<4:49:49,  3.00s/it]"
     ]
    },
    {
     "name": "stdout",
     "output_type": "stream",
     "text": [
      "1.0 12.4 2.6184045814939746e-06 1.4901161193847657e-09 0.46124907747933863\n"
     ]
    },
    {
     "name": "stderr",
     "output_type": "stream",
     "text": [
      " 41%|████      | 3964/9766 [3:29:41<4:45:33,  2.95s/it]"
     ]
    },
    {
     "name": "stdout",
     "output_type": "stream",
     "text": [
      "0.9 32.2 0.017842796685049716 7.028443691903114e-06 0.32494537132899565\n"
     ]
    },
    {
     "name": "stderr",
     "output_type": "stream",
     "text": [
      " 41%|████      | 3967/9766 [3:29:50<4:48:28,  2.98s/it]"
     ]
    },
    {
     "name": "stdout",
     "output_type": "stream",
     "text": [
      "0.9 29.0 0.0031460920909255584 2.9802322387695314e-09 0.3535760550555318\n"
     ]
    },
    {
     "name": "stderr",
     "output_type": "stream",
     "text": [
      " 41%|████      | 3970/9766 [3:29:57<4:20:45,  2.70s/it]"
     ]
    },
    {
     "name": "stdout",
     "output_type": "stream",
     "text": [
      "1.0 11.4 8.155075856802518e-06 5.561189066721316e-09 0.5086513158474965\n"
     ]
    },
    {
     "name": "stderr",
     "output_type": "stream",
     "text": [
      " 41%|████      | 3972/9766 [3:30:04<4:53:45,  3.04s/it]"
     ]
    },
    {
     "name": "stdout",
     "output_type": "stream",
     "text": [
      "0.9 36.0 0.008981468212485537 1.2574355111921228e-05 0.6639080432689736\n"
     ]
    },
    {
     "name": "stderr",
     "output_type": "stream",
     "text": [
      " 41%|████      | 3975/9766 [3:30:15<6:33:11,  4.07s/it]"
     ]
    },
    {
     "name": "stdout",
     "output_type": "stream",
     "text": [
      "0.4 124.2 0.018848352671391955 3.597458544929467e-09 0.5744347487536832\n"
     ]
    },
    {
     "name": "stderr",
     "output_type": "stream",
     "text": [
      " 41%|████      | 3978/9766 [3:30:26<6:25:24,  4.00s/it]"
     ]
    },
    {
     "name": "stdout",
     "output_type": "stream",
     "text": [
      "0.6 89.2 0.02086633726027822 1.1330423200016638e-05 0.46088440591535973\n"
     ]
    },
    {
     "name": "stderr",
     "output_type": "stream",
     "text": [
      " 41%|████      | 3981/9766 [3:30:37<6:24:20,  3.99s/it]"
     ]
    },
    {
     "name": "stdout",
     "output_type": "stream",
     "text": [
      "0.6 88.2 0.012566172598814826 1.5402089164984257e-08 0.5831938380095766\n"
     ]
    },
    {
     "name": "stderr",
     "output_type": "stream",
     "text": [
      " 41%|████      | 3983/9766 [3:30:44<6:29:03,  4.04s/it]"
     ]
    },
    {
     "name": "stdout",
     "output_type": "stream",
     "text": [
      "0.7 69.4 0.009428781984886 0.0 0.4358818987694388\n"
     ]
    },
    {
     "name": "stderr",
     "output_type": "stream",
     "text": [
      " 41%|████      | 3985/9766 [3:30:52<6:50:52,  4.26s/it]"
     ]
    },
    {
     "name": "stdout",
     "output_type": "stream",
     "text": [
      "0.6 89.4 0.012567992169080892 5.7048009704741684e-09 0.507735576693354\n"
     ]
    },
    {
     "name": "stderr",
     "output_type": "stream",
     "text": [
      " 41%|████      | 3988/9766 [3:31:00<5:13:11,  3.25s/it]"
     ]
    },
    {
     "name": "stdout",
     "output_type": "stream",
     "text": [
      "1.0 12.4 4.371229376593237e-06 3.597458544929467e-09 0.47221092366484657\n"
     ]
    },
    {
     "name": "stderr",
     "output_type": "stream",
     "text": [
      " 41%|████      | 3990/9766 [3:31:06<4:55:07,  3.07s/it]"
     ]
    },
    {
     "name": "stdout",
     "output_type": "stream",
     "text": [
      "1.0 11.6 5.00896216116791e-06 1.4901161193847657e-09 0.4492624727051219\n"
     ]
    },
    {
     "name": "stderr",
     "output_type": "stream",
     "text": [
      " 41%|████      | 3992/9766 [3:31:11<4:42:24,  2.93s/it]"
     ]
    },
    {
     "name": "stdout",
     "output_type": "stream",
     "text": [
      "1.0 14.0 5.21514084900921e-06 2.9802322387695314e-09 0.6071062108997769\n"
     ]
    },
    {
     "name": "stderr",
     "output_type": "stream",
     "text": [
      " 41%|████      | 3994/9766 [3:31:17<4:41:13,  2.92s/it]"
     ]
    },
    {
     "name": "stdout",
     "output_type": "stream",
     "text": [
      "1.0 14.2 3.662721972470184e-06 0.0 0.5412103267116621\n"
     ]
    },
    {
     "name": "stderr",
     "output_type": "stream",
     "text": [
      " 41%|████      | 3996/9766 [3:31:22<4:35:05,  2.86s/it]"
     ]
    },
    {
     "name": "stdout",
     "output_type": "stream",
     "text": [
      "1.0 13.2 3.9302293462575205e-06 1.4901161193847657e-09 0.5053141632127691\n"
     ]
    },
    {
     "name": "stderr",
     "output_type": "stream",
     "text": [
      " 41%|████      | 3998/9766 [3:31:28<4:33:13,  2.84s/it]"
     ]
    },
    {
     "name": "stdout",
     "output_type": "stream",
     "text": [
      "1.0 12.6 8.373999625894026e-06 4.071072947336551e-09 0.4477233914214619\n"
     ]
    },
    {
     "name": "stderr",
     "output_type": "stream",
     "text": [
      " 41%|████      | 4000/9766 [3:31:34<4:35:35,  2.87s/it]"
     ]
    },
    {
     "name": "stdout",
     "output_type": "stream",
     "text": [
      "1.0 12.2 4.020761302434929e-06 1.4901161193847657e-09 0.4891771474601806\n"
     ]
    },
    {
     "name": "stderr",
     "output_type": "stream",
     "text": [
      " 41%|████      | 4002/9766 [3:31:39<4:43:33,  2.95s/it]"
     ]
    },
    {
     "name": "stdout",
     "output_type": "stream",
     "text": [
      "1.0 15.6 6.946166077603215e-06 2.580956827951785e-09 0.5704914624204603\n"
     ]
    },
    {
     "name": "stderr",
     "output_type": "stream",
     "text": [
      " 41%|████      | 4004/9766 [3:31:45<4:39:11,  2.91s/it]"
     ]
    },
    {
     "name": "stdout",
     "output_type": "stream",
     "text": [
      "1.0 12.8 9.690121439767027e-06 8.940696716308593e-09 0.30598547544309124\n"
     ]
    },
    {
     "name": "stderr",
     "output_type": "stream",
     "text": [
      " 41%|████      | 4006/9766 [3:31:51<4:42:28,  2.94s/it]"
     ]
    },
    {
     "name": "stdout",
     "output_type": "stream",
     "text": [
      "1.0 14.8 6.4479315819288595e-06 1.4901161193847657e-09 0.5450027311091215\n"
     ]
    },
    {
     "name": "stderr",
     "output_type": "stream",
     "text": [
      " 41%|████      | 4008/9766 [3:31:56<4:36:56,  2.89s/it]"
     ]
    },
    {
     "name": "stdout",
     "output_type": "stream",
     "text": [
      "1.0 12.2 5.696726760807455e-06 2.1073424255447016e-09 0.498004168187726\n"
     ]
    },
    {
     "name": "stderr",
     "output_type": "stream",
     "text": [
      " 41%|████      | 4010/9766 [3:32:02<4:40:47,  2.93s/it]"
     ]
    },
    {
     "name": "stdout",
     "output_type": "stream",
     "text": [
      "1.0 12.4 7.155750318103497e-06 2.580956827951785e-09 0.5854196374596389\n"
     ]
    },
    {
     "name": "stderr",
     "output_type": "stream",
     "text": [
      " 41%|████      | 4012/9766 [3:32:08<4:39:54,  2.92s/it]"
     ]
    },
    {
     "name": "stdout",
     "output_type": "stream",
     "text": [
      "1.0 13.0 7.665245481384057e-06 2.9802322387695314e-09 0.4506768587662681\n"
     ]
    },
    {
     "name": "stderr",
     "output_type": "stream",
     "text": [
      " 41%|████      | 4014/9766 [3:32:14<4:51:58,  3.05s/it]"
     ]
    },
    {
     "name": "stdout",
     "output_type": "stream",
     "text": [
      "1.0 16.4 3.8236558595645225e-06 2.9802322387695314e-09 0.639738998429934\n"
     ]
    },
    {
     "name": "stderr",
     "output_type": "stream",
     "text": [
      " 41%|████      | 4016/9766 [3:32:19<4:38:20,  2.90s/it]"
     ]
    },
    {
     "name": "stdout",
     "output_type": "stream",
     "text": [
      "1.0 15.0 5.871349070553312e-06 2.1073424255447016e-09 0.48709384638392733\n"
     ]
    },
    {
     "name": "stderr",
     "output_type": "stream",
     "text": [
      " 41%|████      | 4018/9766 [3:32:25<4:41:58,  2.94s/it]"
     ]
    },
    {
     "name": "stdout",
     "output_type": "stream",
     "text": [
      "1.0 15.8 5.970899635561651e-06 5.960464477539063e-09 0.6364086519235654\n"
     ]
    },
    {
     "name": "stderr",
     "output_type": "stream",
     "text": [
      " 41%|████      | 4020/9766 [3:32:31<4:58:19,  3.12s/it]"
     ]
    },
    {
     "name": "stdout",
     "output_type": "stream",
     "text": [
      "1.0 21.4 5.9841555957684285e-06 2.580956827951785e-09 0.4686106498720939\n"
     ]
    },
    {
     "name": "stderr",
     "output_type": "stream",
     "text": [
      " 41%|████      | 4022/9766 [3:32:37<4:39:30,  2.92s/it]"
     ]
    },
    {
     "name": "stdout",
     "output_type": "stream",
     "text": [
      "1.0 11.0 6.475814511969739e-06 1.4901161193847657e-09 0.4022997035018995\n"
     ]
    },
    {
     "name": "stderr",
     "output_type": "stream",
     "text": [
      " 41%|████      | 4025/9766 [3:32:44<4:23:08,  2.75s/it]"
     ]
    },
    {
     "name": "stdout",
     "output_type": "stream",
     "text": [
      "1.0 11.4 2.8187449120426228e-06 1.4901161193847657e-09 0.3361345439063297\n"
     ]
    },
    {
     "name": "stderr",
     "output_type": "stream",
     "text": [
      " 41%|████      | 4027/9766 [3:32:50<4:26:05,  2.78s/it]"
     ]
    },
    {
     "name": "stdout",
     "output_type": "stream",
     "text": [
      "1.0 14.2 7.104049984045865e-06 2.9802322387695314e-09 0.4264110754824425\n"
     ]
    },
    {
     "name": "stderr",
     "output_type": "stream",
     "text": [
      " 41%|████▏     | 4029/9766 [3:32:56<4:49:24,  3.03s/it]"
     ]
    },
    {
     "name": "stdout",
     "output_type": "stream",
     "text": [
      "0.9 30.8 0.018882889456020645 7.026226965560347e-06 0.49614052097274336\n"
     ]
    },
    {
     "name": "stderr",
     "output_type": "stream",
     "text": [
      " 41%|████▏     | 4031/9766 [3:33:02<4:45:22,  2.99s/it]"
     ]
    },
    {
     "name": "stdout",
     "output_type": "stream",
     "text": [
      "1.0 12.0 6.702462589446397e-06 2.9802322387695314e-09 0.41715461943014687\n"
     ]
    },
    {
     "name": "stderr",
     "output_type": "stream",
     "text": [
      " 41%|████▏     | 4033/9766 [3:33:08<4:47:16,  3.01s/it]"
     ]
    },
    {
     "name": "stdout",
     "output_type": "stream",
     "text": [
      "1.0 17.2 8.785653724166645e-06 4.942156062059701e-09 0.5883752452460197\n"
     ]
    },
    {
     "name": "stderr",
     "output_type": "stream",
     "text": [
      " 41%|████▏     | 4036/9766 [3:33:18<5:31:36,  3.47s/it]"
     ]
    },
    {
     "name": "stdout",
     "output_type": "stream",
     "text": [
      "0.7 71.0 0.009430838594348043 2.9802322387695314e-09 0.5720652817153755\n"
     ]
    },
    {
     "name": "stderr",
     "output_type": "stream",
     "text": [
      " 41%|████▏     | 4038/9766 [3:33:26<6:25:33,  4.04s/it]"
     ]
    },
    {
     "name": "stdout",
     "output_type": "stream",
     "text": [
      "0.6 92.0 0.012573835059132643 8.067806903083764e-09 0.6337118832677462\n"
     ]
    },
    {
     "name": "stderr",
     "output_type": "stream",
     "text": [
      " 41%|████▏     | 4040/9766 [3:33:32<5:30:21,  3.46s/it]"
     ]
    },
    {
     "name": "stdout",
     "output_type": "stream",
     "text": [
      "1.0 15.6 8.566604832523892e-06 5.960464477539063e-09 0.4623902175784079\n"
     ]
    },
    {
     "name": "stderr",
     "output_type": "stream",
     "text": [
      " 41%|████▏     | 4042/9766 [3:33:37<5:02:27,  3.17s/it]"
     ]
    },
    {
     "name": "stdout",
     "output_type": "stream",
     "text": [
      "1.0 9.8 5.098742821598676e-06 2.1073424255447016e-09 0.38530966615659945\n"
     ]
    },
    {
     "name": "stderr",
     "output_type": "stream",
     "text": [
      " 41%|████▏     | 4044/9766 [3:33:46<6:08:01,  3.86s/it]"
     ]
    },
    {
     "name": "stdout",
     "output_type": "stream",
     "text": [
      "0.6 90.0 0.012573546264783395 1.4901161193847657e-09 0.331787850668028\n"
     ]
    },
    {
     "name": "stderr",
     "output_type": "stream",
     "text": [
      " 41%|████▏     | 4047/9766 [3:33:53<4:48:18,  3.02s/it]"
     ]
    },
    {
     "name": "stdout",
     "output_type": "stream",
     "text": [
      "1.0 15.2 5.877508193844264e-06 2.9802322387695314e-09 0.4712233853759268\n"
     ]
    },
    {
     "name": "stderr",
     "output_type": "stream",
     "text": [
      " 41%|████▏     | 4050/9766 [3:34:06<6:48:20,  4.29s/it]"
     ]
    },
    {
     "name": "stdout",
     "output_type": "stream",
     "text": [
      "0.3 143.8 0.02199641934486313 1.4901161193847657e-09 0.5021597267499815\n"
     ]
    },
    {
     "name": "stderr",
     "output_type": "stream",
     "text": [
      " 42%|████▏     | 4053/9766 [3:34:13<5:05:04,  3.20s/it]"
     ]
    },
    {
     "name": "stdout",
     "output_type": "stream",
     "text": [
      "1.0 13.6 7.5718310435847485e-06 1.4901161193847657e-09 0.3492813263556703\n"
     ]
    },
    {
     "name": "stderr",
     "output_type": "stream",
     "text": [
      " 42%|████▏     | 4055/9766 [3:34:19<4:42:48,  2.97s/it]"
     ]
    },
    {
     "name": "stdout",
     "output_type": "stream",
     "text": [
      "1.0 11.2 4.894282163230581e-06 0.0 0.40760224093710506\n"
     ]
    },
    {
     "name": "stderr",
     "output_type": "stream",
     "text": [
      " 42%|████▏     | 4057/9766 [3:34:25<4:53:44,  3.09s/it]"
     ]
    },
    {
     "name": "stdout",
     "output_type": "stream",
     "text": [
      "0.9 29.8 0.022875142435757764 3.597458544929467e-09 0.42912190813032297\n"
     ]
    },
    {
     "name": "stderr",
     "output_type": "stream",
     "text": [
      " 42%|████▏     | 4059/9766 [3:34:31<4:48:51,  3.04s/it]"
     ]
    },
    {
     "name": "stdout",
     "output_type": "stream",
     "text": [
      "1.0 11.6 4.079153106400012e-06 3.597458544929467e-09 0.35328632647418506\n"
     ]
    },
    {
     "name": "stderr",
     "output_type": "stream",
     "text": [
      " 42%|████▏     | 4061/9766 [3:34:41<6:48:24,  4.30s/it]"
     ]
    },
    {
     "name": "stdout",
     "output_type": "stream",
     "text": [
      "0.4 125.4 0.01885131563373106 0.0 0.5679662629632387\n"
     ]
    },
    {
     "name": "stderr",
     "output_type": "stream",
     "text": [
      " 42%|████▏     | 4063/9766 [3:34:47<5:55:19,  3.74s/it]"
     ]
    },
    {
     "name": "stdout",
     "output_type": "stream",
     "text": [
      "0.9 32.4 0.019116201484597865 5.561189066721316e-09 0.46268465702371875\n"
     ]
    },
    {
     "name": "stderr",
     "output_type": "stream",
     "text": [
      " 42%|████▏     | 4065/9766 [3:34:54<6:08:02,  3.87s/it]"
     ]
    },
    {
     "name": "stdout",
     "output_type": "stream",
     "text": [
      "0.7 69.8 0.009430277995313194 4.071072947336551e-09 0.589086228386612\n"
     ]
    },
    {
     "name": "stderr",
     "output_type": "stream",
     "text": [
      " 42%|████▏     | 4067/9766 [3:35:00<5:21:04,  3.38s/it]"
     ]
    },
    {
     "name": "stdout",
     "output_type": "stream",
     "text": [
      "1.0 10.2 5.2220289959651716e-06 3.597458544929467e-09 0.24965466272893805\n"
     ]
    },
    {
     "name": "stderr",
     "output_type": "stream",
     "text": [
      " 42%|████▏     | 4069/9766 [3:35:05<4:53:22,  3.09s/it]"
     ]
    },
    {
     "name": "stdout",
     "output_type": "stream",
     "text": [
      "1.0 11.6 6.043010539922879e-06 5.087574664314233e-09 0.4047746716765885\n"
     ]
    },
    {
     "name": "stderr",
     "output_type": "stream",
     "text": [
      " 42%|████▏     | 4071/9766 [3:35:15<6:39:42,  4.21s/it]"
     ]
    },
    {
     "name": "stdout",
     "output_type": "stream",
     "text": [
      "0.4 126.4 0.018851633530083685 1.4901161193847657e-09 0.5401226927952802\n"
     ]
    },
    {
     "name": "stderr",
     "output_type": "stream",
     "text": [
      " 42%|████▏     | 4074/9766 [3:35:23<5:04:16,  3.21s/it]"
     ]
    },
    {
     "name": "stdout",
     "output_type": "stream",
     "text": [
      "1.0 13.8 8.43771861755549e-06 0.0 0.4607726826254187\n"
     ]
    },
    {
     "name": "stderr",
     "output_type": "stream",
     "text": [
      " 42%|████▏     | 4077/9766 [3:35:35<6:41:30,  4.23s/it]"
     ]
    },
    {
     "name": "stdout",
     "output_type": "stream",
     "text": [
      "0.4 126.8 0.01885202544821487 2.1073424255447016e-09 0.48062879646007345\n"
     ]
    },
    {
     "name": "stderr",
     "output_type": "stream",
     "text": [
      " 42%|████▏     | 4079/9766 [3:35:45<7:25:36,  4.70s/it]"
     ]
    },
    {
     "name": "stdout",
     "output_type": "stream",
     "text": [
      "0.5 108.4 0.015716740032183398 4.470348358154297e-09 0.4449405467182902\n"
     ]
    },
    {
     "name": "stderr",
     "output_type": "stream",
     "text": [
      " 42%|████▏     | 4081/9766 [3:35:55<8:13:47,  5.21s/it]"
     ]
    },
    {
     "name": "stdout",
     "output_type": "stream",
     "text": [
      "0.3 145.4 0.02199540736988754 1.11441443333314e-08 0.5740343748281073\n"
     ]
    },
    {
     "name": "stderr",
     "output_type": "stream",
     "text": [
      " 42%|████▏     | 4084/9766 [3:36:06<6:58:14,  4.42s/it]"
     ]
    },
    {
     "name": "stdout",
     "output_type": "stream",
     "text": [
      "0.6 86.6 0.01257026457890372 2.9802322387695314e-09 0.3590322499275843\n"
     ]
    },
    {
     "name": "stderr",
     "output_type": "stream",
     "text": [
      " 42%|████▏     | 4086/9766 [3:36:14<7:00:18,  4.44s/it]"
     ]
    },
    {
     "name": "stdout",
     "output_type": "stream",
     "text": [
      "0.6 86.6 0.012570631006109816 1.4901161193847657e-09 0.5445056494043634\n"
     ]
    },
    {
     "name": "stderr",
     "output_type": "stream",
     "text": [
      " 42%|████▏     | 4088/9766 [3:36:21<6:22:55,  4.05s/it]"
     ]
    },
    {
     "name": "stdout",
     "output_type": "stream",
     "text": [
      "0.8 49.8 0.006286722468222114 4.071072947336551e-09 0.5204780259357683\n"
     ]
    },
    {
     "name": "stderr",
     "output_type": "stream",
     "text": [
      " 42%|████▏     | 4090/9766 [3:36:30<7:12:03,  4.57s/it]"
     ]
    },
    {
     "name": "stdout",
     "output_type": "stream",
     "text": [
      "0.5 103.8 0.015709579054239604 1.4901161193847657e-09 0.48937451917559843\n"
     ]
    },
    {
     "name": "stderr",
     "output_type": "stream",
     "text": [
      " 42%|████▏     | 4092/9766 [3:36:41<8:10:05,  5.18s/it]"
     ]
    },
    {
     "name": "stdout",
     "output_type": "stream",
     "text": [
      "0.3 144.0 0.021990447808550487 1.4901161193847657e-09 0.5380491025604358\n"
     ]
    },
    {
     "name": "stderr",
     "output_type": "stream",
     "text": [
      " 42%|████▏     | 4094/9766 [3:36:49<7:38:04,  4.85s/it]"
     ]
    },
    {
     "name": "stdout",
     "output_type": "stream",
     "text": [
      "0.6 89.4 0.012571849387394468 0.0 0.4688611400892201\n"
     ]
    },
    {
     "name": "stderr",
     "output_type": "stream",
     "text": [
      " 42%|████▏     | 4097/9766 [3:37:00<6:47:49,  4.32s/it]"
     ]
    },
    {
     "name": "stdout",
     "output_type": "stream",
     "text": [
      "0.6 88.6 0.012571217449036979 9.77587391781072e-09 0.5417706402403054\n"
     ]
    },
    {
     "name": "stderr",
     "output_type": "stream",
     "text": [
      " 42%|████▏     | 4100/9766 [3:37:09<6:02:50,  3.84s/it]"
     ]
    },
    {
     "name": "stdout",
     "output_type": "stream",
     "text": [
      "0.7 68.4 0.017562151187648107 6.286362788074469e-06 0.6641761533568259\n"
     ]
    },
    {
     "name": "stderr",
     "output_type": "stream",
     "text": [
      " 42%|████▏     | 4103/9766 [3:37:20<6:30:07,  4.13s/it]"
     ]
    },
    {
     "name": "stdout",
     "output_type": "stream",
     "text": [
      "0.5 107.2 0.01571187286690618 3.3320009373125284e-09 0.5362306600743275\n"
     ]
    },
    {
     "name": "stderr",
     "output_type": "stream",
     "text": [
      " 42%|████▏     | 4106/9766 [3:37:34<7:57:40,  5.06s/it]"
     ]
    },
    {
     "name": "stdout",
     "output_type": "stream",
     "text": [
      "0.1 181.0 0.028271223831901483 6.230980977940642e-09 0.48775586179951996\n"
     ]
    },
    {
     "name": "stderr",
     "output_type": "stream",
     "text": [
      " 42%|████▏     | 4108/9766 [3:37:40<6:13:19,  3.96s/it]"
     ]
    },
    {
     "name": "stdout",
     "output_type": "stream",
     "text": [
      "1.0 17.8 9.858203597836405e-06 4.6882992534964865e-09 0.6021526019105485\n"
     ]
    },
    {
     "name": "stderr",
     "output_type": "stream",
     "text": [
      " 42%|████▏     | 4111/9766 [3:37:47<4:48:44,  3.06s/it]"
     ]
    },
    {
     "name": "stdout",
     "output_type": "stream",
     "text": [
      "1.0 11.4 4.14838834409772e-06 7.668531492266019e-09 0.45798238547155473\n"
     ]
    },
    {
     "name": "stderr",
     "output_type": "stream",
     "text": [
      " 42%|████▏     | 4114/9766 [3:37:58<5:37:28,  3.58s/it]"
     ]
    },
    {
     "name": "stdout",
     "output_type": "stream",
     "text": [
      "0.6 86.4 0.012569182427817757 0.0 0.30633201393757903\n"
     ]
    },
    {
     "name": "stderr",
     "output_type": "stream",
     "text": [
      " 42%|████▏     | 4116/9766 [3:38:05<6:01:58,  3.84s/it]"
     ]
    },
    {
     "name": "stdout",
     "output_type": "stream",
     "text": [
      "0.7 69.0 0.009428209533566758 2.9802322387695314e-09 0.5361938013082133\n"
     ]
    },
    {
     "name": "stderr",
     "output_type": "stream",
     "text": [
      " 42%|████▏     | 4119/9766 [3:38:14<5:10:17,  3.30s/it]"
     ]
    },
    {
     "name": "stdout",
     "output_type": "stream",
     "text": [
      "0.9 33.8 0.003147973202659463 1.4901161193847657e-09 0.3689192201533002\n"
     ]
    },
    {
     "name": "stderr",
     "output_type": "stream",
     "text": [
      " 42%|████▏     | 4122/9766 [3:38:23<5:30:01,  3.51s/it]"
     ]
    },
    {
     "name": "stdout",
     "output_type": "stream",
     "text": [
      "0.7 71.6 0.029001789336716273 7.027442306310274e-06 0.5639357670241901\n"
     ]
    },
    {
     "name": "stderr",
     "output_type": "stream",
     "text": [
      " 42%|████▏     | 4125/9766 [3:38:31<4:45:12,  3.03s/it]"
     ]
    },
    {
     "name": "stdout",
     "output_type": "stream",
     "text": [
      "1.0 17.6 6.9604917098030855e-06 2.9802322387695314e-09 0.5402623226655594\n"
     ]
    },
    {
     "name": "stderr",
     "output_type": "stream",
     "text": [
      " 42%|████▏     | 4127/9766 [3:38:42<6:56:09,  4.43s/it]"
     ]
    },
    {
     "name": "stdout",
     "output_type": "stream",
     "text": [
      "0.3 145.8 0.04160540178495618 1.2573427185826534e-05 0.5181008684377089\n"
     ]
    },
    {
     "name": "stderr",
     "output_type": "stream",
     "text": [
      " 42%|████▏     | 4130/9766 [3:38:49<5:04:16,  3.24s/it]"
     ]
    },
    {
     "name": "stdout",
     "output_type": "stream",
     "text": [
      "1.0 11.6 6.279204015576307e-06 2.1073424255447016e-09 0.35105023490229315\n"
     ]
    },
    {
     "name": "stderr",
     "output_type": "stream",
     "text": [
      " 42%|████▏     | 4132/9766 [3:38:57<5:45:11,  3.68s/it]"
     ]
    },
    {
     "name": "stdout",
     "output_type": "stream",
     "text": [
      "0.7 68.0 0.009430951390457118 5.704800970474169e-09 0.40446375492230907\n"
     ]
    },
    {
     "name": "stderr",
     "output_type": "stream",
     "text": [
      " 42%|████▏     | 4135/9766 [3:39:08<6:17:16,  4.02s/it]"
     ]
    },
    {
     "name": "stdout",
     "output_type": "stream",
     "text": [
      "0.6 90.6 0.012573243814705001 9.909691721011526e-09 0.5293033673806466\n"
     ]
    },
    {
     "name": "stderr",
     "output_type": "stream",
     "text": [
      " 42%|████▏     | 4138/9766 [3:39:17<5:15:36,  3.36s/it]"
     ]
    },
    {
     "name": "stdout",
     "output_type": "stream",
     "text": [
      "0.9 29.8 0.0031499509881009516 3.597458544929467e-09 0.40708589999163136\n"
     ]
    },
    {
     "name": "stderr",
     "output_type": "stream",
     "text": [
      " 42%|████▏     | 4141/9766 [3:39:29<6:58:41,  4.47s/it]"
     ]
    },
    {
     "name": "stdout",
     "output_type": "stream",
     "text": [
      "0.3 145.4 0.021990881829361878 5.140140269373623e-09 0.512761017284106\n"
     ]
    },
    {
     "name": "stderr",
     "output_type": "stream",
     "text": [
      " 42%|████▏     | 4144/9766 [3:39:44<8:26:21,  5.40s/it]"
     ]
    },
    {
     "name": "stdout",
     "output_type": "stream",
     "text": [
      "0.0 200.0 0.04845076268501492 7.0313215421504215e-06 0.5754767962480758\n"
     ]
    },
    {
     "name": "stderr",
     "output_type": "stream",
     "text": [
      " 42%|████▏     | 4147/9766 [3:39:57<8:16:44,  5.30s/it]"
     ]
    },
    {
     "name": "stdout",
     "output_type": "stream",
     "text": [
      "0.2 164.2 0.047123462227200694 4.470348358154297e-09 0.5802362131858824\n"
     ]
    },
    {
     "name": "stderr",
     "output_type": "stream",
     "text": [
      " 42%|████▏     | 4150/9766 [3:40:10<7:41:17,  4.93s/it]"
     ]
    },
    {
     "name": "stdout",
     "output_type": "stream",
     "text": [
      "0.3 143.6 0.040840405329946275 0.0 0.4034301665270144\n"
     ]
    },
    {
     "name": "stderr",
     "output_type": "stream",
     "text": [
      " 43%|████▎     | 4153/9766 [3:40:19<6:18:40,  4.05s/it]"
     ]
    },
    {
     "name": "stdout",
     "output_type": "stream",
     "text": [
      "0.7 70.2 0.029000795196719213 7.025068562225494e-06 0.43517711089484223\n"
     ]
    },
    {
     "name": "stderr",
     "output_type": "stream",
     "text": [
      " 43%|████▎     | 4156/9766 [3:40:29<6:07:25,  3.93s/it]"
     ]
    },
    {
     "name": "stdout",
     "output_type": "stream",
     "text": [
      "0.6 85.2 0.03532933545501972 1.4901161193847657e-09 0.46044074940438673\n"
     ]
    },
    {
     "name": "stderr",
     "output_type": "stream",
     "text": [
      " 43%|████▎     | 4159/9766 [3:40:37<5:05:26,  3.27s/it]"
     ]
    },
    {
     "name": "stdout",
     "output_type": "stream",
     "text": [
      "0.9 33.6 0.012539506280462562 7.0277067206020264e-06 0.6474340284807799\n"
     ]
    },
    {
     "name": "stderr",
     "output_type": "stream",
     "text": [
      " 43%|████▎     | 4162/9766 [3:40:45<4:23:14,  2.82s/it]"
     ]
    },
    {
     "name": "stdout",
     "output_type": "stream",
     "text": [
      "1.0 13.4 5.36596449011629e-06 1.4901161193847657e-09 0.4588729699349446\n"
     ]
    },
    {
     "name": "stderr",
     "output_type": "stream",
     "text": [
      " 43%|████▎     | 4165/9766 [3:40:52<4:09:04,  2.67s/it]"
     ]
    },
    {
     "name": "stdout",
     "output_type": "stream",
     "text": [
      "1.0 14.2 4.3237395374050956e-06 1.4901161193847657e-09 0.541554889347106\n"
     ]
    },
    {
     "name": "stderr",
     "output_type": "stream",
     "text": [
      " 43%|████▎     | 4168/9766 [3:41:00<4:13:47,  2.72s/it]"
     ]
    },
    {
     "name": "stdout",
     "output_type": "stream",
     "text": [
      "1.0 14.6 6.400487728791996e-06 5.087574664314233e-09 0.45056672691814725\n"
     ]
    },
    {
     "name": "stderr",
     "output_type": "stream",
     "text": [
      " 43%|████▎     | 4171/9766 [3:41:10<5:12:24,  3.35s/it]"
     ]
    },
    {
     "name": "stdout",
     "output_type": "stream",
     "text": [
      "0.7 70.4 0.009425295990798357 3.942476676500724e-09 0.4563054206098247\n"
     ]
    },
    {
     "name": "stderr",
     "output_type": "stream",
     "text": [
      " 43%|████▎     | 4174/9766 [3:41:22<6:40:37,  4.30s/it]"
     ]
    },
    {
     "name": "stdout",
     "output_type": "stream",
     "text": [
      "0.3 144.0 0.035773101861927725 3.597458544929467e-09 0.4170331698685305\n"
     ]
    },
    {
     "name": "stderr",
     "output_type": "stream",
     "text": [
      " 43%|████▎     | 4177/9766 [3:41:33<6:29:57,  4.19s/it]"
     ]
    },
    {
     "name": "stdout",
     "output_type": "stream",
     "text": [
      "0.5 106.0 0.07733647973173544 6.293124207311352e-06 0.44473499946977135\n"
     ]
    },
    {
     "name": "stderr",
     "output_type": "stream",
     "text": [
      " 43%|████▎     | 4180/9766 [3:41:43<5:48:13,  3.74s/it]"
     ]
    },
    {
     "name": "stdout",
     "output_type": "stream",
     "text": [
      "0.7 71.4 0.0241272634675495 7.033539089245417e-06 0.5615629653211901\n"
     ]
    },
    {
     "name": "stderr",
     "output_type": "stream",
     "text": [
      " 43%|████▎     | 4183/9766 [3:41:53<5:54:27,  3.81s/it]"
     ]
    },
    {
     "name": "stdout",
     "output_type": "stream",
     "text": [
      "0.6 86.2 0.012567759207789426 2.9802322387695314e-09 0.34644607046367226\n"
     ]
    },
    {
     "name": "stderr",
     "output_type": "stream",
     "text": [
      " 43%|████▎     | 4186/9766 [3:42:01<4:48:31,  3.10s/it]"
     ]
    },
    {
     "name": "stdout",
     "output_type": "stream",
     "text": [
      "1.0 13.6 5.391519912975773e-06 1.4901161193847657e-09 0.45537508011306105\n"
     ]
    },
    {
     "name": "stderr",
     "output_type": "stream",
     "text": [
      " 43%|████▎     | 4189/9766 [3:42:08<4:23:42,  2.84s/it]"
     ]
    },
    {
     "name": "stdout",
     "output_type": "stream",
     "text": [
      "1.0 13.6 7.870602679920014e-06 7.953646902788978e-09 0.38194238725263446\n"
     ]
    },
    {
     "name": "stderr",
     "output_type": "stream",
     "text": [
      " 43%|████▎     | 4192/9766 [3:42:18<5:01:03,  3.24s/it]"
     ]
    },
    {
     "name": "stdout",
     "output_type": "stream",
     "text": [
      "0.8 49.2 0.03243763441013735 2.1073424255447016e-09 0.4727187037933328\n"
     ]
    },
    {
     "name": "stderr",
     "output_type": "stream",
     "text": [
      " 43%|████▎     | 4195/9766 [3:42:26<4:31:21,  2.92s/it]"
     ]
    },
    {
     "name": "stdout",
     "output_type": "stream",
     "text": [
      "1.0 12.6 4.786652195779873e-06 2.1073424255447016e-09 0.4928265713895391\n"
     ]
    },
    {
     "name": "stderr",
     "output_type": "stream",
     "text": [
      " 43%|████▎     | 4198/9766 [3:42:34<4:43:31,  3.06s/it]"
     ]
    },
    {
     "name": "stdout",
     "output_type": "stream",
     "text": [
      "0.9 33.6 0.014052933312744393 6.31223317608206e-09 0.40980762827326245\n"
     ]
    },
    {
     "name": "stderr",
     "output_type": "stream",
     "text": [
      " 43%|████▎     | 4201/9766 [3:42:43<4:52:51,  3.16s/it]"
     ]
    },
    {
     "name": "stdout",
     "output_type": "stream",
     "text": [
      "0.9 37.8 0.014054754623688118 8.472141206686152e-09 0.7314645524002776\n"
     ]
    },
    {
     "name": "stderr",
     "output_type": "stream",
     "text": [
      " 43%|████▎     | 4204/9766 [3:42:51<4:27:23,  2.88s/it]"
     ]
    },
    {
     "name": "stdout",
     "output_type": "stream",
     "text": [
      "1.0 13.2 5.7971625028959464e-06 2.9802322387695314e-09 0.46078685363069677\n"
     ]
    },
    {
     "name": "stderr",
     "output_type": "stream",
     "text": [
      " 43%|████▎     | 4207/9766 [3:43:04<6:45:15,  4.37s/it]"
     ]
    },
    {
     "name": "stdout",
     "output_type": "stream",
     "text": [
      "0.3 144.8 0.0659430269340248 7.03387748956816e-06 0.44124213452708433\n"
     ]
    },
    {
     "name": "stderr",
     "output_type": "stream",
     "text": [
      " 43%|████▎     | 4210/9766 [3:43:16<7:00:25,  4.54s/it]"
     ]
    },
    {
     "name": "stdout",
     "output_type": "stream",
     "text": [
      "0.4 125.2 0.018856438014665557 0.0 0.43324550706963205\n"
     ]
    },
    {
     "name": "stderr",
     "output_type": "stream",
     "text": [
      " 43%|████▎     | 4213/9766 [3:43:23<5:00:56,  3.25s/it]"
     ]
    },
    {
     "name": "stdout",
     "output_type": "stream",
     "text": [
      "1.0 13.4 8.374260614223535e-06 4.6882992534964865e-09 0.37068399050592593\n"
     ]
    },
    {
     "name": "stderr",
     "output_type": "stream",
     "text": [
      " 43%|████▎     | 4216/9766 [3:43:31<4:32:58,  2.95s/it]"
     ]
    },
    {
     "name": "stdout",
     "output_type": "stream",
     "text": [
      "1.0 17.0 7.434785802131089e-06 9.647277646974892e-09 0.51791273907056\n"
     ]
    },
    {
     "name": "stderr",
     "output_type": "stream",
     "text": [
      " 43%|████▎     | 4219/9766 [3:43:39<4:11:35,  2.72s/it]"
     ]
    },
    {
     "name": "stdout",
     "output_type": "stream",
     "text": [
      "1.0 12.6 6.183698959765954e-06 1.4901161193847657e-09 0.5984018421421979\n"
     ]
    },
    {
     "name": "stderr",
     "output_type": "stream",
     "text": [
      " 43%|████▎     | 4222/9766 [3:43:50<5:51:30,  3.80s/it]"
     ]
    },
    {
     "name": "stdout",
     "output_type": "stream",
     "text": [
      "0.4 126.8 0.048333260637562665 5.087574664314233e-09 0.7170369295142328\n"
     ]
    },
    {
     "name": "stderr",
     "output_type": "stream",
     "text": [
      " 43%|████▎     | 4225/9766 [3:44:02<6:34:39,  4.27s/it]"
     ]
    },
    {
     "name": "stdout",
     "output_type": "stream",
     "text": [
      "0.4 123.6 0.018852119059718002 3.597458544929467e-09 0.48748261448342795\n"
     ]
    },
    {
     "name": "stderr",
     "output_type": "stream",
     "text": [
      " 43%|████▎     | 4228/9766 [3:44:10<5:11:45,  3.38s/it]"
     ]
    },
    {
     "name": "stdout",
     "output_type": "stream",
     "text": [
      "0.9 34.4 0.01257089664121831 6.2833825558357e-06 0.6019423411114986\n"
     ]
    },
    {
     "name": "stderr",
     "output_type": "stream",
     "text": [
      " 43%|████▎     | 4231/9766 [3:44:17<4:24:06,  2.86s/it]"
     ]
    },
    {
     "name": "stdout",
     "output_type": "stream",
     "text": [
      "1.0 12.4 6.903560794915083e-06 6.577690783698998e-09 0.5392346445854368\n"
     ]
    },
    {
     "name": "stderr",
     "output_type": "stream",
     "text": [
      " 43%|████▎     | 4234/9766 [3:44:25<4:06:04,  2.67s/it]"
     ]
    },
    {
     "name": "stdout",
     "output_type": "stream",
     "text": [
      "1.0 13.4 7.1754669262584304e-06 3.597458544929467e-09 0.4080600605891801\n"
     ]
    },
    {
     "name": "stderr",
     "output_type": "stream",
     "text": [
      " 43%|████▎     | 4237/9766 [3:44:36<5:36:45,  3.65s/it]"
     ]
    },
    {
     "name": "stdout",
     "output_type": "stream",
     "text": [
      "0.6 89.0 0.027217953515212605 7.027861244042863e-06 0.5051387012807657\n"
     ]
    },
    {
     "name": "stderr",
     "output_type": "stream",
     "text": [
      " 43%|████▎     | 4240/9766 [3:44:45<5:11:55,  3.39s/it]"
     ]
    },
    {
     "name": "stdout",
     "output_type": "stream",
     "text": [
      "0.8 52.6 0.013970808237096228 1.405002651032076e-05 0.5967201613624876\n"
     ]
    },
    {
     "name": "stderr",
     "output_type": "stream",
     "text": [
      " 43%|████▎     | 4243/9766 [3:44:53<4:50:05,  3.15s/it]"
     ]
    },
    {
     "name": "stdout",
     "output_type": "stream",
     "text": [
      "0.9 34.4 0.0177988022638667 7.0300019495244275e-06 0.5523807804004699\n"
     ]
    },
    {
     "name": "stderr",
     "output_type": "stream",
     "text": [
      " 43%|████▎     | 4246/9766 [3:45:01<4:27:55,  2.91s/it]"
     ]
    },
    {
     "name": "stdout",
     "output_type": "stream",
     "text": [
      "1.0 14.0 5.300210739831107e-06 5.561189066721316e-09 0.5654811759930087\n"
     ]
    },
    {
     "name": "stderr",
     "output_type": "stream",
     "text": [
      " 43%|████▎     | 4248/9766 [3:45:07<4:28:43,  2.92s/it]"
     ]
    },
    {
     "name": "stdout",
     "output_type": "stream",
     "text": [
      "1.0 15.0 1.016657653677138e-05 8.539614606989167e-09 0.4392972473326079\n"
     ]
    },
    {
     "name": "stderr",
     "output_type": "stream",
     "text": [
      " 44%|████▎     | 4250/9766 [3:45:12<4:25:04,  2.88s/it]"
     ]
    },
    {
     "name": "stdout",
     "output_type": "stream",
     "text": [
      "1.0 14.8 5.417471760280114e-06 5.087574664314233e-09 0.5264839215886479\n"
     ]
    },
    {
     "name": "stderr",
     "output_type": "stream",
     "text": [
      " 44%|████▎     | 4252/9766 [3:45:18<4:23:25,  2.87s/it]"
     ]
    },
    {
     "name": "stdout",
     "output_type": "stream",
     "text": [
      "1.0 12.8 3.278595948208047e-06 4.214684851089403e-09 0.4122796787799602\n"
     ]
    },
    {
     "name": "stderr",
     "output_type": "stream",
     "text": [
      " 44%|████▎     | 4254/9766 [3:45:23<4:23:03,  2.86s/it]"
     ]
    },
    {
     "name": "stdout",
     "output_type": "stream",
     "text": [
      "1.0 17.2 1.1799686525636551e-05 1.3131736517014002e-08 0.5678310963037698\n"
     ]
    },
    {
     "name": "stderr",
     "output_type": "stream",
     "text": [
      " 44%|████▎     | 4256/9766 [3:45:29<4:36:22,  3.01s/it]"
     ]
    },
    {
     "name": "stdout",
     "output_type": "stream",
     "text": [
      "1.0 14.4 4.5320964706605005e-06 3.597458544929467e-09 0.5390143638077223\n"
     ]
    },
    {
     "name": "stderr",
     "output_type": "stream",
     "text": [
      " 44%|████▎     | 4259/9766 [3:45:41<5:55:23,  3.87s/it]"
     ]
    },
    {
     "name": "stdout",
     "output_type": "stream",
     "text": [
      "0.6 88.6 0.012601771538169493 7.0270110518657975e-06 0.6110291810185042\n"
     ]
    },
    {
     "name": "stderr",
     "output_type": "stream",
     "text": [
      " 44%|████▎     | 4262/9766 [3:45:49<5:04:47,  3.32s/it]"
     ]
    },
    {
     "name": "stdout",
     "output_type": "stream",
     "text": [
      "0.9 32.8 0.014054410263513525 2.9802322387695314e-09 0.3254808126260656\n"
     ]
    },
    {
     "name": "stderr",
     "output_type": "stream",
     "text": [
      " 44%|████▎     | 4265/9766 [3:45:58<4:44:27,  3.10s/it]"
     ]
    },
    {
     "name": "stdout",
     "output_type": "stream",
     "text": [
      "0.9 34.0 0.0031790865727295155 7.0239319511235035e-06 0.5494265007418404\n"
     ]
    },
    {
     "name": "stderr",
     "output_type": "stream",
     "text": [
      " 44%|████▎     | 4268/9766 [3:46:06<4:39:22,  3.05s/it]"
     ]
    },
    {
     "name": "stdout",
     "output_type": "stream",
     "text": [
      "0.9 31.0 0.0031808047894923627 7.028576768950368e-06 0.3944273291466046\n"
     ]
    },
    {
     "name": "stderr",
     "output_type": "stream",
     "text": [
      " 44%|████▎     | 4271/9766 [3:46:14<4:22:50,  2.87s/it]"
     ]
    },
    {
     "name": "stdout",
     "output_type": "stream",
     "text": [
      "1.0 14.8 7.180249160504346e-06 4.214684851089403e-09 0.4908582222431385\n"
     ]
    },
    {
     "name": "stderr",
     "output_type": "stream",
     "text": [
      " 44%|████▍     | 4274/9766 [3:46:22<4:21:08,  2.85s/it]"
     ]
    },
    {
     "name": "stdout",
     "output_type": "stream",
     "text": [
      "1.0 15.0 3.695119160993278e-06 2.9802322387695314e-09 0.5417683968141618\n"
     ]
    },
    {
     "name": "stderr",
     "output_type": "stream",
     "text": [
      " 44%|████▍     | 4277/9766 [3:46:31<4:26:45,  2.92s/it]"
     ]
    },
    {
     "name": "stdout",
     "output_type": "stream",
     "text": [
      "1.0 15.4 8.545281941275743e-06 2.9802322387695314e-09 0.3647305841217504\n"
     ]
    },
    {
     "name": "stderr",
     "output_type": "stream",
     "text": [
      " 44%|████▍     | 4280/9766 [3:46:39<4:20:32,  2.85s/it]"
     ]
    },
    {
     "name": "stdout",
     "output_type": "stream",
     "text": [
      "1.0 11.8 3.890456775355516e-06 5.087574664314233e-09 0.35589287827640226\n"
     ]
    },
    {
     "name": "stderr",
     "output_type": "stream",
     "text": [
      " 44%|████▍     | 4283/9766 [3:46:47<4:24:59,  2.90s/it]"
     ]
    },
    {
     "name": "stdout",
     "output_type": "stream",
     "text": [
      "1.0 10.8 4.374333166465072e-06 0.0 0.2729382637676121\n"
     ]
    },
    {
     "name": "stderr",
     "output_type": "stream",
     "text": [
      " 44%|████▍     | 4286/9766 [3:46:57<5:17:30,  3.48s/it]"
     ]
    },
    {
     "name": "stdout",
     "output_type": "stream",
     "text": [
      "0.7 66.8 0.00942699260575425 3.597458544929467e-09 0.2901239873656983\n"
     ]
    },
    {
     "name": "stderr",
     "output_type": "stream",
     "text": [
      " 44%|████▍     | 4289/9766 [3:47:09<6:03:28,  3.98s/it]"
     ]
    },
    {
     "name": "stdout",
     "output_type": "stream",
     "text": [
      "0.6 86.8 0.018311931793494145 0.0 0.5671535477752139\n"
     ]
    },
    {
     "name": "stderr",
     "output_type": "stream",
     "text": [
      " 44%|████▍     | 4291/9766 [3:47:17<6:27:20,  4.24s/it]"
     ]
    },
    {
     "name": "stdout",
     "output_type": "stream",
     "text": [
      "0.6 84.8 0.0245954269221432 1.4901161193847657e-09 0.3285361117460052\n"
     ]
    },
    {
     "name": "stderr",
     "output_type": "stream",
     "text": [
      " 44%|████▍     | 4294/9766 [3:47:28<6:14:42,  4.11s/it]"
     ]
    },
    {
     "name": "stdout",
     "output_type": "stream",
     "text": [
      "0.6 85.6 0.016449739894216817 0.0 0.21541268986062603\n"
     ]
    },
    {
     "name": "stderr",
     "output_type": "stream",
     "text": [
      " 44%|████▍     | 4297/9766 [3:47:39<6:30:30,  4.28s/it]"
     ]
    },
    {
     "name": "stdout",
     "output_type": "stream",
     "text": [
      "0.5 106.0 0.026617819359125373 0.0 0.4267348757414549\n"
     ]
    },
    {
     "name": "stderr",
     "output_type": "stream",
     "text": [
      " 44%|████▍     | 4300/9766 [3:47:52<7:13:46,  4.76s/it]"
     ]
    },
    {
     "name": "stdout",
     "output_type": "stream",
     "text": [
      "0.3 142.6 0.03550579140592641 4.822117056697294e-09 0.27927699539925016\n"
     ]
    },
    {
     "name": "stderr",
     "output_type": "stream",
     "text": [
      " 44%|████▍     | 4303/9766 [3:48:04<7:10:30,  4.73s/it]"
     ]
    },
    {
     "name": "stdout",
     "output_type": "stream",
     "text": [
      "0.4 125.4 0.038526745261822634 0.0 0.36056675509296615\n"
     ]
    },
    {
     "name": "stderr",
     "output_type": "stream",
     "text": [
      " 44%|████▍     | 4306/9766 [3:48:15<6:41:00,  4.41s/it]"
     ]
    },
    {
     "name": "stdout",
     "output_type": "stream",
     "text": [
      "0.5 105.0 0.05104275335263335 2.1081741912651093e-05 0.4974973469463534\n"
     ]
    },
    {
     "name": "stderr",
     "output_type": "stream",
     "text": [
      " 44%|████▍     | 4309/9766 [3:48:25<5:54:27,  3.90s/it]"
     ]
    },
    {
     "name": "stdout",
     "output_type": "stream",
     "text": [
      "0.7 68.6 0.04123927590020232 2.1078174770430808e-05 0.31564306481099175\n"
     ]
    },
    {
     "name": "stderr",
     "output_type": "stream",
     "text": [
      " 44%|████▍     | 4312/9766 [3:48:34<5:13:39,  3.45s/it]"
     ]
    },
    {
     "name": "stdout",
     "output_type": "stream",
     "text": [
      "0.8 50.2 0.047253865273511844 7.028512307385216e-06 0.4686619613980304\n"
     ]
    },
    {
     "name": "stderr",
     "output_type": "stream",
     "text": [
      " 44%|████▍     | 4314/9766 [3:48:39<4:41:42,  3.10s/it]"
     ]
    },
    {
     "name": "stdout",
     "output_type": "stream",
     "text": [
      "1.0 11.0 3.0103028894427543e-06 2.9802322387695314e-09 0.4924761676860371\n"
     ]
    },
    {
     "name": "stderr",
     "output_type": "stream",
     "text": [
      " 44%|████▍     | 4317/9766 [3:48:49<5:20:23,  3.53s/it]"
     ]
    },
    {
     "name": "stdout",
     "output_type": "stream",
     "text": [
      "0.7 68.0 0.052688881556103684 2.1073424255447016e-09 0.5437600398326412\n"
     ]
    },
    {
     "name": "stderr",
     "output_type": "stream",
     "text": [
      " 44%|████▍     | 4319/9766 [3:48:57<6:00:07,  3.97s/it]"
     ]
    },
    {
     "name": "stdout",
     "output_type": "stream",
     "text": [
      "0.7 67.6 0.040987589933282706 7.028808238410826e-06 0.4485801497787657\n"
     ]
    },
    {
     "name": "stderr",
     "output_type": "stream",
     "text": [
      " 44%|████▍     | 4322/9766 [3:49:06<5:17:52,  3.50s/it]"
     ]
    },
    {
     "name": "stdout",
     "output_type": "stream",
     "text": [
      "0.9 32.0 0.019872701595382024 2.9802322387695314e-09 0.44894597375040196\n"
     ]
    },
    {
     "name": "stderr",
     "output_type": "stream",
     "text": [
      " 44%|████▍     | 4325/9766 [3:49:17<5:44:20,  3.80s/it]"
     ]
    },
    {
     "name": "stdout",
     "output_type": "stream",
     "text": [
      "0.7 66.4 0.043932500485593495 2.1072625358085537e-05 0.38774194628201564\n"
     ]
    },
    {
     "name": "stderr",
     "output_type": "stream",
     "text": [
      " 44%|████▍     | 4328/9766 [3:49:28<6:01:32,  3.99s/it]"
     ]
    },
    {
     "name": "stdout",
     "output_type": "stream",
     "text": [
      "0.6 86.8 0.0829041713882789 2.809348068497071e-05 0.3579738587494742\n"
     ]
    },
    {
     "name": "stderr",
     "output_type": "stream",
     "text": [
      " 44%|████▍     | 4331/9766 [3:49:39<6:22:26,  4.22s/it]"
     ]
    },
    {
     "name": "stdout",
     "output_type": "stream",
     "text": [
      "0.6 87.4 0.061384353898685254 2.1078462820335456e-05 0.5655500356718915\n"
     ]
    },
    {
     "name": "stderr",
     "output_type": "stream",
     "text": [
      " 44%|████▍     | 4334/9766 [3:49:49<5:40:05,  3.76s/it]"
     ]
    },
    {
     "name": "stdout",
     "output_type": "stream",
     "text": [
      "0.8 50.0 0.037352205872973346 1.4050821262132742e-05 0.5319198671720647\n"
     ]
    },
    {
     "name": "stderr",
     "output_type": "stream",
     "text": [
      " 44%|████▍     | 4336/9766 [3:49:57<6:14:32,  4.14s/it]"
     ]
    },
    {
     "name": "stdout",
     "output_type": "stream",
     "text": [
      "0.6 87.4 0.012573263437184406 2.9802322387695314e-09 0.42406440208001606\n"
     ]
    },
    {
     "name": "stderr",
     "output_type": "stream",
     "text": [
      " 44%|████▍     | 4339/9766 [3:50:05<4:54:05,  3.25s/it]"
     ]
    },
    {
     "name": "stdout",
     "output_type": "stream",
     "text": [
      "1.0 15.2 7.278839036320079e-06 2.9802322387695314e-09 0.4656556880311059\n"
     ]
    },
    {
     "name": "stderr",
     "output_type": "stream",
     "text": [
      " 44%|████▍     | 4341/9766 [3:50:14<5:54:06,  3.92s/it]"
     ]
    },
    {
     "name": "stdout",
     "output_type": "stream",
     "text": [
      "0.6 87.2 0.05769274466584987 2.810307814568903e-05 0.4619529237093388\n"
     ]
    },
    {
     "name": "stderr",
     "output_type": "stream",
     "text": [
      " 44%|████▍     | 4343/9766 [3:50:21<5:46:17,  3.83s/it]"
     ]
    },
    {
     "name": "stdout",
     "output_type": "stream",
     "text": [
      "0.8 48.2 0.034885923198721816 7.022079683942157e-06 0.2929927303230912\n"
     ]
    },
    {
     "name": "stderr",
     "output_type": "stream",
     "text": [
      " 45%|████▍     | 4346/9766 [3:50:31<5:45:28,  3.82s/it]"
     ]
    },
    {
     "name": "stdout",
     "output_type": "stream",
     "text": [
      "0.7 70.4 0.05635077318712665 2.107416804158865e-05 0.5618992799863017\n"
     ]
    },
    {
     "name": "stderr",
     "output_type": "stream",
     "text": [
      " 45%|████▍     | 4348/9766 [3:50:39<6:06:17,  4.06s/it]"
     ]
    },
    {
     "name": "stdout",
     "output_type": "stream",
     "text": [
      "0.7 68.6 0.03469384106750008 1.4044732484706708e-05 0.4269494573037524\n"
     ]
    },
    {
     "name": "stderr",
     "output_type": "stream",
     "text": [
      " 45%|████▍     | 4351/9766 [3:50:50<6:17:40,  4.18s/it]"
     ]
    },
    {
     "name": "stdout",
     "output_type": "stream",
     "text": [
      "0.6 88.0 0.04307078649753479 7.026470466503814e-06 0.3618325016138193\n"
     ]
    },
    {
     "name": "stderr",
     "output_type": "stream",
     "text": [
      " 45%|████▍     | 4354/9766 [3:51:00<5:33:11,  3.69s/it]"
     ]
    },
    {
     "name": "stdout",
     "output_type": "stream",
     "text": [
      "0.9 34.8 0.015780365505004564 7.033348293311919e-06 0.5326808653946469\n"
     ]
    },
    {
     "name": "stderr",
     "output_type": "stream",
     "text": [
      " 45%|████▍     | 4356/9766 [3:51:05<4:59:44,  3.32s/it]"
     ]
    },
    {
     "name": "stdout",
     "output_type": "stream",
     "text": [
      "1.0 12.4 6.101399768532843e-06 2.9802322387695314e-09 0.4505874240334967\n"
     ]
    },
    {
     "name": "stderr",
     "output_type": "stream",
     "text": [
      " 45%|████▍     | 4359/9766 [3:51:14<4:49:26,  3.21s/it]"
     ]
    },
    {
     "name": "stdout",
     "output_type": "stream",
     "text": [
      "0.9 34.6 0.015778317467350846 7.024804172204302e-06 0.353064330293315\n"
     ]
    },
    {
     "name": "stderr",
     "output_type": "stream",
     "text": [
      " 45%|████▍     | 4361/9766 [3:51:21<5:10:35,  3.45s/it]"
     ]
    },
    {
     "name": "stdout",
     "output_type": "stream",
     "text": [
      "0.9 32.4 0.01691726159494209 7.0274853099820085e-06 0.415638021945135\n"
     ]
    },
    {
     "name": "stderr",
     "output_type": "stream",
     "text": [
      " 45%|████▍     | 4363/9766 [3:51:27<4:45:31,  3.17s/it]"
     ]
    },
    {
     "name": "stdout",
     "output_type": "stream",
     "text": [
      "1.0 17.8 6.567074355860641e-06 9.354825120463026e-09 0.5483325732342124\n"
     ]
    },
    {
     "name": "stderr",
     "output_type": "stream",
     "text": [
      " 45%|████▍     | 4366/9766 [3:51:37<5:19:41,  3.55s/it]"
     ]
    },
    {
     "name": "stdout",
     "output_type": "stream",
     "text": [
      "0.7 71.6 0.05056821848678439 3.398189572180125e-05 0.35433037309113247\n"
     ]
    },
    {
     "name": "stderr",
     "output_type": "stream",
     "text": [
      " 45%|████▍     | 4368/9766 [3:51:42<4:45:16,  3.17s/it]"
     ]
    },
    {
     "name": "stdout",
     "output_type": "stream",
     "text": [
      "1.0 11.2 5.579706882037934e-06 2.1073424255447016e-09 0.30859739807809494\n"
     ]
    },
    {
     "name": "stderr",
     "output_type": "stream",
     "text": [
      " 45%|████▍     | 4370/9766 [3:51:49<4:52:01,  3.25s/it]"
     ]
    },
    {
     "name": "stdout",
     "output_type": "stream",
     "text": [
      "1.0 19.8 1.0180998565082072e-05 1.1010326530130592e-08 0.7222606214708833\n"
     ]
    },
    {
     "name": "stderr",
     "output_type": "stream",
     "text": [
      " 45%|████▍     | 4372/9766 [3:51:55<4:48:04,  3.20s/it]"
     ]
    },
    {
     "name": "stdout",
     "output_type": "stream",
     "text": [
      "1.0 13.2 6.785725754236729e-06 1.4901161193847657e-09 0.358483975201914\n"
     ]
    },
    {
     "name": "stderr",
     "output_type": "stream",
     "text": [
      " 45%|████▍     | 4374/9766 [3:52:04<6:19:17,  4.22s/it]"
     ]
    },
    {
     "name": "stdout",
     "output_type": "stream",
     "text": [
      "0.5 105.6 0.015714583655513766 6.795641679041188e-09 0.5391251748237732\n"
     ]
    },
    {
     "name": "stderr",
     "output_type": "stream",
     "text": [
      " 45%|████▍     | 4376/9766 [3:52:14<7:17:39,  4.87s/it]"
     ]
    },
    {
     "name": "stdout",
     "output_type": "stream",
     "text": [
      "0.5 108.0 0.01571019881086576 2.580956827951785e-09 0.4667529042408689\n"
     ]
    },
    {
     "name": "stderr",
     "output_type": "stream",
     "text": [
      " 45%|████▍     | 4379/9766 [3:52:26<6:56:04,  4.63s/it]"
     ]
    },
    {
     "name": "stdout",
     "output_type": "stream",
     "text": [
      "0.5 107.6 0.015712272335317447 5.7048009704741684e-09 0.4616487434260206\n"
     ]
    },
    {
     "name": "stderr",
     "output_type": "stream",
     "text": [
      " 45%|████▍     | 4381/9766 [3:52:36<7:39:50,  5.12s/it]"
     ]
    },
    {
     "name": "stdout",
     "output_type": "stream",
     "text": [
      "0.4 125.6 0.029759678941720095 1.4901161193847657e-09 0.5779912959929405\n"
     ]
    },
    {
     "name": "stderr",
     "output_type": "stream",
     "text": [
      " 45%|████▍     | 4384/9766 [3:52:48<7:07:46,  4.77s/it]"
     ]
    },
    {
     "name": "stdout",
     "output_type": "stream",
     "text": [
      "0.4 129.4 0.02976372146534092 5.7048009704741684e-09 0.5500763944373057\n"
     ]
    },
    {
     "name": "stderr",
     "output_type": "stream",
     "text": [
      " 45%|████▍     | 4387/9766 [3:52:57<5:38:26,  3.78s/it]"
     ]
    },
    {
     "name": "stdout",
     "output_type": "stream",
     "text": [
      "0.8 53.8 0.028105158502947813 4.071072947336551e-09 0.47697881737105075\n"
     ]
    },
    {
     "name": "stderr",
     "output_type": "stream",
     "text": [
      " 45%|████▍     | 4389/9766 [3:53:08<7:23:22,  4.95s/it]"
     ]
    },
    {
     "name": "stdout",
     "output_type": "stream",
     "text": [
      "0.3 143.4 0.03290307003222331 2.1073424255447016e-09 0.48299947094078266\n"
     ]
    },
    {
     "name": "stderr",
     "output_type": "stream",
     "text": [
      " 45%|████▍     | 4392/9766 [3:53:18<6:14:55,  4.19s/it]"
     ]
    },
    {
     "name": "stdout",
     "output_type": "stream",
     "text": [
      "0.7 69.2 0.04215171676032035 2.9802322387695314e-09 0.40090258220730474\n"
     ]
    },
    {
     "name": "stderr",
     "output_type": "stream",
     "text": [
      " 45%|████▌     | 4395/9766 [3:53:26<4:44:35,  3.18s/it]"
     ]
    },
    {
     "name": "stdout",
     "output_type": "stream",
     "text": [
      "1.0 13.6 9.378284561429325e-06 5.7048009704741684e-09 0.4758077646356398\n"
     ]
    },
    {
     "name": "stderr",
     "output_type": "stream",
     "text": [
      " 45%|████▌     | 4397/9766 [3:53:33<5:07:26,  3.44s/it]"
     ]
    },
    {
     "name": "stdout",
     "output_type": "stream",
     "text": [
      "0.8 49.0 0.05115778942936624 1.4052796154371039e-05 0.49813433016990116\n"
     ]
    },
    {
     "name": "stderr",
     "output_type": "stream",
     "text": [
      " 45%|████▌     | 4399/9766 [3:53:39<5:01:18,  3.37s/it]"
     ]
    },
    {
     "name": "stdout",
     "output_type": "stream",
     "text": [
      "0.9 31.4 0.025203849820514258 7.030112734761153e-06 0.5596166167874446\n"
     ]
    },
    {
     "name": "stderr",
     "output_type": "stream",
     "text": [
      " 45%|████▌     | 4401/9766 [3:53:45<4:59:47,  3.35s/it]"
     ]
    },
    {
     "name": "stdout",
     "output_type": "stream",
     "text": [
      "0.9 32.8 0.01910946574313923 6.29569571868807e-06 0.4937599113324094\n"
     ]
    },
    {
     "name": "stderr",
     "output_type": "stream",
     "text": [
      " 45%|████▌     | 4403/9766 [3:53:52<4:57:50,  3.33s/it]"
     ]
    },
    {
     "name": "stdout",
     "output_type": "stream",
     "text": [
      "0.9 33.8 0.025967207699338534 7.029860839455107e-06 0.5736575265190934\n"
     ]
    },
    {
     "name": "stderr",
     "output_type": "stream",
     "text": [
      " 45%|████▌     | 4405/9766 [3:53:57<4:37:25,  3.10s/it]"
     ]
    },
    {
     "name": "stdout",
     "output_type": "stream",
     "text": [
      "1.0 13.6 5.575459301008097e-06 4.470348358154297e-09 0.3333080032785644\n"
     ]
    },
    {
     "name": "stderr",
     "output_type": "stream",
     "text": [
      " 45%|████▌     | 4407/9766 [3:54:07<6:08:47,  4.13s/it]"
     ]
    },
    {
     "name": "stdout",
     "output_type": "stream",
     "text": [
      "0.5 105.6 0.038528224113215194 7.031109237996724e-06 0.5581288758907951\n"
     ]
    },
    {
     "name": "stderr",
     "output_type": "stream",
     "text": [
      " 45%|████▌     | 4409/9766 [3:54:12<5:11:31,  3.49s/it]"
     ]
    },
    {
     "name": "stdout",
     "output_type": "stream",
     "text": [
      "1.0 15.6 7.812828045449939e-06 6.577690783698998e-09 0.5186842873880637\n"
     ]
    },
    {
     "name": "stderr",
     "output_type": "stream",
     "text": [
      " 45%|████▌     | 4412/9766 [3:54:20<4:24:37,  2.97s/it]"
     ]
    },
    {
     "name": "stdout",
     "output_type": "stream",
     "text": [
      "1.0 14.2 9.580100106621023e-06 8.120372508143155e-09 0.42852538741797447\n"
     ]
    },
    {
     "name": "stderr",
     "output_type": "stream",
     "text": [
      " 45%|████▌     | 4414/9766 [3:54:27<4:40:49,  3.15s/it]"
     ]
    },
    {
     "name": "stdout",
     "output_type": "stream",
     "text": [
      "0.9 31.8 0.025392315810893146 7.027451601600752e-06 0.3751385003294072\n"
     ]
    },
    {
     "name": "stderr",
     "output_type": "stream",
     "text": [
      " 45%|████▌     | 4416/9766 [3:54:32<4:26:17,  2.99s/it]"
     ]
    },
    {
     "name": "stdout",
     "output_type": "stream",
     "text": [
      "1.0 11.2 6.973951478805804e-06 5.087574664314233e-09 0.41430659351812194\n"
     ]
    },
    {
     "name": "stderr",
     "output_type": "stream",
     "text": [
      " 45%|████▌     | 4418/9766 [3:54:38<4:20:15,  2.92s/it]"
     ]
    },
    {
     "name": "stdout",
     "output_type": "stream",
     "text": [
      "1.0 14.0 1.0270028274392769e-05 6.0498191020454256e-09 0.5512692431334644\n"
     ]
    },
    {
     "name": "stderr",
     "output_type": "stream",
     "text": [
      " 45%|████▌     | 4420/9766 [3:54:47<5:48:46,  3.91s/it]"
     ]
    },
    {
     "name": "stdout",
     "output_type": "stream",
     "text": [
      "0.5 104.6 0.01571045022603658 4.214684851089403e-09 0.43388814857165875\n"
     ]
    },
    {
     "name": "stderr",
     "output_type": "stream",
     "text": [
      " 45%|████▌     | 4422/9766 [3:54:56<6:35:16,  4.44s/it]"
     ]
    },
    {
     "name": "stdout",
     "output_type": "stream",
     "text": [
      "0.5 105.6 0.015708667739457238 1.4901161193847657e-09 0.3743872833399648\n"
     ]
    },
    {
     "name": "stderr",
     "output_type": "stream",
     "text": [
      " 45%|████▌     | 4424/9766 [3:55:01<5:24:33,  3.65s/it]"
     ]
    },
    {
     "name": "stdout",
     "output_type": "stream",
     "text": [
      "1.0 13.8 1.0145850320577399e-05 5.960464477539064e-09 0.45124415779997645\n"
     ]
    },
    {
     "name": "stderr",
     "output_type": "stream",
     "text": [
      " 45%|████▌     | 4427/9766 [3:55:09<4:34:08,  3.08s/it]"
     ]
    },
    {
     "name": "stdout",
     "output_type": "stream",
     "text": [
      "1.0 11.4 5.3856029815831875e-06 2.1073424255447016e-09 0.33383577801138076\n"
     ]
    },
    {
     "name": "stderr",
     "output_type": "stream",
     "text": [
      " 45%|████▌     | 4429/9766 [3:55:16<4:41:34,  3.17s/it]"
     ]
    },
    {
     "name": "stdout",
     "output_type": "stream",
     "text": [
      "0.9 32.6 0.025963685550511234 7.026757863360526e-06 0.5692448265876808\n"
     ]
    },
    {
     "name": "stderr",
     "output_type": "stream",
     "text": [
      " 45%|████▌     | 4431/9766 [3:55:21<4:26:23,  3.00s/it]"
     ]
    },
    {
     "name": "stdout",
     "output_type": "stream",
     "text": [
      "1.0 14.8 3.928151569503426e-06 2.580956827951785e-09 0.3542023437311322\n"
     ]
    },
    {
     "name": "stderr",
     "output_type": "stream",
     "text": [
      " 45%|████▌     | 4433/9766 [3:55:27<4:40:28,  3.16s/it]"
     ]
    },
    {
     "name": "stdout",
     "output_type": "stream",
     "text": [
      "0.9 32.8 0.025978902629461238 7.026084003460883e-06 0.49094017274488405\n"
     ]
    },
    {
     "name": "stderr",
     "output_type": "stream",
     "text": [
      " 45%|████▌     | 4436/9766 [3:55:36<4:32:26,  3.07s/it]"
     ]
    },
    {
     "name": "stdout",
     "output_type": "stream",
     "text": [
      "0.9 32.8 0.02596668035511962 7.030651916714455e-06 0.3832535649981087\n"
     ]
    },
    {
     "name": "stderr",
     "output_type": "stream",
     "text": [
      " 45%|████▌     | 4438/9766 [3:55:42<4:38:08,  3.13s/it]"
     ]
    },
    {
     "name": "stdout",
     "output_type": "stream",
     "text": [
      "0.9 30.0 0.025390722955604905 7.023967896133344e-06 0.4304020302074762\n"
     ]
    },
    {
     "name": "stderr",
     "output_type": "stream",
     "text": [
      " 45%|████▌     | 4441/9766 [3:55:49<4:07:34,  2.79s/it]"
     ]
    },
    {
     "name": "stdout",
     "output_type": "stream",
     "text": [
      "1.0 11.4 3.5905994121126376e-06 3.597458544929467e-09 0.38368777507998664\n"
     ]
    },
    {
     "name": "stderr",
     "output_type": "stream",
     "text": [
      " 45%|████▌     | 4443/9766 [3:55:56<4:25:48,  3.00s/it]"
     ]
    },
    {
     "name": "stdout",
     "output_type": "stream",
     "text": [
      "0.9 32.8 0.019105806155807856 6.287651167261808e-06 0.5860034586647901\n"
     ]
    },
    {
     "name": "stderr",
     "output_type": "stream",
     "text": [
      " 46%|████▌     | 4446/9766 [3:56:03<4:07:48,  2.79s/it]"
     ]
    },
    {
     "name": "stdout",
     "output_type": "stream",
     "text": [
      "1.0 13.0 7.682427377668722e-06 4.470348358154297e-09 0.5033065670449025\n"
     ]
    },
    {
     "name": "stderr",
     "output_type": "stream",
     "text": [
      " 46%|████▌     | 4449/9766 [3:56:11<3:58:03,  2.69s/it]"
     ]
    },
    {
     "name": "stdout",
     "output_type": "stream",
     "text": [
      "1.0 13.2 6.873176554234076e-06 1.4901161193847657e-09 0.4324477390284482\n"
     ]
    },
    {
     "name": "stderr",
     "output_type": "stream",
     "text": [
      " 46%|████▌     | 4452/9766 [3:56:23<5:49:02,  3.94s/it]"
     ]
    },
    {
     "name": "stdout",
     "output_type": "stream",
     "text": [
      "0.4 127.4 0.03557778800354374 0.0 0.3497065318660502\n"
     ]
    },
    {
     "name": "stderr",
     "output_type": "stream",
     "text": [
      " 46%|████▌     | 4455/9766 [3:56:35<6:44:46,  4.57s/it]"
     ]
    },
    {
     "name": "stdout",
     "output_type": "stream",
     "text": [
      "0.3 145.2 0.060216432102384976 7.0266137603863475e-06 0.44902666798004487\n"
     ]
    },
    {
     "name": "stderr",
     "output_type": "stream",
     "text": [
      " 46%|████▌     | 4458/9766 [3:56:45<6:04:27,  4.12s/it]"
     ]
    },
    {
     "name": "stdout",
     "output_type": "stream",
     "text": [
      "0.6 89.0 0.0895850388651463 2.0340565071888534e-05 0.577474131556317\n"
     ]
    },
    {
     "name": "stderr",
     "output_type": "stream",
     "text": [
      " 46%|████▌     | 4461/9766 [3:56:54<4:54:26,  3.33s/it]"
     ]
    },
    {
     "name": "stdout",
     "output_type": "stream",
     "text": [
      "0.9 31.0 0.025979913928120924 7.0259958121224155e-06 0.43024461369623923\n"
     ]
    },
    {
     "name": "stderr",
     "output_type": "stream",
     "text": [
      " 46%|████▌     | 4464/9766 [3:57:02<4:43:29,  3.21s/it]"
     ]
    },
    {
     "name": "stdout",
     "output_type": "stream",
     "text": [
      "0.9 32.6 0.016973875728124276 7.031664418752096e-06 0.48191604611665173\n"
     ]
    },
    {
     "name": "stderr",
     "output_type": "stream",
     "text": [
      " 46%|████▌     | 4467/9766 [3:57:11<4:36:29,  3.13s/it]"
     ]
    },
    {
     "name": "stdout",
     "output_type": "stream",
     "text": [
      "0.9 33.6 0.025399077264891066 7.02824720489284e-06 0.5234821289629765\n"
     ]
    },
    {
     "name": "stderr",
     "output_type": "stream",
     "text": [
      " 46%|████▌     | 4470/9766 [3:57:23<6:11:24,  4.21s/it]"
     ]
    },
    {
     "name": "stdout",
     "output_type": "stream",
     "text": [
      "0.3 145.4 0.03456040703477078 1.4901161193847657e-09 0.4788942979457147\n"
     ]
    },
    {
     "name": "stderr",
     "output_type": "stream",
     "text": [
      " 46%|████▌     | 4473/9766 [3:57:32<5:17:19,  3.60s/it]"
     ]
    },
    {
     "name": "stdout",
     "output_type": "stream",
     "text": [
      "0.8 48.6 0.03677950489977243 1.4049717537159708e-05 0.35325373927678794\n"
     ]
    },
    {
     "name": "stderr",
     "output_type": "stream",
     "text": [
      " 46%|████▌     | 4476/9766 [3:57:44<6:31:09,  4.44s/it]"
     ]
    },
    {
     "name": "stdout",
     "output_type": "stream",
     "text": [
      "0.3 145.2 0.06610233655107432 1.4056483785491416e-05 0.5925473987032813\n"
     ]
    },
    {
     "name": "stderr",
     "output_type": "stream",
     "text": [
      " 46%|████▌     | 4479/9766 [3:57:52<4:58:35,  3.39s/it]"
     ]
    },
    {
     "name": "stdout",
     "output_type": "stream",
     "text": [
      "0.9 33.0 0.025403394174966183 7.02876617451162e-06 0.5008283121177305\n"
     ]
    },
    {
     "name": "stderr",
     "output_type": "stream",
     "text": [
      " 46%|████▌     | 4481/9766 [3:58:03<6:50:32,  4.66s/it]"
     ]
    },
    {
     "name": "stdout",
     "output_type": "stream",
     "text": [
      "0.3 145.0 0.021992544088325735 0.0 0.4094229548520888\n"
     ]
    },
    {
     "name": "stderr",
     "output_type": "stream",
     "text": [
      " 46%|████▌     | 4484/9766 [3:58:12<5:28:38,  3.73s/it]"
     ]
    },
    {
     "name": "stdout",
     "output_type": "stream",
     "text": [
      "0.8 51.2 0.03392571320169974 1.2564505316564246e-05 0.4669871432739144\n"
     ]
    },
    {
     "name": "stderr",
     "output_type": "stream",
     "text": [
      " 46%|████▌     | 4487/9766 [3:58:19<4:22:02,  2.98s/it]"
     ]
    },
    {
     "name": "stdout",
     "output_type": "stream",
     "text": [
      "1.0 13.4 6.941209239373036e-06 0.0 0.43337963496992754\n"
     ]
    },
    {
     "name": "stderr",
     "output_type": "stream",
     "text": [
      " 46%|████▌     | 4489/9766 [3:58:31<6:59:45,  4.77s/it]"
     ]
    },
    {
     "name": "stdout",
     "output_type": "stream",
     "text": [
      "0.2 163.0 0.03896856705741315 6.2859734827957745e-06 0.37914021334260034\n"
     ]
    },
    {
     "name": "stderr",
     "output_type": "stream",
     "text": [
      " 46%|████▌     | 4492/9766 [3:58:44<7:23:13,  5.04s/it]"
     ]
    },
    {
     "name": "stdout",
     "output_type": "stream",
     "text": [
      "0.2 163.6 0.0768040113926399 1.3311643546652397e-05 0.40583929741109515\n"
     ]
    },
    {
     "name": "stderr",
     "output_type": "stream",
     "text": [
      " 46%|████▌     | 4495/9766 [3:58:57<7:29:59,  5.12s/it]"
     ]
    },
    {
     "name": "stdout",
     "output_type": "stream",
     "text": [
      "0.2 163.4 0.02513472788707984 2.9802322387695314e-09 0.34476081413273507\n"
     ]
    },
    {
     "name": "stderr",
     "output_type": "stream",
     "text": [
      " 46%|████▌     | 4498/9766 [3:59:05<5:24:52,  3.70s/it]"
     ]
    },
    {
     "name": "stdout",
     "output_type": "stream",
     "text": [
      "0.9 33.6 0.02519868266337994 7.024903022430377e-06 0.6878552199157068\n"
     ]
    },
    {
     "name": "stderr",
     "output_type": "stream",
     "text": [
      " 46%|████▌     | 4501/9766 [3:59:14<4:41:36,  3.21s/it]"
     ]
    },
    {
     "name": "stdout",
     "output_type": "stream",
     "text": [
      "0.9 33.2 0.018858719242225222 3.942476676500724e-09 0.5303987021272694\n"
     ]
    },
    {
     "name": "stderr",
     "output_type": "stream",
     "text": [
      " 46%|████▌     | 4504/9766 [3:59:22<4:24:44,  3.02s/it]"
     ]
    },
    {
     "name": "stdout",
     "output_type": "stream",
     "text": [
      "0.9 32.2 0.01987313038694432 1.4901161193847657e-09 0.4817487607143026\n"
     ]
    },
    {
     "name": "stderr",
     "output_type": "stream",
     "text": [
      " 46%|████▌     | 4507/9766 [3:59:31<4:38:51,  3.18s/it]"
     ]
    },
    {
     "name": "stdout",
     "output_type": "stream",
     "text": [
      "0.8 50.6 0.05058641002805299 1.4050633783632964e-05 0.5072535954223917\n"
     ]
    },
    {
     "name": "stderr",
     "output_type": "stream",
     "text": [
      " 46%|████▌     | 4510/9766 [3:59:39<4:17:18,  2.94s/it]"
     ]
    },
    {
     "name": "stdout",
     "output_type": "stream",
     "text": [
      "1.0 15.4 6.802298402489071e-06 7.194917089858934e-09 0.4981216732490104\n"
     ]
    },
    {
     "name": "stderr",
     "output_type": "stream",
     "text": [
      " 46%|████▌     | 4513/9766 [3:59:47<4:18:48,  2.96s/it]"
     ]
    },
    {
     "name": "stdout",
     "output_type": "stream",
     "text": [
      "0.9 32.6 0.02814738382168782 7.026159786565362e-06 0.4822683268108075\n"
     ]
    },
    {
     "name": "stderr",
     "output_type": "stream",
     "text": [
      " 46%|████▌     | 4516/9766 [3:59:55<4:00:26,  2.75s/it]"
     ]
    },
    {
     "name": "stdout",
     "output_type": "stream",
     "text": [
      "1.0 11.4 3.962433683842971e-06 0.0 0.5176105440047706\n"
     ]
    },
    {
     "name": "stderr",
     "output_type": "stream",
     "text": [
      " 46%|████▋     | 4518/9766 [4:00:00<4:07:20,  2.83s/it]"
     ]
    },
    {
     "name": "stdout",
     "output_type": "stream",
     "text": [
      "1.0 13.8 5.368962405193477e-06 2.9802322387695314e-09 0.47183461734414556\n"
     ]
    },
    {
     "name": "stderr",
     "output_type": "stream",
     "text": [
      " 46%|████▋     | 4521/9766 [4:00:08<4:03:24,  2.78s/it]"
     ]
    },
    {
     "name": "stdout",
     "output_type": "stream",
     "text": [
      "1.0 12.2 7.495172853192342e-06 3.3320009373125284e-09 0.46885604579497675\n"
     ]
    },
    {
     "name": "stderr",
     "output_type": "stream",
     "text": [
      " 46%|████▋     | 4523/9766 [4:00:15<4:47:05,  3.29s/it]"
     ]
    },
    {
     "name": "stdout",
     "output_type": "stream",
     "text": [
      "0.9 32.4 0.014106616179635467 7.024594045389498e-06 0.4101443408770161\n"
     ]
    },
    {
     "name": "stderr",
     "output_type": "stream",
     "text": [
      " 46%|████▋     | 4526/9766 [4:00:25<5:06:38,  3.51s/it]"
     ]
    },
    {
     "name": "stdout",
     "output_type": "stream",
     "text": [
      "0.8 55.4 0.03692078277407195 7.028223518349905e-06 0.5486386837780113\n"
     ]
    },
    {
     "name": "stderr",
     "output_type": "stream",
     "text": [
      " 46%|████▋     | 4528/9766 [4:00:33<5:25:53,  3.73s/it]"
     ]
    },
    {
     "name": "stdout",
     "output_type": "stream",
     "text": [
      "0.8 52.0 0.03103665805852337 1.3311147314456876e-05 0.539813114458372\n"
     ]
    },
    {
     "name": "stderr",
     "output_type": "stream",
     "text": [
      " 46%|████▋     | 4530/9766 [4:00:39<5:01:32,  3.46s/it]"
     ]
    },
    {
     "name": "stdout",
     "output_type": "stream",
     "text": [
      "1.0 16.0 5.078983499142559e-06 1.4901161193847657e-09 0.5486997101218182\n"
     ]
    },
    {
     "name": "stderr",
     "output_type": "stream",
     "text": [
      " 46%|████▋     | 4533/9766 [4:00:47<4:29:32,  3.09s/it]"
     ]
    },
    {
     "name": "stdout",
     "output_type": "stream",
     "text": [
      "1.0 13.8 5.374959043698944e-06 2.9802322387695314e-09 0.6045915311529817\n"
     ]
    },
    {
     "name": "stderr",
     "output_type": "stream",
     "text": [
      " 46%|████▋     | 4535/9766 [4:00:54<4:47:18,  3.30s/it]"
     ]
    },
    {
     "name": "stdout",
     "output_type": "stream",
     "text": [
      "0.9 33.2 0.0320039265883663 1.405482610660672e-05 0.43796097181259575\n"
     ]
    },
    {
     "name": "stderr",
     "output_type": "stream",
     "text": [
      " 46%|████▋     | 4538/9766 [4:01:06<6:09:15,  4.24s/it]"
     ]
    },
    {
     "name": "stdout",
     "output_type": "stream",
     "text": [
      "0.5 107.8 0.01571047275590815 6.9227089152702554e-09 0.4957205639367924\n"
     ]
    },
    {
     "name": "stderr",
     "output_type": "stream",
     "text": [
      " 46%|████▋     | 4541/9766 [4:01:16<5:28:06,  3.77s/it]"
     ]
    },
    {
     "name": "stdout",
     "output_type": "stream",
     "text": [
      "0.8 50.0 0.006286735320853258 2.1073424255447016e-09 0.4618565135776471\n"
     ]
    },
    {
     "name": "stderr",
     "output_type": "stream",
     "text": [
      " 47%|████▋     | 4544/9766 [4:01:31<7:21:30,  5.07s/it]"
     ]
    },
    {
     "name": "stdout",
     "output_type": "stream",
     "text": [
      "0.3 143.0 0.035714566630043174 7.0297371476032585e-06 0.49168236647806846\n"
     ]
    },
    {
     "name": "stderr",
     "output_type": "stream",
     "text": [
      " 47%|████▋     | 4547/9766 [4:01:42<6:32:50,  4.52s/it]"
     ]
    },
    {
     "name": "stdout",
     "output_type": "stream",
     "text": [
      "0.6 89.0 0.012570905636897098 4.214684851089403e-09 0.39417118145530566\n"
     ]
    },
    {
     "name": "stderr",
     "output_type": "stream",
     "text": [
      " 47%|████▋     | 4550/9766 [4:01:53<6:11:59,  4.28s/it]"
     ]
    },
    {
     "name": "stdout",
     "output_type": "stream",
     "text": [
      "0.6 90.6 0.02924194965091507 6.295823262512282e-06 0.6133818781752642\n"
     ]
    },
    {
     "name": "stderr",
     "output_type": "stream",
     "text": [
      " 47%|████▋     | 4553/9766 [4:02:02<5:23:19,  3.72s/it]"
     ]
    },
    {
     "name": "stdout",
     "output_type": "stream",
     "text": [
      "0.8 54.0 0.012571033647114718 8.013549623837274e-09 0.6549072890605742\n"
     ]
    },
    {
     "name": "stderr",
     "output_type": "stream",
     "text": [
      " 47%|████▋     | 4556/9766 [4:02:12<5:30:25,  3.81s/it]"
     ]
    },
    {
     "name": "stdout",
     "output_type": "stream",
     "text": [
      "0.6 88.0 0.02199501792112362 1.4901161193847657e-09 0.5303320055314946\n"
     ]
    },
    {
     "name": "stderr",
     "output_type": "stream",
     "text": [
      " 47%|████▋     | 4559/9766 [4:02:23<5:51:18,  4.05s/it]"
     ]
    },
    {
     "name": "stdout",
     "output_type": "stream",
     "text": [
      "0.6 87.6 0.0188525363702323 0.0 0.4290670750156136\n"
     ]
    },
    {
     "name": "stderr",
     "output_type": "stream",
     "text": [
      " 47%|████▋     | 4562/9766 [4:02:36<6:34:32,  4.55s/it]"
     ]
    },
    {
     "name": "stdout",
     "output_type": "stream",
     "text": [
      "0.5 106.6 0.042543181864220694 1.3309217070043232e-05 0.3949779385224853\n"
     ]
    },
    {
     "name": "stderr",
     "output_type": "stream",
     "text": [
      " 47%|████▋     | 4565/9766 [4:02:46<5:37:32,  3.89s/it]"
     ]
    },
    {
     "name": "stdout",
     "output_type": "stream",
     "text": [
      "0.8 50.0 0.04802805986321814 3.5861336310401756e-05 0.33928752115119837\n"
     ]
    },
    {
     "name": "stderr",
     "output_type": "stream",
     "text": [
      " 47%|████▋     | 4568/9766 [4:03:00<7:21:16,  5.09s/it]"
     ]
    },
    {
     "name": "stdout",
     "output_type": "stream",
     "text": [
      "0.2 163.0 0.04782540896634767 7.026613196478561e-06 0.5175102173990782\n"
     ]
    },
    {
     "name": "stderr",
     "output_type": "stream",
     "text": [
      " 47%|████▋     | 4571/9766 [4:03:15<7:59:43,  5.54s/it]"
     ]
    },
    {
     "name": "stdout",
     "output_type": "stream",
     "text": [
      "0.1 181.6 0.028273076415670666 0.0 0.40534032045709667\n"
     ]
    },
    {
     "name": "stderr",
     "output_type": "stream",
     "text": [
      " 47%|████▋     | 4574/9766 [4:03:28<7:49:25,  5.42s/it]"
     ]
    },
    {
     "name": "stdout",
     "output_type": "stream",
     "text": [
      "0.2 162.6 0.02513864353662452 5.757366575533559e-09 0.5472424678947747\n"
     ]
    },
    {
     "name": "stderr",
     "output_type": "stream",
     "text": [
      " 47%|████▋     | 4577/9766 [4:03:41<7:24:51,  5.14s/it]"
     ]
    },
    {
     "name": "stdout",
     "output_type": "stream",
     "text": [
      "0.3 143.2 0.021990984812833597 5.561189066721316e-09 0.5078447991228754\n"
     ]
    },
    {
     "name": "stderr",
     "output_type": "stream",
     "text": [
      " 47%|████▋     | 4580/9766 [4:03:51<5:55:55,  4.12s/it]"
     ]
    },
    {
     "name": "stdout",
     "output_type": "stream",
     "text": [
      "0.7 69.6 0.02603513189408858 1.2567860851403525e-05 0.4172867146188411\n"
     ]
    },
    {
     "name": "stderr",
     "output_type": "stream",
     "text": [
      " 47%|████▋     | 4583/9766 [4:04:06<7:44:17,  5.37s/it]"
     ]
    },
    {
     "name": "stdout",
     "output_type": "stream",
     "text": [
      "0.0 200.0 0.03141472102000434 6.795641679041188e-09 0.5189478226905646\n"
     ]
    },
    {
     "name": "stderr",
     "output_type": "stream",
     "text": [
      " 47%|████▋     | 4586/9766 [4:04:20<8:13:52,  5.72s/it]"
     ]
    },
    {
     "name": "stdout",
     "output_type": "stream",
     "text": [
      "0.1 180.4 0.07323459927275477 1.8356788581701727e-05 0.46712378362850115\n"
     ]
    },
    {
     "name": "stderr",
     "output_type": "stream",
     "text": [
      " 47%|████▋     | 4589/9766 [4:04:33<7:20:02,  5.10s/it]"
     ]
    },
    {
     "name": "stdout",
     "output_type": "stream",
     "text": [
      "0.5 106.6 0.015707985940618983 0.0 0.5276837517920019\n"
     ]
    },
    {
     "name": "stderr",
     "output_type": "stream",
     "text": [
      " 47%|████▋     | 4592/9766 [4:04:43<6:11:11,  4.30s/it]"
     ]
    },
    {
     "name": "stdout",
     "output_type": "stream",
     "text": [
      "0.7 73.2 0.009431333317856753 1.4901161193847657e-09 0.48988973453965406\n"
     ]
    },
    {
     "name": "stderr",
     "output_type": "stream",
     "text": [
      " 47%|████▋     | 4595/9766 [4:04:53<5:46:18,  4.02s/it]"
     ]
    },
    {
     "name": "stdout",
     "output_type": "stream",
     "text": [
      "0.6 87.8 0.0264051446871957 6.2852727859222415e-06 0.46288676032623455\n"
     ]
    },
    {
     "name": "stderr",
     "output_type": "stream",
     "text": [
      " 47%|████▋     | 4598/9766 [4:05:01<4:38:33,  3.23s/it]"
     ]
    },
    {
     "name": "stdout",
     "output_type": "stream",
     "text": [
      "1.0 16.8 4.7650285236358875e-06 0.0 0.46153088768213807\n"
     ]
    },
    {
     "name": "stderr",
     "output_type": "stream",
     "text": [
      " 47%|████▋     | 4601/9766 [4:05:14<6:21:35,  4.43s/it]"
     ]
    },
    {
     "name": "stdout",
     "output_type": "stream",
     "text": [
      "0.3 144.8 0.044252594033220696 1.1333861134206761e-05 0.4102768783487708\n"
     ]
    },
    {
     "name": "stderr",
     "output_type": "stream",
     "text": [
      " 47%|████▋     | 4604/9766 [4:05:25<5:52:56,  4.10s/it]"
     ]
    },
    {
     "name": "stdout",
     "output_type": "stream",
     "text": [
      "0.6 88.6 0.03462436465243542 7.031479551845328e-06 0.43251257962104583\n"
     ]
    },
    {
     "name": "stderr",
     "output_type": "stream",
     "text": [
      " 47%|████▋     | 4607/9766 [4:05:38<7:05:09,  4.94s/it]"
     ]
    },
    {
     "name": "stdout",
     "output_type": "stream",
     "text": [
      "0.2 163.2 0.025133337259640058 3.597458544929467e-09 0.45342716245318054\n"
     ]
    },
    {
     "name": "stderr",
     "output_type": "stream",
     "text": [
      " 47%|████▋     | 4610/9766 [4:05:49<6:20:01,  4.42s/it]"
     ]
    },
    {
     "name": "stdout",
     "output_type": "stream",
     "text": [
      "0.5 105.4 0.015711949555346945 1.4901161193847657e-09 0.3380424219021926\n"
     ]
    },
    {
     "name": "stderr",
     "output_type": "stream",
     "text": [
      " 47%|████▋     | 4613/9766 [4:05:58<4:57:33,  3.46s/it]"
     ]
    },
    {
     "name": "stdout",
     "output_type": "stream",
     "text": [
      "0.9 32.6 0.019935869717279713 6.287868358635357e-06 0.37791969135085063\n"
     ]
    },
    {
     "name": "stderr",
     "output_type": "stream",
     "text": [
      " 47%|████▋     | 4615/9766 [4:06:04<4:39:03,  3.25s/it]"
     ]
    },
    {
     "name": "stdout",
     "output_type": "stream",
     "text": [
      "1.0 15.6 4.397788235670393e-06 5.960464477539063e-09 0.6210263631239594\n"
     ]
    },
    {
     "name": "stderr",
     "output_type": "stream",
     "text": [
      " 47%|████▋     | 4618/9766 [4:06:11<4:07:35,  2.89s/it]"
     ]
    },
    {
     "name": "stdout",
     "output_type": "stream",
     "text": [
      "1.0 18.8 5.2187961481217744e-06 5.561189066721316e-09 0.5443646197899042\n"
     ]
    },
    {
     "name": "stderr",
     "output_type": "stream",
     "text": [
      " 47%|████▋     | 4621/9766 [4:06:19<4:12:03,  2.94s/it]"
     ]
    },
    {
     "name": "stdout",
     "output_type": "stream",
     "text": [
      "0.9 34.0 0.03212426538816573 1.1331503304174759e-05 0.48257456525537884\n"
     ]
    },
    {
     "name": "stderr",
     "output_type": "stream",
     "text": [
      " 47%|████▋     | 4624/9766 [4:06:27<3:54:26,  2.74s/it]"
     ]
    },
    {
     "name": "stdout",
     "output_type": "stream",
     "text": [
      "1.0 15.2 7.347849654704856e-06 2.1073424255447016e-09 0.5362716404330465\n"
     ]
    },
    {
     "name": "stderr",
     "output_type": "stream",
     "text": [
      " 47%|████▋     | 4627/9766 [4:06:35<3:47:13,  2.65s/it]"
     ]
    },
    {
     "name": "stdout",
     "output_type": "stream",
     "text": [
      "1.0 13.2 6.774493059069907e-06 0.0 0.49668198698291316\n"
     ]
    },
    {
     "name": "stderr",
     "output_type": "stream",
     "text": [
      " 47%|████▋     | 4630/9766 [4:06:48<6:15:28,  4.39s/it]"
     ]
    },
    {
     "name": "stdout",
     "output_type": "stream",
     "text": [
      "0.2 163.6 0.02513433509251653 1.4901161193847657e-09 0.5251360403087811\n"
     ]
    },
    {
     "name": "stderr",
     "output_type": "stream",
     "text": [
      " 47%|████▋     | 4633/9766 [4:07:02<7:20:34,  5.15s/it]"
     ]
    },
    {
     "name": "stdout",
     "output_type": "stream",
     "text": [
      "0.2 163.0 0.025133783651274784 5.087574664314233e-09 0.5588273783640059\n"
     ]
    },
    {
     "name": "stderr",
     "output_type": "stream",
     "text": [
      " 47%|████▋     | 4636/9766 [4:07:14<6:55:43,  4.86s/it]"
     ]
    },
    {
     "name": "stdout",
     "output_type": "stream",
     "text": [
      "0.4 125.8 0.0188499641592437 1.4901161193847657e-09 0.46288012890311425\n"
     ]
    },
    {
     "name": "stderr",
     "output_type": "stream",
     "text": [
      " 48%|████▊     | 4639/9766 [4:07:23<5:37:59,  3.96s/it]"
     ]
    },
    {
     "name": "stdout",
     "output_type": "stream",
     "text": [
      "0.8 55.2 0.03609887462335202 1.4050986128132636e-05 0.4659914971292324\n"
     ]
    },
    {
     "name": "stderr",
     "output_type": "stream",
     "text": [
      " 48%|████▊     | 4642/9766 [4:07:32<4:36:32,  3.24s/it]"
     ]
    },
    {
     "name": "stdout",
     "output_type": "stream",
     "text": [
      "1.0 11.8 7.136512583338064e-06 2.9802322387695314e-09 0.525493979992241\n"
     ]
    },
    {
     "name": "stderr",
     "output_type": "stream",
     "text": [
      " 48%|████▊     | 4645/9766 [4:07:40<4:10:43,  2.94s/it]"
     ]
    },
    {
     "name": "stdout",
     "output_type": "stream",
     "text": [
      "1.0 13.2 7.96442270933399e-06 2.1073424255447016e-09 0.3608948703982408\n"
     ]
    },
    {
     "name": "stderr",
     "output_type": "stream",
     "text": [
      " 48%|████▊     | 4648/9766 [4:07:49<4:35:32,  3.23s/it]"
     ]
    },
    {
     "name": "stdout",
     "output_type": "stream",
     "text": [
      "0.8 53.0 0.01015965862525777 1.132874548886528e-05 0.5456803764811923\n"
     ]
    },
    {
     "name": "stderr",
     "output_type": "stream",
     "text": [
      " 48%|████▊     | 4651/9766 [4:08:01<6:06:37,  4.30s/it]"
     ]
    },
    {
     "name": "stdout",
     "output_type": "stream",
     "text": [
      "0.4 128.6 0.028476723874640942 1.7612637257807914e-05 0.6638756026418943\n"
     ]
    },
    {
     "name": "stderr",
     "output_type": "stream",
     "text": [
      " 48%|████▊     | 4653/9766 [4:08:10<6:15:36,  4.41s/it]"
     ]
    },
    {
     "name": "stdout",
     "output_type": "stream",
     "text": [
      "0.6 87.4 0.012567680277638544 2.580956827951785e-09 0.38717799988247253\n"
     ]
    },
    {
     "name": "stderr",
     "output_type": "stream",
     "text": [
      " 48%|████▊     | 4656/9766 [4:08:17<4:40:46,  3.30s/it]"
     ]
    },
    {
     "name": "stdout",
     "output_type": "stream",
     "text": [
      "1.0 12.6 3.391228177125419e-06 0.0 0.3693892658256536\n"
     ]
    },
    {
     "name": "stderr",
     "output_type": "stream",
     "text": [
      " 48%|████▊     | 4658/9766 [4:08:24<4:45:38,  3.36s/it]"
     ]
    },
    {
     "name": "stdout",
     "output_type": "stream",
     "text": [
      "0.9 32.2 0.011385672304597454 6.288007304900656e-06 0.5433939553744043\n"
     ]
    },
    {
     "name": "stderr",
     "output_type": "stream",
     "text": [
      " 48%|████▊     | 4660/9766 [4:08:31<4:54:40,  3.46s/it]"
     ]
    },
    {
     "name": "stdout",
     "output_type": "stream",
     "text": [
      "0.9 30.4 0.012958403025025772 1.4901161193847657e-09 0.3146632010768739\n"
     ]
    },
    {
     "name": "stderr",
     "output_type": "stream",
     "text": [
      " 48%|████▊     | 4663/9766 [4:08:41<5:21:34,  3.78s/it]"
     ]
    },
    {
     "name": "stdout",
     "output_type": "stream",
     "text": [
      "0.7 67.8 0.02816018347200395 1.2566567915724635e-05 0.32588440474537206\n"
     ]
    },
    {
     "name": "stderr",
     "output_type": "stream",
     "text": [
      " 48%|████▊     | 4666/9766 [4:08:50<4:49:43,  3.41s/it]"
     ]
    },
    {
     "name": "stdout",
     "output_type": "stream",
     "text": [
      "0.8 48.6 0.03186966792220794 6.283481502540512e-06 0.3398078656863335\n"
     ]
    },
    {
     "name": "stderr",
     "output_type": "stream",
     "text": [
      " 48%|████▊     | 4668/9766 [4:08:56<4:31:45,  3.20s/it]"
     ]
    },
    {
     "name": "stdout",
     "output_type": "stream",
     "text": [
      "1.0 13.2 4.985291415414646e-06 0.0 0.46439619859095177\n"
     ]
    },
    {
     "name": "stderr",
     "output_type": "stream",
     "text": [
      " 48%|████▊     | 4670/9766 [4:09:04<5:16:32,  3.73s/it]"
     ]
    },
    {
     "name": "stdout",
     "output_type": "stream",
     "text": [
      "0.7 67.8 0.03148019928802216 7.026790442505713e-06 0.4733327672188715\n"
     ]
    },
    {
     "name": "stderr",
     "output_type": "stream",
     "text": [
      " 48%|████▊     | 4672/9766 [4:09:12<5:42:13,  4.03s/it]"
     ]
    },
    {
     "name": "stdout",
     "output_type": "stream",
     "text": [
      "0.7 67.8 0.012445202206197367 1.2567860763054781e-05 0.5763503246613252\n"
     ]
    },
    {
     "name": "stderr",
     "output_type": "stream",
     "text": [
      " 48%|████▊     | 4674/9766 [4:09:19<5:28:16,  3.87s/it]"
     ]
    },
    {
     "name": "stdout",
     "output_type": "stream",
     "text": [
      "0.8 49.6 0.00628794845906618 4.071072947336551e-09 0.43387001014783716\n"
     ]
    },
    {
     "name": "stderr",
     "output_type": "stream",
     "text": [
      " 48%|████▊     | 4677/9766 [4:09:31<6:09:42,  4.36s/it]"
     ]
    },
    {
     "name": "stdout",
     "output_type": "stream",
     "text": [
      "0.5 105.4 0.03167042964667264 6.283984378805459e-06 0.4375093134363147\n"
     ]
    },
    {
     "name": "stderr",
     "output_type": "stream",
     "text": [
      " 48%|████▊     | 4680/9766 [4:09:41<5:30:43,  3.90s/it]"
     ]
    },
    {
     "name": "stdout",
     "output_type": "stream",
     "text": [
      "0.7 67.6 0.009427442729763194 1.4901161193847657e-09 0.42189686075777744\n"
     ]
    },
    {
     "name": "stderr",
     "output_type": "stream",
     "text": [
      " 48%|████▊     | 4683/9766 [4:09:54<6:27:18,  4.57s/it]"
     ]
    },
    {
     "name": "stdout",
     "output_type": "stream",
     "text": [
      "0.4 125.0 0.04742131656953027 2.1074742467630124e-05 0.6044853263239653\n"
     ]
    },
    {
     "name": "stderr",
     "output_type": "stream",
     "text": [
      " 48%|████▊     | 4686/9766 [4:10:07<7:13:51,  5.12s/it]"
     ]
    },
    {
     "name": "stdout",
     "output_type": "stream",
     "text": [
      "0.2 162.0 0.07030402719638033 1.4058125384771049e-05 0.4010157739761788\n"
     ]
    },
    {
     "name": "stderr",
     "output_type": "stream",
     "text": [
      " 48%|████▊     | 4689/9766 [4:10:18<6:23:52,  4.54s/it]"
     ]
    },
    {
     "name": "stdout",
     "output_type": "stream",
     "text": [
      "0.5 104.2 0.08150771005567578 5.249189759582013e-05 0.3127709380145329\n"
     ]
    },
    {
     "name": "stderr",
     "output_type": "stream",
     "text": [
      " 48%|████▊     | 4692/9766 [4:10:29<5:40:03,  4.02s/it]"
     ]
    },
    {
     "name": "stdout",
     "output_type": "stream",
     "text": [
      "0.7 71.0 0.05486599583138293 6.2928329322003256e-06 0.43422109607406056\n"
     ]
    },
    {
     "name": "stderr",
     "output_type": "stream",
     "text": [
      " 48%|████▊     | 4695/9766 [4:10:40<6:01:00,  4.27s/it]"
     ]
    },
    {
     "name": "stdout",
     "output_type": "stream",
     "text": [
      "0.5 106.4 0.039384902010127676 1.132602357113211e-05 0.30560439146197405\n"
     ]
    },
    {
     "name": "stderr",
     "output_type": "stream",
     "text": [
      " 48%|████▊     | 4698/9766 [4:10:49<4:50:47,  3.44s/it]"
     ]
    },
    {
     "name": "stdout",
     "output_type": "stream",
     "text": [
      "0.9 30.6 0.014055634858265182 5.087574664314233e-09 0.5496334447905993\n"
     ]
    },
    {
     "name": "stderr",
     "output_type": "stream",
     "text": [
      " 48%|████▊     | 4701/9766 [4:10:57<4:24:06,  3.13s/it]"
     ]
    },
    {
     "name": "stdout",
     "output_type": "stream",
     "text": [
      "0.9 32.4 0.017797791901529726 7.03557653693951e-06 0.5415007014675417\n"
     ]
    },
    {
     "name": "stderr",
     "output_type": "stream",
     "text": [
      " 48%|████▊     | 4704/9766 [4:11:10<6:04:07,  4.32s/it]"
     ]
    },
    {
     "name": "stdout",
     "output_type": "stream",
     "text": [
      "0.5 109.0 0.01571061215073779 0.0 0.5741243063227709\n"
     ]
    },
    {
     "name": "stderr",
     "output_type": "stream",
     "text": [
      " 48%|████▊     | 4707/9766 [4:11:21<6:14:55,  4.45s/it]"
     ]
    },
    {
     "name": "stdout",
     "output_type": "stream",
     "text": [
      "0.5 105.6 0.01570986808274658 0.0 0.3170222535338662\n"
     ]
    },
    {
     "name": "stderr",
     "output_type": "stream",
     "text": [
      " 48%|████▊     | 4710/9766 [4:11:29<4:36:59,  3.29s/it]"
     ]
    },
    {
     "name": "stdout",
     "output_type": "stream",
     "text": [
      "1.0 11.4 5.362000973089226e-06 2.580956827951785e-09 0.43904744327465695\n"
     ]
    },
    {
     "name": "stderr",
     "output_type": "stream",
     "text": [
      " 48%|████▊     | 4713/9766 [4:11:38<4:27:40,  3.18s/it]"
     ]
    },
    {
     "name": "stdout",
     "output_type": "stream",
     "text": [
      "0.9 33.0 0.026801968714732182 7.028664960288835e-06 0.5968349810758606\n"
     ]
    },
    {
     "name": "stderr",
     "output_type": "stream",
     "text": [
      " 48%|████▊     | 4716/9766 [4:11:47<4:33:32,  3.25s/it]"
     ]
    },
    {
     "name": "stdout",
     "output_type": "stream",
     "text": [
      "0.8 48.8 0.03189165552831326 1.959447397818084e-05 0.3203896790854589\n"
     ]
    },
    {
     "name": "stderr",
     "output_type": "stream",
     "text": [
      " 48%|████▊     | 4719/9766 [4:11:56<4:31:35,  3.23s/it]"
     ]
    },
    {
     "name": "stdout",
     "output_type": "stream",
     "text": [
      "0.8 49.2 0.03383404557422533 1.0579483632230853e-08 0.5506152072070358\n"
     ]
    },
    {
     "name": "stderr",
     "output_type": "stream",
     "text": [
      " 48%|████▊     | 4721/9766 [4:12:02<4:41:27,  3.35s/it]"
     ]
    },
    {
     "name": "stdout",
     "output_type": "stream",
     "text": [
      "0.9 31.0 0.01885417699743516 6.288648003033332e-06 0.40408657472023907\n"
     ]
    },
    {
     "name": "stderr",
     "output_type": "stream",
     "text": [
      " 48%|████▊     | 4723/9766 [4:12:10<5:21:11,  3.82s/it]"
     ]
    },
    {
     "name": "stdout",
     "output_type": "stream",
     "text": [
      "0.7 69.6 0.0653965754909359 1.4062373688663936e-05 0.49351878433165786\n"
     ]
    },
    {
     "name": "stderr",
     "output_type": "stream",
     "text": [
      " 48%|████▊     | 4725/9766 [4:12:17<4:59:06,  3.56s/it]"
     ]
    },
    {
     "name": "stdout",
     "output_type": "stream",
     "text": [
      "0.9 34.2 0.02018176621616934 7.026678648271314e-06 0.5615943276707724\n"
     ]
    },
    {
     "name": "stderr",
     "output_type": "stream",
     "text": [
      " 48%|████▊     | 4727/9766 [4:12:23<5:01:37,  3.59s/it]"
     ]
    },
    {
     "name": "stdout",
     "output_type": "stream",
     "text": [
      "0.8 49.6 0.04622626546337001 3.9742676021751795e-05 0.3108708341269795\n"
     ]
    },
    {
     "name": "stderr",
     "output_type": "stream",
     "text": [
      " 48%|████▊     | 4729/9766 [4:12:29<4:32:08,  3.24s/it]"
     ]
    },
    {
     "name": "stdout",
     "output_type": "stream",
     "text": [
      "1.0 12.4 8.03420192937731e-06 3.3320009373125284e-09 0.36352489363088925\n"
     ]
    },
    {
     "name": "stderr",
     "output_type": "stream",
     "text": [
      " 48%|████▊     | 4732/9766 [4:12:38<4:38:19,  3.32s/it]"
     ]
    },
    {
     "name": "stdout",
     "output_type": "stream",
     "text": [
      "0.8 52.2 0.03471062433998461 7.031545588410865e-06 0.5347353575503209\n"
     ]
    },
    {
     "name": "stderr",
     "output_type": "stream",
     "text": [
      " 48%|████▊     | 4734/9766 [4:12:44<4:34:03,  3.27s/it]"
     ]
    },
    {
     "name": "stdout",
     "output_type": "stream",
     "text": [
      "0.9 30.6 0.017794535738135185 7.029174584448093e-06 0.5107792344678594\n"
     ]
    },
    {
     "name": "stderr",
     "output_type": "stream",
     "text": [
      " 48%|████▊     | 4736/9766 [4:12:50<4:14:49,  3.04s/it]"
     ]
    },
    {
     "name": "stdout",
     "output_type": "stream",
     "text": [
      "1.0 13.6 4.990271706572178e-06 5.704800970474169e-09 0.4822030066714558\n"
     ]
    },
    {
     "name": "stderr",
     "output_type": "stream",
     "text": [
      " 49%|████▊     | 4738/9766 [4:12:57<4:59:29,  3.57s/it]"
     ]
    },
    {
     "name": "stdout",
     "output_type": "stream",
     "text": [
      "0.7 68.4 0.062292583164576754 1.4053370063136086e-05 0.5772216003996145\n"
     ]
    },
    {
     "name": "stderr",
     "output_type": "stream",
     "text": [
      " 49%|████▊     | 4740/9766 [4:13:03<4:30:20,  3.23s/it]"
     ]
    },
    {
     "name": "stdout",
     "output_type": "stream",
     "text": [
      "1.0 12.0 5.494277989981065e-06 2.580956827951785e-09 0.49129498509019837\n"
     ]
    },
    {
     "name": "stderr",
     "output_type": "stream",
     "text": [
      " 49%|████▊     | 4742/9766 [4:13:10<4:40:49,  3.35s/it]"
     ]
    },
    {
     "name": "stdout",
     "output_type": "stream",
     "text": [
      "0.9 33.4 0.018855090676111116 0.0 0.37146057357652146\n"
     ]
    },
    {
     "name": "stderr",
     "output_type": "stream",
     "text": [
      " 49%|████▊     | 4744/9766 [4:13:18<5:33:16,  3.98s/it]"
     ]
    },
    {
     "name": "stdout",
     "output_type": "stream",
     "text": [
      "0.6 87.4 0.06513253605759102 7.024417819661259e-06 0.5242744444703495\n"
     ]
    },
    {
     "name": "stderr",
     "output_type": "stream",
     "text": [
      " 49%|████▊     | 4747/9766 [4:13:26<4:25:45,  3.18s/it]"
     ]
    },
    {
     "name": "stdout",
     "output_type": "stream",
     "text": [
      "1.0 20.0 1.599671301764005e-05 7.194917089858934e-09 0.5838124045040889\n"
     ]
    },
    {
     "name": "stderr",
     "output_type": "stream",
     "text": [
      " 49%|████▊     | 4750/9766 [4:13:34<3:59:39,  2.87s/it]"
     ]
    },
    {
     "name": "stdout",
     "output_type": "stream",
     "text": [
      "1.0 11.4 6.185183921794611e-06 2.580956827951785e-09 0.4741264282648518\n"
     ]
    },
    {
     "name": "stderr",
     "output_type": "stream",
     "text": [
      " 49%|████▊     | 4753/9766 [4:13:44<4:56:11,  3.55s/it]"
     ]
    },
    {
     "name": "stdout",
     "output_type": "stream",
     "text": [
      "0.6 90.6 0.06788055703606162 1.33090128503598e-05 0.6495256466755399\n"
     ]
    },
    {
     "name": "stderr",
     "output_type": "stream",
     "text": [
      " 49%|████▊     | 4756/9766 [4:13:53<4:51:15,  3.49s/it]"
     ]
    },
    {
     "name": "stdout",
     "output_type": "stream",
     "text": [
      "0.7 67.8 0.009424213315756233 2.9802322387695314e-09 0.4643744356884307\n"
     ]
    },
    {
     "name": "stderr",
     "output_type": "stream",
     "text": [
      " 49%|████▊     | 4759/9766 [4:14:01<4:00:50,  2.89s/it]"
     ]
    },
    {
     "name": "stdout",
     "output_type": "stream",
     "text": [
      "1.0 14.4 9.16785079591825e-06 5.561189066721316e-09 0.5071403315302581\n"
     ]
    },
    {
     "name": "stderr",
     "output_type": "stream",
     "text": [
      " 49%|████▉     | 4762/9766 [4:14:09<4:07:30,  2.97s/it]"
     ]
    },
    {
     "name": "stdout",
     "output_type": "stream",
     "text": [
      "0.9 28.4 0.02271463857245045 7.021329279465162e-06 0.3761858872676777\n"
     ]
    },
    {
     "name": "stderr",
     "output_type": "stream",
     "text": [
      " 49%|████▉     | 4764/9766 [4:14:18<5:33:49,  4.00s/it]"
     ]
    },
    {
     "name": "stdout",
     "output_type": "stream",
     "text": [
      "0.5 107.8 0.015711653236990867 2.9802322387695314e-09 0.37043629361460695\n"
     ]
    },
    {
     "name": "stderr",
     "output_type": "stream",
     "text": [
      " 49%|████▉     | 4767/9766 [4:14:26<4:19:46,  3.12s/it]"
     ]
    },
    {
     "name": "stdout",
     "output_type": "stream",
     "text": [
      "1.0 17.6 1.026026075440225e-05 5.087574664314233e-09 0.5518889756965459\n"
     ]
    },
    {
     "name": "stderr",
     "output_type": "stream",
     "text": [
      " 49%|████▉     | 4770/9766 [4:14:38<5:34:14,  4.01s/it]"
     ]
    },
    {
     "name": "stdout",
     "output_type": "stream",
     "text": [
      "0.5 105.8 0.015706477697587505 4.071072947336551e-09 0.502181264211067\n"
     ]
    },
    {
     "name": "stderr",
     "output_type": "stream",
     "text": [
      " 49%|████▉     | 4772/9766 [4:14:45<5:33:55,  4.01s/it]"
     ]
    },
    {
     "name": "stdout",
     "output_type": "stream",
     "text": [
      "0.7 67.6 0.009429355364557468 1.4901161193847657e-09 0.32384071733233877\n"
     ]
    },
    {
     "name": "stderr",
     "output_type": "stream",
     "text": [
      " 49%|████▉     | 4774/9766 [4:14:51<4:47:31,  3.46s/it]"
     ]
    },
    {
     "name": "stdout",
     "output_type": "stream",
     "text": [
      "1.0 15.8 6.165259298409734e-06 2.1073424255447016e-09 0.6250599519753235\n"
     ]
    },
    {
     "name": "stderr",
     "output_type": "stream",
     "text": [
      " 49%|████▉     | 4776/9766 [4:14:56<4:23:32,  3.17s/it]"
     ]
    },
    {
     "name": "stdout",
     "output_type": "stream",
     "text": [
      "1.0 14.2 7.503977949510354e-06 4.470348358154297e-09 0.5073751689762782\n"
     ]
    },
    {
     "name": "stderr",
     "output_type": "stream",
     "text": [
      " 49%|████▉     | 4778/9766 [4:15:03<4:29:49,  3.25s/it]"
     ]
    },
    {
     "name": "stdout",
     "output_type": "stream",
     "text": [
      "0.9 32.6 0.019115301948669384 4.470348358154297e-09 0.39571627400387577\n"
     ]
    },
    {
     "name": "stderr",
     "output_type": "stream",
     "text": [
      " 49%|████▉     | 4780/9766 [4:15:13<5:59:00,  4.32s/it]"
     ]
    },
    {
     "name": "stdout",
     "output_type": "stream",
     "text": [
      "0.5 107.2 0.015712066042963442 1.4901161193847657e-09 0.32999576016526866\n"
     ]
    },
    {
     "name": "stderr",
     "output_type": "stream",
     "text": [
      " 49%|████▉     | 4783/9766 [4:15:23<5:40:23,  4.10s/it]"
     ]
    },
    {
     "name": "stdout",
     "output_type": "stream",
     "text": [
      "0.6 86.6 0.02193422414028939 7.0259517160379716e-06 0.39497401250266495\n"
     ]
    },
    {
     "name": "stderr",
     "output_type": "stream",
     "text": [
      " 49%|████▉     | 4786/9766 [4:15:32<4:51:15,  3.51s/it]"
     ]
    },
    {
     "name": "stdout",
     "output_type": "stream",
     "text": [
      "0.9 28.8 0.01885494673146023 2.1073424255447016e-09 0.53160725148391\n"
     ]
    },
    {
     "name": "stderr",
     "output_type": "stream",
     "text": [
      " 49%|████▉     | 4788/9766 [4:15:38<4:45:57,  3.45s/it]"
     ]
    },
    {
     "name": "stdout",
     "output_type": "stream",
     "text": [
      "0.9 32.6 0.01251099661279475 7.029196678676392e-06 0.5141832100595531\n"
     ]
    },
    {
     "name": "stderr",
     "output_type": "stream",
     "text": [
      " 49%|████▉     | 4790/9766 [4:15:47<5:42:08,  4.13s/it]"
     ]
    },
    {
     "name": "stdout",
     "output_type": "stream",
     "text": [
      "0.6 86.4 0.020683288978219534 1.2570840906944812e-05 0.40915589342319914\n"
     ]
    },
    {
     "name": "stderr",
     "output_type": "stream",
     "text": [
      " 49%|████▉     | 4793/9766 [4:15:57<5:01:23,  3.64s/it]"
     ]
    },
    {
     "name": "stdout",
     "output_type": "stream",
     "text": [
      "0.8 52.2 0.0062836953313342315 3.942476676500724e-09 0.5153397309396046\n"
     ]
    },
    {
     "name": "stderr",
     "output_type": "stream",
     "text": [
      " 49%|████▉     | 4796/9766 [4:16:05<4:17:18,  3.11s/it]"
     ]
    },
    {
     "name": "stdout",
     "output_type": "stream",
     "text": [
      "1.0 17.0 5.817084736196883e-06 6.577690783698998e-09 0.6481686924758028\n"
     ]
    },
    {
     "name": "stderr",
     "output_type": "stream",
     "text": [
      " 49%|████▉     | 4799/9766 [4:16:13<4:15:48,  3.09s/it]"
     ]
    },
    {
     "name": "stdout",
     "output_type": "stream",
     "text": [
      "0.9 29.8 0.0070292310704085734 2.1073424255447016e-09 0.3274288670331878\n"
     ]
    },
    {
     "name": "stderr",
     "output_type": "stream",
     "text": [
      " 49%|████▉     | 4802/9766 [4:16:22<4:03:22,  2.94s/it]"
     ]
    },
    {
     "name": "stdout",
     "output_type": "stream",
     "text": [
      "1.0 12.4 7.144700679025298e-06 3.597458544929467e-09 0.40754897823812797\n"
     ]
    },
    {
     "name": "stderr",
     "output_type": "stream",
     "text": [
      " 49%|████▉     | 4805/9766 [4:16:30<3:54:09,  2.83s/it]"
     ]
    },
    {
     "name": "stdout",
     "output_type": "stream",
     "text": [
      "1.0 13.4 6.612854706727335e-06 5.960464477539063e-09 0.5210933709921816\n"
     ]
    },
    {
     "name": "stderr",
     "output_type": "stream",
     "text": [
      " 49%|████▉     | 4807/9766 [4:16:40<5:46:49,  4.20s/it]"
     ]
    },
    {
     "name": "stdout",
     "output_type": "stream",
     "text": [
      "0.4 124.0 0.01885124944182013 5.140140269373623e-09 0.5146936232756861\n"
     ]
    },
    {
     "name": "stderr",
     "output_type": "stream",
     "text": [
      " 49%|████▉     | 4809/9766 [4:16:45<4:55:10,  3.57s/it]"
     ]
    },
    {
     "name": "stdout",
     "output_type": "stream",
     "text": [
      "1.0 10.6 5.969993539177779e-06 0.0 0.3719217978119821\n"
     ]
    },
    {
     "name": "stderr",
     "output_type": "stream",
     "text": [
      " 49%|████▉     | 4811/9766 [4:16:52<4:39:29,  3.38s/it]"
     ]
    },
    {
     "name": "stdout",
     "output_type": "stream",
     "text": [
      "1.0 17.2 7.142807063304687e-06 0.0 0.3184320166522391\n"
     ]
    },
    {
     "name": "stderr",
     "output_type": "stream",
     "text": [
      " 49%|████▉     | 4813/9766 [4:16:58<4:24:34,  3.20s/it]"
     ]
    },
    {
     "name": "stdout",
     "output_type": "stream",
     "text": [
      "1.0 13.2 4.179643109854005e-06 1.4901161193847657e-09 0.6462953943969927\n"
     ]
    },
    {
     "name": "stderr",
     "output_type": "stream",
     "text": [
      " 49%|████▉     | 4815/9766 [4:17:03<4:12:37,  3.06s/it]"
     ]
    },
    {
     "name": "stdout",
     "output_type": "stream",
     "text": [
      "1.0 11.6 3.4830600986625954e-06 0.0 0.46357202401265474\n"
     ]
    },
    {
     "name": "stderr",
     "output_type": "stream",
     "text": [
      " 49%|████▉     | 4817/9766 [4:17:10<4:31:10,  3.29s/it]"
     ]
    },
    {
     "name": "stdout",
     "output_type": "stream",
     "text": [
      "0.9 33.2 0.018854556788959455 4.822117056697294e-09 0.5091787072850111\n"
     ]
    },
    {
     "name": "stderr",
     "output_type": "stream",
     "text": [
      " 49%|████▉     | 4819/9766 [4:17:15<4:10:49,  3.04s/it]"
     ]
    },
    {
     "name": "stdout",
     "output_type": "stream",
     "text": [
      "1.0 8.4 3.088334586433155e-06 0.0 0.25975113489053603\n"
     ]
    },
    {
     "name": "stderr",
     "output_type": "stream",
     "text": [
      " 49%|████▉     | 4821/9766 [4:17:22<4:16:36,  3.11s/it]"
     ]
    },
    {
     "name": "stdout",
     "output_type": "stream",
     "text": [
      "1.0 14.8 5.008557447730553e-06 5.960464477539063e-09 0.518848120103929\n"
     ]
    },
    {
     "name": "stderr",
     "output_type": "stream",
     "text": [
      " 49%|████▉     | 4823/9766 [4:17:27<4:08:06,  3.01s/it]"
     ]
    },
    {
     "name": "stdout",
     "output_type": "stream",
     "text": [
      "1.0 11.8 4.814266262297309e-06 3.942476676500724e-09 0.4419900245377856\n"
     ]
    },
    {
     "name": "stderr",
     "output_type": "stream",
     "text": [
      " 49%|████▉     | 4825/9766 [4:17:35<4:46:57,  3.48s/it]"
     ]
    },
    {
     "name": "stdout",
     "output_type": "stream",
     "text": [
      "0.8 51.8 0.06222904416507428 2.388639051761046e-05 0.46999925430968237\n"
     ]
    },
    {
     "name": "stderr",
     "output_type": "stream",
     "text": [
      " 49%|████▉     | 4828/9766 [4:17:42<4:01:51,  2.94s/it]"
     ]
    },
    {
     "name": "stdout",
     "output_type": "stream",
     "text": [
      "1.0 10.6 5.8954784285826534e-06 1.4901161193847657e-09 0.3888732463664316\n"
     ]
    },
    {
     "name": "stderr",
     "output_type": "stream",
     "text": [
      " 49%|████▉     | 4830/9766 [4:17:48<4:06:14,  2.99s/it]"
     ]
    },
    {
     "name": "stdout",
     "output_type": "stream",
     "text": [
      "1.0 13.6 5.722533107293546e-06 6.0498191020454256e-09 0.2537025544862501\n"
     ]
    },
    {
     "name": "stderr",
     "output_type": "stream",
     "text": [
      " 49%|████▉     | 4832/9766 [4:17:54<4:00:39,  2.93s/it]"
     ]
    },
    {
     "name": "stdout",
     "output_type": "stream",
     "text": [
      "1.0 11.6 4.188694205375563e-06 2.1073424255447016e-09 0.4479573917609138\n"
     ]
    },
    {
     "name": "stderr",
     "output_type": "stream",
     "text": [
      " 50%|████▉     | 4835/9766 [4:18:02<3:53:45,  2.84s/it]"
     ]
    },
    {
     "name": "stdout",
     "output_type": "stream",
     "text": [
      "1.0 13.6 8.580734003446017e-06 4.071072947336551e-09 0.4798762163637192\n"
     ]
    },
    {
     "name": "stderr",
     "output_type": "stream",
     "text": [
      " 50%|████▉     | 4837/9766 [4:18:08<3:55:53,  2.87s/it]"
     ]
    },
    {
     "name": "stdout",
     "output_type": "stream",
     "text": [
      "1.0 11.6 5.24553709739209e-06 5.7048009704741684e-09 0.5842644211483055\n"
     ]
    },
    {
     "name": "stderr",
     "output_type": "stream",
     "text": [
      " 50%|████▉     | 4839/9766 [4:18:13<4:01:57,  2.95s/it]"
     ]
    },
    {
     "name": "stdout",
     "output_type": "stream",
     "text": [
      "1.0 15.0 9.346327871010674e-06 5.960464477539063e-09 0.47499256262496237\n"
     ]
    },
    {
     "name": "stderr",
     "output_type": "stream",
     "text": [
      " 50%|████▉     | 4841/9766 [4:18:20<4:17:18,  3.13s/it]"
     ]
    },
    {
     "name": "stdout",
     "output_type": "stream",
     "text": [
      "0.9 34.2 0.006320485114003313 7.027485770191814e-06 0.5537087207821026\n"
     ]
    },
    {
     "name": "stderr",
     "output_type": "stream",
     "text": [
      " 50%|████▉     | 4844/9766 [4:18:28<4:03:08,  2.96s/it]"
     ]
    },
    {
     "name": "stdout",
     "output_type": "stream",
     "text": [
      "1.0 13.2 6.488183162860732e-06 5.432592795885489e-09 0.43240094955916464\n"
     ]
    },
    {
     "name": "stderr",
     "output_type": "stream",
     "text": [
      " 50%|████▉     | 4847/9766 [4:18:37<4:16:03,  3.12s/it]"
     ]
    },
    {
     "name": "stdout",
     "output_type": "stream",
     "text": [
      "0.9 32.0 0.03776962100584942 7.027838257777074e-06 0.4549512353906214\n"
     ]
    },
    {
     "name": "stderr",
     "output_type": "stream",
     "text": [
      " 50%|████▉     | 4849/9766 [4:18:47<5:52:48,  4.31s/it]"
     ]
    },
    {
     "name": "stdout",
     "output_type": "stream",
     "text": [
      "0.4 124.8 0.01884952933010358 4.6882992534964865e-09 0.5692457099397037\n"
     ]
    },
    {
     "name": "stderr",
     "output_type": "stream",
     "text": [
      " 50%|████▉     | 4852/9766 [4:18:59<6:16:01,  4.59s/it]"
     ]
    },
    {
     "name": "stdout",
     "output_type": "stream",
     "text": [
      "0.4 127.4 0.018855994583219758 1.4901161193847657e-09 0.6701552159646822\n"
     ]
    },
    {
     "name": "stderr",
     "output_type": "stream",
     "text": [
      " 50%|████▉     | 4855/9766 [4:19:07<4:42:39,  3.45s/it]"
     ]
    },
    {
     "name": "stdout",
     "output_type": "stream",
     "text": [
      "1.0 14.8 5.455107589921628e-06 0.0 0.39124683377655106\n"
     ]
    },
    {
     "name": "stderr",
     "output_type": "stream",
     "text": [
      " 50%|████▉     | 4857/9766 [4:19:13<4:24:08,  3.23s/it]"
     ]
    },
    {
     "name": "stdout",
     "output_type": "stream",
     "text": [
      "1.0 12.8 3.7279748977715047e-06 4.470348358154297e-09 0.5051045471921631\n"
     ]
    },
    {
     "name": "stderr",
     "output_type": "stream",
     "text": [
      " 50%|████▉     | 4860/9766 [4:19:23<4:48:48,  3.53s/it]"
     ]
    },
    {
     "name": "stdout",
     "output_type": "stream",
     "text": [
      "0.7 70.2 0.00942737066219973 4.071072947336551e-09 0.5950229181613691\n"
     ]
    },
    {
     "name": "stderr",
     "output_type": "stream",
     "text": [
      " 50%|████▉     | 4863/9766 [4:19:31<4:11:47,  3.08s/it]"
     ]
    },
    {
     "name": "stdout",
     "output_type": "stream",
     "text": [
      "1.0 15.4 7.477775082361482e-06 5.140140269373623e-09 0.46477966788622904\n"
     ]
    },
    {
     "name": "stderr",
     "output_type": "stream",
     "text": [
      " 50%|████▉     | 4865/9766 [4:19:37<4:13:00,  3.10s/it]"
     ]
    },
    {
     "name": "stdout",
     "output_type": "stream",
     "text": [
      "1.0 12.0 6.99978867750957e-06 7.194917089858934e-09 0.4406333333551424\n"
     ]
    },
    {
     "name": "stderr",
     "output_type": "stream",
     "text": [
      " 50%|████▉     | 4867/9766 [4:19:45<4:46:10,  3.50s/it]"
     ]
    },
    {
     "name": "stdout",
     "output_type": "stream",
     "text": [
      "0.8 52.4 0.024059559092341445 2.479996476675223e-05 0.4579641704765402\n"
     ]
    },
    {
     "name": "stderr",
     "output_type": "stream",
     "text": [
      " 50%|████▉     | 4870/9766 [4:19:56<5:27:46,  4.02s/it]"
     ]
    },
    {
     "name": "stdout",
     "output_type": "stream",
     "text": [
      "0.5 105.2 0.05666559957415086 5.087574664314233e-09 0.4799906132494408\n"
     ]
    },
    {
     "name": "stderr",
     "output_type": "stream",
     "text": [
      " 50%|████▉     | 4873/9766 [4:20:07<5:50:24,  4.30s/it]"
     ]
    },
    {
     "name": "stdout",
     "output_type": "stream",
     "text": [
      "0.5 106.4 0.015711577490446736 4.214684851089403e-09 0.549738305128408\n"
     ]
    },
    {
     "name": "stderr",
     "output_type": "stream",
     "text": [
      " 50%|████▉     | 4876/9766 [4:20:16<4:37:28,  3.40s/it]"
     ]
    },
    {
     "name": "stdout",
     "output_type": "stream",
     "text": [
      "0.9 32.0 0.006864817245965248 1.7779368465021922e-05 0.4577696288564071\n"
     ]
    },
    {
     "name": "stderr",
     "output_type": "stream",
     "text": [
      " 50%|████▉     | 4878/9766 [4:20:22<4:42:19,  3.47s/it]"
     ]
    },
    {
     "name": "stdout",
     "output_type": "stream",
     "text": [
      "0.9 31.6 0.006889732709900511 1.4049452906370196e-05 0.5122283277465934\n"
     ]
    },
    {
     "name": "stderr",
     "output_type": "stream",
     "text": [
      " 50%|████▉     | 4881/9766 [4:20:32<4:48:24,  3.54s/it]"
     ]
    },
    {
     "name": "stdout",
     "output_type": "stream",
     "text": [
      "0.8 49.6 0.05273113727713448 1.8351268305503894e-05 0.43217681939551156\n"
     ]
    },
    {
     "name": "stderr",
     "output_type": "stream",
     "text": [
      " 50%|█████     | 4884/9766 [4:20:40<4:08:38,  3.06s/it]"
     ]
    },
    {
     "name": "stdout",
     "output_type": "stream",
     "text": [
      "1.0 14.2 5.578335533247655e-06 0.0 0.5894421078728768\n"
     ]
    },
    {
     "name": "stderr",
     "output_type": "stream",
     "text": [
      " 50%|█████     | 4887/9766 [4:20:48<3:54:06,  2.88s/it]"
     ]
    },
    {
     "name": "stdout",
     "output_type": "stream",
     "text": [
      "1.0 12.6 4.990968377472738e-06 0.0 0.5295504594557997\n"
     ]
    },
    {
     "name": "stderr",
     "output_type": "stream",
     "text": [
      " 50%|█████     | 4889/9766 [4:20:55<4:09:07,  3.06s/it]"
     ]
    },
    {
     "name": "stdout",
     "output_type": "stream",
     "text": [
      "0.9 31.6 0.019895056278736088 6.2885257565358735e-06 0.34306010233470235\n"
     ]
    },
    {
     "name": "stderr",
     "output_type": "stream",
     "text": [
      " 50%|█████     | 4892/9766 [4:21:03<4:15:28,  3.15s/it]"
     ]
    },
    {
     "name": "stdout",
     "output_type": "stream",
     "text": [
      "0.9 33.0 0.021085668031707607 6.577690783698998e-09 0.4318331198438618\n"
     ]
    },
    {
     "name": "stderr",
     "output_type": "stream",
     "text": [
      " 50%|█████     | 4895/9766 [4:21:12<4:12:32,  3.11s/it]"
     ]
    },
    {
     "name": "stdout",
     "output_type": "stream",
     "text": [
      "0.9 32.0 0.02539899862313528 7.028467194204865e-06 0.5490556756698426\n"
     ]
    },
    {
     "name": "stderr",
     "output_type": "stream",
     "text": [
      " 50%|█████     | 4898/9766 [4:21:21<4:25:09,  3.27s/it]"
     ]
    },
    {
     "name": "stdout",
     "output_type": "stream",
     "text": [
      "0.8 51.2 0.05192785977038861 1.4056085182885311e-05 0.41983601553694233\n"
     ]
    },
    {
     "name": "stderr",
     "output_type": "stream",
     "text": [
      " 50%|█████     | 4900/9766 [4:21:27<4:09:22,  3.07s/it]"
     ]
    },
    {
     "name": "stdout",
     "output_type": "stream",
     "text": [
      "1.0 12.8 5.131260335667087e-06 2.1073424255447016e-09 0.4395999208837259\n"
     ]
    },
    {
     "name": "stderr",
     "output_type": "stream",
     "text": [
      " 50%|█████     | 4902/9766 [4:21:33<4:08:26,  3.06s/it]"
     ]
    },
    {
     "name": "stdout",
     "output_type": "stream",
     "text": [
      "1.0 13.8 5.295931292025449e-06 0.0 0.3873090726065217\n"
     ]
    },
    {
     "name": "stderr",
     "output_type": "stream",
     "text": [
      " 50%|█████     | 4905/9766 [4:21:41<3:48:04,  2.82s/it]"
     ]
    },
    {
     "name": "stdout",
     "output_type": "stream",
     "text": [
      "1.0 14.2 5.27052467714e-06 0.0 0.5555018447037785\n"
     ]
    },
    {
     "name": "stderr",
     "output_type": "stream",
     "text": [
      " 50%|█████     | 4907/9766 [4:21:46<3:49:59,  2.84s/it]"
     ]
    },
    {
     "name": "stdout",
     "output_type": "stream",
     "text": [
      "1.0 13.8 1.004159956477857e-05 5.432592795885489e-09 0.5558952337647229\n"
     ]
    },
    {
     "name": "stderr",
     "output_type": "stream",
     "text": [
      " 50%|█████     | 4910/9766 [4:21:54<3:42:59,  2.76s/it]"
     ]
    },
    {
     "name": "stdout",
     "output_type": "stream",
     "text": [
      "1.0 16.6 8.132707891516477e-06 6.230980977940642e-09 0.5466028677897086\n"
     ]
    },
    {
     "name": "stderr",
     "output_type": "stream",
     "text": [
      " 50%|█████     | 4913/9766 [4:22:02<3:42:25,  2.75s/it]"
     ]
    },
    {
     "name": "stdout",
     "output_type": "stream",
     "text": [
      "1.0 14.2 6.832706942355341e-06 2.9802322387695314e-09 0.4972566730869044\n"
     ]
    },
    {
     "name": "stderr",
     "output_type": "stream",
     "text": [
      " 50%|█████     | 4916/9766 [4:22:10<3:43:33,  2.77s/it]"
     ]
    },
    {
     "name": "stdout",
     "output_type": "stream",
     "text": [
      "1.0 13.2 5.000719898315007e-06 5.087574664314233e-09 0.4505684101038717\n"
     ]
    },
    {
     "name": "stderr",
     "output_type": "stream",
     "text": [
      " 50%|█████     | 4918/9766 [4:22:16<4:09:24,  3.09s/it]"
     ]
    },
    {
     "name": "stdout",
     "output_type": "stream",
     "text": [
      "0.9 32.8 0.013025820231407198 7.025300168354217e-06 0.48671203194411267\n"
     ]
    },
    {
     "name": "stderr",
     "output_type": "stream",
     "text": [
      " 50%|█████     | 4920/9766 [4:22:22<4:01:03,  2.98s/it]"
     ]
    },
    {
     "name": "stdout",
     "output_type": "stream",
     "text": [
      "1.0 12.2 6.537556452520099e-06 3.597458544929467e-09 0.3500522176782909\n"
     ]
    },
    {
     "name": "stderr",
     "output_type": "stream",
     "text": [
      " 50%|█████     | 4923/9766 [4:22:31<4:04:45,  3.03s/it]"
     ]
    },
    {
     "name": "stdout",
     "output_type": "stream",
     "text": [
      "1.0 14.4 4.783826755601648e-06 1.4901161193847657e-09 0.4791143945683401\n"
     ]
    },
    {
     "name": "stderr",
     "output_type": "stream",
     "text": [
      " 50%|█████     | 4925/9766 [4:22:37<4:16:04,  3.17s/it]"
     ]
    },
    {
     "name": "stdout",
     "output_type": "stream",
     "text": [
      "0.9 32.0 0.01295816139252616 0.0 0.45490230540141524\n"
     ]
    },
    {
     "name": "stderr",
     "output_type": "stream",
     "text": [
      " 50%|█████     | 4928/9766 [4:22:46<4:11:18,  3.12s/it]"
     ]
    },
    {
     "name": "stdout",
     "output_type": "stream",
     "text": [
      "0.9 31.2 0.050659829520589894 2.1073424255447016e-09 0.4380515619549376\n"
     ]
    },
    {
     "name": "stderr",
     "output_type": "stream",
     "text": [
      " 50%|█████     | 4931/9766 [4:22:55<4:29:45,  3.35s/it]"
     ]
    },
    {
     "name": "stdout",
     "output_type": "stream",
     "text": [
      "0.8 49.4 0.040084228712071734 1.4051174119567814e-05 0.5347965876574491\n"
     ]
    },
    {
     "name": "stderr",
     "output_type": "stream",
     "text": [
      " 51%|█████     | 4934/9766 [4:23:04<4:12:42,  3.14s/it]"
     ]
    },
    {
     "name": "stdout",
     "output_type": "stream",
     "text": [
      "1.0 16.4 5.061224797596378e-06 2.9802322387695314e-09 0.602063599010704\n"
     ]
    },
    {
     "name": "stderr",
     "output_type": "stream",
     "text": [
      " 51%|█████     | 4937/9766 [4:23:13<4:13:18,  3.15s/it]"
     ]
    },
    {
     "name": "stdout",
     "output_type": "stream",
     "text": [
      "0.9 32.4 0.006903533927780714 1.691920946926505e-05 0.29727364648471283\n"
     ]
    },
    {
     "name": "stderr",
     "output_type": "stream",
     "text": [
      " 51%|█████     | 4940/9766 [4:23:22<4:13:10,  3.15s/it]"
     ]
    },
    {
     "name": "stdout",
     "output_type": "stream",
     "text": [
      "0.9 33.0 0.026894975073695832 7.027981617985944e-06 0.5632837300971334\n"
     ]
    },
    {
     "name": "stderr",
     "output_type": "stream",
     "text": [
      " 51%|█████     | 4943/9766 [4:23:30<4:11:11,  3.12s/it]"
     ]
    },
    {
     "name": "stdout",
     "output_type": "stream",
     "text": [
      "0.9 30.4 0.012955578996074763 4.470348358154297e-09 0.4299032207519146\n"
     ]
    },
    {
     "name": "stderr",
     "output_type": "stream",
     "text": [
      " 51%|█████     | 4946/9766 [4:23:39<4:06:54,  3.07s/it]"
     ]
    },
    {
     "name": "stdout",
     "output_type": "stream",
     "text": [
      "0.9 33.6 0.015713016686296648 0.0 0.43468812874348883\n"
     ]
    },
    {
     "name": "stderr",
     "output_type": "stream",
     "text": [
      " 51%|█████     | 4949/9766 [4:23:46<3:42:47,  2.78s/it]"
     ]
    },
    {
     "name": "stdout",
     "output_type": "stream",
     "text": [
      "1.0 14.2 5.44292325548451e-06 0.0 0.46505344918641195\n"
     ]
    },
    {
     "name": "stderr",
     "output_type": "stream",
     "text": [
      " 51%|█████     | 4952/9766 [4:23:56<4:26:04,  3.32s/it]"
     ]
    },
    {
     "name": "stdout",
     "output_type": "stream",
     "text": [
      "0.7 73.0 0.058763203386433496 1.405694377893426e-05 0.4764589948598822\n"
     ]
    },
    {
     "name": "stderr",
     "output_type": "stream",
     "text": [
      " 51%|█████     | 4955/9766 [4:24:06<4:58:53,  3.73s/it]"
     ]
    },
    {
     "name": "stdout",
     "output_type": "stream",
     "text": [
      "0.6 87.8 0.05586211725394095 2.8099611763369465e-05 0.4547398560521123\n"
     ]
    },
    {
     "name": "stderr",
     "output_type": "stream",
     "text": [
      " 51%|█████     | 4958/9766 [4:24:14<4:01:22,  3.01s/it]"
     ]
    },
    {
     "name": "stdout",
     "output_type": "stream",
     "text": [
      "1.0 10.2 3.7416411032180657e-06 2.580956827951785e-09 0.4294995302242549\n"
     ]
    },
    {
     "name": "stderr",
     "output_type": "stream",
     "text": [
      " 51%|█████     | 4961/9766 [4:24:23<4:12:42,  3.16s/it]"
     ]
    },
    {
     "name": "stdout",
     "output_type": "stream",
     "text": [
      "0.8 50.2 0.03320381044039099 7.031094427081853e-06 0.4555807651782162\n"
     ]
    },
    {
     "name": "stderr",
     "output_type": "stream",
     "text": [
      " 51%|█████     | 4963/9766 [4:24:31<5:10:02,  3.87s/it]"
     ]
    },
    {
     "name": "stdout",
     "output_type": "stream",
     "text": [
      "0.7 70.4 0.044523869662681945 1.4049364773739133e-05 0.45782592691105206\n"
     ]
    },
    {
     "name": "stderr",
     "output_type": "stream",
     "text": [
      " 51%|█████     | 4966/9766 [4:24:41<4:45:10,  3.56s/it]"
     ]
    },
    {
     "name": "stdout",
     "output_type": "stream",
     "text": [
      "0.9 30.2 0.015743617973749135 7.0277485349887e-06 0.4222060251999814\n"
     ]
    },
    {
     "name": "stderr",
     "output_type": "stream",
     "text": [
      " 51%|█████     | 4969/9766 [4:24:50<4:34:14,  3.43s/it]"
     ]
    },
    {
     "name": "stdout",
     "output_type": "stream",
     "text": [
      "0.8 51.0 0.03412297837107829 6.2852925302695034e-06 0.45294583562825547\n"
     ]
    },
    {
     "name": "stderr",
     "output_type": "stream",
     "text": [
      " 51%|█████     | 4972/9766 [4:25:04<6:20:23,  4.76s/it]"
     ]
    },
    {
     "name": "stdout",
     "output_type": "stream",
     "text": [
      "0.2 163.8 0.07668098998328235 1.331356301647236e-05 0.578630537192263\n"
     ]
    },
    {
     "name": "stderr",
     "output_type": "stream",
     "text": [
      " 51%|█████     | 4975/9766 [4:25:17<6:41:51,  5.03s/it]"
     ]
    },
    {
     "name": "stdout",
     "output_type": "stream",
     "text": [
      "0.3 142.6 0.05700666463618389 1.3308415413864244e-05 0.4759829252593818\n"
     ]
    },
    {
     "name": "stderr",
     "output_type": "stream",
     "text": [
      " 51%|█████     | 4979/9766 [4:25:31<6:06:49,  4.60s/it]"
     ]
    },
    {
     "name": "stdout",
     "output_type": "stream",
     "text": [
      "0.3 143.0 0.03147831207617005 7.02804902002472e-06 0.5794874165872693\n"
     ]
    },
    {
     "name": "stderr",
     "output_type": "stream",
     "text": [
      " 51%|█████     | 4982/9766 [4:25:47<7:41:44,  5.79s/it]"
     ]
    },
    {
     "name": "stdout",
     "output_type": "stream",
     "text": [
      "0.1 182.0 0.05039021052786683 2.1073424255447016e-09 0.481374695199983\n"
     ]
    },
    {
     "name": "stderr",
     "output_type": "stream",
     "text": [
      " 51%|█████     | 4985/9766 [4:25:58<6:20:31,  4.78s/it]"
     ]
    },
    {
     "name": "stdout",
     "output_type": "stream",
     "text": [
      "0.6 88.2 0.07033545752320536 1.4050114675588964e-05 0.423562009591795\n"
     ]
    },
    {
     "name": "stderr",
     "output_type": "stream",
     "text": [
      " 51%|█████     | 4988/9766 [4:26:10<5:58:44,  4.50s/it]"
     ]
    },
    {
     "name": "stdout",
     "output_type": "stream",
     "text": [
      "0.5 105.6 0.051573541382106694 1.4049541158640491e-05 0.3963121997370301\n"
     ]
    },
    {
     "name": "stderr",
     "output_type": "stream",
     "text": [
      " 51%|█████     | 4991/9766 [4:26:22<6:18:31,  4.76s/it]"
     ]
    },
    {
     "name": "stdout",
     "output_type": "stream",
     "text": [
      "0.4 124.4 0.062330035596250735 2.9680791557674127e-05 0.52098332387895\n"
     ]
    },
    {
     "name": "stderr",
     "output_type": "stream",
     "text": [
      " 51%|█████     | 4994/9766 [4:26:35<6:29:24,  4.90s/it]"
     ]
    },
    {
     "name": "stdout",
     "output_type": "stream",
     "text": [
      "0.4 125.2 0.06634665347621976 1.4054198458424176e-05 0.391711850007275\n"
     ]
    },
    {
     "name": "stderr",
     "output_type": "stream",
     "text": [
      " 51%|█████     | 4997/9766 [4:26:48<6:31:19,  4.92s/it]"
     ]
    },
    {
     "name": "stdout",
     "output_type": "stream",
     "text": [
      "0.4 125.0 0.07109730257459998 1.3312888819879798e-05 0.290320696502205\n"
     ]
    },
    {
     "name": "stderr",
     "output_type": "stream",
     "text": [
      " 51%|█████     | 5000/9766 [4:27:03<7:35:44,  5.74s/it]"
     ]
    },
    {
     "name": "stdout",
     "output_type": "stream",
     "text": [
      "0.0 200.0 0.031416743823207006 2.1073424255447016e-09 0.48039860641739346\n"
     ]
    },
    {
     "name": "stderr",
     "output_type": "stream",
     "text": [
      " 51%|█████     | 5003/9766 [4:27:16<6:56:03,  5.24s/it]"
     ]
    },
    {
     "name": "stdout",
     "output_type": "stream",
     "text": [
      "0.4 126.0 0.03141808906327688 2.9802322387695314e-09 0.5396056729179565\n"
     ]
    },
    {
     "name": "stderr",
     "output_type": "stream",
     "text": [
      " 51%|█████▏    | 5006/9766 [4:27:27<5:57:37,  4.51s/it]"
     ]
    },
    {
     "name": "stdout",
     "output_type": "stream",
     "text": [
      "0.5 105.0 0.04885619532442242 6.2911947734457625e-06 0.3967672566542705\n"
     ]
    },
    {
     "name": "stderr",
     "output_type": "stream",
     "text": [
      " 51%|█████▏    | 5009/9766 [4:27:38<5:49:39,  4.41s/it]"
     ]
    },
    {
     "name": "stdout",
     "output_type": "stream",
     "text": [
      "0.5 111.0 0.056625975744520905 7.028534255933905e-06 0.6241863441687636\n"
     ]
    },
    {
     "name": "stderr",
     "output_type": "stream",
     "text": [
      " 51%|█████▏    | 5012/9766 [4:27:50<5:55:25,  4.49s/it]"
     ]
    },
    {
     "name": "stdout",
     "output_type": "stream",
     "text": [
      "0.4 123.0 0.0345545699538294 1.4901161193847657e-09 0.39164705979322323\n"
     ]
    },
    {
     "name": "stderr",
     "output_type": "stream",
     "text": [
      " 51%|█████▏    | 5015/9766 [4:28:06<7:39:35,  5.80s/it]"
     ]
    },
    {
     "name": "stdout",
     "output_type": "stream",
     "text": [
      "0.1 180.6 0.040837602496826796 6.577690783698998e-09 0.44501566033805595\n"
     ]
    },
    {
     "name": "stderr",
     "output_type": "stream",
     "text": [
      " 51%|█████▏    | 5018/9766 [4:28:15<5:40:52,  4.31s/it]"
     ]
    },
    {
     "name": "stdout",
     "output_type": "stream",
     "text": [
      "0.8 49.8 0.009429313072344538 7.194917089858934e-09 0.5776602674143476\n"
     ]
    },
    {
     "name": "stderr",
     "output_type": "stream",
     "text": [
      " 51%|█████▏    | 5021/9766 [4:28:28<6:06:42,  4.64s/it]"
     ]
    },
    {
     "name": "stdout",
     "output_type": "stream",
     "text": [
      "0.3 144.6 0.01892206123906057 7.0259958121224155e-06 0.4697414354235634\n"
     ]
    },
    {
     "name": "stderr",
     "output_type": "stream",
     "text": [
      " 51%|█████▏    | 5024/9766 [4:28:42<7:14:51,  5.50s/it]"
     ]
    },
    {
     "name": "stdout",
     "output_type": "stream",
     "text": [
      "0.1 181.0 0.05820951187688742 2.1079741122085982e-05 0.6262945597130831\n"
     ]
    },
    {
     "name": "stderr",
     "output_type": "stream",
     "text": [
      " 51%|█████▏    | 5027/9766 [4:28:58<7:44:35,  5.88s/it]"
     ]
    },
    {
     "name": "stdout",
     "output_type": "stream",
     "text": [
      "0.0 200.0 0.04236611900293277 7.024064406581451e-06 0.3362665782332864\n"
     ]
    },
    {
     "name": "stderr",
     "output_type": "stream",
     "text": [
      " 52%|█████▏    | 5030/9766 [4:29:12<7:37:05,  5.79s/it]"
     ]
    },
    {
     "name": "stdout",
     "output_type": "stream",
     "text": [
      "0.1 180.4 0.03922701749548926 7.0274853099820085e-06 0.43424426879723005\n"
     ]
    },
    {
     "name": "stderr",
     "output_type": "stream",
     "text": [
      " 52%|█████▏    | 5033/9766 [4:29:25<6:55:08,  5.26s/it]"
     ]
    },
    {
     "name": "stdout",
     "output_type": "stream",
     "text": [
      "0.3 144.6 0.047259293402988255 1.4050942930368373e-05 0.4384683788627183\n"
     ]
    },
    {
     "name": "stderr",
     "output_type": "stream",
     "text": [
      " 52%|█████▏    | 5037/9766 [4:29:37<5:10:12,  3.94s/it]"
     ]
    },
    {
     "name": "stdout",
     "output_type": "stream",
     "text": [
      "0.6 86.6 0.02513955026256488 5.704800970474169e-09 0.5203282625856616\n"
     ]
    },
    {
     "name": "stderr",
     "output_type": "stream",
     "text": [
      " 52%|█████▏    | 5041/9766 [4:29:53<6:24:19,  4.88s/it]"
     ]
    },
    {
     "name": "stdout",
     "output_type": "stream",
     "text": [
      "0.0 200.0 0.059698444722899 0.0 0.5912663753392037\n"
     ]
    },
    {
     "name": "stderr",
     "output_type": "stream",
     "text": [
      " 52%|█████▏    | 5045/9766 [4:30:06<5:37:41,  4.29s/it]"
     ]
    },
    {
     "name": "stdout",
     "output_type": "stream",
     "text": [
      "0.4 125.2 0.03142030444372496 5.087574664314233e-09 0.40838575503247476\n"
     ]
    },
    {
     "name": "stderr",
     "output_type": "stream",
     "text": [
      " 52%|█████▏    | 5048/9766 [4:30:20<6:51:21,  5.23s/it]"
     ]
    },
    {
     "name": "stdout",
     "output_type": "stream",
     "text": [
      "0.1 180.6 0.06603801397663106 7.026139110746596e-06 0.30613459500511664\n"
     ]
    },
    {
     "name": "stderr",
     "output_type": "stream",
     "text": [
      " 52%|█████▏    | 5051/9766 [4:30:30<5:27:50,  4.17s/it]"
     ]
    },
    {
     "name": "stdout",
     "output_type": "stream",
     "text": [
      "0.7 69.8 0.0442531779516588 7.031701335050662e-06 0.6674784339836598\n"
     ]
    },
    {
     "name": "stderr",
     "output_type": "stream",
     "text": [
      " 52%|█████▏    | 5055/9766 [4:30:44<5:42:56,  4.37s/it]"
     ]
    },
    {
     "name": "stdout",
     "output_type": "stream",
     "text": [
      "0.3 143.4 0.04084284602724082 2.9802322387695314e-09 0.41787840276724275\n"
     ]
    },
    {
     "name": "stderr",
     "output_type": "stream",
     "text": [
      " 52%|█████▏    | 5058/9766 [4:30:54<5:25:10,  4.14s/it]"
     ]
    },
    {
     "name": "stdout",
     "output_type": "stream",
     "text": [
      "0.5 107.4 0.037766570749865926 7.0291947172143e-06 0.348259085970105\n"
     ]
    },
    {
     "name": "stderr",
     "output_type": "stream",
     "text": [
      " 52%|█████▏    | 5061/9766 [4:31:09<7:00:15,  5.36s/it]"
     ]
    },
    {
     "name": "stdout",
     "output_type": "stream",
     "text": [
      "0.1 180.8 0.02827417496293889 3.597458544929467e-09 0.5609828375738173\n"
     ]
    },
    {
     "name": "stderr",
     "output_type": "stream",
     "text": [
      " 52%|█████▏    | 5064/9766 [4:31:23<7:02:01,  5.39s/it]"
     ]
    },
    {
     "name": "stdout",
     "output_type": "stream",
     "text": [
      "0.2 162.2 0.025139685826801046 8.541421305490849e-09 0.6132684981813868\n"
     ]
    },
    {
     "name": "stderr",
     "output_type": "stream",
     "text": [
      " 52%|█████▏    | 5067/9766 [4:31:35<6:39:27,  5.10s/it]"
     ]
    },
    {
     "name": "stdout",
     "output_type": "stream",
     "text": [
      "0.3 143.0 0.04084068871152998 5.704800970474169e-09 0.499933745349292\n"
     ]
    },
    {
     "name": "stderr",
     "output_type": "stream",
     "text": [
      " 52%|█████▏    | 5071/9766 [4:31:48<5:16:31,  4.05s/it]"
     ]
    },
    {
     "name": "stdout",
     "output_type": "stream",
     "text": [
      "0.5 106.4 0.03141612476603335 1.1324147432232511e-05 0.3273157288606282\n"
     ]
    },
    {
     "name": "stderr",
     "output_type": "stream",
     "text": [
      " 52%|█████▏    | 5075/9766 [4:32:02<5:40:23,  4.35s/it]"
     ]
    },
    {
     "name": "stdout",
     "output_type": "stream",
     "text": [
      "0.3 142.6 0.0627125709494214 1.33124714904838e-05 0.43145916264792267\n"
     ]
    },
    {
     "name": "stderr",
     "output_type": "stream",
     "text": [
      " 52%|█████▏    | 5078/9766 [4:32:10<4:28:12,  3.43s/it]"
     ]
    },
    {
     "name": "stdout",
     "output_type": "stream",
     "text": [
      "0.9 31.2 0.050269896607910605 6.283382379143761e-06 0.6537116075378391\n"
     ]
    },
    {
     "name": "stderr",
     "output_type": "stream",
     "text": [
      " 52%|█████▏    | 5081/9766 [4:32:18<3:46:59,  2.91s/it]"
     ]
    },
    {
     "name": "stdout",
     "output_type": "stream",
     "text": [
      "1.0 12.4 5.698859722246953e-06 4.470348358154297e-09 0.4073512372738306\n"
     ]
    },
    {
     "name": "stderr",
     "output_type": "stream",
     "text": [
      " 52%|█████▏    | 5084/9766 [4:32:26<3:51:16,  2.96s/it]"
     ]
    },
    {
     "name": "stdout",
     "output_type": "stream",
     "text": [
      "1.0 15.6 5.629764794656746e-06 0.0 0.5278900048624319\n"
     ]
    },
    {
     "name": "stderr",
     "output_type": "stream",
     "text": [
      " 52%|█████▏    | 5087/9766 [4:32:34<3:44:26,  2.88s/it]"
     ]
    },
    {
     "name": "stdout",
     "output_type": "stream",
     "text": [
      "1.0 15.6 6.786192713175804e-06 2.9802322387695314e-09 0.42609230241276713\n"
     ]
    },
    {
     "name": "stderr",
     "output_type": "stream",
     "text": [
      " 52%|█████▏    | 5090/9766 [4:32:42<3:35:31,  2.77s/it]"
     ]
    },
    {
     "name": "stdout",
     "output_type": "stream",
     "text": [
      "1.0 12.8 7.5840263359977075e-06 4.214684851089403e-09 0.4746296866630348\n"
     ]
    },
    {
     "name": "stderr",
     "output_type": "stream",
     "text": [
      " 52%|█████▏    | 5092/9766 [4:32:48<3:43:22,  2.87s/it]"
     ]
    },
    {
     "name": "stdout",
     "output_type": "stream",
     "text": [
      "1.0 16.2 9.62261407670976e-06 2.1073424255447016e-09 0.5733354122010061\n"
     ]
    },
    {
     "name": "stderr",
     "output_type": "stream",
     "text": [
      " 52%|█████▏    | 5095/9766 [4:32:57<4:23:01,  3.38s/it]"
     ]
    },
    {
     "name": "stdout",
     "output_type": "stream",
     "text": [
      "0.7 69.6 0.025390475668149403 6.289047054350817e-06 0.5107872511345125\n"
     ]
    },
    {
     "name": "stderr",
     "output_type": "stream",
     "text": [
      " 52%|█████▏    | 5097/9766 [4:33:04<4:25:40,  3.41s/it]"
     ]
    },
    {
     "name": "stdout",
     "output_type": "stream",
     "text": [
      "0.9 33.2 0.019874401536271263 2.9802322387695314e-09 0.48856150630107037\n"
     ]
    },
    {
     "name": "stderr",
     "output_type": "stream",
     "text": [
      " 52%|█████▏    | 5100/9766 [4:33:12<3:53:08,  3.00s/it]"
     ]
    },
    {
     "name": "stdout",
     "output_type": "stream",
     "text": [
      "1.0 16.4 7.294396869316532e-06 6.0498191020454256e-09 0.6425415317487205\n"
     ]
    },
    {
     "name": "stderr",
     "output_type": "stream",
     "text": [
      " 52%|█████▏    | 5102/9766 [4:33:17<3:44:30,  2.89s/it]"
     ]
    },
    {
     "name": "stdout",
     "output_type": "stream",
     "text": [
      "1.0 10.0 4.398058045222901e-06 0.0 0.46262068527388756\n"
     ]
    },
    {
     "name": "stderr",
     "output_type": "stream",
     "text": [
      " 52%|█████▏    | 5105/9766 [4:33:26<3:43:52,  2.88s/it]"
     ]
    },
    {
     "name": "stdout",
     "output_type": "stream",
     "text": [
      "0.9 29.6 0.025392303201145744 7.030166376231905e-06 0.3700302498584481\n"
     ]
    },
    {
     "name": "stderr",
     "output_type": "stream",
     "text": [
      " 52%|█████▏    | 5107/9766 [4:33:33<4:15:44,  3.29s/it]"
     ]
    },
    {
     "name": "stdout",
     "output_type": "stream",
     "text": [
      "0.8 48.4 0.0511730490771425 1.404958492364922e-05 0.3639935920660391\n"
     ]
    },
    {
     "name": "stderr",
     "output_type": "stream",
     "text": [
      " 52%|█████▏    | 5110/9766 [4:33:42<4:20:41,  3.36s/it]"
     ]
    },
    {
     "name": "stdout",
     "output_type": "stream",
     "text": [
      "0.8 52.8 0.03005574480346866 7.024849065872593e-06 0.5764779544102269\n"
     ]
    },
    {
     "name": "stderr",
     "output_type": "stream",
     "text": [
      " 52%|█████▏    | 5113/9766 [4:33:55<5:44:10,  4.44s/it]"
     ]
    },
    {
     "name": "stdout",
     "output_type": "stream",
     "text": [
      "0.3 143.0 0.04184671989914437 4.071072947336551e-09 0.6401627100863909\n"
     ]
    },
    {
     "name": "stderr",
     "output_type": "stream",
     "text": [
      " 52%|█████▏    | 5116/9766 [4:34:05<5:15:49,  4.08s/it]"
     ]
    },
    {
     "name": "stdout",
     "output_type": "stream",
     "text": [
      "0.6 88.0 0.01257016075503627 4.071072947336551e-09 0.46680210760466423\n"
     ]
    },
    {
     "name": "stderr",
     "output_type": "stream",
     "text": [
      " 52%|█████▏    | 5118/9766 [4:34:11<4:42:24,  3.65s/it]"
     ]
    },
    {
     "name": "stdout",
     "output_type": "stream",
     "text": [
      "0.9 32.0 0.018855112704665177 6.283589580805228e-06 0.47001487924298646\n"
     ]
    },
    {
     "name": "stderr",
     "output_type": "stream",
     "text": [
      " 52%|█████▏    | 5120/9766 [4:34:17<4:12:32,  3.26s/it]"
     ]
    },
    {
     "name": "stdout",
     "output_type": "stream",
     "text": [
      "1.0 17.6 9.174816544884419e-06 5.087574664314233e-09 0.6396999898194278\n"
     ]
    },
    {
     "name": "stderr",
     "output_type": "stream",
     "text": [
      " 52%|█████▏    | 5123/9766 [4:34:25<3:55:18,  3.04s/it]"
     ]
    },
    {
     "name": "stdout",
     "output_type": "stream",
     "text": [
      "0.9 30.4 0.00889071092022477 0.0 0.3616977628110438\n"
     ]
    },
    {
     "name": "stderr",
     "output_type": "stream",
     "text": [
      " 52%|█████▏    | 5126/9766 [4:34:35<4:20:16,  3.37s/it]"
     ]
    },
    {
     "name": "stdout",
     "output_type": "stream",
     "text": [
      "0.8 49.2 0.0479897398371528 7.024284896702702e-06 0.4450213238277442\n"
     ]
    },
    {
     "name": "stderr",
     "output_type": "stream",
     "text": [
      " 53%|█████▎    | 5128/9766 [4:34:41<4:15:30,  3.31s/it]"
     ]
    },
    {
     "name": "stdout",
     "output_type": "stream",
     "text": [
      "0.9 32.4 0.025394003100222867 7.025035301540925e-06 0.42534369583452447\n"
     ]
    },
    {
     "name": "stderr",
     "output_type": "stream",
     "text": [
      " 53%|█████▎    | 5131/9766 [4:34:51<4:36:55,  3.58s/it]"
     ]
    },
    {
     "name": "stdout",
     "output_type": "stream",
     "text": [
      "0.7 71.0 0.0436595332995656 6.284764488188005e-06 0.4718026062692033\n"
     ]
    },
    {
     "name": "stderr",
     "output_type": "stream",
     "text": [
      " 53%|█████▎    | 5133/9766 [4:34:58<4:39:48,  3.62s/it]"
     ]
    },
    {
     "name": "stdout",
     "output_type": "stream",
     "text": [
      "0.8 50.4 0.014055103170372221 4.470348358154297e-09 0.5855469472213278\n"
     ]
    },
    {
     "name": "stderr",
     "output_type": "stream",
     "text": [
      " 53%|█████▎    | 5136/9766 [4:35:07<4:31:02,  3.51s/it]"
     ]
    },
    {
     "name": "stdout",
     "output_type": "stream",
     "text": [
      "0.8 50.8 0.0062915688905376636 5.575503985246929e-09 0.4782773532788861\n"
     ]
    },
    {
     "name": "stderr",
     "output_type": "stream",
     "text": [
      " 53%|█████▎    | 5139/9766 [4:35:19<5:17:32,  4.12s/it]"
     ]
    },
    {
     "name": "stdout",
     "output_type": "stream",
     "text": [
      "0.5 107.2 0.03141631303616333 6.0498191020454256e-09 0.58169175962968\n"
     ]
    },
    {
     "name": "stderr",
     "output_type": "stream",
     "text": [
      " 53%|█████▎    | 5142/9766 [4:35:29<5:07:59,  4.00s/it]"
     ]
    },
    {
     "name": "stdout",
     "output_type": "stream",
     "text": [
      "0.6 88.0 0.012567156856406723 4.822117056697294e-09 0.5339852031930709\n"
     ]
    },
    {
     "name": "stderr",
     "output_type": "stream",
     "text": [
      " 53%|█████▎    | 5145/9766 [4:35:38<4:33:48,  3.56s/it]"
     ]
    },
    {
     "name": "stdout",
     "output_type": "stream",
     "text": [
      "0.8 47.0 0.00628597353553893 0.0 0.49794176021503134\n"
     ]
    },
    {
     "name": "stderr",
     "output_type": "stream",
     "text": [
      " 53%|█████▎    | 5148/9766 [4:35:49<5:00:06,  3.90s/it]"
     ]
    },
    {
     "name": "stdout",
     "output_type": "stream",
     "text": [
      "0.6 88.0 0.0125766700813898 8.55573622401646e-09 0.6830073405130567\n"
     ]
    },
    {
     "name": "stderr",
     "output_type": "stream",
     "text": [
      " 53%|█████▎    | 5151/9766 [4:35:59<5:00:02,  3.90s/it]"
     ]
    },
    {
     "name": "stdout",
     "output_type": "stream",
     "text": [
      "0.6 86.4 0.012566955701946441 2.580956827951785e-09 0.4162057066057234\n"
     ]
    },
    {
     "name": "stderr",
     "output_type": "stream",
     "text": [
      " 53%|█████▎    | 5154/9766 [4:36:07<3:57:06,  3.08s/it]"
     ]
    },
    {
     "name": "stdout",
     "output_type": "stream",
     "text": [
      "1.0 12.4 4.1128507510153235e-06 4.822117056697294e-09 0.4702779890751005\n"
     ]
    },
    {
     "name": "stderr",
     "output_type": "stream",
     "text": [
      " 53%|█████▎    | 5156/9766 [4:36:13<3:48:19,  2.97s/it]"
     ]
    },
    {
     "name": "stdout",
     "output_type": "stream",
     "text": [
      "1.0 14.0 4.624889256116028e-06 3.597458544929467e-09 0.49883262104094694\n"
     ]
    },
    {
     "name": "stderr",
     "output_type": "stream",
     "text": [
      " 53%|█████▎    | 5158/9766 [4:36:23<5:28:57,  4.28s/it]"
     ]
    },
    {
     "name": "stdout",
     "output_type": "stream",
     "text": [
      "0.4 127.0 0.021998438854600875 6.3220272766341055e-09 0.5861495033916423\n"
     ]
    },
    {
     "name": "stderr",
     "output_type": "stream",
     "text": [
      " 53%|█████▎    | 5161/9766 [4:36:35<5:41:46,  4.45s/it]"
     ]
    },
    {
     "name": "stdout",
     "output_type": "stream",
     "text": [
      "0.5 105.4 0.023475957509671234 2.9802322387695314e-09 0.4644517063585515\n"
     ]
    },
    {
     "name": "stderr",
     "output_type": "stream",
     "text": [
      " 53%|█████▎    | 5164/9766 [4:36:45<5:11:55,  4.07s/it]"
     ]
    },
    {
     "name": "stdout",
     "output_type": "stream",
     "text": [
      "0.7 70.2 0.028277527363862326 1.4901161193847657e-09 0.5046500060938988\n"
     ]
    },
    {
     "name": "stderr",
     "output_type": "stream",
     "text": [
      " 53%|█████▎    | 5167/9766 [4:36:57<5:39:17,  4.43s/it]"
     ]
    },
    {
     "name": "stdout",
     "output_type": "stream",
     "text": [
      "0.4 125.2 0.02199564518620211 3.597458544929467e-09 0.5562797863888747\n"
     ]
    },
    {
     "name": "stderr",
     "output_type": "stream",
     "text": [
      " 53%|█████▎    | 5170/9766 [4:37:06<4:47:46,  3.76s/it]"
     ]
    },
    {
     "name": "stdout",
     "output_type": "stream",
     "text": [
      "0.8 49.0 0.012571081234473827 3.597458544929467e-09 0.4723991808454383\n"
     ]
    },
    {
     "name": "stderr",
     "output_type": "stream",
     "text": [
      " 53%|█████▎    | 5173/9766 [4:37:14<4:00:55,  3.15s/it]"
     ]
    },
    {
     "name": "stdout",
     "output_type": "stream",
     "text": [
      "1.0 18.2 6.05399999672845e-06 0.0 0.502068774087238\n"
     ]
    },
    {
     "name": "stderr",
     "output_type": "stream",
     "text": [
      " 53%|█████▎    | 5176/9766 [4:37:21<3:29:01,  2.73s/it]"
     ]
    },
    {
     "name": "stdout",
     "output_type": "stream",
     "text": [
      "1.0 12.6 5.593032363823732e-06 5.140140269373623e-09 0.4094064311146983\n"
     ]
    },
    {
     "name": "stderr",
     "output_type": "stream",
     "text": [
      " 53%|█████▎    | 5179/9766 [4:37:30<3:46:34,  2.96s/it]"
     ]
    },
    {
     "name": "stdout",
     "output_type": "stream",
     "text": [
      "0.9 34.4 0.031990014403235 7.0280699501629295e-06 0.5238003342077596\n"
     ]
    },
    {
     "name": "stderr",
     "output_type": "stream",
     "text": [
      " 53%|█████▎    | 5182/9766 [4:37:38<3:31:26,  2.77s/it]"
     ]
    },
    {
     "name": "stdout",
     "output_type": "stream",
     "text": [
      "1.0 11.6 5.6491182048139235e-06 0.0 0.30494192878527093\n"
     ]
    },
    {
     "name": "stderr",
     "output_type": "stream",
     "text": [
      " 53%|█████▎    | 5185/9766 [4:37:45<3:26:53,  2.71s/it]"
     ]
    },
    {
     "name": "stdout",
     "output_type": "stream",
     "text": [
      "1.0 12.2 4.701852101380076e-06 2.9802322387695314e-09 0.5110843551230866\n"
     ]
    },
    {
     "name": "stderr",
     "output_type": "stream",
     "text": [
      " 53%|█████▎    | 5188/9766 [4:37:53<3:26:00,  2.70s/it]"
     ]
    },
    {
     "name": "stdout",
     "output_type": "stream",
     "text": [
      "1.0 11.6 6.423301754508887e-06 5.7048009704741684e-09 0.4044358483276095\n"
     ]
    },
    {
     "name": "stderr",
     "output_type": "stream",
     "text": [
      " 53%|█████▎    | 5191/9766 [4:38:03<4:05:37,  3.22s/it]"
     ]
    },
    {
     "name": "stdout",
     "output_type": "stream",
     "text": [
      "0.8 52.2 0.02805312058377658 1.2577581500810713e-05 0.5028863049764505\n"
     ]
    },
    {
     "name": "stderr",
     "output_type": "stream",
     "text": [
      " 53%|█████▎    | 5194/9766 [4:38:10<3:38:51,  2.87s/it]"
     ]
    },
    {
     "name": "stdout",
     "output_type": "stream",
     "text": [
      "1.0 13.6 7.196975268880117e-06 4.6882992534964865e-09 0.43669041985350754\n"
     ]
    },
    {
     "name": "stderr",
     "output_type": "stream",
     "text": [
      " 53%|█████▎    | 5197/9766 [4:38:23<5:23:28,  4.25s/it]"
     ]
    },
    {
     "name": "stdout",
     "output_type": "stream",
     "text": [
      "0.3 143.8 0.021992855778607996 1.4901161193847657e-09 0.43728397580983625\n"
     ]
    },
    {
     "name": "stderr",
     "output_type": "stream",
     "text": [
      " 53%|█████▎    | 5200/9766 [4:38:31<4:04:04,  3.21s/it]"
     ]
    },
    {
     "name": "stdout",
     "output_type": "stream",
     "text": [
      "1.0 14.0 7.5946827174064845e-06 6.630256388758389e-09 0.5850181832564274\n"
     ]
    },
    {
     "name": "stderr",
     "output_type": "stream",
     "text": [
      " 53%|█████▎    | 5203/9766 [4:38:38<3:37:20,  2.86s/it]"
     ]
    },
    {
     "name": "stdout",
     "output_type": "stream",
     "text": [
      "1.0 18.0 6.565041739037992e-06 4.470348358154297e-09 0.5771662545309235\n"
     ]
    },
    {
     "name": "stderr",
     "output_type": "stream",
     "text": [
      " 53%|█████▎    | 5206/9766 [4:38:47<3:47:03,  2.99s/it]"
     ]
    },
    {
     "name": "stdout",
     "output_type": "stream",
     "text": [
      "0.9 35.2 0.019104268660072404 6.287167894207845e-06 0.45523675616937487\n"
     ]
    },
    {
     "name": "stderr",
     "output_type": "stream",
     "text": [
      " 53%|█████▎    | 5209/9766 [4:38:57<4:32:24,  3.59s/it]"
     ]
    },
    {
     "name": "stdout",
     "output_type": "stream",
     "text": [
      "0.7 69.0 0.036129469814389505 7.02714264396647e-06 0.404932477512555\n"
     ]
    },
    {
     "name": "stderr",
     "output_type": "stream",
     "text": [
      " 53%|█████▎    | 5212/9766 [4:39:08<4:54:52,  3.88s/it]"
     ]
    },
    {
     "name": "stdout",
     "output_type": "stream",
     "text": [
      "0.6 87.0 0.02243103075816543 7.026128256761922e-06 0.5165750703120954\n"
     ]
    },
    {
     "name": "stderr",
     "output_type": "stream",
     "text": [
      " 53%|█████▎    | 5215/9766 [4:39:19<5:05:57,  4.03s/it]"
     ]
    },
    {
     "name": "stdout",
     "output_type": "stream",
     "text": [
      "0.6 85.4 0.07048002010620119 2.0338014897993887e-05 0.45369310113034383\n"
     ]
    },
    {
     "name": "stderr",
     "output_type": "stream",
     "text": [
      " 53%|█████▎    | 5218/9766 [4:39:32<5:53:11,  4.66s/it]"
     ]
    },
    {
     "name": "stdout",
     "output_type": "stream",
     "text": [
      "0.3 144.4 0.14025181767337097 4.224301343341797e-05 0.32583874285222525\n"
     ]
    },
    {
     "name": "stderr",
     "output_type": "stream",
     "text": [
      " 53%|█████▎    | 5221/9766 [4:39:45<6:25:53,  5.09s/it]"
     ]
    },
    {
     "name": "stdout",
     "output_type": "stream",
     "text": [
      "0.2 163.2 0.062492921510394886 2.107861531571791e-05 0.5766160061617729\n"
     ]
    },
    {
     "name": "stderr",
     "output_type": "stream",
     "text": [
      " 53%|█████▎    | 5224/9766 [4:39:59<6:53:53,  5.47s/it]"
     ]
    },
    {
     "name": "stdout",
     "output_type": "stream",
     "text": [
      "0.1 182.2 0.07483640109485311 2.033201701408655e-05 0.5179508896525954\n"
     ]
    },
    {
     "name": "stderr",
     "output_type": "stream",
     "text": [
      " 54%|█████▎    | 5227/9766 [4:40:12<6:19:51,  5.02s/it]"
     ]
    },
    {
     "name": "stdout",
     "output_type": "stream",
     "text": [
      "0.4 128.8 0.03141942088945905 2.1073424255447016e-09 0.5121319513380129\n"
     ]
    },
    {
     "name": "stderr",
     "output_type": "stream",
     "text": [
      " 54%|█████▎    | 5230/9766 [4:40:21<4:53:29,  3.88s/it]"
     ]
    },
    {
     "name": "stdout",
     "output_type": "stream",
     "text": [
      "0.8 50.8 0.0062875595996081625 5.087574664314233e-09 0.4646778982548724\n"
     ]
    },
    {
     "name": "stderr",
     "output_type": "stream",
     "text": [
      " 54%|█████▎    | 5232/9766 [4:40:31<6:05:47,  4.84s/it]"
     ]
    },
    {
     "name": "stdout",
     "output_type": "stream",
     "text": [
      "0.4 126.4 0.018852115956359692 1.4901161193847657e-09 0.46603064146936096\n"
     ]
    },
    {
     "name": "stderr",
     "output_type": "stream",
     "text": [
      " 54%|█████▎    | 5234/9766 [4:40:38<5:09:05,  4.09s/it]"
     ]
    },
    {
     "name": "stdout",
     "output_type": "stream",
     "text": [
      "0.9 32.6 0.015783394676750766 7.025211827847986e-06 0.2906421361748498\n"
     ]
    },
    {
     "name": "stderr",
     "output_type": "stream",
     "text": [
      " 54%|█████▎    | 5236/9766 [4:40:46<5:31:31,  4.39s/it]"
     ]
    },
    {
     "name": "stdout",
     "output_type": "stream",
     "text": [
      "0.7 74.0 0.009428688343743443 3.597458544929467e-09 0.6350368395466635\n"
     ]
    },
    {
     "name": "stderr",
     "output_type": "stream",
     "text": [
      " 54%|█████▎    | 5239/9766 [4:40:57<5:15:59,  4.19s/it]"
     ]
    },
    {
     "name": "stdout",
     "output_type": "stream",
     "text": [
      "0.6 87.6 0.04020680414686907 9.557923022468529e-09 0.5274903534032529\n"
     ]
    },
    {
     "name": "stderr",
     "output_type": "stream",
     "text": [
      " 54%|█████▎    | 5242/9766 [4:41:09<5:27:14,  4.34s/it]"
     ]
    },
    {
     "name": "stdout",
     "output_type": "stream",
     "text": [
      "0.5 106.2 0.035333018691227305 4.822117056697294e-09 0.4926215743987038\n"
     ]
    },
    {
     "name": "stderr",
     "output_type": "stream",
     "text": [
      " 54%|█████▎    | 5244/9766 [4:41:19<6:17:40,  5.01s/it]"
     ]
    },
    {
     "name": "stdout",
     "output_type": "stream",
     "text": [
      "0.5 108.4 0.048204459562185 1.1328897762552791e-05 0.40636837203124543\n"
     ]
    },
    {
     "name": "stderr",
     "output_type": "stream",
     "text": [
      " 54%|█████▎    | 5247/9766 [4:41:30<5:43:42,  4.56s/it]"
     ]
    },
    {
     "name": "stdout",
     "output_type": "stream",
     "text": [
      "0.5 107.0 0.015712368892439144 8.067806903083764e-09 0.5234920103781306\n"
     ]
    },
    {
     "name": "stderr",
     "output_type": "stream",
     "text": [
      " 54%|█████▍    | 5250/9766 [4:41:39<4:39:45,  3.72s/it]"
     ]
    },
    {
     "name": "stdout",
     "output_type": "stream",
     "text": [
      "0.8 50.8 0.006286588247543667 2.9802322387695314e-09 0.38019690754331026\n"
     ]
    },
    {
     "name": "stderr",
     "output_type": "stream",
     "text": [
      " 54%|█████▍    | 5253/9766 [4:41:51<5:13:22,  4.17s/it]"
     ]
    },
    {
     "name": "stdout",
     "output_type": "stream",
     "text": [
      "0.5 107.4 0.039185139996276624 1.4901161193847657e-09 0.47274855150927975\n"
     ]
    },
    {
     "name": "stderr",
     "output_type": "stream",
     "text": [
      " 54%|█████▍    | 5256/9766 [4:42:05<6:27:27,  5.15s/it]"
     ]
    },
    {
     "name": "stdout",
     "output_type": "stream",
     "text": [
      "0.2 161.4 0.03603931078766367 1.4901161193847657e-09 0.39362285705075106\n"
     ]
    },
    {
     "name": "stderr",
     "output_type": "stream",
     "text": [
      " 54%|█████▍    | 5259/9766 [4:42:16<5:45:38,  4.60s/it]"
     ]
    },
    {
     "name": "stdout",
     "output_type": "stream",
     "text": [
      "0.5 104.6 0.05420226076865734 6.286476998569723e-06 0.36052435564537105\n"
     ]
    },
    {
     "name": "stderr",
     "output_type": "stream",
     "text": [
      " 54%|█████▍    | 5261/9766 [4:42:28<6:55:59,  5.54s/it]"
     ]
    },
    {
     "name": "stdout",
     "output_type": "stream",
     "text": [
      "0.2 163.2 0.08429961235502823 1.4049619069599209e-05 0.5790976222698686\n"
     ]
    },
    {
     "name": "stderr",
     "output_type": "stream",
     "text": [
      " 54%|█████▍    | 5263/9766 [4:42:37<6:40:54,  5.34s/it]"
     ]
    },
    {
     "name": "stdout",
     "output_type": "stream",
     "text": [
      "0.5 104.0 0.037845057929077906 1.1330852635263984e-05 0.39648034536271326\n"
     ]
    },
    {
     "name": "stderr",
     "output_type": "stream",
     "text": [
      " 54%|█████▍    | 5265/9766 [4:42:44<5:37:44,  4.50s/it]"
     ]
    },
    {
     "name": "stdout",
     "output_type": "stream",
     "text": [
      "0.8 51.0 0.03148275451153814 7.0269220193553845e-06 0.42684198967076137\n"
     ]
    },
    {
     "name": "stderr",
     "output_type": "stream",
     "text": [
      " 54%|█████▍    | 5268/9766 [4:42:53<4:22:43,  3.50s/it]"
     ]
    },
    {
     "name": "stdout",
     "output_type": "stream",
     "text": [
      "0.9 30.4 0.025870260601099725 1.1324217137374359e-05 0.32560569323433414\n"
     ]
    },
    {
     "name": "stderr",
     "output_type": "stream",
     "text": [
      " 54%|█████▍    | 5271/9766 [4:43:02<4:09:32,  3.33s/it]"
     ]
    },
    {
     "name": "stdout",
     "output_type": "stream",
     "text": [
      "0.9 32.2 0.01911501579844444 0.0 0.38410876223121476\n"
     ]
    },
    {
     "name": "stderr",
     "output_type": "stream",
     "text": [
      " 54%|█████▍    | 5273/9766 [4:43:08<4:01:30,  3.23s/it]"
     ]
    },
    {
     "name": "stdout",
     "output_type": "stream",
     "text": [
      "1.0 17.2 1.033324361659627e-05 5.16191365590357e-09 0.3630153713586389\n"
     ]
    },
    {
     "name": "stderr",
     "output_type": "stream",
     "text": [
      " 54%|█████▍    | 5276/9766 [4:43:16<3:49:20,  3.06s/it]"
     ]
    },
    {
     "name": "stdout",
     "output_type": "stream",
     "text": [
      "1.0 16.8 9.55246305714426e-06 5.087574664314233e-09 0.49929866283539914\n"
     ]
    },
    {
     "name": "stderr",
     "output_type": "stream",
     "text": [
      " 54%|█████▍    | 5278/9766 [4:43:22<3:46:03,  3.02s/it]"
     ]
    },
    {
     "name": "stdout",
     "output_type": "stream",
     "text": [
      "1.0 16.8 9.039656166517682e-06 3.597458544929467e-09 0.5414416909561236\n"
     ]
    },
    {
     "name": "stderr",
     "output_type": "stream",
     "text": [
      " 54%|█████▍    | 5280/9766 [4:43:28<3:41:26,  2.96s/it]"
     ]
    },
    {
     "name": "stdout",
     "output_type": "stream",
     "text": [
      "1.0 15.0 5.470742201149171e-06 1.0302053925277193e-08 0.6047356355854715\n"
     ]
    },
    {
     "name": "stderr",
     "output_type": "stream",
     "text": [
      " 54%|█████▍    | 5283/9766 [4:43:39<4:39:32,  3.74s/it]"
     ]
    },
    {
     "name": "stdout",
     "output_type": "stream",
     "text": [
      "0.6 89.4 0.04828567575615982 5.087574664314233e-09 0.4253330297090283\n"
     ]
    },
    {
     "name": "stderr",
     "output_type": "stream",
     "text": [
      " 54%|█████▍    | 5286/9766 [4:43:46<3:45:18,  3.02s/it]"
     ]
    },
    {
     "name": "stdout",
     "output_type": "stream",
     "text": [
      "1.0 12.4 4.501559748145549e-06 2.9802322387695314e-09 0.5315530953262098\n"
     ]
    },
    {
     "name": "stderr",
     "output_type": "stream",
     "text": [
      " 54%|█████▍    | 5288/9766 [4:43:52<3:36:13,  2.90s/it]"
     ]
    },
    {
     "name": "stdout",
     "output_type": "stream",
     "text": [
      "1.0 12.4 2.217713223536171e-06 0.0 0.47222496958785865\n"
     ]
    },
    {
     "name": "stderr",
     "output_type": "stream",
     "text": [
      " 54%|█████▍    | 5290/9766 [4:43:58<3:35:54,  2.89s/it]"
     ]
    },
    {
     "name": "stdout",
     "output_type": "stream",
     "text": [
      "1.0 13.8 4.31111154096677e-06 3.597458544929467e-09 0.5195160552940116\n"
     ]
    },
    {
     "name": "stderr",
     "output_type": "stream",
     "text": [
      " 54%|█████▍    | 5293/9766 [4:44:07<4:00:22,  3.22s/it]"
     ]
    },
    {
     "name": "stdout",
     "output_type": "stream",
     "text": [
      "0.8 50.0 0.03947701370317123 7.03147874175921e-06 0.594750621001172\n"
     ]
    },
    {
     "name": "stderr",
     "output_type": "stream",
     "text": [
      " 54%|█████▍    | 5296/9766 [4:44:16<4:08:17,  3.33s/it]"
     ]
    },
    {
     "name": "stdout",
     "output_type": "stream",
     "text": [
      "0.8 51.8 0.02729492540634442 7.028841655732275e-06 0.48149174795110544\n"
     ]
    },
    {
     "name": "stderr",
     "output_type": "stream",
     "text": [
      " 54%|█████▍    | 5299/9766 [4:44:25<4:11:06,  3.37s/it]"
     ]
    },
    {
     "name": "stdout",
     "output_type": "stream",
     "text": [
      "0.8 52.6 0.031482025670649935 7.029547918981554e-06 0.5643448547483441\n"
     ]
    },
    {
     "name": "stderr",
     "output_type": "stream",
     "text": [
      " 54%|█████▍    | 5302/9766 [4:44:36<4:32:22,  3.66s/it]"
     ]
    },
    {
     "name": "stdout",
     "output_type": "stream",
     "text": [
      "0.7 67.4 0.04534728057037415 1.3311412089747566e-05 0.37945262529092916\n"
     ]
    },
    {
     "name": "stderr",
     "output_type": "stream",
     "text": [
      " 54%|█████▍    | 5305/9766 [4:44:47<5:09:40,  4.17s/it]"
     ]
    },
    {
     "name": "stdout",
     "output_type": "stream",
     "text": [
      "0.5 107.4 0.07457848432973346 2.8108252069766433e-05 0.5627659640144226\n"
     ]
    },
    {
     "name": "stderr",
     "output_type": "stream",
     "text": [
      " 54%|█████▍    | 5308/9766 [4:44:57<4:39:40,  3.76s/it]"
     ]
    },
    {
     "name": "stdout",
     "output_type": "stream",
     "text": [
      "0.8 50.4 0.05231044346724746 1.4053481870683588e-05 0.45434496610689684\n"
     ]
    },
    {
     "name": "stderr",
     "output_type": "stream",
     "text": [
      " 54%|█████▍    | 5311/9766 [4:45:08<4:51:19,  3.92s/it]"
     ]
    },
    {
     "name": "stdout",
     "output_type": "stream",
     "text": [
      "0.7 70.0 0.02982778860607054 1.40491441416397e-05 0.4240688162252858\n"
     ]
    },
    {
     "name": "stderr",
     "output_type": "stream",
     "text": [
      " 54%|█████▍    | 5314/9766 [4:45:17<4:25:15,  3.57s/it]"
     ]
    },
    {
     "name": "stdout",
     "output_type": "stream",
     "text": [
      "0.8 49.8 0.013179593992904363 1.4052651704352515e-05 0.33505563703578023\n"
     ]
    },
    {
     "name": "stderr",
     "output_type": "stream",
     "text": [
      " 54%|█████▍    | 5317/9766 [4:45:26<4:09:39,  3.37s/it]"
     ]
    },
    {
     "name": "stdout",
     "output_type": "stream",
     "text": [
      "0.8 47.6 0.06784155983896652 5.087574664314233e-09 0.22358796131080377\n"
     ]
    },
    {
     "name": "stderr",
     "output_type": "stream",
     "text": [
      " 54%|█████▍    | 5320/9766 [4:45:33<3:34:37,  2.90s/it]"
     ]
    },
    {
     "name": "stdout",
     "output_type": "stream",
     "text": [
      "1.0 12.2 7.092420831841757e-06 4.214684851089403e-09 0.3738117262578629\n"
     ]
    },
    {
     "name": "stderr",
     "output_type": "stream",
     "text": [
      " 55%|█████▍    | 5323/9766 [4:45:41<3:21:23,  2.72s/it]"
     ]
    },
    {
     "name": "stdout",
     "output_type": "stream",
     "text": [
      "1.0 13.4 9.547800090755318e-06 5.960464477539063e-09 0.4564103329445749\n"
     ]
    },
    {
     "name": "stderr",
     "output_type": "stream",
     "text": [
      " 55%|█████▍    | 5326/9766 [4:45:49<3:34:42,  2.90s/it]"
     ]
    },
    {
     "name": "stdout",
     "output_type": "stream",
     "text": [
      "0.9 33.0 0.012958726734715107 6.577690783698998e-09 0.5512092034772345\n"
     ]
    },
    {
     "name": "stderr",
     "output_type": "stream",
     "text": [
      " 55%|█████▍    | 5329/9766 [4:45:57<3:23:34,  2.75s/it]"
     ]
    },
    {
     "name": "stdout",
     "output_type": "stream",
     "text": [
      "1.0 11.6 5.1970174471620686e-06 1.4901161193847657e-09 0.4703521150213845\n"
     ]
    },
    {
     "name": "stderr",
     "output_type": "stream",
     "text": [
      " 55%|█████▍    | 5332/9766 [4:46:05<3:26:02,  2.79s/it]"
     ]
    },
    {
     "name": "stdout",
     "output_type": "stream",
     "text": [
      "1.0 18.2 1.7916350446644258e-05 1.2096594670510545e-08 0.6946125231712781\n"
     ]
    },
    {
     "name": "stderr",
     "output_type": "stream",
     "text": [
      " 55%|█████▍    | 5335/9766 [4:46:15<4:13:43,  3.44s/it]"
     ]
    },
    {
     "name": "stdout",
     "output_type": "stream",
     "text": [
      "0.7 68.8 0.053004384597765394 6.281507397905082e-06 0.37841684889045807\n"
     ]
    },
    {
     "name": "stderr",
     "output_type": "stream",
     "text": [
      " 55%|█████▍    | 5338/9766 [4:46:26<4:39:40,  3.79s/it]"
     ]
    },
    {
     "name": "stdout",
     "output_type": "stream",
     "text": [
      "0.6 91.2 0.07578559090790342 2.8964906749931598e-05 0.42218625189840875\n"
     ]
    },
    {
     "name": "stderr",
     "output_type": "stream",
     "text": [
      " 55%|█████▍    | 5341/9766 [4:46:33<3:48:19,  3.10s/it]"
     ]
    },
    {
     "name": "stdout",
     "output_type": "stream",
     "text": [
      "1.0 16.2 1.2360985479554311e-05 8.067806903083764e-09 0.726640080026665\n"
     ]
    },
    {
     "name": "stderr",
     "output_type": "stream",
     "text": [
      " 55%|█████▍    | 5344/9766 [4:46:42<3:44:32,  3.05s/it]"
     ]
    },
    {
     "name": "stdout",
     "output_type": "stream",
     "text": [
      "0.9 32.4 0.012945583355328022 6.287947344425488e-06 0.4788826058629505\n"
     ]
    },
    {
     "name": "stderr",
     "output_type": "stream",
     "text": [
      " 55%|█████▍    | 5346/9766 [4:46:48<3:52:39,  3.16s/it]"
     ]
    },
    {
     "name": "stdout",
     "output_type": "stream",
     "text": [
      "0.9 29.8 0.006960133832637219 7.027133151815125e-06 0.48907355300883604\n"
     ]
    },
    {
     "name": "stderr",
     "output_type": "stream",
     "text": [
      " 55%|█████▍    | 5349/9766 [4:46:56<3:30:18,  2.86s/it]"
     ]
    },
    {
     "name": "stdout",
     "output_type": "stream",
     "text": [
      "1.0 12.6 5.772873406748766e-06 0.0 0.35782047393271377\n"
     ]
    },
    {
     "name": "stderr",
     "output_type": "stream",
     "text": [
      " 55%|█████▍    | 5352/9766 [4:47:04<3:22:57,  2.76s/it]"
     ]
    },
    {
     "name": "stdout",
     "output_type": "stream",
     "text": [
      "1.0 13.6 8.655522638977615e-06 4.071072947336551e-09 0.504204533755334\n"
     ]
    },
    {
     "name": "stderr",
     "output_type": "stream",
     "text": [
      " 55%|█████▍    | 5355/9766 [4:47:11<3:19:50,  2.72s/it]"
     ]
    },
    {
     "name": "stdout",
     "output_type": "stream",
     "text": [
      "1.0 11.4 4.389075361444224e-06 3.597458544929467e-09 0.5044222264018667\n"
     ]
    },
    {
     "name": "stderr",
     "output_type": "stream",
     "text": [
      " 55%|█████▍    | 5358/9766 [4:47:20<3:37:44,  2.96s/it]"
     ]
    },
    {
     "name": "stdout",
     "output_type": "stream",
     "text": [
      "0.9 32.0 0.015712254366868288 2.9802322387695314e-09 0.5532806107927992\n"
     ]
    },
    {
     "name": "stderr",
     "output_type": "stream",
     "text": [
      " 55%|█████▍    | 5361/9766 [4:47:28<3:20:36,  2.73s/it]"
     ]
    },
    {
     "name": "stdout",
     "output_type": "stream",
     "text": [
      "1.0 12.2 5.673046780732973e-06 4.071072947336551e-09 0.4746520253075607\n"
     ]
    },
    {
     "name": "stderr",
     "output_type": "stream",
     "text": [
      " 55%|█████▍    | 5364/9766 [4:47:35<3:20:28,  2.73s/it]"
     ]
    },
    {
     "name": "stdout",
     "output_type": "stream",
     "text": [
      "1.0 15.4 7.124605536980183e-06 7.450580596923828e-09 0.5843601917957363\n"
     ]
    },
    {
     "name": "stderr",
     "output_type": "stream",
     "text": [
      " 55%|█████▍    | 5366/9766 [4:47:41<3:22:14,  2.76s/it]"
     ]
    },
    {
     "name": "stdout",
     "output_type": "stream",
     "text": [
      "1.0 10.8 6.380017526278238e-06 1.4901161193847657e-09 0.3212645362443645\n"
     ]
    },
    {
     "name": "stderr",
     "output_type": "stream",
     "text": [
      " 55%|█████▍    | 5369/9766 [4:47:51<4:17:28,  3.51s/it]"
     ]
    },
    {
     "name": "stdout",
     "output_type": "stream",
     "text": [
      "0.7 69.2 0.07335146945406248 1.4051550769094941e-05 0.5513906541423456\n"
     ]
    },
    {
     "name": "stderr",
     "output_type": "stream",
     "text": [
      " 55%|█████▌    | 5372/9766 [4:48:01<4:20:20,  3.55s/it]"
     ]
    },
    {
     "name": "stdout",
     "output_type": "stream",
     "text": [
      "0.8 51.8 0.025143713646634442 8.73759881430309e-09 0.5026815078925906\n"
     ]
    },
    {
     "name": "stderr",
     "output_type": "stream",
     "text": [
      " 55%|█████▌    | 5375/9766 [4:48:09<3:42:37,  3.04s/it]"
     ]
    },
    {
     "name": "stdout",
     "output_type": "stream",
     "text": [
      "1.0 12.0 7.440403715269787e-06 1.4901161193847657e-09 0.4551540639662287\n"
     ]
    },
    {
     "name": "stderr",
     "output_type": "stream",
     "text": [
      " 55%|█████▌    | 5378/9766 [4:48:17<3:27:50,  2.84s/it]"
     ]
    },
    {
     "name": "stdout",
     "output_type": "stream",
     "text": [
      "1.0 13.8 5.923841046802802e-06 4.214684851089403e-09 0.5580791058334394\n"
     ]
    },
    {
     "name": "stderr",
     "output_type": "stream",
     "text": [
      " 55%|█████▌    | 5381/9766 [4:48:30<5:05:42,  4.18s/it]"
     ]
    },
    {
     "name": "stdout",
     "output_type": "stream",
     "text": [
      "0.4 124.4 0.018853646747865882 4.470348358154297e-09 0.5762871137399224\n"
     ]
    },
    {
     "name": "stderr",
     "output_type": "stream",
     "text": [
      " 55%|█████▌    | 5384/9766 [4:48:39<4:28:41,  3.68s/it]"
     ]
    },
    {
     "name": "stdout",
     "output_type": "stream",
     "text": [
      "0.8 49.6 0.04398334870935334 4.214684851089403e-09 0.3948652944518072\n"
     ]
    },
    {
     "name": "stderr",
     "output_type": "stream",
     "text": [
      " 55%|█████▌    | 5387/9766 [4:48:47<3:44:15,  3.07s/it]"
     ]
    },
    {
     "name": "stdout",
     "output_type": "stream",
     "text": [
      "1.0 16.0 8.747444564343108e-06 1.4901161193847657e-09 0.3255649830872347\n"
     ]
    },
    {
     "name": "stderr",
     "output_type": "stream",
     "text": [
      " 55%|█████▌    | 5390/9766 [4:48:59<5:03:02,  4.15s/it]"
     ]
    },
    {
     "name": "stdout",
     "output_type": "stream",
     "text": [
      "0.4 124.4 0.02866591379514536 2.1073424255447016e-09 0.5473420570193145\n"
     ]
    },
    {
     "name": "stderr",
     "output_type": "stream",
     "text": [
      " 55%|█████▌    | 5393/9766 [4:49:13<6:02:39,  4.98s/it]"
     ]
    },
    {
     "name": "stdout",
     "output_type": "stream",
     "text": [
      "0.2 162.2 0.07504260147144683 6.28822856916893e-06 0.4470213883172483\n"
     ]
    },
    {
     "name": "stderr",
     "output_type": "stream",
     "text": [
      " 55%|█████▌    | 5396/9766 [4:49:24<5:31:13,  4.55s/it]"
     ]
    },
    {
     "name": "stdout",
     "output_type": "stream",
     "text": [
      "0.5 107.6 0.015713601406420925 6.202277034772008e-09 0.5288390483521218\n"
     ]
    },
    {
     "name": "stderr",
     "output_type": "stream",
     "text": [
      " 55%|█████▌    | 5399/9766 [4:49:32<4:02:36,  3.33s/it]"
     ]
    },
    {
     "name": "stdout",
     "output_type": "stream",
     "text": [
      "1.0 11.8 6.909623603925991e-06 3.597458544929467e-09 0.5075270539182666\n"
     ]
    },
    {
     "name": "stderr",
     "output_type": "stream",
     "text": [
      " 55%|█████▌    | 5402/9766 [4:49:40<3:37:02,  2.98s/it]"
     ]
    },
    {
     "name": "stdout",
     "output_type": "stream",
     "text": [
      "1.0 18.2 9.395508307730516e-06 5.087574664314233e-09 0.6071791522295414\n"
     ]
    },
    {
     "name": "stderr",
     "output_type": "stream",
     "text": [
      " 55%|█████▌    | 5404/9766 [4:49:46<3:46:16,  3.11s/it]"
     ]
    },
    {
     "name": "stdout",
     "output_type": "stream",
     "text": [
      "0.9 34.6 0.01885657932581513 5.561189066721316e-09 0.6166812331970324\n"
     ]
    },
    {
     "name": "stderr",
     "output_type": "stream",
     "text": [
      " 55%|█████▌    | 5406/9766 [4:49:53<4:09:34,  3.43s/it]"
     ]
    },
    {
     "name": "stdout",
     "output_type": "stream",
     "text": [
      "0.8 50.0 0.006284674797275477 0.0 0.5584189448530179\n"
     ]
    },
    {
     "name": "stderr",
     "output_type": "stream",
     "text": [
      " 55%|█████▌    | 5408/9766 [4:50:02<4:58:54,  4.12s/it]"
     ]
    },
    {
     "name": "stdout",
     "output_type": "stream",
     "text": [
      "0.6 85.4 0.01256926239537586 0.0 0.6027368753691438\n"
     ]
    },
    {
     "name": "stderr",
     "output_type": "stream",
     "text": [
      " 55%|█████▌    | 5411/9766 [4:50:13<4:57:23,  4.10s/it]"
     ]
    },
    {
     "name": "stdout",
     "output_type": "stream",
     "text": [
      "0.6 89.2 0.01571280314011209 1.4901161193847657e-09 0.39618736684151196\n"
     ]
    },
    {
     "name": "stderr",
     "output_type": "stream",
     "text": [
      " 55%|█████▌    | 5414/9766 [4:50:26<6:01:28,  4.98s/it]"
     ]
    },
    {
     "name": "stdout",
     "output_type": "stream",
     "text": [
      "0.2 163.4 0.04084080029038927 7.802349295466825e-09 0.626217190408844\n"
     ]
    },
    {
     "name": "stderr",
     "output_type": "stream",
     "text": [
      " 55%|█████▌    | 5417/9766 [4:50:36<4:44:54,  3.93s/it]"
     ]
    },
    {
     "name": "stdout",
     "output_type": "stream",
     "text": [
      "0.8 49.6 0.012569152924998018 1.4901161193847657e-09 0.5355638266404622\n"
     ]
    },
    {
     "name": "stderr",
     "output_type": "stream",
     "text": [
      " 55%|█████▌    | 5420/9766 [4:50:46<4:43:53,  3.92s/it]"
     ]
    },
    {
     "name": "stdout",
     "output_type": "stream",
     "text": [
      "0.6 86.8 0.018855028420916672 1.4901161193847657e-09 0.6502381132649895\n"
     ]
    },
    {
     "name": "stderr",
     "output_type": "stream",
     "text": [
      " 56%|█████▌    | 5423/9766 [4:50:55<4:24:29,  3.65s/it]"
     ]
    },
    {
     "name": "stdout",
     "output_type": "stream",
     "text": [
      "0.7 66.2 0.009428394377828884 3.597458544929467e-09 0.421271569494637\n"
     ]
    },
    {
     "name": "stderr",
     "output_type": "stream",
     "text": [
      " 56%|█████▌    | 5426/9766 [4:51:08<5:18:52,  4.41s/it]"
     ]
    },
    {
     "name": "stdout",
     "output_type": "stream",
     "text": [
      "0.4 124.8 0.029757520908281383 3.597458544929467e-09 0.3911295845582178\n"
     ]
    },
    {
     "name": "stderr",
     "output_type": "stream",
     "text": [
      " 56%|█████▌    | 5428/9766 [4:51:17<5:47:34,  4.81s/it]"
     ]
    },
    {
     "name": "stdout",
     "output_type": "stream",
     "text": [
      "0.5 104.8 0.015708992596511824 0.0 0.5801113551275506\n"
     ]
    },
    {
     "name": "stderr",
     "output_type": "stream",
     "text": [
      " 56%|█████▌    | 5430/9766 [4:51:26<5:35:29,  4.64s/it]"
     ]
    },
    {
     "name": "stdout",
     "output_type": "stream",
     "text": [
      "0.6 86.2 0.012569179280529969 4.470348358154297e-09 0.46604164156496514\n"
     ]
    },
    {
     "name": "stderr",
     "output_type": "stream",
     "text": [
      " 56%|█████▌    | 5432/9766 [4:51:37<6:35:14,  5.47s/it]"
     ]
    },
    {
     "name": "stdout",
     "output_type": "stream",
     "text": [
      "0.2 161.6 0.02513563866153507 5.757366575533559e-09 0.602244366744202\n"
     ]
    },
    {
     "name": "stderr",
     "output_type": "stream",
     "text": [
      " 56%|█████▌    | 5434/9766 [4:51:47<6:24:08,  5.32s/it]"
     ]
    },
    {
     "name": "stdout",
     "output_type": "stream",
     "text": [
      "0.5 106.8 0.01571824423989223 7.668531492266019e-09 0.6551582730750267\n"
     ]
    },
    {
     "name": "stderr",
     "output_type": "stream",
     "text": [
      " 56%|█████▌    | 5436/9766 [4:51:55<5:53:46,  4.90s/it]"
     ]
    },
    {
     "name": "stdout",
     "output_type": "stream",
     "text": [
      "0.6 85.4 0.01256580674258238 0.0 0.2977213890351932\n"
     ]
    },
    {
     "name": "stderr",
     "output_type": "stream",
     "text": [
      " 56%|█████▌    | 5438/9766 [4:52:05<6:16:39,  5.22s/it]"
     ]
    },
    {
     "name": "stdout",
     "output_type": "stream",
     "text": [
      "0.4 123.8 0.06673165361139684 1.9588372643838258e-05 0.48742604778555776\n"
     ]
    },
    {
     "name": "stderr",
     "output_type": "stream",
     "text": [
      " 56%|█████▌    | 5440/9766 [4:52:15<6:22:33,  5.31s/it]"
     ]
    },
    {
     "name": "stdout",
     "output_type": "stream",
     "text": [
      "0.4 124.8 0.01885133368867658 9.644234113394587e-09 0.5026588817593279\n"
     ]
    },
    {
     "name": "stderr",
     "output_type": "stream",
     "text": [
      " 56%|█████▌    | 5442/9766 [4:52:26<6:42:47,  5.59s/it]"
     ]
    },
    {
     "name": "stdout",
     "output_type": "stream",
     "text": [
      "0.3 144.2 0.06560489213318647 1.4049320216551577e-05 0.563054421264898\n"
     ]
    },
    {
     "name": "stderr",
     "output_type": "stream",
     "text": [
      " 56%|█████▌    | 5444/9766 [4:52:34<6:04:13,  5.06s/it]"
     ]
    },
    {
     "name": "stdout",
     "output_type": "stream",
     "text": [
      "0.6 88.0 0.012573642112769826 4.6882992534964865e-09 0.6465218570310679\n"
     ]
    },
    {
     "name": "stderr",
     "output_type": "stream",
     "text": [
      " 56%|█████▌    | 5446/9766 [4:52:43<6:05:02,  5.07s/it]"
     ]
    },
    {
     "name": "stdout",
     "output_type": "stream",
     "text": [
      "0.5 107.4 0.04546422616704257 7.031347799436543e-06 0.4335729355519148\n"
     ]
    },
    {
     "name": "stderr",
     "output_type": "stream",
     "text": [
      " 56%|█████▌    | 5448/9766 [4:52:50<4:59:38,  4.16s/it]"
     ]
    },
    {
     "name": "stdout",
     "output_type": "stream",
     "text": [
      "0.9 33.0 0.012956614133611582 1.4901161193847657e-09 0.3617473611989893\n"
     ]
    },
    {
     "name": "stderr",
     "output_type": "stream",
     "text": [
      " 56%|█████▌    | 5450/9766 [4:52:58<5:09:30,  4.30s/it]"
     ]
    },
    {
     "name": "stdout",
     "output_type": "stream",
     "text": [
      "0.6 88.2 0.012571351172664441 5.087574664314233e-09 0.5837679271167449\n"
     ]
    },
    {
     "name": "stderr",
     "output_type": "stream",
     "text": [
      " 56%|█████▌    | 5452/9766 [4:53:07<5:44:17,  4.79s/it]"
     ]
    },
    {
     "name": "stdout",
     "output_type": "stream",
     "text": [
      "0.5 106.2 0.0157142315690145 4.214684851089403e-09 0.6272157264763912\n"
     ]
    },
    {
     "name": "stderr",
     "output_type": "stream",
     "text": [
      " 56%|█████▌    | 5454/9766 [4:53:14<4:52:18,  4.07s/it]"
     ]
    },
    {
     "name": "stdout",
     "output_type": "stream",
     "text": [
      "0.9 29.2 0.025964920243922912 7.025344101144085e-06 0.3338474399369832\n"
     ]
    },
    {
     "name": "stderr",
     "output_type": "stream",
     "text": [
      " 56%|█████▌    | 5456/9766 [4:53:20<4:19:53,  3.62s/it]"
     ]
    },
    {
     "name": "stdout",
     "output_type": "stream",
     "text": [
      "1.0 17.4 1.1774499230094777e-05 8.541421305490849e-09 0.5593103461707187\n"
     ]
    },
    {
     "name": "stderr",
     "output_type": "stream",
     "text": [
      " 56%|█████▌    | 5458/9766 [4:53:29<5:13:29,  4.37s/it]"
     ]
    },
    {
     "name": "stdout",
     "output_type": "stream",
     "text": [
      "0.5 105.6 0.026616193531351074 1.4901161193847657e-09 0.3537453001519705\n"
     ]
    },
    {
     "name": "stderr",
     "output_type": "stream",
     "text": [
      " 56%|█████▌    | 5460/9766 [4:53:41<6:25:16,  5.37s/it]"
     ]
    },
    {
     "name": "stdout",
     "output_type": "stream",
     "text": [
      "0.2 163.2 0.07066623629117678 1.3313440311915256e-05 0.573791204016983\n"
     ]
    },
    {
     "name": "stderr",
     "output_type": "stream",
     "text": [
      " 56%|█████▌    | 5462/9766 [4:53:51<6:27:59,  5.41s/it]"
     ]
    },
    {
     "name": "stdout",
     "output_type": "stream",
     "text": [
      "0.4 124.8 0.09731613685504525 2.6615437544701488e-05 0.41543761088189746\n"
     ]
    },
    {
     "name": "stderr",
     "output_type": "stream",
     "text": [
      " 56%|█████▌    | 5464/9766 [4:53:57<5:06:20,  4.27s/it]"
     ]
    },
    {
     "name": "stdout",
     "output_type": "stream",
     "text": [
      "0.9 28.8 0.018853150479095616 0.0 0.3004632773678516\n"
     ]
    },
    {
     "name": "stderr",
     "output_type": "stream",
     "text": [
      " 56%|█████▌    | 5466/9766 [4:54:04<4:51:14,  4.06s/it]"
     ]
    },
    {
     "name": "stdout",
     "output_type": "stream",
     "text": [
      "0.8 50.6 0.006283797196964469 4.470348358154297e-09 0.49011390213487943\n"
     ]
    },
    {
     "name": "stderr",
     "output_type": "stream",
     "text": [
      " 56%|█████▌    | 5468/9766 [4:54:11<4:20:36,  3.64s/it]"
     ]
    },
    {
     "name": "stdout",
     "output_type": "stream",
     "text": [
      "0.9 29.8 0.0031497706667129007 4.071072947336551e-09 0.39246208449946507\n"
     ]
    },
    {
     "name": "stderr",
     "output_type": "stream",
     "text": [
      " 56%|█████▌    | 5471/9766 [4:54:20<4:22:40,  3.67s/it]"
     ]
    },
    {
     "name": "stdout",
     "output_type": "stream",
     "text": [
      "0.7 69.6 0.06630536552946216 1.3307669891225048e-05 0.36159305222732285\n"
     ]
    },
    {
     "name": "stderr",
     "output_type": "stream",
     "text": [
      " 56%|█████▌    | 5474/9766 [4:54:34<5:47:12,  4.85s/it]"
     ]
    },
    {
     "name": "stdout",
     "output_type": "stream",
     "text": [
      "0.2 161.6 0.02513696320237336 4.6882992534964865e-09 0.6950928128694569\n"
     ]
    },
    {
     "name": "stderr",
     "output_type": "stream",
     "text": [
      " 56%|█████▌    | 5477/9766 [4:54:48<6:10:18,  5.18s/it]"
     ]
    },
    {
     "name": "stdout",
     "output_type": "stream",
     "text": [
      "0.2 163.2 0.04794941973849047 7.034326383807492e-06 0.6332271326334564\n"
     ]
    },
    {
     "name": "stderr",
     "output_type": "stream",
     "text": [
      " 56%|█████▌    | 5479/9766 [4:54:54<4:45:52,  4.00s/it]"
     ]
    },
    {
     "name": "stdout",
     "output_type": "stream",
     "text": [
      "1.0 11.0 3.1828758480319485e-06 0.0 0.45958816523320695\n"
     ]
    },
    {
     "name": "stderr",
     "output_type": "stream",
     "text": [
      " 56%|█████▌    | 5481/9766 [4:55:01<4:37:14,  3.88s/it]"
     ]
    },
    {
     "name": "stdout",
     "output_type": "stream",
     "text": [
      "0.8 49.4 0.044501414375462865 7.02934055804291e-06 0.5682893456903217\n"
     ]
    },
    {
     "name": "stderr",
     "output_type": "stream",
     "text": [
      " 56%|█████▌    | 5483/9766 [4:55:06<4:05:15,  3.44s/it]"
     ]
    },
    {
     "name": "stdout",
     "output_type": "stream",
     "text": [
      "1.0 14.4 4.999843411940924e-06 2.9802322387695314e-09 0.632485141163253\n"
     ]
    },
    {
     "name": "stderr",
     "output_type": "stream",
     "text": [
      " 56%|█████▌    | 5485/9766 [4:55:12<3:50:04,  3.22s/it]"
     ]
    },
    {
     "name": "stdout",
     "output_type": "stream",
     "text": [
      "1.0 12.0 6.677586577713828e-06 1.4901161193847657e-09 0.4874781819654307\n"
     ]
    },
    {
     "name": "stderr",
     "output_type": "stream",
     "text": [
      " 56%|█████▌    | 5487/9766 [4:55:18<3:44:21,  3.15s/it]"
     ]
    },
    {
     "name": "stdout",
     "output_type": "stream",
     "text": [
      "1.0 12.6 6.888734597518599e-06 3.597458544929467e-09 0.38910956290060317\n"
     ]
    },
    {
     "name": "stderr",
     "output_type": "stream",
     "text": [
      " 56%|█████▌    | 5489/9766 [4:55:24<3:35:41,  3.03s/it]"
     ]
    },
    {
     "name": "stdout",
     "output_type": "stream",
     "text": [
      "1.0 13.6 5.180333497476376e-06 6.1784153728812526e-09 0.5087140887225876\n"
     ]
    },
    {
     "name": "stderr",
     "output_type": "stream",
     "text": [
      " 56%|█████▌    | 5491/9766 [4:55:30<3:37:18,  3.05s/it]"
     ]
    },
    {
     "name": "stdout",
     "output_type": "stream",
     "text": [
      "1.0 13.0 5.7717455669217316e-06 1.4901161193847657e-09 0.4538295916326957\n"
     ]
    },
    {
     "name": "stderr",
     "output_type": "stream",
     "text": [
      " 56%|█████▌    | 5493/9766 [4:55:38<4:17:10,  3.61s/it]"
     ]
    },
    {
     "name": "stdout",
     "output_type": "stream",
     "text": [
      "0.7 68.6 0.009428242951693151 1.4901161193847657e-09 0.47372642632168604\n"
     ]
    },
    {
     "name": "stderr",
     "output_type": "stream",
     "text": [
      " 56%|█████▋    | 5495/9766 [4:55:45<4:37:58,  3.91s/it]"
     ]
    },
    {
     "name": "stdout",
     "output_type": "stream",
     "text": [
      "0.7 69.6 0.034489160606102964 1.2563508387096337e-05 0.44799837158868855\n"
     ]
    },
    {
     "name": "stderr",
     "output_type": "stream",
     "text": [
      " 56%|█████▋    | 5497/9766 [4:55:51<4:11:15,  3.53s/it]"
     ]
    },
    {
     "name": "stdout",
     "output_type": "stream",
     "text": [
      "0.9 30.4 0.0031474550700896324 1.4901161193847657e-09 0.5890335941864775\n"
     ]
    },
    {
     "name": "stderr",
     "output_type": "stream",
     "text": [
      " 56%|█████▋    | 5499/9766 [4:55:58<4:07:06,  3.47s/it]"
     ]
    },
    {
     "name": "stdout",
     "output_type": "stream",
     "text": [
      "0.9 35.6 0.025204562999710363 7.028986124324667e-06 0.48557768857826433\n"
     ]
    },
    {
     "name": "stderr",
     "output_type": "stream",
     "text": [
      " 56%|█████▋    | 5501/9766 [4:56:04<4:00:45,  3.39s/it]"
     ]
    },
    {
     "name": "stdout",
     "output_type": "stream",
     "text": [
      "0.9 31.8 0.019114186791719605 7.81214339601887e-09 0.39979840372161074\n"
     ]
    },
    {
     "name": "stderr",
     "output_type": "stream",
     "text": [
      " 56%|█████▋    | 5503/9766 [4:56:16<5:41:05,  4.80s/it]"
     ]
    },
    {
     "name": "stdout",
     "output_type": "stream",
     "text": [
      "0.2 162.4 0.025134539278628503 0.0 0.6185096623639433\n"
     ]
    },
    {
     "name": "stderr",
     "output_type": "stream",
     "text": [
      " 56%|█████▋    | 5505/9766 [4:56:21<4:29:20,  3.79s/it]"
     ]
    },
    {
     "name": "stdout",
     "output_type": "stream",
     "text": [
      "1.0 10.2 4.107857745988712e-06 0.0 0.43749260781615523\n"
     ]
    },
    {
     "name": "stderr",
     "output_type": "stream",
     "text": [
      " 56%|█████▋    | 5508/9766 [4:56:29<3:34:29,  3.02s/it]"
     ]
    },
    {
     "name": "stdout",
     "output_type": "stream",
     "text": [
      "1.0 13.8 7.034990854685819e-06 0.0 0.5065935904757103\n"
     ]
    },
    {
     "name": "stderr",
     "output_type": "stream",
     "text": [
      " 56%|█████▋    | 5510/9766 [4:56:35<3:48:28,  3.22s/it]"
     ]
    },
    {
     "name": "stdout",
     "output_type": "stream",
     "text": [
      "0.9 30.2 0.02596476257887232 7.025830030045351e-06 0.4720714632880568\n"
     ]
    },
    {
     "name": "stderr",
     "output_type": "stream",
     "text": [
      " 56%|█████▋    | 5512/9766 [4:56:41<3:31:06,  2.98s/it]"
     ]
    },
    {
     "name": "stdout",
     "output_type": "stream",
     "text": [
      "1.0 12.4 6.847733940165243e-06 2.1073424255447016e-09 0.39922798747562604\n"
     ]
    },
    {
     "name": "stderr",
     "output_type": "stream",
     "text": [
      " 56%|█████▋    | 5515/9766 [4:56:49<3:31:09,  2.98s/it]"
     ]
    },
    {
     "name": "stdout",
     "output_type": "stream",
     "text": [
      "0.9 31.2 0.022658953640498546 2.9802322387695314e-09 0.4211883780148714\n"
     ]
    },
    {
     "name": "stderr",
     "output_type": "stream",
     "text": [
      " 57%|█████▋    | 5518/9766 [4:56:57<3:30:59,  2.98s/it]"
     ]
    },
    {
     "name": "stdout",
     "output_type": "stream",
     "text": [
      "0.9 33.0 0.019106433736119685 6.2858262636233876e-06 0.4900346590999198\n"
     ]
    },
    {
     "name": "stderr",
     "output_type": "stream",
     "text": [
      " 57%|█████▋    | 5520/9766 [4:57:07<5:01:33,  4.26s/it]"
     ]
    },
    {
     "name": "stdout",
     "output_type": "stream",
     "text": [
      "0.4 125.4 0.01885083811988062 1.4901161193847657e-09 0.4836380281430839\n"
     ]
    },
    {
     "name": "stderr",
     "output_type": "stream",
     "text": [
      " 57%|█████▋    | 5522/9766 [4:57:17<5:43:47,  4.86s/it]"
     ]
    },
    {
     "name": "stdout",
     "output_type": "stream",
     "text": [
      "0.4 124.2 0.018854363208964515 5.7048009704741684e-09 0.41716369496137434\n"
     ]
    },
    {
     "name": "stderr",
     "output_type": "stream",
     "text": [
      " 57%|█████▋    | 5524/9766 [4:57:23<4:44:35,  4.03s/it]"
     ]
    },
    {
     "name": "stdout",
     "output_type": "stream",
     "text": [
      "0.9 31.8 0.021078263239087645 6.577690783698998e-09 0.5766601142057144\n"
     ]
    },
    {
     "name": "stderr",
     "output_type": "stream",
     "text": [
      " 57%|█████▋    | 5526/9766 [4:57:29<4:01:00,  3.41s/it]"
     ]
    },
    {
     "name": "stdout",
     "output_type": "stream",
     "text": [
      "1.0 11.0 4.279652794186293e-06 2.9802322387695314e-09 0.5008647929728453\n"
     ]
    },
    {
     "name": "stderr",
     "output_type": "stream",
     "text": [
      " 57%|█████▋    | 5528/9766 [4:57:34<3:40:17,  3.12s/it]"
     ]
    },
    {
     "name": "stdout",
     "output_type": "stream",
     "text": [
      "1.0 12.2 5.791432601130643e-06 5.561189066721316e-09 0.3476662018769948\n"
     ]
    },
    {
     "name": "stderr",
     "output_type": "stream",
     "text": [
      " 57%|█████▋    | 5530/9766 [4:57:40<3:32:32,  3.01s/it]"
     ]
    },
    {
     "name": "stdout",
     "output_type": "stream",
     "text": [
      "1.0 10.8 3.4898486291348503e-06 1.4901161193847657e-09 0.31137438701947345\n"
     ]
    },
    {
     "name": "stderr",
     "output_type": "stream",
     "text": [
      " 57%|█████▋    | 5532/9766 [4:57:46<3:36:07,  3.06s/it]"
     ]
    },
    {
     "name": "stdout",
     "output_type": "stream",
     "text": [
      "1.0 14.0 5.063207089169683e-06 1.0249488320217803e-08 0.5625174203979068\n"
     ]
    },
    {
     "name": "stderr",
     "output_type": "stream",
     "text": [
      " 57%|█████▋    | 5534/9766 [4:57:53<3:48:02,  3.23s/it]"
     ]
    },
    {
     "name": "stdout",
     "output_type": "stream",
     "text": [
      "0.9 32.8 0.01885534252919156 2.580956827951785e-09 0.4597252047645729\n"
     ]
    },
    {
     "name": "stderr",
     "output_type": "stream",
     "text": [
      " 57%|█████▋    | 5536/9766 [4:58:03<5:14:50,  4.47s/it]"
     ]
    },
    {
     "name": "stdout",
     "output_type": "stream",
     "text": [
      "0.4 125.6 0.018854448688387856 4.470348358154297e-09 0.6108061349749092\n"
     ]
    },
    {
     "name": "stderr",
     "output_type": "stream",
     "text": [
      " 57%|█████▋    | 5538/9766 [4:58:09<4:33:36,  3.88s/it]"
     ]
    },
    {
     "name": "stdout",
     "output_type": "stream",
     "text": [
      "0.9 34.0 0.01911383335200507 0.0 0.5003213669973411\n"
     ]
    },
    {
     "name": "stderr",
     "output_type": "stream",
     "text": [
      " 57%|█████▋    | 5540/9766 [4:58:15<3:56:57,  3.36s/it]"
     ]
    },
    {
     "name": "stdout",
     "output_type": "stream",
     "text": [
      "1.0 13.6 4.576600654305017e-06 0.0 0.5814905261434749\n"
     ]
    },
    {
     "name": "stderr",
     "output_type": "stream",
     "text": [
      " 57%|█████▋    | 5542/9766 [4:58:21<3:41:29,  3.15s/it]"
     ]
    },
    {
     "name": "stdout",
     "output_type": "stream",
     "text": [
      "1.0 13.0 6.384020017689493e-06 1.4901161193847657e-09 0.5492617013733397\n"
     ]
    },
    {
     "name": "stderr",
     "output_type": "stream",
     "text": [
      " 57%|█████▋    | 5544/9766 [4:58:26<3:34:13,  3.04s/it]"
     ]
    },
    {
     "name": "stdout",
     "output_type": "stream",
     "text": [
      "1.0 15.0 6.940493673988292e-06 6.9227089152702554e-09 0.5789094617607466\n"
     ]
    },
    {
     "name": "stderr",
     "output_type": "stream",
     "text": [
      " 57%|█████▋    | 5546/9766 [4:58:33<3:52:04,  3.30s/it]"
     ]
    },
    {
     "name": "stdout",
     "output_type": "stream",
     "text": [
      "0.9 33.0 0.03770507366249965 8.940696716308595e-09 0.48113171387610343\n"
     ]
    },
    {
     "name": "stderr",
     "output_type": "stream",
     "text": [
      " 57%|█████▋    | 5549/9766 [4:58:41<3:23:49,  2.90s/it]"
     ]
    },
    {
     "name": "stdout",
     "output_type": "stream",
     "text": [
      "1.0 12.4 4.412611965627383e-06 1.4901161193847657e-09 0.40690376414534607\n"
     ]
    },
    {
     "name": "stderr",
     "output_type": "stream",
     "text": [
      " 57%|█████▋    | 5551/9766 [4:58:46<3:24:39,  2.91s/it]"
     ]
    },
    {
     "name": "stdout",
     "output_type": "stream",
     "text": [
      "1.0 12.8 4.201631839021571e-06 0.0 0.40374816396799823\n"
     ]
    },
    {
     "name": "stderr",
     "output_type": "stream",
     "text": [
      " 57%|█████▋    | 5553/9766 [4:58:52<3:19:54,  2.85s/it]"
     ]
    },
    {
     "name": "stdout",
     "output_type": "stream",
     "text": [
      "1.0 11.0 5.107192356073851e-06 2.9802322387695314e-09 0.3818213065058128\n"
     ]
    },
    {
     "name": "stderr",
     "output_type": "stream",
     "text": [
      " 57%|█████▋    | 5555/9766 [4:58:58<3:22:13,  2.88s/it]"
     ]
    },
    {
     "name": "stdout",
     "output_type": "stream",
     "text": [
      "1.0 14.0 7.884201523799097e-06 3.6500241499888573e-09 0.5725233757411521\n"
     ]
    },
    {
     "name": "stderr",
     "output_type": "stream",
     "text": [
      " 57%|█████▋    | 5558/9766 [4:59:06<3:29:27,  2.99s/it]"
     ]
    },
    {
     "name": "stdout",
     "output_type": "stream",
     "text": [
      "0.9 28.8 0.006348990515835718 7.024196701484745e-06 0.3325145949917904\n"
     ]
    },
    {
     "name": "stderr",
     "output_type": "stream",
     "text": [
      " 57%|█████▋    | 5560/9766 [4:59:12<3:24:33,  2.92s/it]"
     ]
    },
    {
     "name": "stdout",
     "output_type": "stream",
     "text": [
      "1.0 13.4 4.1964977030711755e-06 1.4901161193847657e-09 0.47362876687505506\n"
     ]
    },
    {
     "name": "stderr",
     "output_type": "stream",
     "text": [
      " 57%|█████▋    | 5562/9766 [4:59:19<3:58:13,  3.40s/it]"
     ]
    },
    {
     "name": "stdout",
     "output_type": "stream",
     "text": [
      "0.8 51.0 0.02501234101747208 1.405283042291692e-05 0.5262015304099564\n"
     ]
    },
    {
     "name": "stderr",
     "output_type": "stream",
     "text": [
      " 57%|█████▋    | 5564/9766 [4:59:24<3:33:15,  3.05s/it]"
     ]
    },
    {
     "name": "stdout",
     "output_type": "stream",
     "text": [
      "1.0 11.2 5.9415266019923025e-06 0.0 0.3243183983892656\n"
     ]
    },
    {
     "name": "stderr",
     "output_type": "stream",
     "text": [
      " 57%|█████▋    | 5567/9766 [4:59:32<3:16:22,  2.81s/it]"
     ]
    },
    {
     "name": "stdout",
     "output_type": "stream",
     "text": [
      "1.0 13.4 6.171237692306745e-06 2.1073424255447016e-09 0.4113525996861541\n"
     ]
    },
    {
     "name": "stderr",
     "output_type": "stream",
     "text": [
      " 57%|█████▋    | 5569/9766 [4:59:38<3:21:21,  2.88s/it]"
     ]
    },
    {
     "name": "stdout",
     "output_type": "stream",
     "text": [
      "1.0 14.8 5.490639158644136e-06 1.4901161193847657e-09 0.45898323017535764\n"
     ]
    },
    {
     "name": "stderr",
     "output_type": "stream",
     "text": [
      " 57%|█████▋    | 5571/9766 [4:59:43<3:17:45,  2.83s/it]"
     ]
    },
    {
     "name": "stdout",
     "output_type": "stream",
     "text": [
      "1.0 10.4 3.488031764700725e-06 0.0 0.4400296701360964\n"
     ]
    },
    {
     "name": "stderr",
     "output_type": "stream",
     "text": [
      " 57%|█████▋    | 5573/9766 [4:59:49<3:35:43,  3.09s/it]"
     ]
    },
    {
     "name": "stdout",
     "output_type": "stream",
     "text": [
      "0.9 32.0 0.03157768550239022 2.580956827951785e-09 0.49115484785415797\n"
     ]
    },
    {
     "name": "stderr",
     "output_type": "stream",
     "text": [
      " 57%|█████▋    | 5575/9766 [4:59:55<3:29:58,  3.01s/it]"
     ]
    },
    {
     "name": "stdout",
     "output_type": "stream",
     "text": [
      "1.0 15.4 8.43174048623916e-06 3.3320009373125284e-09 0.47739685718920877\n"
     ]
    },
    {
     "name": "stderr",
     "output_type": "stream",
     "text": [
      " 57%|█████▋    | 5577/9766 [5:00:04<4:31:53,  3.89s/it]"
     ]
    },
    {
     "name": "stdout",
     "output_type": "stream",
     "text": [
      "0.6 86.6 0.012568064319618922 1.4901161193847657e-09 0.4899543445078793\n"
     ]
    },
    {
     "name": "stderr",
     "output_type": "stream",
     "text": [
      " 57%|█████▋    | 5580/9766 [5:00:13<3:57:19,  3.40s/it]"
     ]
    },
    {
     "name": "stdout",
     "output_type": "stream",
     "text": [
      "0.9 33.2 0.019876708178381 7.194917089858934e-09 0.5208754959920577\n"
     ]
    },
    {
     "name": "stderr",
     "output_type": "stream",
     "text": [
      " 57%|█████▋    | 5582/9766 [5:00:18<3:41:15,  3.17s/it]"
     ]
    },
    {
     "name": "stdout",
     "output_type": "stream",
     "text": [
      "1.0 12.8 4.302164242113998e-06 2.1073424255447016e-09 0.5100859685449245\n"
     ]
    },
    {
     "name": "stderr",
     "output_type": "stream",
     "text": [
      " 57%|█████▋    | 5585/9766 [5:00:26<3:16:50,  2.82s/it]"
     ]
    },
    {
     "name": "stdout",
     "output_type": "stream",
     "text": [
      "1.0 12.8 3.890570804838512e-06 0.0 0.5209501348034351\n"
     ]
    },
    {
     "name": "stderr",
     "output_type": "stream",
     "text": [
      " 57%|█████▋    | 5588/9766 [5:00:39<5:08:54,  4.44s/it]"
     ]
    },
    {
     "name": "stdout",
     "output_type": "stream",
     "text": [
      "0.3 146.8 0.021992918211966743 3.597458544929467e-09 0.3506443044146891\n"
     ]
    },
    {
     "name": "stderr",
     "output_type": "stream",
     "text": [
      " 57%|█████▋    | 5590/9766 [5:00:50<6:01:49,  5.20s/it]"
     ]
    },
    {
     "name": "stdout",
     "output_type": "stream",
     "text": [
      "0.3 142.8 0.05330343477531705 6.283579917628088e-06 0.5750501771405327\n"
     ]
    },
    {
     "name": "stderr",
     "output_type": "stream",
     "text": [
      " 57%|█████▋    | 5592/9766 [5:01:01<6:36:16,  5.70s/it]"
     ]
    },
    {
     "name": "stdout",
     "output_type": "stream",
     "text": [
      "0.3 143.0 0.03575542953522018 7.030123034243308e-06 0.5555136622010343\n"
     ]
    },
    {
     "name": "stderr",
     "output_type": "stream",
     "text": [
      " 57%|█████▋    | 5594/9766 [5:01:09<5:42:20,  4.92s/it]"
     ]
    },
    {
     "name": "stdout",
     "output_type": "stream",
     "text": [
      "0.7 70.0 0.051268785756646715 7.031082124813134e-06 0.3287312067937268\n"
     ]
    },
    {
     "name": "stderr",
     "output_type": "stream",
     "text": [
      " 57%|█████▋    | 5597/9766 [5:01:21<5:18:53,  4.59s/it]"
     ]
    },
    {
     "name": "stdout",
     "output_type": "stream",
     "text": [
      "0.5 108.2 0.04074080424977923 7.031082657916993e-06 0.5472625998911042\n"
     ]
    },
    {
     "name": "stderr",
     "output_type": "stream",
     "text": [
      " 57%|█████▋    | 5600/9766 [5:01:31<4:52:46,  4.22s/it]"
     ]
    },
    {
     "name": "stdout",
     "output_type": "stream",
     "text": [
      "0.6 87.6 0.028277038942321343 6.288139351025368e-06 0.43772012329599336\n"
     ]
    },
    {
     "name": "stderr",
     "output_type": "stream",
     "text": [
      " 57%|█████▋    | 5603/9766 [5:01:41<4:27:22,  3.85s/it]"
     ]
    },
    {
     "name": "stdout",
     "output_type": "stream",
     "text": [
      "0.7 69.0 0.05144210823971751 2.107519452042332e-05 0.40932953585036574\n"
     ]
    },
    {
     "name": "stderr",
     "output_type": "stream",
     "text": [
      " 57%|█████▋    | 5606/9766 [5:01:49<3:36:49,  3.13s/it]"
     ]
    },
    {
     "name": "stdout",
     "output_type": "stream",
     "text": [
      "1.0 12.8 5.707466394554343e-06 5.087574664314233e-09 0.5388135193660795\n"
     ]
    },
    {
     "name": "stderr",
     "output_type": "stream",
     "text": [
      " 57%|█████▋    | 5609/9766 [5:01:57<3:29:43,  3.03s/it]"
     ]
    },
    {
     "name": "stdout",
     "output_type": "stream",
     "text": [
      "0.9 30.6 0.0062892681173968195 2.9802322387695314e-09 0.3859179357351402\n"
     ]
    },
    {
     "name": "stderr",
     "output_type": "stream",
     "text": [
      " 57%|█████▋    | 5611/9766 [5:02:04<3:39:43,  3.17s/it]"
     ]
    },
    {
     "name": "stdout",
     "output_type": "stream",
     "text": [
      "0.9 29.2 0.013011673455424191 7.0278368760513575e-06 0.43807987782347635\n"
     ]
    },
    {
     "name": "stderr",
     "output_type": "stream",
     "text": [
      " 57%|█████▋    | 5614/9766 [5:02:15<4:22:17,  3.79s/it]"
     ]
    },
    {
     "name": "stdout",
     "output_type": "stream",
     "text": [
      "0.6 87.4 0.08569639626672851 3.166568074386288e-05 0.48558292049473206\n"
     ]
    },
    {
     "name": "stderr",
     "output_type": "stream",
     "text": [
      " 58%|█████▊    | 5616/9766 [5:02:21<4:03:14,  3.52s/it]"
     ]
    },
    {
     "name": "stdout",
     "output_type": "stream",
     "text": [
      "0.9 31.0 0.025200221131955747 1.1328897860552e-05 0.3830436895194436\n"
     ]
    },
    {
     "name": "stderr",
     "output_type": "stream",
     "text": [
      " 58%|█████▊    | 5619/9766 [5:02:30<3:55:53,  3.41s/it]"
     ]
    },
    {
     "name": "stdout",
     "output_type": "stream",
     "text": [
      "0.8 48.4 0.02037831212509619 7.0264372318633665e-06 0.31622023919727127\n"
     ]
    },
    {
     "name": "stderr",
     "output_type": "stream",
     "text": [
      " 58%|█████▊    | 5621/9766 [5:02:36<3:37:04,  3.14s/it]"
     ]
    },
    {
     "name": "stdout",
     "output_type": "stream",
     "text": [
      "1.0 14.2 6.921789154658742e-06 4.071072947336551e-09 0.6175487121884362\n"
     ]
    },
    {
     "name": "stderr",
     "output_type": "stream",
     "text": [
      " 58%|█████▊    | 5624/9766 [5:02:45<3:45:26,  3.27s/it]"
     ]
    },
    {
     "name": "stdout",
     "output_type": "stream",
     "text": [
      "0.8 52.6 0.056867043372078575 1.7618913872051977e-05 0.5035109274405267\n"
     ]
    },
    {
     "name": "stderr",
     "output_type": "stream",
     "text": [
      " 58%|█████▊    | 5627/9766 [5:02:54<3:46:32,  3.28s/it]"
     ]
    },
    {
     "name": "stdout",
     "output_type": "stream",
     "text": [
      "0.8 50.0 0.04782193229643194 1.331013124013832e-05 0.5278606901702296\n"
     ]
    },
    {
     "name": "stderr",
     "output_type": "stream",
     "text": [
      " 58%|█████▊    | 5630/9766 [5:03:02<3:36:24,  3.14s/it]"
     ]
    },
    {
     "name": "stdout",
     "output_type": "stream",
     "text": [
      "0.9 29.2 0.025399894585284744 7.025344417206326e-06 0.28965442605455044\n"
     ]
    },
    {
     "name": "stderr",
     "output_type": "stream",
     "text": [
      " 58%|█████▊    | 5633/9766 [5:03:10<3:12:11,  2.79s/it]"
     ]
    },
    {
     "name": "stdout",
     "output_type": "stream",
     "text": [
      "1.0 10.2 6.874846536363358e-06 1.4901161193847657e-09 0.36263123282356824\n"
     ]
    },
    {
     "name": "stderr",
     "output_type": "stream",
     "text": [
      " 58%|█████▊    | 5636/9766 [5:03:18<3:24:35,  2.97s/it]"
     ]
    },
    {
     "name": "stdout",
     "output_type": "stream",
     "text": [
      "0.9 32.0 0.025980963644749038 7.028620864758003e-06 0.342934896100123\n"
     ]
    },
    {
     "name": "stderr",
     "output_type": "stream",
     "text": [
      " 58%|█████▊    | 5639/9766 [5:03:26<3:13:56,  2.82s/it]"
     ]
    },
    {
     "name": "stdout",
     "output_type": "stream",
     "text": [
      "1.0 11.4 6.112027430161428e-06 5.7048009704741684e-09 0.5059029554872044\n"
     ]
    },
    {
     "name": "stderr",
     "output_type": "stream",
     "text": [
      " 58%|█████▊    | 5641/9766 [5:03:36<4:34:42,  4.00s/it]"
     ]
    },
    {
     "name": "stdout",
     "output_type": "stream",
     "text": [
      "0.5 106.0 0.10127158884967355 2.1078272857916837e-05 0.47510389357002136\n"
     ]
    },
    {
     "name": "stderr",
     "output_type": "stream",
     "text": [
      " 58%|█████▊    | 5643/9766 [5:03:43<4:39:17,  4.06s/it]"
     ]
    },
    {
     "name": "stdout",
     "output_type": "stream",
     "text": [
      "0.7 68.2 0.009430793547420647 4.071072947336551e-09 0.6393874125918514\n"
     ]
    },
    {
     "name": "stderr",
     "output_type": "stream",
     "text": [
      " 58%|█████▊    | 5646/9766 [5:03:54<4:30:31,  3.94s/it]"
     ]
    },
    {
     "name": "stdout",
     "output_type": "stream",
     "text": [
      "0.6 85.8 0.03631963244949248 7.02670194396737e-06 0.19480739612869652\n"
     ]
    },
    {
     "name": "stderr",
     "output_type": "stream",
     "text": [
      " 58%|█████▊    | 5648/9766 [5:04:02<4:40:28,  4.09s/it]"
     ]
    },
    {
     "name": "stdout",
     "output_type": "stream",
     "text": [
      "0.7 68.0 0.009429989944165846 5.561189066721316e-09 0.44856617915266633\n"
     ]
    },
    {
     "name": "stderr",
     "output_type": "stream",
     "text": [
      " 58%|█████▊    | 5651/9766 [5:04:11<4:18:14,  3.77s/it]"
     ]
    },
    {
     "name": "stdout",
     "output_type": "stream",
     "text": [
      "0.7 67.6 0.009430052480904465 2.9802322387695314e-09 0.6169423707608829\n"
     ]
    },
    {
     "name": "stderr",
     "output_type": "stream",
     "text": [
      " 58%|█████▊    | 5654/9766 [5:04:22<4:27:47,  3.91s/it]"
     ]
    },
    {
     "name": "stdout",
     "output_type": "stream",
     "text": [
      "0.7 70.8 0.009426286108977246 3.3320009373125284e-09 0.40620148298887077\n"
     ]
    },
    {
     "name": "stderr",
     "output_type": "stream",
     "text": [
      " 58%|█████▊    | 5657/9766 [5:04:35<5:21:07,  4.69s/it]"
     ]
    },
    {
     "name": "stdout",
     "output_type": "stream",
     "text": [
      "0.4 124.8 0.018848390336054153 1.4901161193847657e-09 0.49996568162720534\n"
     ]
    },
    {
     "name": "stderr",
     "output_type": "stream",
     "text": [
      " 58%|█████▊    | 5660/9766 [5:04:47<5:21:22,  4.70s/it]"
     ]
    },
    {
     "name": "stdout",
     "output_type": "stream",
     "text": [
      "0.4 125.2 0.01884887695267587 1.4901161193847657e-09 0.4462493509382591\n"
     ]
    },
    {
     "name": "stderr",
     "output_type": "stream",
     "text": [
      " 58%|█████▊    | 5662/9766 [5:04:57<5:45:27,  5.05s/it]"
     ]
    },
    {
     "name": "stdout",
     "output_type": "stream",
     "text": [
      "0.4 123.4 0.09151429279743338 1.884698987254741e-05 0.28507361085991595\n"
     ]
    },
    {
     "name": "stderr",
     "output_type": "stream",
     "text": [
      " 58%|█████▊    | 5665/9766 [5:05:07<4:45:11,  4.17s/it]"
     ]
    },
    {
     "name": "stdout",
     "output_type": "stream",
     "text": [
      "0.7 68.2 0.009427860334007806 3.597458544929467e-09 0.5885800533709786\n"
     ]
    },
    {
     "name": "stderr",
     "output_type": "stream",
     "text": [
      " 58%|█████▊    | 5667/9766 [5:05:15<4:43:07,  4.14s/it]"
     ]
    },
    {
     "name": "stdout",
     "output_type": "stream",
     "text": [
      "0.7 69.0 0.009428277946843514 6.652029775288337e-09 0.3462667994018752\n"
     ]
    },
    {
     "name": "stderr",
     "output_type": "stream",
     "text": [
      " 58%|█████▊    | 5669/9766 [5:05:26<6:04:01,  5.33s/it]"
     ]
    },
    {
     "name": "stdout",
     "output_type": "stream",
     "text": [
      "0.2 161.8 0.025138051306965226 4.6882992534964865e-09 0.6887630620665451\n"
     ]
    },
    {
     "name": "stderr",
     "output_type": "stream",
     "text": [
      " 58%|█████▊    | 5671/9766 [5:05:40<7:12:18,  6.33s/it]"
     ]
    },
    {
     "name": "stdout",
     "output_type": "stream",
     "text": [
      "0.0 200.0 0.04122363270601062 2.580956827951785e-09 0.7215609295079325\n"
     ]
    },
    {
     "name": "stderr",
     "output_type": "stream",
     "text": [
      " 58%|█████▊    | 5674/9766 [5:05:50<5:28:39,  4.82s/it]"
     ]
    },
    {
     "name": "stdout",
     "output_type": "stream",
     "text": [
      "0.6 86.0 0.012566431685759308 4.470348358154297e-09 0.48946226067624254\n"
     ]
    },
    {
     "name": "stderr",
     "output_type": "stream",
     "text": [
      " 58%|█████▊    | 5677/9766 [5:06:02<5:20:58,  4.71s/it]"
     ]
    },
    {
     "name": "stdout",
     "output_type": "stream",
     "text": [
      "0.5 106.0 0.02827614408564552 0.0 0.45052806199487205\n"
     ]
    },
    {
     "name": "stderr",
     "output_type": "stream",
     "text": [
      " 58%|█████▊    | 5680/9766 [5:06:14<5:15:49,  4.64s/it]"
     ]
    },
    {
     "name": "stdout",
     "output_type": "stream",
     "text": [
      "0.5 104.6 0.01571067945749378 2.1073424255447016e-09 0.2796377471997983\n"
     ]
    },
    {
     "name": "stderr",
     "output_type": "stream",
     "text": [
      " 58%|█████▊    | 5683/9766 [5:06:26<5:00:39,  4.42s/it]"
     ]
    },
    {
     "name": "stdout",
     "output_type": "stream",
     "text": [
      "0.5 104.6 0.03243673843453605 0.0 0.42596760179282905\n"
     ]
    },
    {
     "name": "stderr",
     "output_type": "stream",
     "text": [
      " 58%|█████▊    | 5686/9766 [5:06:36<4:42:35,  4.16s/it]"
     ]
    },
    {
     "name": "stdout",
     "output_type": "stream",
     "text": [
      "0.6 90.6 0.028278266996420404 6.2874736722561815e-06 0.4876553796022266\n"
     ]
    },
    {
     "name": "stderr",
     "output_type": "stream",
     "text": [
      " 58%|█████▊    | 5689/9766 [5:06:51<6:06:30,  5.39s/it]"
     ]
    },
    {
     "name": "stdout",
     "output_type": "stream",
     "text": [
      "0.0 200.0 0.04814467562590852 1.4901161193847657e-09 0.3997859482357168\n"
     ]
    },
    {
     "name": "stderr",
     "output_type": "stream",
     "text": [
      " 58%|█████▊    | 5691/9766 [5:06:57<4:36:20,  4.07s/it]"
     ]
    },
    {
     "name": "stdout",
     "output_type": "stream",
     "text": [
      "1.0 14.0 8.178258487098073e-06 7.668531492266019e-09 0.4277726344393512\n"
     ]
    },
    {
     "name": "stderr",
     "output_type": "stream",
     "text": [
      " 58%|█████▊    | 5694/9766 [5:07:08<4:53:02,  4.32s/it]"
     ]
    },
    {
     "name": "stdout",
     "output_type": "stream",
     "text": [
      "0.5 108.2 0.015714826655875747 3.597458544929467e-09 0.5796720704257705\n"
     ]
    },
    {
     "name": "stderr",
     "output_type": "stream",
     "text": [
      " 58%|█████▊    | 5697/9766 [5:07:20<5:00:46,  4.44s/it]"
     ]
    },
    {
     "name": "stdout",
     "output_type": "stream",
     "text": [
      "0.5 106.8 0.015710037879653454 0.0 0.47795447000373015\n"
     ]
    },
    {
     "name": "stderr",
     "output_type": "stream",
     "text": [
      " 58%|█████▊    | 5699/9766 [5:07:29<5:24:58,  4.79s/it]"
     ]
    },
    {
     "name": "stdout",
     "output_type": "stream",
     "text": [
      "0.5 109.4 0.015709659617612205 3.597458544929467e-09 0.5232700274672404\n"
     ]
    },
    {
     "name": "stderr",
     "output_type": "stream",
     "text": [
      " 58%|█████▊    | 5701/9766 [5:07:38<5:21:45,  4.75s/it]"
     ]
    },
    {
     "name": "stdout",
     "output_type": "stream",
     "text": [
      "0.6 87.8 0.012566865928878327 1.4901161193847657e-09 0.5319143857472577\n"
     ]
    },
    {
     "name": "stderr",
     "output_type": "stream",
     "text": [
      " 58%|█████▊    | 5704/9766 [5:07:49<5:04:10,  4.49s/it]"
     ]
    },
    {
     "name": "stdout",
     "output_type": "stream",
     "text": [
      "0.5 108.0 0.067453785854016 3.7704251639331866e-05 0.5588319652547736\n"
     ]
    },
    {
     "name": "stderr",
     "output_type": "stream",
     "text": [
      " 58%|█████▊    | 5707/9766 [5:07:59<4:12:59,  3.74s/it]"
     ]
    },
    {
     "name": "stdout",
     "output_type": "stream",
     "text": [
      "0.8 46.4 0.006284602614939691 0.0 0.35190287812335097\n"
     ]
    },
    {
     "name": "stderr",
     "output_type": "stream",
     "text": [
      " 58%|█████▊    | 5710/9766 [5:08:12<5:13:35,  4.64s/it]"
     ]
    },
    {
     "name": "stdout",
     "output_type": "stream",
     "text": [
      "0.3 144.2 0.041616016856013224 4.6882992534964865e-09 0.6978721371073069\n"
     ]
    },
    {
     "name": "stderr",
     "output_type": "stream",
     "text": [
      " 58%|█████▊    | 5713/9766 [5:08:23<5:00:17,  4.45s/it]"
     ]
    },
    {
     "name": "stdout",
     "output_type": "stream",
     "text": [
      "0.5 108.2 0.049408031978540726 2.5139264727375245e-05 0.5863290679506266\n"
     ]
    },
    {
     "name": "stderr",
     "output_type": "stream",
     "text": [
      " 59%|█████▊    | 5716/9766 [5:08:34<4:39:11,  4.14s/it]"
     ]
    },
    {
     "name": "stdout",
     "output_type": "stream",
     "text": [
      "0.6 85.6 0.025203146604756272 7.025422225305783e-06 0.37326469641360294\n"
     ]
    },
    {
     "name": "stderr",
     "output_type": "stream",
     "text": [
      " 59%|█████▊    | 5718/9766 [5:08:40<4:19:57,  3.85s/it]"
     ]
    },
    {
     "name": "stdout",
     "output_type": "stream",
     "text": [
      "0.9 36.6 0.02520255867765368 7.027407510779763e-06 0.50233173587548\n"
     ]
    },
    {
     "name": "stderr",
     "output_type": "stream",
     "text": [
      " 59%|█████▊    | 5721/9766 [5:08:50<4:04:56,  3.63s/it]"
     ]
    },
    {
     "name": "stdout",
     "output_type": "stream",
     "text": [
      "0.8 50.2 0.05738096059872812 7.0307841949947484e-06 0.46098543498607203\n"
     ]
    },
    {
     "name": "stderr",
     "output_type": "stream",
     "text": [
      " 59%|█████▊    | 5723/9766 [5:08:56<3:41:33,  3.29s/it]"
     ]
    },
    {
     "name": "stdout",
     "output_type": "stream",
     "text": [
      "1.0 13.8 8.443337428228822e-06 0.0 0.6275146394585145\n"
     ]
    },
    {
     "name": "stderr",
     "output_type": "stream",
     "text": [
      " 59%|█████▊    | 5725/9766 [5:09:01<3:28:28,  3.10s/it]"
     ]
    },
    {
     "name": "stdout",
     "output_type": "stream",
     "text": [
      "1.0 14.0 6.567458982103784e-06 2.1073424255447016e-09 0.5132143452692348\n"
     ]
    },
    {
     "name": "stderr",
     "output_type": "stream",
     "text": [
      " 59%|█████▊    | 5728/9766 [5:09:09<3:11:59,  2.85s/it]"
     ]
    },
    {
     "name": "stdout",
     "output_type": "stream",
     "text": [
      "1.0 10.2 7.1232322585234915e-06 7.802349295466825e-09 0.4061133652498626\n"
     ]
    },
    {
     "name": "stderr",
     "output_type": "stream",
     "text": [
      " 59%|█████▊    | 5730/9766 [5:09:15<3:11:35,  2.85s/it]"
     ]
    },
    {
     "name": "stdout",
     "output_type": "stream",
     "text": [
      "1.0 10.0 5.974052314544433e-06 1.4901161193847657e-09 0.39849926037204886\n"
     ]
    },
    {
     "name": "stderr",
     "output_type": "stream",
     "text": [
      " 59%|█████▊    | 5732/9766 [5:09:21<3:20:25,  2.98s/it]"
     ]
    },
    {
     "name": "stdout",
     "output_type": "stream",
     "text": [
      "1.0 15.8 7.80389806534031e-06 7.668531492266019e-09 0.5934677025747856\n"
     ]
    },
    {
     "name": "stderr",
     "output_type": "stream",
     "text": [
      " 59%|█████▊    | 5734/9766 [5:09:26<3:17:06,  2.93s/it]"
     ]
    },
    {
     "name": "stdout",
     "output_type": "stream",
     "text": [
      "1.0 12.6 5.614739573790876e-06 3.597458544929467e-09 0.39637915724542494\n"
     ]
    },
    {
     "name": "stderr",
     "output_type": "stream",
     "text": [
      " 59%|█████▊    | 5736/9766 [5:09:32<3:19:04,  2.96s/it]"
     ]
    },
    {
     "name": "stdout",
     "output_type": "stream",
     "text": [
      "1.0 12.0 5.169124640705041e-06 2.1073424255447016e-09 0.6025916610801777\n"
     ]
    },
    {
     "name": "stderr",
     "output_type": "stream",
     "text": [
      " 59%|█████▉    | 5738/9766 [5:09:42<4:46:33,  4.27s/it]"
     ]
    },
    {
     "name": "stdout",
     "output_type": "stream",
     "text": [
      "0.5 107.4 0.01570617746883745 2.580956827951785e-09 0.6550579012528386\n"
     ]
    },
    {
     "name": "stderr",
     "output_type": "stream",
     "text": [
      " 59%|█████▉    | 5740/9766 [5:09:51<5:03:33,  4.52s/it]"
     ]
    },
    {
     "name": "stdout",
     "output_type": "stream",
     "text": [
      "0.7 71.2 0.009432086363556724 5.960464477539063e-09 0.6803131795201789\n"
     ]
    },
    {
     "name": "stderr",
     "output_type": "stream",
     "text": [
      " 59%|█████▉    | 5743/9766 [5:10:02<4:43:42,  4.23s/it]"
     ]
    },
    {
     "name": "stdout",
     "output_type": "stream",
     "text": [
      "0.6 88.0 0.012570068628353645 5.087574664314233e-09 0.6208819429991169\n"
     ]
    },
    {
     "name": "stderr",
     "output_type": "stream",
     "text": [
      " 59%|█████▉    | 5745/9766 [5:10:11<4:57:09,  4.43s/it]"
     ]
    },
    {
     "name": "stdout",
     "output_type": "stream",
     "text": [
      "0.6 87.0 0.012567016012100604 4.6882992534964865e-09 0.4701022461617317\n"
     ]
    },
    {
     "name": "stderr",
     "output_type": "stream",
     "text": [
      " 59%|█████▉    | 5747/9766 [5:10:19<4:58:17,  4.45s/it]"
     ]
    },
    {
     "name": "stdout",
     "output_type": "stream",
     "text": [
      "0.6 86.2 0.012567225292589823 1.4901161193847657e-09 0.35686345233931804\n"
     ]
    },
    {
     "name": "stderr",
     "output_type": "stream",
     "text": [
      " 59%|█████▉    | 5750/9766 [5:10:29<4:21:02,  3.90s/it]"
     ]
    },
    {
     "name": "stdout",
     "output_type": "stream",
     "text": [
      "0.7 71.4 0.028943569723209894 4.214684851089403e-09 0.4620488594853077\n"
     ]
    },
    {
     "name": "stderr",
     "output_type": "stream",
     "text": [
      " 59%|█████▉    | 5753/9766 [5:10:39<4:24:34,  3.96s/it]"
     ]
    },
    {
     "name": "stdout",
     "output_type": "stream",
     "text": [
      "0.6 88.6 0.02347770246168862 5.087574664314233e-09 0.6690529664298632\n"
     ]
    },
    {
     "name": "stderr",
     "output_type": "stream",
     "text": [
      " 59%|█████▉    | 5755/9766 [5:10:47<4:32:02,  4.07s/it]"
     ]
    },
    {
     "name": "stdout",
     "output_type": "stream",
     "text": [
      "0.7 68.0 0.009425056917095043 4.071072947336551e-09 0.5187999686514521\n"
     ]
    },
    {
     "name": "stderr",
     "output_type": "stream",
     "text": [
      " 59%|█████▉    | 5757/9766 [5:10:52<3:46:07,  3.38s/it]"
     ]
    },
    {
     "name": "stdout",
     "output_type": "stream",
     "text": [
      "1.0 8.6 3.0222247305060736e-06 0.0 0.28202376876284213\n"
     ]
    },
    {
     "name": "stderr",
     "output_type": "stream",
     "text": [
      " 59%|█████▉    | 5759/9766 [5:11:01<4:33:56,  4.10s/it]"
     ]
    },
    {
     "name": "stdout",
     "output_type": "stream",
     "text": [
      "0.6 87.4 0.01256966517466268 0.0 0.4446886287310301\n"
     ]
    },
    {
     "name": "stderr",
     "output_type": "stream",
     "text": [
      " 59%|█████▉    | 5761/9766 [5:11:09<4:38:13,  4.17s/it]"
     ]
    },
    {
     "name": "stdout",
     "output_type": "stream",
     "text": [
      "0.7 68.0 0.02320387844070991 1.4901161193847657e-09 0.3123484245488563\n"
     ]
    },
    {
     "name": "stderr",
     "output_type": "stream",
     "text": [
      " 59%|█████▉    | 5763/9766 [5:11:16<4:18:54,  3.88s/it]"
     ]
    },
    {
     "name": "stdout",
     "output_type": "stream",
     "text": [
      "0.8 47.4 0.017196318053658403 2.9802322387695314e-09 0.41340809143559387\n"
     ]
    }
   ],
   "source": [
    "from tqdm import trange\n",
    "from tensorboardX import SummaryWriter\n",
    "\n",
    "SAVE_INTERVAL = 10\n",
    "LOG_INTERVAL = 10\n",
    "EVAL_INTERVAL = 10\n",
    "\n",
    "obs = envs.reset()\n",
    "rollouts.obs[0].copy_(obs)\n",
    "rollouts.to(DEVICE)\n",
    "\n",
    "\n",
    "writer = SummaryWriter(\n",
    "    '../learning_logs/ppo',\n",
    ")\n",
    "\n",
    "\n",
    "entropis = []\n",
    "vlosses = []\n",
    "plosses = []\n",
    "\n",
    "rewards = np.zeros(N_ENVS, dtype=float)\n",
    "dones = np.zeros(N_ENVS, dtype=float)\n",
    "steps = np.zeros(N_ENVS, dtype=float)\n",
    "\n",
    "\n",
    "start = time.time()\n",
    "n_frames = int(1e7)\n",
    "for j in trange(0, n_frames, N_ENVS * N_STEPS):\n",
    "    \n",
    "    # decrease learning rate linearly\n",
    "    utils.update_linear_schedule(\n",
    "        agent.optimizer, j, n_frames,\n",
    "        2.5e-4)\n",
    "    \n",
    "    \n",
    "    for step in range(N_STEPS):\n",
    "        # Sample actions\n",
    "        with torch.no_grad():\n",
    "            value, action, action_log_prob, recurrent_hidden_states = actor_critic.act(\n",
    "                rollouts.obs[step], rollouts.recurrent_hidden_states[step],\n",
    "                rollouts.masks[step])\n",
    "\n",
    "        # Obser reward and next obs\n",
    "        obs, reward, done, infos = envs.step(action)\n",
    "        rewards += torch.tensor(reward).numpy().reshape(N_ENVS)\n",
    "        dones += torch.tensor(done).numpy().reshape(N_ENVS)\n",
    "        steps += 1\n",
    "\n",
    "\n",
    "        # If done then clean the history of observations.\n",
    "        masks = torch.FloatTensor(\n",
    "            [[0.0] if done_ else [1.0] for done_ in done])\n",
    "        bad_masks = torch.FloatTensor(\n",
    "            [[0.0] if 'bad_transition' in info.keys() else [1.0]\n",
    "                for info in infos])\n",
    "        rollouts.insert(obs, recurrent_hidden_states, action,\n",
    "                        action_log_prob, value, reward, masks, bad_masks)\n",
    "\n",
    "    with torch.no_grad():\n",
    "        next_value = actor_critic.get_value(\n",
    "            rollouts.obs[-1], rollouts.recurrent_hidden_states[-1],\n",
    "            rollouts.masks[-1]).detach()\n",
    "\n",
    "    rollouts.compute_returns(\n",
    "        next_value, use_gae=True, gamma=0.99,\n",
    "        gae_lambda=0.95, use_proper_time_limits=True)\n",
    "\n",
    "    value_loss, action_loss, dist_entropy = agent.update(rollouts)\n",
    "    vlosses.append(value_loss)\n",
    "    plosses.append(action_loss)\n",
    "    entropis.append(dist_entropy)\n",
    "\n",
    "    rollouts.after_update()\n",
    "\n",
    "    # save for every interval-th episode or for the last epoch\n",
    "    if np.sum(dones) >= 100:\n",
    "        save_path = os.path.join('logs', 'ppo')\n",
    "        try:\n",
    "            os.makedirs(save_path)\n",
    "        except OSError:\n",
    "            pass\n",
    "\n",
    "        torch.save([\n",
    "            actor_critic,\n",
    "            getattr(utils.get_vec_normalize(envs), 'ob_rms', None)\n",
    "        ], os.path.join(save_path, 'interf' + \".pt\"))\n",
    "\n",
    "\n",
    "    if np.sum(dones) >= 100:\n",
    "        writer.add_scalar('entropy', np.mean(entropis), j)\n",
    "        writer.add_scalar('vloss', np.mean(vlosses), j)\n",
    "        writer.add_scalar('ploss', np.mean(plosses), j)\n",
    "        writer.add_scalar('reward', np.mean(rewards / dones), j)\n",
    "        writer.add_scalar('steps', np.mean(steps / dones), j)\n",
    "        \n",
    "        n_solved, n_steps, dist, angle, rewards = evaluate_(actor_critic, make_interf_env(j))\n",
    "        print(n_solved, n_steps, dist, angle, rewards)\n",
    "        writer.add_scalar('eval_solved_games', n_solved, j)\n",
    "        writer.add_scalar('eval_steps', n_steps, j)\n",
    "        writer.add_scalar('dist_between_beams', dist, j)\n",
    "        writer.add_scalar('angle_between_beams', angle, j)\n",
    "        writer.add_scalar('eval_reward', rewards, j)\n",
    "\n",
    "        entropis = []\n",
    "        vlosses = []\n",
    "        plosses = []\n",
    "        rewards = np.zeros(N_ENVS, dtype=float)\n",
    "        dones = np.zeros(N_ENVS, dtype=float)\n",
    "        steps = np.zeros(N_ENVS, dtype=float)"
   ]
  },
  {
   "cell_type": "code",
   "execution_count": null,
   "metadata": {},
   "outputs": [],
   "source": []
  },
  {
   "cell_type": "code",
   "execution_count": null,
   "metadata": {},
   "outputs": [],
   "source": []
  },
  {
   "cell_type": "code",
   "execution_count": null,
   "metadata": {},
   "outputs": [],
   "source": []
  }
 ],
 "metadata": {
  "kernelspec": {
   "display_name": "Python 3",
   "language": "python",
   "name": "python3"
  },
  "language_info": {
   "codemirror_mode": {
    "name": "ipython",
    "version": 3
   },
   "file_extension": ".py",
   "mimetype": "text/x-python",
   "name": "python",
   "nbconvert_exporter": "python",
   "pygments_lexer": "ipython3",
   "version": "3.6.8"
  }
 },
 "nbformat": 4,
 "nbformat_minor": 2
}
